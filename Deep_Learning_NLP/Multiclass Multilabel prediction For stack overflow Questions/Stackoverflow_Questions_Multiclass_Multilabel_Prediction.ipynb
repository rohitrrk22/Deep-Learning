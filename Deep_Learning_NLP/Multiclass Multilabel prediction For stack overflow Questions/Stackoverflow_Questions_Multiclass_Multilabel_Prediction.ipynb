{
  "nbformat": 4,
  "nbformat_minor": 0,
  "metadata": {
    "colab": {
      "name": "Stackoverflow_Questions_Multiclass_Multilabel_Prediction.ipynb",
      "provenance": [],
      "collapsed_sections": [],
      "authorship_tag": "ABX9TyMxdRpxkl4eb8/17qpIkDAF",
      "include_colab_link": true
    },
    "kernelspec": {
      "name": "python3",
      "display_name": "Python 3"
    },
    "accelerator": "GPU"
  },
  "cells": [
    {
      "cell_type": "markdown",
      "metadata": {
        "id": "view-in-github",
        "colab_type": "text"
      },
      "source": [
        "<a href=\"https://colab.research.google.com/github/rohitrrk22/Deep-Learning/blob/master/Deep_Learning_NLP/Multiclass%20Multilabel%20prediction%20For%20stack%20overflow%20Questions/Stackoverflow_Questions_Multiclass_Multilabel_Prediction.ipynb\" target=\"_parent\"><img src=\"https://colab.research.google.com/assets/colab-badge.svg\" alt=\"Open In Colab\"/></a>"
      ]
    },
    {
      "cell_type": "code",
      "metadata": {
        "id": "HAGeh8inxKPe"
      },
      "source": [
        " %tensorflow_version 2.x"
      ],
      "execution_count": 1,
      "outputs": []
    },
    {
      "cell_type": "code",
      "metadata": {
        "id": "kghdRY_Pxd2t"
      },
      "source": [
        "import pandas as pd\r\n",
        "import numpy as np\r\n",
        "import warnings\r\n",
        "warnings.filterwarnings('ignore')\r\n",
        "\r\n",
        "np.random.seed(1)"
      ],
      "execution_count": 2,
      "outputs": []
    },
    {
      "cell_type": "code",
      "metadata": {
        "colab": {
          "base_uri": "https://localhost:8080/"
        },
        "id": "Uu_21wS6xmgZ",
        "outputId": "39bf8bed-4422-4af0-9c4c-b707f5a59406"
      },
      "source": [
        "!wget https://www.dropbox.com/s/5721wcs2guuykzl/stacksample.zip"
      ],
      "execution_count": 3,
      "outputs": [
        {
          "output_type": "stream",
          "text": [
            "--2021-01-09 15:17:03--  https://www.dropbox.com/s/5721wcs2guuykzl/stacksample.zip\n",
            "Resolving www.dropbox.com (www.dropbox.com)... 162.125.82.18, 2620:100:6030:18::a27d:5012\n",
            "Connecting to www.dropbox.com (www.dropbox.com)|162.125.82.18|:443... connected.\n",
            "HTTP request sent, awaiting response... 301 Moved Permanently\n",
            "Location: /s/raw/5721wcs2guuykzl/stacksample.zip [following]\n",
            "--2021-01-09 15:17:04--  https://www.dropbox.com/s/raw/5721wcs2guuykzl/stacksample.zip\n",
            "Reusing existing connection to www.dropbox.com:443.\n",
            "HTTP request sent, awaiting response... 302 Found\n",
            "Location: https://uc8f515de2a6fc7edc599532f7dc.dl.dropboxusercontent.com/cd/0/inline/BGq1yKEgh2Qd7Xbr80nBWuP2XieKIlHYmvFtcnisJZJO2HzHHgoNMqAxP6qI5w2zBybz0oSseSVNOgGIHBrxtcJZjOALcBwx6HXLSHZBJXRLXQ/file# [following]\n",
            "--2021-01-09 15:17:04--  https://uc8f515de2a6fc7edc599532f7dc.dl.dropboxusercontent.com/cd/0/inline/BGq1yKEgh2Qd7Xbr80nBWuP2XieKIlHYmvFtcnisJZJO2HzHHgoNMqAxP6qI5w2zBybz0oSseSVNOgGIHBrxtcJZjOALcBwx6HXLSHZBJXRLXQ/file\n",
            "Resolving uc8f515de2a6fc7edc599532f7dc.dl.dropboxusercontent.com (uc8f515de2a6fc7edc599532f7dc.dl.dropboxusercontent.com)... 162.125.82.15, 2620:100:6032:15::a27d:520f\n",
            "Connecting to uc8f515de2a6fc7edc599532f7dc.dl.dropboxusercontent.com (uc8f515de2a6fc7edc599532f7dc.dl.dropboxusercontent.com)|162.125.82.15|:443... connected.\n",
            "HTTP request sent, awaiting response... 302 Found\n",
            "Location: /cd/0/inline2/BGpi1SyZMfiBCfPmaOpNMSvRMrU9c1Sq09ebRrm-QoEcXLL1OalJcrfyeq1_FPA53eZRRAkfcWwAjw1HBv0nkdrPgdCVmNptJWNnRyL4-rGUAsgZ1jYQX0pDtHeBOJ6fxkasxaawz_3RGVV8ZHeetFYdrnW9xzUk-uAHypwIxIaiYzArtBiyQ19f8SkxNJqSPlDvByGVTDQ5SOnx7eaQzsmOftM6zsSrhJPaWxjbOmNWCUr2ScrXM_mjINlIO3xpyiUMohG5gdK3pGWSaJPou8WecC2e8tyYiCmaJDAV6RUwWTm9tO1XsJZajE4tdhGKwOUQBqmZI3c1DemSl5D9Ehbi/file [following]\n",
            "--2021-01-09 15:17:05--  https://uc8f515de2a6fc7edc599532f7dc.dl.dropboxusercontent.com/cd/0/inline2/BGpi1SyZMfiBCfPmaOpNMSvRMrU9c1Sq09ebRrm-QoEcXLL1OalJcrfyeq1_FPA53eZRRAkfcWwAjw1HBv0nkdrPgdCVmNptJWNnRyL4-rGUAsgZ1jYQX0pDtHeBOJ6fxkasxaawz_3RGVV8ZHeetFYdrnW9xzUk-uAHypwIxIaiYzArtBiyQ19f8SkxNJqSPlDvByGVTDQ5SOnx7eaQzsmOftM6zsSrhJPaWxjbOmNWCUr2ScrXM_mjINlIO3xpyiUMohG5gdK3pGWSaJPou8WecC2e8tyYiCmaJDAV6RUwWTm9tO1XsJZajE4tdhGKwOUQBqmZI3c1DemSl5D9Ehbi/file\n",
            "Reusing existing connection to uc8f515de2a6fc7edc599532f7dc.dl.dropboxusercontent.com:443.\n",
            "HTTP request sent, awaiting response... 200 OK\n",
            "Length: 1231288519 (1.1G) [application/zip]\n",
            "Saving to: ‘stacksample.zip’\n",
            "\n",
            "stacksample.zip     100%[===================>]   1.15G  17.7MB/s    in 74s     \n",
            "\n",
            "2021-01-09 15:18:19 (15.9 MB/s) - ‘stacksample.zip’ saved [1231288519/1231288519]\n",
            "\n"
          ],
          "name": "stdout"
        }
      ]
    },
    {
      "cell_type": "code",
      "metadata": {
        "colab": {
          "base_uri": "https://localhost:8080/"
        },
        "id": "icMvK1Alxneb",
        "outputId": "edc5730b-276d-4476-ecfa-2f352dcc83a1"
      },
      "source": [
        "!unzip stacksample.zip"
      ],
      "execution_count": 4,
      "outputs": [
        {
          "output_type": "stream",
          "text": [
            "Archive:  stacksample.zip\n",
            "  inflating: Answers.csv             \n",
            "  inflating: Questions.csv           \n",
            "  inflating: Tags.csv                \n"
          ],
          "name": "stdout"
        }
      ]
    },
    {
      "cell_type": "code",
      "metadata": {
        "id": "1UO8ZAT2xq1n"
      },
      "source": [
        "!rm stacksample.zip"
      ],
      "execution_count": 5,
      "outputs": []
    },
    {
      "cell_type": "code",
      "metadata": {
        "id": "4PtG19SuxshN"
      },
      "source": [
        "questions = pd.read_csv(r'/content/Questions.csv',encoding='ISO-8859-1')\r\n",
        "tags = pd.read_csv(r'/content/Tags.csv',encoding='utf-8')"
      ],
      "execution_count": 6,
      "outputs": []
    },
    {
      "cell_type": "code",
      "metadata": {
        "colab": {
          "base_uri": "https://localhost:8080/",
          "height": 279
        },
        "id": "4JZ01uzxxvu0",
        "outputId": "a0071cc3-f081-424f-be6d-799abc58ed9c"
      },
      "source": [
        "questions.head()"
      ],
      "execution_count": 7,
      "outputs": [
        {
          "output_type": "execute_result",
          "data": {
            "text/html": [
              "<div>\n",
              "<style scoped>\n",
              "    .dataframe tbody tr th:only-of-type {\n",
              "        vertical-align: middle;\n",
              "    }\n",
              "\n",
              "    .dataframe tbody tr th {\n",
              "        vertical-align: top;\n",
              "    }\n",
              "\n",
              "    .dataframe thead th {\n",
              "        text-align: right;\n",
              "    }\n",
              "</style>\n",
              "<table border=\"1\" class=\"dataframe\">\n",
              "  <thead>\n",
              "    <tr style=\"text-align: right;\">\n",
              "      <th></th>\n",
              "      <th>Id</th>\n",
              "      <th>OwnerUserId</th>\n",
              "      <th>CreationDate</th>\n",
              "      <th>ClosedDate</th>\n",
              "      <th>Score</th>\n",
              "      <th>Title</th>\n",
              "      <th>Body</th>\n",
              "    </tr>\n",
              "  </thead>\n",
              "  <tbody>\n",
              "    <tr>\n",
              "      <th>0</th>\n",
              "      <td>80</td>\n",
              "      <td>26.0</td>\n",
              "      <td>2008-08-01T13:57:07Z</td>\n",
              "      <td>NaN</td>\n",
              "      <td>26</td>\n",
              "      <td>SQLStatement.execute() - multiple queries in o...</td>\n",
              "      <td>&lt;p&gt;I've written a database generation script i...</td>\n",
              "    </tr>\n",
              "    <tr>\n",
              "      <th>1</th>\n",
              "      <td>90</td>\n",
              "      <td>58.0</td>\n",
              "      <td>2008-08-01T14:41:24Z</td>\n",
              "      <td>2012-12-26T03:45:49Z</td>\n",
              "      <td>144</td>\n",
              "      <td>Good branching and merging tutorials for Torto...</td>\n",
              "      <td>&lt;p&gt;Are there any really good tutorials explain...</td>\n",
              "    </tr>\n",
              "    <tr>\n",
              "      <th>2</th>\n",
              "      <td>120</td>\n",
              "      <td>83.0</td>\n",
              "      <td>2008-08-01T15:50:08Z</td>\n",
              "      <td>NaN</td>\n",
              "      <td>21</td>\n",
              "      <td>ASP.NET Site Maps</td>\n",
              "      <td>&lt;p&gt;Has anyone got experience creating &lt;strong&gt;...</td>\n",
              "    </tr>\n",
              "    <tr>\n",
              "      <th>3</th>\n",
              "      <td>180</td>\n",
              "      <td>2089740.0</td>\n",
              "      <td>2008-08-01T18:42:19Z</td>\n",
              "      <td>NaN</td>\n",
              "      <td>53</td>\n",
              "      <td>Function for creating color wheels</td>\n",
              "      <td>&lt;p&gt;This is something I've pseudo-solved many t...</td>\n",
              "    </tr>\n",
              "    <tr>\n",
              "      <th>4</th>\n",
              "      <td>260</td>\n",
              "      <td>91.0</td>\n",
              "      <td>2008-08-01T23:22:08Z</td>\n",
              "      <td>NaN</td>\n",
              "      <td>49</td>\n",
              "      <td>Adding scripting functionality to .NET applica...</td>\n",
              "      <td>&lt;p&gt;I have a little game written in C#. It uses...</td>\n",
              "    </tr>\n",
              "  </tbody>\n",
              "</table>\n",
              "</div>"
            ],
            "text/plain": [
              "    Id  ...                                               Body\n",
              "0   80  ...  <p>I've written a database generation script i...\n",
              "1   90  ...  <p>Are there any really good tutorials explain...\n",
              "2  120  ...  <p>Has anyone got experience creating <strong>...\n",
              "3  180  ...  <p>This is something I've pseudo-solved many t...\n",
              "4  260  ...  <p>I have a little game written in C#. It uses...\n",
              "\n",
              "[5 rows x 7 columns]"
            ]
          },
          "metadata": {
            "tags": []
          },
          "execution_count": 7
        }
      ]
    },
    {
      "cell_type": "code",
      "metadata": {
        "colab": {
          "base_uri": "https://localhost:8080/",
          "height": 195
        },
        "id": "QS6szlsYx7G_",
        "outputId": "a566fb9f-8d30-4388-f155-544fecb69944"
      },
      "source": [
        "tags.head()"
      ],
      "execution_count": 8,
      "outputs": [
        {
          "output_type": "execute_result",
          "data": {
            "text/html": [
              "<div>\n",
              "<style scoped>\n",
              "    .dataframe tbody tr th:only-of-type {\n",
              "        vertical-align: middle;\n",
              "    }\n",
              "\n",
              "    .dataframe tbody tr th {\n",
              "        vertical-align: top;\n",
              "    }\n",
              "\n",
              "    .dataframe thead th {\n",
              "        text-align: right;\n",
              "    }\n",
              "</style>\n",
              "<table border=\"1\" class=\"dataframe\">\n",
              "  <thead>\n",
              "    <tr style=\"text-align: right;\">\n",
              "      <th></th>\n",
              "      <th>Id</th>\n",
              "      <th>Tag</th>\n",
              "    </tr>\n",
              "  </thead>\n",
              "  <tbody>\n",
              "    <tr>\n",
              "      <th>0</th>\n",
              "      <td>80</td>\n",
              "      <td>flex</td>\n",
              "    </tr>\n",
              "    <tr>\n",
              "      <th>1</th>\n",
              "      <td>80</td>\n",
              "      <td>actionscript-3</td>\n",
              "    </tr>\n",
              "    <tr>\n",
              "      <th>2</th>\n",
              "      <td>80</td>\n",
              "      <td>air</td>\n",
              "    </tr>\n",
              "    <tr>\n",
              "      <th>3</th>\n",
              "      <td>90</td>\n",
              "      <td>svn</td>\n",
              "    </tr>\n",
              "    <tr>\n",
              "      <th>4</th>\n",
              "      <td>90</td>\n",
              "      <td>tortoisesvn</td>\n",
              "    </tr>\n",
              "  </tbody>\n",
              "</table>\n",
              "</div>"
            ],
            "text/plain": [
              "   Id             Tag\n",
              "0  80            flex\n",
              "1  80  actionscript-3\n",
              "2  80             air\n",
              "3  90             svn\n",
              "4  90     tortoisesvn"
            ]
          },
          "metadata": {
            "tags": []
          },
          "execution_count": 8
        }
      ]
    },
    {
      "cell_type": "code",
      "metadata": {
        "id": "yvJATagyx9F2"
      },
      "source": [
        "grouped_tags = tags.groupby(\"Tag\", sort=\"count\").size().reset_index(name = 'count_number')"
      ],
      "execution_count": 9,
      "outputs": []
    },
    {
      "cell_type": "code",
      "metadata": {
        "colab": {
          "base_uri": "https://localhost:8080/",
          "height": 402
        },
        "id": "DsxFuynLyVrr",
        "outputId": "eaf8e40d-49fc-4656-f96e-ec8e32789304"
      },
      "source": [
        "grouped_tags"
      ],
      "execution_count": 10,
      "outputs": [
        {
          "output_type": "execute_result",
          "data": {
            "text/html": [
              "<div>\n",
              "<style scoped>\n",
              "    .dataframe tbody tr th:only-of-type {\n",
              "        vertical-align: middle;\n",
              "    }\n",
              "\n",
              "    .dataframe tbody tr th {\n",
              "        vertical-align: top;\n",
              "    }\n",
              "\n",
              "    .dataframe thead th {\n",
              "        text-align: right;\n",
              "    }\n",
              "</style>\n",
              "<table border=\"1\" class=\"dataframe\">\n",
              "  <thead>\n",
              "    <tr style=\"text-align: right;\">\n",
              "      <th></th>\n",
              "      <th>Tag</th>\n",
              "      <th>count_number</th>\n",
              "    </tr>\n",
              "  </thead>\n",
              "  <tbody>\n",
              "    <tr>\n",
              "      <th>0</th>\n",
              "      <td>.a</td>\n",
              "      <td>13</td>\n",
              "    </tr>\n",
              "    <tr>\n",
              "      <th>1</th>\n",
              "      <td>.app</td>\n",
              "      <td>14</td>\n",
              "    </tr>\n",
              "    <tr>\n",
              "      <th>2</th>\n",
              "      <td>.aspxauth</td>\n",
              "      <td>6</td>\n",
              "    </tr>\n",
              "    <tr>\n",
              "      <th>3</th>\n",
              "      <td>.bash-profile</td>\n",
              "      <td>46</td>\n",
              "    </tr>\n",
              "    <tr>\n",
              "      <th>4</th>\n",
              "      <td>.class-file</td>\n",
              "      <td>19</td>\n",
              "    </tr>\n",
              "    <tr>\n",
              "      <th>...</th>\n",
              "      <td>...</td>\n",
              "      <td>...</td>\n",
              "    </tr>\n",
              "    <tr>\n",
              "      <th>37029</th>\n",
              "      <td>zwoptex</td>\n",
              "      <td>3</td>\n",
              "    </tr>\n",
              "    <tr>\n",
              "      <th>37030</th>\n",
              "      <td>zxing</td>\n",
              "      <td>159</td>\n",
              "    </tr>\n",
              "    <tr>\n",
              "      <th>37031</th>\n",
              "      <td>zxspectrum</td>\n",
              "      <td>1</td>\n",
              "    </tr>\n",
              "    <tr>\n",
              "      <th>37032</th>\n",
              "      <td>zynq</td>\n",
              "      <td>11</td>\n",
              "    </tr>\n",
              "    <tr>\n",
              "      <th>37033</th>\n",
              "      <td>zypper</td>\n",
              "      <td>2</td>\n",
              "    </tr>\n",
              "  </tbody>\n",
              "</table>\n",
              "<p>37034 rows × 2 columns</p>\n",
              "</div>"
            ],
            "text/plain": [
              "                 Tag  count_number\n",
              "0                 .a            13\n",
              "1               .app            14\n",
              "2          .aspxauth             6\n",
              "3      .bash-profile            46\n",
              "4        .class-file            19\n",
              "...              ...           ...\n",
              "37029        zwoptex             3\n",
              "37030          zxing           159\n",
              "37031     zxspectrum             1\n",
              "37032           zynq            11\n",
              "37033         zypper             2\n",
              "\n",
              "[37034 rows x 2 columns]"
            ]
          },
          "metadata": {
            "tags": []
          },
          "execution_count": 10
        }
      ]
    },
    {
      "cell_type": "code",
      "metadata": {
        "id": "XAvj7vofyYGH"
      },
      "source": [
        "num_classes = 10\r\n",
        "grouped_tags_1 = tags.groupby(\"Tag\").size().reset_index(name='count_number')\r\n",
        "top_10 = grouped_tags_1.nlargest(num_classes, columns='count_number')"
      ],
      "execution_count": 11,
      "outputs": []
    },
    {
      "cell_type": "code",
      "metadata": {
        "colab": {
          "base_uri": "https://localhost:8080/",
          "height": 343
        },
        "id": "uo4Oz_yuyiRp",
        "outputId": "d18abf92-6165-4ac6-b5e5-cb9603394535"
      },
      "source": [
        "top_10"
      ],
      "execution_count": 12,
      "outputs": [
        {
          "output_type": "execute_result",
          "data": {
            "text/html": [
              "<div>\n",
              "<style scoped>\n",
              "    .dataframe tbody tr th:only-of-type {\n",
              "        vertical-align: middle;\n",
              "    }\n",
              "\n",
              "    .dataframe tbody tr th {\n",
              "        vertical-align: top;\n",
              "    }\n",
              "\n",
              "    .dataframe thead th {\n",
              "        text-align: right;\n",
              "    }\n",
              "</style>\n",
              "<table border=\"1\" class=\"dataframe\">\n",
              "  <thead>\n",
              "    <tr style=\"text-align: right;\">\n",
              "      <th></th>\n",
              "      <th>Tag</th>\n",
              "      <th>count_number</th>\n",
              "    </tr>\n",
              "  </thead>\n",
              "  <tbody>\n",
              "    <tr>\n",
              "      <th>16121</th>\n",
              "      <td>javascript</td>\n",
              "      <td>124155</td>\n",
              "    </tr>\n",
              "    <tr>\n",
              "      <th>16020</th>\n",
              "      <td>java</td>\n",
              "      <td>115212</td>\n",
              "    </tr>\n",
              "    <tr>\n",
              "      <th>4301</th>\n",
              "      <td>c#</td>\n",
              "      <td>101186</td>\n",
              "    </tr>\n",
              "    <tr>\n",
              "      <th>24211</th>\n",
              "      <td>php</td>\n",
              "      <td>98808</td>\n",
              "    </tr>\n",
              "    <tr>\n",
              "      <th>979</th>\n",
              "      <td>android</td>\n",
              "      <td>90659</td>\n",
              "    </tr>\n",
              "    <tr>\n",
              "      <th>16611</th>\n",
              "      <td>jquery</td>\n",
              "      <td>78542</td>\n",
              "    </tr>\n",
              "    <tr>\n",
              "      <th>25712</th>\n",
              "      <td>python</td>\n",
              "      <td>64601</td>\n",
              "    </tr>\n",
              "    <tr>\n",
              "      <th>14180</th>\n",
              "      <td>html</td>\n",
              "      <td>58976</td>\n",
              "    </tr>\n",
              "    <tr>\n",
              "      <th>4311</th>\n",
              "      <td>c++</td>\n",
              "      <td>47591</td>\n",
              "    </tr>\n",
              "    <tr>\n",
              "      <th>15565</th>\n",
              "      <td>ios</td>\n",
              "      <td>47009</td>\n",
              "    </tr>\n",
              "  </tbody>\n",
              "</table>\n",
              "</div>"
            ],
            "text/plain": [
              "              Tag  count_number\n",
              "16121  javascript        124155\n",
              "16020        java        115212\n",
              "4301           c#        101186\n",
              "24211         php         98808\n",
              "979       android         90659\n",
              "16611      jquery         78542\n",
              "25712      python         64601\n",
              "14180        html         58976\n",
              "4311          c++         47591\n",
              "15565         ios         47009"
            ]
          },
          "metadata": {
            "tags": []
          },
          "execution_count": 12
        }
      ]
    },
    {
      "cell_type": "code",
      "metadata": {
        "id": "dS7zbe0Nyjnq"
      },
      "source": [
        "# Plotting Libs\r\n",
        "import matplotlib.pyplot as plt\r\n",
        "import matplotlib.cm as cm\r\n",
        "# magic function\r\n",
        "%matplotlib inline\r\n",
        "\r\n",
        "import collections\r\n",
        "\r\n",
        "def plot_tags(tagCount):\r\n",
        "    \r\n",
        "    x,y = zip(*tagCount)\r\n",
        "\r\n",
        "    colormap = plt.cm.gist_ncar #nipy_spectral, Set1,Paired  \r\n",
        "    colors = [colormap(i) for i in np.linspace(0, 0.8,50)]   \r\n",
        "\r\n",
        "    area = [i/4000 for i in list(y)]   # 0 to 15 point radiuses\r\n",
        "    plt.figure(figsize=(9,8))\r\n",
        "    plt.ylabel(\"Number of question associations\")\r\n",
        "    for i in range(len(y)):\r\n",
        "        plt.plot(i,y[i], marker='o', linestyle='',ms=area[i],label=x[i])\r\n",
        "\r\n",
        "    plt.legend(numpoints=1)\r\n",
        "    plt.show()"
      ],
      "execution_count": 13,
      "outputs": []
    },
    {
      "cell_type": "code",
      "metadata": {
        "colab": {
          "base_uri": "https://localhost:8080/",
          "height": 520
        },
        "id": "AtftSlmtzLfJ",
        "outputId": "701017e4-f20e-401e-e15c-12e2d4b7824b"
      },
      "source": [
        "tagCount =  collections.Counter(list(tags['Tag'])).most_common(10)\r\n",
        "print(tagCount)\r\n",
        "plot_tags(tagCount)"
      ],
      "execution_count": 14,
      "outputs": [
        {
          "output_type": "stream",
          "text": [
            "[('javascript', 124155), ('java', 115212), ('c#', 101186), ('php', 98808), ('android', 90659), ('jquery', 78542), ('python', 64601), ('html', 58976), ('c++', 47591), ('ios', 47009)]\n"
          ],
          "name": "stdout"
        },
        {
          "output_type": "display_data",
          "data": {
            "image/png": "[encoded data removed]",
            "text/plain": [
              "<Figure size 648x576 with 1 Axes>"
            ]
          },
          "metadata": {
            "tags": [],
            "needs_background": "light"
          }
        }
      ]
    },
    {
      "cell_type": "code",
      "metadata": {
        "id": "eq5RvV6-zUmE"
      },
      "source": [
        "# Filtering the top 10 tags data\r\n",
        "\r\n",
        "tags.Tag = tags.Tag.apply(lambda tag : tag if tag in top_10.Tag.values else None)"
      ],
      "execution_count": 15,
      "outputs": []
    },
    {
      "cell_type": "code",
      "metadata": {
        "colab": {
          "base_uri": "https://localhost:8080/",
          "height": 195
        },
        "id": "4guPyd13sh29",
        "outputId": "af37aa4c-7564-456d-9d28-052cc3518bd2"
      },
      "source": [
        "tags.head()"
      ],
      "execution_count": 16,
      "outputs": [
        {
          "output_type": "execute_result",
          "data": {
            "text/html": [
              "<div>\n",
              "<style scoped>\n",
              "    .dataframe tbody tr th:only-of-type {\n",
              "        vertical-align: middle;\n",
              "    }\n",
              "\n",
              "    .dataframe tbody tr th {\n",
              "        vertical-align: top;\n",
              "    }\n",
              "\n",
              "    .dataframe thead th {\n",
              "        text-align: right;\n",
              "    }\n",
              "</style>\n",
              "<table border=\"1\" class=\"dataframe\">\n",
              "  <thead>\n",
              "    <tr style=\"text-align: right;\">\n",
              "      <th></th>\n",
              "      <th>Id</th>\n",
              "      <th>Tag</th>\n",
              "    </tr>\n",
              "  </thead>\n",
              "  <tbody>\n",
              "    <tr>\n",
              "      <th>0</th>\n",
              "      <td>80</td>\n",
              "      <td>None</td>\n",
              "    </tr>\n",
              "    <tr>\n",
              "      <th>1</th>\n",
              "      <td>80</td>\n",
              "      <td>None</td>\n",
              "    </tr>\n",
              "    <tr>\n",
              "      <th>2</th>\n",
              "      <td>80</td>\n",
              "      <td>None</td>\n",
              "    </tr>\n",
              "    <tr>\n",
              "      <th>3</th>\n",
              "      <td>90</td>\n",
              "      <td>None</td>\n",
              "    </tr>\n",
              "    <tr>\n",
              "      <th>4</th>\n",
              "      <td>90</td>\n",
              "      <td>None</td>\n",
              "    </tr>\n",
              "  </tbody>\n",
              "</table>\n",
              "</div>"
            ],
            "text/plain": [
              "   Id   Tag\n",
              "0  80  None\n",
              "1  80  None\n",
              "2  80  None\n",
              "3  90  None\n",
              "4  90  None"
            ]
          },
          "metadata": {
            "tags": []
          },
          "execution_count": 16
        }
      ]
    },
    {
      "cell_type": "code",
      "metadata": {
        "id": "PAXXYhcWsxq7"
      },
      "source": [
        "tags.dropna(inplace=True)"
      ],
      "execution_count": 17,
      "outputs": []
    },
    {
      "cell_type": "code",
      "metadata": {
        "colab": {
          "base_uri": "https://localhost:8080/",
          "height": 195
        },
        "id": "xj9vq9Vvs2Ib",
        "outputId": "9bd28f27-b5fc-4ef2-c33e-db84a77ed148"
      },
      "source": [
        "tags.head()"
      ],
      "execution_count": 18,
      "outputs": [
        {
          "output_type": "execute_result",
          "data": {
            "text/html": [
              "<div>\n",
              "<style scoped>\n",
              "    .dataframe tbody tr th:only-of-type {\n",
              "        vertical-align: middle;\n",
              "    }\n",
              "\n",
              "    .dataframe tbody tr th {\n",
              "        vertical-align: top;\n",
              "    }\n",
              "\n",
              "    .dataframe thead th {\n",
              "        text-align: right;\n",
              "    }\n",
              "</style>\n",
              "<table border=\"1\" class=\"dataframe\">\n",
              "  <thead>\n",
              "    <tr style=\"text-align: right;\">\n",
              "      <th></th>\n",
              "      <th>Id</th>\n",
              "      <th>Tag</th>\n",
              "    </tr>\n",
              "  </thead>\n",
              "  <tbody>\n",
              "    <tr>\n",
              "      <th>14</th>\n",
              "      <td>260</td>\n",
              "      <td>c#</td>\n",
              "    </tr>\n",
              "    <tr>\n",
              "      <th>18</th>\n",
              "      <td>330</td>\n",
              "      <td>c++</td>\n",
              "    </tr>\n",
              "    <tr>\n",
              "      <th>28</th>\n",
              "      <td>650</td>\n",
              "      <td>c#</td>\n",
              "    </tr>\n",
              "    <tr>\n",
              "      <th>35</th>\n",
              "      <td>930</td>\n",
              "      <td>c#</td>\n",
              "    </tr>\n",
              "    <tr>\n",
              "      <th>39</th>\n",
              "      <td>1010</td>\n",
              "      <td>c#</td>\n",
              "    </tr>\n",
              "  </tbody>\n",
              "</table>\n",
              "</div>"
            ],
            "text/plain": [
              "      Id  Tag\n",
              "14   260   c#\n",
              "18   330  c++\n",
              "28   650   c#\n",
              "35   930   c#\n",
              "39  1010   c#"
            ]
          },
          "metadata": {
            "tags": []
          },
          "execution_count": 18
        }
      ]
    },
    {
      "cell_type": "code",
      "metadata": {
        "id": "KE1xhy7ptz-z"
      },
      "source": [
        "questions.drop(columns=['OwnerUserId', 'CreationDate', 'ClosedDate','Score'], inplace=True)"
      ],
      "execution_count": 19,
      "outputs": []
    },
    {
      "cell_type": "code",
      "metadata": {
        "colab": {
          "base_uri": "https://localhost:8080/",
          "height": 195
        },
        "id": "qieT88wns32d",
        "outputId": "985561ca-aac7-4625-df08-d919738aac35"
      },
      "source": [
        "questions.head()"
      ],
      "execution_count": 20,
      "outputs": [
        {
          "output_type": "execute_result",
          "data": {
            "text/html": [
              "<div>\n",
              "<style scoped>\n",
              "    .dataframe tbody tr th:only-of-type {\n",
              "        vertical-align: middle;\n",
              "    }\n",
              "\n",
              "    .dataframe tbody tr th {\n",
              "        vertical-align: top;\n",
              "    }\n",
              "\n",
              "    .dataframe thead th {\n",
              "        text-align: right;\n",
              "    }\n",
              "</style>\n",
              "<table border=\"1\" class=\"dataframe\">\n",
              "  <thead>\n",
              "    <tr style=\"text-align: right;\">\n",
              "      <th></th>\n",
              "      <th>Id</th>\n",
              "      <th>Title</th>\n",
              "      <th>Body</th>\n",
              "    </tr>\n",
              "  </thead>\n",
              "  <tbody>\n",
              "    <tr>\n",
              "      <th>0</th>\n",
              "      <td>80</td>\n",
              "      <td>SQLStatement.execute() - multiple queries in o...</td>\n",
              "      <td>&lt;p&gt;I've written a database generation script i...</td>\n",
              "    </tr>\n",
              "    <tr>\n",
              "      <th>1</th>\n",
              "      <td>90</td>\n",
              "      <td>Good branching and merging tutorials for Torto...</td>\n",
              "      <td>&lt;p&gt;Are there any really good tutorials explain...</td>\n",
              "    </tr>\n",
              "    <tr>\n",
              "      <th>2</th>\n",
              "      <td>120</td>\n",
              "      <td>ASP.NET Site Maps</td>\n",
              "      <td>&lt;p&gt;Has anyone got experience creating &lt;strong&gt;...</td>\n",
              "    </tr>\n",
              "    <tr>\n",
              "      <th>3</th>\n",
              "      <td>180</td>\n",
              "      <td>Function for creating color wheels</td>\n",
              "      <td>&lt;p&gt;This is something I've pseudo-solved many t...</td>\n",
              "    </tr>\n",
              "    <tr>\n",
              "      <th>4</th>\n",
              "      <td>260</td>\n",
              "      <td>Adding scripting functionality to .NET applica...</td>\n",
              "      <td>&lt;p&gt;I have a little game written in C#. It uses...</td>\n",
              "    </tr>\n",
              "  </tbody>\n",
              "</table>\n",
              "</div>"
            ],
            "text/plain": [
              "    Id  ...                                               Body\n",
              "0   80  ...  <p>I've written a database generation script i...\n",
              "1   90  ...  <p>Are there any really good tutorials explain...\n",
              "2  120  ...  <p>Has anyone got experience creating <strong>...\n",
              "3  180  ...  <p>This is something I've pseudo-solved many t...\n",
              "4  260  ...  <p>I have a little game written in C#. It uses...\n",
              "\n",
              "[5 rows x 3 columns]"
            ]
          },
          "metadata": {
            "tags": []
          },
          "execution_count": 20
        }
      ]
    },
    {
      "cell_type": "code",
      "metadata": {
        "colab": {
          "base_uri": "https://localhost:8080/",
          "height": 402
        },
        "id": "AQ804N1C1huV",
        "outputId": "5830fec1-636f-46e4-c7b4-9763ae616091"
      },
      "source": [
        "tags.sort_values('Id')"
      ],
      "execution_count": 21,
      "outputs": [
        {
          "output_type": "execute_result",
          "data": {
            "text/html": [
              "<div>\n",
              "<style scoped>\n",
              "    .dataframe tbody tr th:only-of-type {\n",
              "        vertical-align: middle;\n",
              "    }\n",
              "\n",
              "    .dataframe tbody tr th {\n",
              "        vertical-align: top;\n",
              "    }\n",
              "\n",
              "    .dataframe thead th {\n",
              "        text-align: right;\n",
              "    }\n",
              "</style>\n",
              "<table border=\"1\" class=\"dataframe\">\n",
              "  <thead>\n",
              "    <tr style=\"text-align: right;\">\n",
              "      <th></th>\n",
              "      <th>Id</th>\n",
              "      <th>Tag</th>\n",
              "    </tr>\n",
              "  </thead>\n",
              "  <tbody>\n",
              "    <tr>\n",
              "      <th>14</th>\n",
              "      <td>260</td>\n",
              "      <td>c#</td>\n",
              "    </tr>\n",
              "    <tr>\n",
              "      <th>18</th>\n",
              "      <td>330</td>\n",
              "      <td>c++</td>\n",
              "    </tr>\n",
              "    <tr>\n",
              "      <th>28</th>\n",
              "      <td>650</td>\n",
              "      <td>c#</td>\n",
              "    </tr>\n",
              "    <tr>\n",
              "      <th>35</th>\n",
              "      <td>930</td>\n",
              "      <td>c#</td>\n",
              "    </tr>\n",
              "    <tr>\n",
              "      <th>39</th>\n",
              "      <td>1010</td>\n",
              "      <td>c#</td>\n",
              "    </tr>\n",
              "    <tr>\n",
              "      <th>...</th>\n",
              "      <td>...</td>\n",
              "      <td>...</td>\n",
              "    </tr>\n",
              "    <tr>\n",
              "      <th>3750974</th>\n",
              "      <td>40143150</td>\n",
              "      <td>javascript</td>\n",
              "    </tr>\n",
              "    <tr>\n",
              "      <th>3750981</th>\n",
              "      <td>40143190</td>\n",
              "      <td>python</td>\n",
              "    </tr>\n",
              "    <tr>\n",
              "      <th>3750984</th>\n",
              "      <td>40143210</td>\n",
              "      <td>php</td>\n",
              "    </tr>\n",
              "    <tr>\n",
              "      <th>3750987</th>\n",
              "      <td>40143340</td>\n",
              "      <td>android</td>\n",
              "    </tr>\n",
              "    <tr>\n",
              "      <th>3750989</th>\n",
              "      <td>40143360</td>\n",
              "      <td>javascript</td>\n",
              "    </tr>\n",
              "  </tbody>\n",
              "</table>\n",
              "<p>826739 rows × 2 columns</p>\n",
              "</div>"
            ],
            "text/plain": [
              "               Id         Tag\n",
              "14            260          c#\n",
              "18            330         c++\n",
              "28            650          c#\n",
              "35            930          c#\n",
              "39           1010          c#\n",
              "...           ...         ...\n",
              "3750974  40143150  javascript\n",
              "3750981  40143190      python\n",
              "3750984  40143210         php\n",
              "3750987  40143340     android\n",
              "3750989  40143360  javascript\n",
              "\n",
              "[826739 rows x 2 columns]"
            ]
          },
          "metadata": {
            "tags": []
          },
          "execution_count": 21
        }
      ]
    },
    {
      "cell_type": "code",
      "metadata": {
        "id": "xuqEtwE11hrl"
      },
      "source": [
        "tag_ids = list(tags['Id'])"
      ],
      "execution_count": 22,
      "outputs": []
    },
    {
      "cell_type": "code",
      "metadata": {
        "id": "bp_-g7P91hoh"
      },
      "source": [
        "question_top_10 = questions[questions['Id'].isin(tag_ids)]"
      ],
      "execution_count": 23,
      "outputs": []
    },
    {
      "cell_type": "code",
      "metadata": {
        "colab": {
          "base_uri": "https://localhost:8080/",
          "height": 195
        },
        "id": "nr1Hseai1hll",
        "outputId": "09ff1fae-a2b3-43f4-a1d3-4cfc6e432096"
      },
      "source": [
        "question_top_10.head()"
      ],
      "execution_count": 24,
      "outputs": [
        {
          "output_type": "execute_result",
          "data": {
            "text/html": [
              "<div>\n",
              "<style scoped>\n",
              "    .dataframe tbody tr th:only-of-type {\n",
              "        vertical-align: middle;\n",
              "    }\n",
              "\n",
              "    .dataframe tbody tr th {\n",
              "        vertical-align: top;\n",
              "    }\n",
              "\n",
              "    .dataframe thead th {\n",
              "        text-align: right;\n",
              "    }\n",
              "</style>\n",
              "<table border=\"1\" class=\"dataframe\">\n",
              "  <thead>\n",
              "    <tr style=\"text-align: right;\">\n",
              "      <th></th>\n",
              "      <th>Id</th>\n",
              "      <th>Title</th>\n",
              "      <th>Body</th>\n",
              "    </tr>\n",
              "  </thead>\n",
              "  <tbody>\n",
              "    <tr>\n",
              "      <th>4</th>\n",
              "      <td>260</td>\n",
              "      <td>Adding scripting functionality to .NET applica...</td>\n",
              "      <td>&lt;p&gt;I have a little game written in C#. It uses...</td>\n",
              "    </tr>\n",
              "    <tr>\n",
              "      <th>5</th>\n",
              "      <td>330</td>\n",
              "      <td>Should I use nested classes in this case?</td>\n",
              "      <td>&lt;p&gt;I am working on a collection of classes use...</td>\n",
              "    </tr>\n",
              "    <tr>\n",
              "      <th>8</th>\n",
              "      <td>650</td>\n",
              "      <td>Automatically update version number</td>\n",
              "      <td>&lt;p&gt;I would like the version property of my app...</td>\n",
              "    </tr>\n",
              "    <tr>\n",
              "      <th>10</th>\n",
              "      <td>930</td>\n",
              "      <td>How do I connect to a database and loop over a...</td>\n",
              "      <td>&lt;p&gt;What's the simplest way to connect and quer...</td>\n",
              "    </tr>\n",
              "    <tr>\n",
              "      <th>11</th>\n",
              "      <td>1010</td>\n",
              "      <td>How to get the value of built, encoded ViewState?</td>\n",
              "      <td>&lt;p&gt;I need to grab the base64-encoded represent...</td>\n",
              "    </tr>\n",
              "  </tbody>\n",
              "</table>\n",
              "</div>"
            ],
            "text/plain": [
              "      Id  ...                                               Body\n",
              "4    260  ...  <p>I have a little game written in C#. It uses...\n",
              "5    330  ...  <p>I am working on a collection of classes use...\n",
              "8    650  ...  <p>I would like the version property of my app...\n",
              "10   930  ...  <p>What's the simplest way to connect and quer...\n",
              "11  1010  ...  <p>I need to grab the base64-encoded represent...\n",
              "\n",
              "[5 rows x 3 columns]"
            ]
          },
          "metadata": {
            "tags": []
          },
          "execution_count": 24
        }
      ]
    },
    {
      "cell_type": "code",
      "metadata": {
        "id": "Vr5BqpDB1hix"
      },
      "source": [
        "questions_data_top_10 = question_top_10.merge(tags)"
      ],
      "execution_count": 25,
      "outputs": []
    },
    {
      "cell_type": "code",
      "metadata": {
        "colab": {
          "base_uri": "https://localhost:8080/",
          "height": 195
        },
        "id": "4B4mhDf_1hMy",
        "outputId": "97a30a4b-4b74-4347-fba7-fb676762eed0"
      },
      "source": [
        "questions_data_top_10.head()"
      ],
      "execution_count": 26,
      "outputs": [
        {
          "output_type": "execute_result",
          "data": {
            "text/html": [
              "<div>\n",
              "<style scoped>\n",
              "    .dataframe tbody tr th:only-of-type {\n",
              "        vertical-align: middle;\n",
              "    }\n",
              "\n",
              "    .dataframe tbody tr th {\n",
              "        vertical-align: top;\n",
              "    }\n",
              "\n",
              "    .dataframe thead th {\n",
              "        text-align: right;\n",
              "    }\n",
              "</style>\n",
              "<table border=\"1\" class=\"dataframe\">\n",
              "  <thead>\n",
              "    <tr style=\"text-align: right;\">\n",
              "      <th></th>\n",
              "      <th>Id</th>\n",
              "      <th>Title</th>\n",
              "      <th>Body</th>\n",
              "      <th>Tag</th>\n",
              "    </tr>\n",
              "  </thead>\n",
              "  <tbody>\n",
              "    <tr>\n",
              "      <th>0</th>\n",
              "      <td>260</td>\n",
              "      <td>Adding scripting functionality to .NET applica...</td>\n",
              "      <td>&lt;p&gt;I have a little game written in C#. It uses...</td>\n",
              "      <td>c#</td>\n",
              "    </tr>\n",
              "    <tr>\n",
              "      <th>1</th>\n",
              "      <td>330</td>\n",
              "      <td>Should I use nested classes in this case?</td>\n",
              "      <td>&lt;p&gt;I am working on a collection of classes use...</td>\n",
              "      <td>c++</td>\n",
              "    </tr>\n",
              "    <tr>\n",
              "      <th>2</th>\n",
              "      <td>650</td>\n",
              "      <td>Automatically update version number</td>\n",
              "      <td>&lt;p&gt;I would like the version property of my app...</td>\n",
              "      <td>c#</td>\n",
              "    </tr>\n",
              "    <tr>\n",
              "      <th>3</th>\n",
              "      <td>930</td>\n",
              "      <td>How do I connect to a database and loop over a...</td>\n",
              "      <td>&lt;p&gt;What's the simplest way to connect and quer...</td>\n",
              "      <td>c#</td>\n",
              "    </tr>\n",
              "    <tr>\n",
              "      <th>4</th>\n",
              "      <td>1010</td>\n",
              "      <td>How to get the value of built, encoded ViewState?</td>\n",
              "      <td>&lt;p&gt;I need to grab the base64-encoded represent...</td>\n",
              "      <td>c#</td>\n",
              "    </tr>\n",
              "  </tbody>\n",
              "</table>\n",
              "</div>"
            ],
            "text/plain": [
              "     Id  ...  Tag\n",
              "0   260  ...   c#\n",
              "1   330  ...  c++\n",
              "2   650  ...   c#\n",
              "3   930  ...   c#\n",
              "4  1010  ...   c#\n",
              "\n",
              "[5 rows x 4 columns]"
            ]
          },
          "metadata": {
            "tags": []
          },
          "execution_count": 26
        }
      ]
    },
    {
      "cell_type": "code",
      "metadata": {
        "id": "UHAA6S0r1Ca8"
      },
      "source": [
        "import re \r\n",
        "\r\n",
        "def rem_html_tags(body):\r\n",
        "    regex = re.compile('<.*?>')\r\n",
        "    return re.sub(regex, '', body)"
      ],
      "execution_count": 27,
      "outputs": []
    },
    {
      "cell_type": "code",
      "metadata": {
        "colab": {
          "base_uri": "https://localhost:8080/",
          "height": 195
        },
        "id": "aAerN40Tm7tR",
        "outputId": "74b0f3b7-55c3-43f7-ca4f-57ab03ccaa80"
      },
      "source": [
        "questions_data_top_10['Body'] = questions_data_top_10['Body'].apply(rem_html_tags)\r\n",
        "questions_data_top_10.head()"
      ],
      "execution_count": 28,
      "outputs": [
        {
          "output_type": "execute_result",
          "data": {
            "text/html": [
              "<div>\n",
              "<style scoped>\n",
              "    .dataframe tbody tr th:only-of-type {\n",
              "        vertical-align: middle;\n",
              "    }\n",
              "\n",
              "    .dataframe tbody tr th {\n",
              "        vertical-align: top;\n",
              "    }\n",
              "\n",
              "    .dataframe thead th {\n",
              "        text-align: right;\n",
              "    }\n",
              "</style>\n",
              "<table border=\"1\" class=\"dataframe\">\n",
              "  <thead>\n",
              "    <tr style=\"text-align: right;\">\n",
              "      <th></th>\n",
              "      <th>Id</th>\n",
              "      <th>Title</th>\n",
              "      <th>Body</th>\n",
              "      <th>Tag</th>\n",
              "    </tr>\n",
              "  </thead>\n",
              "  <tbody>\n",
              "    <tr>\n",
              "      <th>0</th>\n",
              "      <td>260</td>\n",
              "      <td>Adding scripting functionality to .NET applica...</td>\n",
              "      <td>I have a little game written in C#. It uses a ...</td>\n",
              "      <td>c#</td>\n",
              "    </tr>\n",
              "    <tr>\n",
              "      <th>1</th>\n",
              "      <td>330</td>\n",
              "      <td>Should I use nested classes in this case?</td>\n",
              "      <td>I am working on a collection of classes used f...</td>\n",
              "      <td>c++</td>\n",
              "    </tr>\n",
              "    <tr>\n",
              "      <th>2</th>\n",
              "      <td>650</td>\n",
              "      <td>Automatically update version number</td>\n",
              "      <td>I would like the version property of my applic...</td>\n",
              "      <td>c#</td>\n",
              "    </tr>\n",
              "    <tr>\n",
              "      <th>3</th>\n",
              "      <td>930</td>\n",
              "      <td>How do I connect to a database and loop over a...</td>\n",
              "      <td>What's the simplest way to connect and query a...</td>\n",
              "      <td>c#</td>\n",
              "    </tr>\n",
              "    <tr>\n",
              "      <th>4</th>\n",
              "      <td>1010</td>\n",
              "      <td>How to get the value of built, encoded ViewState?</td>\n",
              "      <td>I need to grab the base64-encoded representati...</td>\n",
              "      <td>c#</td>\n",
              "    </tr>\n",
              "  </tbody>\n",
              "</table>\n",
              "</div>"
            ],
            "text/plain": [
              "     Id  ...  Tag\n",
              "0   260  ...   c#\n",
              "1   330  ...  c++\n",
              "2   650  ...   c#\n",
              "3   930  ...   c#\n",
              "4  1010  ...   c#\n",
              "\n",
              "[5 rows x 4 columns]"
            ]
          },
          "metadata": {
            "tags": []
          },
          "execution_count": 28
        }
      ]
    },
    {
      "cell_type": "code",
      "metadata": {
        "colab": {
          "base_uri": "https://localhost:8080/",
          "height": 35
        },
        "id": "6vBdzVEQ0YKR",
        "outputId": "edae8c67-b0e8-4cc3-b7e0-3dd2928fc27f"
      },
      "source": [
        "questions_data_top_10['Body'].iloc[3]"
      ],
      "execution_count": 29,
      "outputs": [
        {
          "output_type": "execute_result",
          "data": {
            "application/vnd.google.colaboratory.intrinsic+json": {
              "type": "string"
            },
            "text/plain": [
              "\"What's the simplest way to connect and query a database for a set of records in C#?\\n\""
            ]
          },
          "metadata": {
            "tags": []
          },
          "execution_count": 29
        }
      ]
    },
    {
      "cell_type": "code",
      "metadata": {
        "id": "ui4mNDaxniv_"
      },
      "source": [
        "questions_data_top_10['Text'] = questions_data_top_10['Title'] +' '+ questions_data_top_10['Body']"
      ],
      "execution_count": 30,
      "outputs": []
    },
    {
      "cell_type": "code",
      "metadata": {
        "colab": {
          "base_uri": "https://localhost:8080/",
          "height": 195
        },
        "id": "xagi2NkVnvNa",
        "outputId": "11f903a2-1882-4e50-9cae-fa66850f372e"
      },
      "source": [
        "questions_data_top_10.head()"
      ],
      "execution_count": 31,
      "outputs": [
        {
          "output_type": "execute_result",
          "data": {
            "text/html": [
              "<div>\n",
              "<style scoped>\n",
              "    .dataframe tbody tr th:only-of-type {\n",
              "        vertical-align: middle;\n",
              "    }\n",
              "\n",
              "    .dataframe tbody tr th {\n",
              "        vertical-align: top;\n",
              "    }\n",
              "\n",
              "    .dataframe thead th {\n",
              "        text-align: right;\n",
              "    }\n",
              "</style>\n",
              "<table border=\"1\" class=\"dataframe\">\n",
              "  <thead>\n",
              "    <tr style=\"text-align: right;\">\n",
              "      <th></th>\n",
              "      <th>Id</th>\n",
              "      <th>Title</th>\n",
              "      <th>Body</th>\n",
              "      <th>Tag</th>\n",
              "      <th>Text</th>\n",
              "    </tr>\n",
              "  </thead>\n",
              "  <tbody>\n",
              "    <tr>\n",
              "      <th>0</th>\n",
              "      <td>260</td>\n",
              "      <td>Adding scripting functionality to .NET applica...</td>\n",
              "      <td>I have a little game written in C#. It uses a ...</td>\n",
              "      <td>c#</td>\n",
              "      <td>Adding scripting functionality to .NET applica...</td>\n",
              "    </tr>\n",
              "    <tr>\n",
              "      <th>1</th>\n",
              "      <td>330</td>\n",
              "      <td>Should I use nested classes in this case?</td>\n",
              "      <td>I am working on a collection of classes used f...</td>\n",
              "      <td>c++</td>\n",
              "      <td>Should I use nested classes in this case? I am...</td>\n",
              "    </tr>\n",
              "    <tr>\n",
              "      <th>2</th>\n",
              "      <td>650</td>\n",
              "      <td>Automatically update version number</td>\n",
              "      <td>I would like the version property of my applic...</td>\n",
              "      <td>c#</td>\n",
              "      <td>Automatically update version number I would li...</td>\n",
              "    </tr>\n",
              "    <tr>\n",
              "      <th>3</th>\n",
              "      <td>930</td>\n",
              "      <td>How do I connect to a database and loop over a...</td>\n",
              "      <td>What's the simplest way to connect and query a...</td>\n",
              "      <td>c#</td>\n",
              "      <td>How do I connect to a database and loop over a...</td>\n",
              "    </tr>\n",
              "    <tr>\n",
              "      <th>4</th>\n",
              "      <td>1010</td>\n",
              "      <td>How to get the value of built, encoded ViewState?</td>\n",
              "      <td>I need to grab the base64-encoded representati...</td>\n",
              "      <td>c#</td>\n",
              "      <td>How to get the value of built, encoded ViewSta...</td>\n",
              "    </tr>\n",
              "  </tbody>\n",
              "</table>\n",
              "</div>"
            ],
            "text/plain": [
              "     Id  ...                                               Text\n",
              "0   260  ...  Adding scripting functionality to .NET applica...\n",
              "1   330  ...  Should I use nested classes in this case? I am...\n",
              "2   650  ...  Automatically update version number I would li...\n",
              "3   930  ...  How do I connect to a database and loop over a...\n",
              "4  1010  ...  How to get the value of built, encoded ViewSta...\n",
              "\n",
              "[5 rows x 5 columns]"
            ]
          },
          "metadata": {
            "tags": []
          },
          "execution_count": 31
        }
      ]
    },
    {
      "cell_type": "code",
      "metadata": {
        "id": "e5k48Fmxn5P9"
      },
      "source": [
        "questions_data_top_10.drop(columns=['Title','Body'], inplace=True)"
      ],
      "execution_count": 32,
      "outputs": []
    },
    {
      "cell_type": "code",
      "metadata": {
        "colab": {
          "base_uri": "https://localhost:8080/",
          "height": 195
        },
        "id": "XlG2eW-4oK0S",
        "outputId": "da52a6c0-481c-4f69-ceca-52e957bd77a4"
      },
      "source": [
        "questions_data_top_10.head()"
      ],
      "execution_count": 33,
      "outputs": [
        {
          "output_type": "execute_result",
          "data": {
            "text/html": [
              "<div>\n",
              "<style scoped>\n",
              "    .dataframe tbody tr th:only-of-type {\n",
              "        vertical-align: middle;\n",
              "    }\n",
              "\n",
              "    .dataframe tbody tr th {\n",
              "        vertical-align: top;\n",
              "    }\n",
              "\n",
              "    .dataframe thead th {\n",
              "        text-align: right;\n",
              "    }\n",
              "</style>\n",
              "<table border=\"1\" class=\"dataframe\">\n",
              "  <thead>\n",
              "    <tr style=\"text-align: right;\">\n",
              "      <th></th>\n",
              "      <th>Id</th>\n",
              "      <th>Tag</th>\n",
              "      <th>Text</th>\n",
              "    </tr>\n",
              "  </thead>\n",
              "  <tbody>\n",
              "    <tr>\n",
              "      <th>0</th>\n",
              "      <td>260</td>\n",
              "      <td>c#</td>\n",
              "      <td>Adding scripting functionality to .NET applica...</td>\n",
              "    </tr>\n",
              "    <tr>\n",
              "      <th>1</th>\n",
              "      <td>330</td>\n",
              "      <td>c++</td>\n",
              "      <td>Should I use nested classes in this case? I am...</td>\n",
              "    </tr>\n",
              "    <tr>\n",
              "      <th>2</th>\n",
              "      <td>650</td>\n",
              "      <td>c#</td>\n",
              "      <td>Automatically update version number I would li...</td>\n",
              "    </tr>\n",
              "    <tr>\n",
              "      <th>3</th>\n",
              "      <td>930</td>\n",
              "      <td>c#</td>\n",
              "      <td>How do I connect to a database and loop over a...</td>\n",
              "    </tr>\n",
              "    <tr>\n",
              "      <th>4</th>\n",
              "      <td>1010</td>\n",
              "      <td>c#</td>\n",
              "      <td>How to get the value of built, encoded ViewSta...</td>\n",
              "    </tr>\n",
              "  </tbody>\n",
              "</table>\n",
              "</div>"
            ],
            "text/plain": [
              "     Id  Tag                                               Text\n",
              "0   260   c#  Adding scripting functionality to .NET applica...\n",
              "1   330  c++  Should I use nested classes in this case? I am...\n",
              "2   650   c#  Automatically update version number I would li...\n",
              "3   930   c#  How do I connect to a database and loop over a...\n",
              "4  1010   c#  How to get the value of built, encoded ViewSta..."
            ]
          },
          "metadata": {
            "tags": []
          },
          "execution_count": 33
        }
      ]
    },
    {
      "cell_type": "code",
      "metadata": {
        "id": "TKtZ8SI4oNBi"
      },
      "source": [
        "from keras.preprocessing.text import Tokenizer\r\n",
        "from keras.preprocessing.sequence import pad_sequences\r\n",
        "from sklearn.preprocessing import MultiLabelBinarizer"
      ],
      "execution_count": 34,
      "outputs": []
    },
    {
      "cell_type": "code",
      "metadata": {
        "colab": {
          "base_uri": "https://localhost:8080/"
        },
        "id": "f4MHUEFCobh9",
        "outputId": "b6b21ee4-1890-477b-b6d6-d71a5307ac38"
      },
      "source": [
        "multiLableBinarizer = MultiLabelBinarizer()\r\n",
        "multiLableBinarizer.fit([questions_data_top_10.Tag])"
      ],
      "execution_count": 35,
      "outputs": [
        {
          "output_type": "execute_result",
          "data": {
            "text/plain": [
              "MultiLabelBinarizer(classes=None, sparse_output=False)"
            ]
          },
          "metadata": {
            "tags": []
          },
          "execution_count": 35
        }
      ]
    },
    {
      "cell_type": "code",
      "metadata": {
        "colab": {
          "base_uri": "https://localhost:8080/"
        },
        "id": "geIKdTSNoiSX",
        "outputId": "99112675-d21d-4905-bd27-c0c658cccf1c"
      },
      "source": [
        "Labels = multiLableBinarizer.classes_\r\n",
        "Labels"
      ],
      "execution_count": 36,
      "outputs": [
        {
          "output_type": "execute_result",
          "data": {
            "text/plain": [
              "array(['android', 'c#', 'c++', 'html', 'ios', 'java', 'javascript',\n",
              "       'jquery', 'php', 'python'], dtype=object)"
            ]
          },
          "metadata": {
            "tags": []
          },
          "execution_count": 36
        }
      ]
    },
    {
      "cell_type": "code",
      "metadata": {
        "id": "Snupnj0tok7V"
      },
      "source": [
        "sam = multiLableBinarizer.transform(questions_data_top_10.Tag)"
      ],
      "execution_count": 37,
      "outputs": []
    },
    {
      "cell_type": "code",
      "metadata": {
        "colab": {
          "base_uri": "https://localhost:8080/"
        },
        "id": "aYivvx3ooo7J",
        "outputId": "b0d3e355-ecdc-4b23-d190-65ae50a98a83"
      },
      "source": [
        "sam"
      ],
      "execution_count": 38,
      "outputs": [
        {
          "output_type": "execute_result",
          "data": {
            "text/plain": [
              "array([[0, 0, 0, ..., 0, 0, 0],\n",
              "       [0, 0, 0, ..., 0, 0, 0],\n",
              "       [0, 0, 0, ..., 0, 0, 0],\n",
              "       ...,\n",
              "       [0, 0, 0, ..., 0, 0, 0],\n",
              "       [0, 0, 0, ..., 0, 0, 0],\n",
              "       [0, 0, 0, ..., 0, 0, 0]])"
            ]
          },
          "metadata": {
            "tags": []
          },
          "execution_count": 38
        }
      ]
    },
    {
      "cell_type": "code",
      "metadata": {
        "id": "4HWKGe1BorzV"
      },
      "source": [
        "y = pd.get_dummies(questions_data_top_10.Tag).to_numpy()"
      ],
      "execution_count": 39,
      "outputs": []
    },
    {
      "cell_type": "code",
      "metadata": {
        "id": "2xOi0H5Dovlm"
      },
      "source": [
        "maxlen = 180\r\n",
        "max_words = 5000\r\n",
        "tokenizer = Tokenizer(num_words=max_words, lower=True)\r\n",
        "tokenizer.fit_on_texts(questions_data_top_10.Text)"
      ],
      "execution_count": 40,
      "outputs": []
    },
    {
      "cell_type": "code",
      "metadata": {
        "id": "I7B64b2coybR"
      },
      "source": [
        "def get_features(text_series):\r\n",
        "    \"\"\"\r\n",
        "    transforms text data to feature_vectors that can be used in the ml model.\r\n",
        "    tokenizer must be available.\r\n",
        "    \"\"\"\r\n",
        "    sequences = tokenizer.texts_to_sequences(text_series)\r\n",
        "    return pad_sequences(sequences, maxlen=maxlen)\r\n",
        "\r\n",
        "def prediction_to_label(prediction):\r\n",
        "    tag_prob = [(labels[i], prob) for i, prob in enumerate(prediction.tolist())]\r\n",
        "    return dict(sorted(tag_prob, key=lambda kv: kv[1], reverse=True))"
      ],
      "execution_count": 41,
      "outputs": []
    },
    {
      "cell_type": "code",
      "metadata": {
        "id": "OKCeZyCYo7_M"
      },
      "source": [
        "from sklearn.model_selection import train_test_split\r\n",
        "#from sklearn.preprocessing import OneHotEncoder\r\n",
        "#enc = OneHotEncoder(handle_unknown='ignore')\r\n",
        "\r\n",
        "x = get_features(questions_data_top_10.Text)"
      ],
      "execution_count": 42,
      "outputs": []
    },
    {
      "cell_type": "code",
      "metadata": {
        "id": "hOZYIGPCpOF7",
        "colab": {
          "base_uri": "https://localhost:8080/"
        },
        "outputId": "ecbc0266-6a85-4da6-f34a-37b50dc95aa2"
      },
      "source": [
        "x.shape"
      ],
      "execution_count": 43,
      "outputs": [
        {
          "output_type": "execute_result",
          "data": {
            "text/plain": [
              "(826739, 180)"
            ]
          },
          "metadata": {
            "tags": []
          },
          "execution_count": 43
        }
      ]
    },
    {
      "cell_type": "code",
      "metadata": {
        "id": "iBwr5d-epTNP",
        "colab": {
          "base_uri": "https://localhost:8080/"
        },
        "outputId": "09e308ec-d5c8-4bcd-fa46-ac56093b2f17"
      },
      "source": [
        "y.shape"
      ],
      "execution_count": 44,
      "outputs": [
        {
          "output_type": "execute_result",
          "data": {
            "text/plain": [
              "(826739, 10)"
            ]
          },
          "metadata": {
            "tags": []
          },
          "execution_count": 44
        }
      ]
    },
    {
      "cell_type": "code",
      "metadata": {
        "id": "JY53qve1pWgK"
      },
      "source": [
        "x_train, x_test, y_train, y_test = train_test_split(x, y, test_size=0.2, random_state=0)"
      ],
      "execution_count": 45,
      "outputs": []
    },
    {
      "cell_type": "code",
      "metadata": {
        "id": "eyTpSQsqpeG4",
        "colab": {
          "base_uri": "https://localhost:8080/"
        },
        "outputId": "99cd9a2c-243c-47ee-ff14-386174e5711b"
      },
      "source": [
        "from tensorflow.keras.layers import LSTM, Activation, Dense, Dropout, Input, Embedding\r\n",
        "from tensorflow.keras.models import Sequential\r\n",
        "from tensorflow.keras.layers import Dense, Activation, Embedding, Flatten, GlobalMaxPool1D, Dropout, Conv1D\r\n",
        "from tensorflow.keras.callbacks import ReduceLROnPlateau, EarlyStopping, ModelCheckpoint\r\n",
        "from tensorflow.keras.losses import binary_crossentropy\r\n",
        "from tensorflow.keras.optimizers import Adam\r\n",
        "from tensorflow.keras.models import Model\r\n",
        "\r\n",
        "filter_length = 300\r\n",
        "\r\n",
        "model = Sequential()\r\n",
        "model.add(Embedding(max_words, 200, input_length=maxlen))\r\n",
        "model.add(Dropout(0.1))\r\n",
        "model.add(Conv1D(filter_length, 3, padding='valid', activation='relu', strides=1))\r\n",
        "model.add(GlobalMaxPool1D())\r\n",
        "model.add(Dense(num_classes))\r\n",
        "model.add(Activation('sigmoid'))\r\n",
        "\r\n",
        "model.compile(optimizer='adam', loss='binary_crossentropy', metrics=['categorical_accuracy'])\r\n",
        "model.summary()"
      ],
      "execution_count": 46,
      "outputs": [
        {
          "output_type": "stream",
          "text": [
            "Model: \"sequential\"\n",
            "_________________________________________________________________\n",
            "Layer (type)                 Output Shape              Param #   \n",
            "=================================================================\n",
            "embedding (Embedding)        (None, 180, 200)          1000000   \n",
            "_________________________________________________________________\n",
            "dropout (Dropout)            (None, 180, 200)          0         \n",
            "_________________________________________________________________\n",
            "conv1d (Conv1D)              (None, 178, 300)          180300    \n",
            "_________________________________________________________________\n",
            "global_max_pooling1d (Global (None, 300)               0         \n",
            "_________________________________________________________________\n",
            "dense (Dense)                (None, 10)                3010      \n",
            "_________________________________________________________________\n",
            "activation (Activation)      (None, 10)                0         \n",
            "=================================================================\n",
            "Total params: 1,183,310\n",
            "Trainable params: 1,183,310\n",
            "Non-trainable params: 0\n",
            "_________________________________________________________________\n"
          ],
          "name": "stdout"
        }
      ]
    },
    {
      "cell_type": "code",
      "metadata": {
        "id": "BBFuVtJepd5z",
        "colab": {
          "base_uri": "https://localhost:8080/"
        },
        "outputId": "06519605-8edb-4022-fe59-a0ceeca056c1"
      },
      "source": [
        "history=model.fit(x_train,y_train,epochs=5,validation_split=0.2)"
      ],
      "execution_count": 48,
      "outputs": [
        {
          "output_type": "stream",
          "text": [
            "Epoch 1/5\n",
            "16535/16535 [==============================] - 440s 27ms/step - loss: 0.1128 - categorical_accuracy: 0.7613 - val_loss: 0.1097 - val_categorical_accuracy: 0.7675\n",
            "Epoch 2/5\n",
            "16535/16535 [==============================] - 418s 25ms/step - loss: 0.1076 - categorical_accuracy: 0.7715 - val_loss: 0.1087 - val_categorical_accuracy: 0.7680\n",
            "Epoch 3/5\n",
            "16535/16535 [==============================] - 408s 25ms/step - loss: 0.1048 - categorical_accuracy: 0.7771 - val_loss: 0.1116 - val_categorical_accuracy: 0.7645\n",
            "Epoch 4/5\n",
            "16535/16535 [==============================] - 401s 24ms/step - loss: 0.1026 - categorical_accuracy: 0.7811 - val_loss: 0.1130 - val_categorical_accuracy: 0.7629\n",
            "Epoch 5/5\n",
            "16535/16535 [==============================] - 408s 25ms/step - loss: 0.1007 - categorical_accuracy: 0.7855 - val_loss: 0.1120 - val_categorical_accuracy: 0.7629\n"
          ],
          "name": "stdout"
        }
      ]
    },
    {
      "cell_type": "code",
      "metadata": {
        "id": "3n10p2k_pdrM"
      },
      "source": [
        "y_pred = model.predict_classes(x_test)"
      ],
      "execution_count": 49,
      "outputs": []
    },
    {
      "cell_type": "code",
      "metadata": {
        "colab": {
          "base_uri": "https://localhost:8080/"
        },
        "id": "lfryI0C6suSt",
        "outputId": "637a01f6-73e5-48f1-b308-5f5cd4e8d27e"
      },
      "source": [
        "y_pred"
      ],
      "execution_count": 50,
      "outputs": [
        {
          "output_type": "execute_result",
          "data": {
            "text/plain": [
              "array([3, 0, 1, ..., 9, 9, 0])"
            ]
          },
          "metadata": {
            "tags": []
          },
          "execution_count": 50
        }
      ]
    },
    {
      "cell_type": "code",
      "metadata": {
        "colab": {
          "base_uri": "https://localhost:8080/"
        },
        "id": "AJkXhPttsxT8",
        "outputId": "ec0f2b62-4a02-4f08-a3cf-0fd9d8bdbe05"
      },
      "source": [
        "model.evaluate(x_test,y_test)"
      ],
      "execution_count": 51,
      "outputs": [
        {
          "output_type": "stream",
          "text": [
            "5168/5168 [==============================] - 32s 6ms/step - loss: 0.1120 - categorical_accuracy: 0.7631\n"
          ],
          "name": "stdout"
        },
        {
          "output_type": "execute_result",
          "data": {
            "text/plain": [
              "[0.11195224523544312, 0.763117790222168]"
            ]
          },
          "metadata": {
            "tags": []
          },
          "execution_count": 51
        }
      ]
    },
    {
      "cell_type": "code",
      "metadata": {
        "id": "EFJ77RpBs0RV"
      },
      "source": [
        "import matplotlib.pyplot as plt"
      ],
      "execution_count": 52,
      "outputs": []
    },
    {
      "cell_type": "code",
      "metadata": {
        "id": "ODBWI1N9s4wd",
        "colab": {
          "base_uri": "https://localhost:8080/",
          "height": 545
        },
        "outputId": "7fe2e42c-45d0-4b47-e801-a63139541aa8"
      },
      "source": [
        "# Plot results\r\n",
        "acc = history.history['categorical_accuracy']\r\n",
        "val_acc = history.history['val_categorical_accuracy']\r\n",
        "loss = history.history['loss']\r\n",
        "val_loss = history.history['val_loss']\r\n",
        "\r\n",
        "epochs = range(1, len(acc)+1)\r\n",
        "\r\n",
        "plt.plot(epochs, acc, 'g', label='Training accuracy')\r\n",
        "plt.plot(epochs, val_acc, 'r', label='Validation accuracy')\r\n",
        "plt.title('Training and validation accuracy')\r\n",
        "plt.legend()\r\n",
        "\r\n",
        "plt.figure()\r\n",
        "\r\n",
        "plt.plot(epochs, loss, 'g', label='Training loss')\r\n",
        "plt.plot(epochs, val_loss, 'r', label='Validation loss')\r\n",
        "plt.title('Training and validation loss')\r\n",
        "plt.legend()\r\n",
        "\r\n",
        "plt.show()"
      ],
      "execution_count": 53,
      "outputs": [
        {
          "output_type": "display_data",
          "data": {
            "image/png": "[encoded data removed]",
            "text/plain": [
              "<Figure size 432x288 with 1 Axes>"
            ]
          },
          "metadata": {
            "tags": [],
            "needs_background": "light"
          }
        },
        {
          "output_type": "display_data",
          "data": {
            "image/png": "[encoded data removed]",
            "text/plain": [
              "<Figure size 432x288 with 1 Axes>"
            ]
          },
          "metadata": {
            "tags": [],
            "needs_background": "light"
          }
        }
      ]
    },
    {
      "cell_type": "code",
      "metadata": {
        "id": "Zngf219ms85A"
      },
      "source": [
        "y_pred = model.predict(x_test)"
      ],
      "execution_count": 54,
      "outputs": []
    },
    {
      "cell_type": "code",
      "metadata": {
        "id": "VCqxoB0ytA4h"
      },
      "source": [
        "y_pred [y_pred > 0.5] = 1\r\n",
        "y_pred[y_pred <= 0.5] = 0"
      ],
      "execution_count": 55,
      "outputs": []
    },
    {
      "cell_type": "code",
      "metadata": {
        "colab": {
          "base_uri": "https://localhost:8080/"
        },
        "id": "h4a2GrVUtE7D",
        "outputId": "fbeda370-b7a3-4a85-dcc4-154d88da1eae"
      },
      "source": [
        "y_pred"
      ],
      "execution_count": 56,
      "outputs": [
        {
          "output_type": "execute_result",
          "data": {
            "text/plain": [
              "array([[0., 0., 0., ..., 0., 0., 0.],\n",
              "       [1., 0., 0., ..., 0., 0., 0.],\n",
              "       [0., 1., 0., ..., 0., 0., 0.],\n",
              "       ...,\n",
              "       [0., 0., 0., ..., 0., 0., 1.],\n",
              "       [0., 0., 0., ..., 0., 0., 1.],\n",
              "       [1., 0., 0., ..., 0., 0., 0.]], dtype=float32)"
            ]
          },
          "metadata": {
            "tags": []
          },
          "execution_count": 56
        }
      ]
    },
    {
      "cell_type": "code",
      "metadata": {
        "id": "fiOzX0LCtG5B"
      },
      "source": [
        "from  sklearn.metrics import roc_auc_score\r\n",
        "auc = roc_auc_score(y_test,y_pred)"
      ],
      "execution_count": 57,
      "outputs": []
    },
    {
      "cell_type": "code",
      "metadata": {
        "colab": {
          "base_uri": "https://localhost:8080/"
        },
        "id": "Uybg3bXTtJjh",
        "outputId": "8dead999-3bed-439a-8659-300351647240"
      },
      "source": [
        "auc"
      ],
      "execution_count": 58,
      "outputs": [
        {
          "output_type": "execute_result",
          "data": {
            "text/plain": [
              "0.8536280193965735"
            ]
          },
          "metadata": {
            "tags": []
          },
          "execution_count": 58
        }
      ]
    },
    {
      "cell_type": "code",
      "metadata": {
        "id": "43xxYhHQtLXn"
      },
      "source": [
        "pred = pd.DataFrame(y_pred)"
      ],
      "execution_count": 59,
      "outputs": []
    },
    {
      "cell_type": "code",
      "metadata": {
        "colab": {
          "base_uri": "https://localhost:8080/"
        },
        "id": "WMAs-I26tNzs",
        "outputId": "54fc8f1d-e60c-469f-8f01-f8bbc556dd8c"
      },
      "source": [
        "pred.shape"
      ],
      "execution_count": 60,
      "outputs": [
        {
          "output_type": "execute_result",
          "data": {
            "text/plain": [
              "(165348, 10)"
            ]
          },
          "metadata": {
            "tags": []
          },
          "execution_count": 60
        }
      ]
    },
    {
      "cell_type": "code",
      "metadata": {
        "colab": {
          "base_uri": "https://localhost:8080/",
          "height": 402
        },
        "id": "SAP_H6Bsbe58",
        "outputId": "5fcb54bd-52e6-4475-b7d3-bbb40e2cd126"
      },
      "source": [
        "pred"
      ],
      "execution_count": 61,
      "outputs": [
        {
          "output_type": "execute_result",
          "data": {
            "text/html": [
              "<div>\n",
              "<style scoped>\n",
              "    .dataframe tbody tr th:only-of-type {\n",
              "        vertical-align: middle;\n",
              "    }\n",
              "\n",
              "    .dataframe tbody tr th {\n",
              "        vertical-align: top;\n",
              "    }\n",
              "\n",
              "    .dataframe thead th {\n",
              "        text-align: right;\n",
              "    }\n",
              "</style>\n",
              "<table border=\"1\" class=\"dataframe\">\n",
              "  <thead>\n",
              "    <tr style=\"text-align: right;\">\n",
              "      <th></th>\n",
              "      <th>0</th>\n",
              "      <th>1</th>\n",
              "      <th>2</th>\n",
              "      <th>3</th>\n",
              "      <th>4</th>\n",
              "      <th>5</th>\n",
              "      <th>6</th>\n",
              "      <th>7</th>\n",
              "      <th>8</th>\n",
              "      <th>9</th>\n",
              "    </tr>\n",
              "  </thead>\n",
              "  <tbody>\n",
              "    <tr>\n",
              "      <th>0</th>\n",
              "      <td>0.0</td>\n",
              "      <td>0.0</td>\n",
              "      <td>0.0</td>\n",
              "      <td>1.0</td>\n",
              "      <td>0.0</td>\n",
              "      <td>0.0</td>\n",
              "      <td>0.0</td>\n",
              "      <td>0.0</td>\n",
              "      <td>0.0</td>\n",
              "      <td>0.0</td>\n",
              "    </tr>\n",
              "    <tr>\n",
              "      <th>1</th>\n",
              "      <td>1.0</td>\n",
              "      <td>0.0</td>\n",
              "      <td>0.0</td>\n",
              "      <td>0.0</td>\n",
              "      <td>0.0</td>\n",
              "      <td>0.0</td>\n",
              "      <td>0.0</td>\n",
              "      <td>0.0</td>\n",
              "      <td>0.0</td>\n",
              "      <td>0.0</td>\n",
              "    </tr>\n",
              "    <tr>\n",
              "      <th>2</th>\n",
              "      <td>0.0</td>\n",
              "      <td>1.0</td>\n",
              "      <td>0.0</td>\n",
              "      <td>0.0</td>\n",
              "      <td>0.0</td>\n",
              "      <td>0.0</td>\n",
              "      <td>0.0</td>\n",
              "      <td>0.0</td>\n",
              "      <td>0.0</td>\n",
              "      <td>0.0</td>\n",
              "    </tr>\n",
              "    <tr>\n",
              "      <th>3</th>\n",
              "      <td>0.0</td>\n",
              "      <td>1.0</td>\n",
              "      <td>0.0</td>\n",
              "      <td>0.0</td>\n",
              "      <td>0.0</td>\n",
              "      <td>0.0</td>\n",
              "      <td>0.0</td>\n",
              "      <td>0.0</td>\n",
              "      <td>0.0</td>\n",
              "      <td>0.0</td>\n",
              "    </tr>\n",
              "    <tr>\n",
              "      <th>4</th>\n",
              "      <td>0.0</td>\n",
              "      <td>0.0</td>\n",
              "      <td>0.0</td>\n",
              "      <td>0.0</td>\n",
              "      <td>0.0</td>\n",
              "      <td>0.0</td>\n",
              "      <td>0.0</td>\n",
              "      <td>0.0</td>\n",
              "      <td>0.0</td>\n",
              "      <td>0.0</td>\n",
              "    </tr>\n",
              "    <tr>\n",
              "      <th>...</th>\n",
              "      <td>...</td>\n",
              "      <td>...</td>\n",
              "      <td>...</td>\n",
              "      <td>...</td>\n",
              "      <td>...</td>\n",
              "      <td>...</td>\n",
              "      <td>...</td>\n",
              "      <td>...</td>\n",
              "      <td>...</td>\n",
              "      <td>...</td>\n",
              "    </tr>\n",
              "    <tr>\n",
              "      <th>165343</th>\n",
              "      <td>0.0</td>\n",
              "      <td>0.0</td>\n",
              "      <td>0.0</td>\n",
              "      <td>0.0</td>\n",
              "      <td>0.0</td>\n",
              "      <td>0.0</td>\n",
              "      <td>0.0</td>\n",
              "      <td>0.0</td>\n",
              "      <td>0.0</td>\n",
              "      <td>0.0</td>\n",
              "    </tr>\n",
              "    <tr>\n",
              "      <th>165344</th>\n",
              "      <td>0.0</td>\n",
              "      <td>0.0</td>\n",
              "      <td>0.0</td>\n",
              "      <td>0.0</td>\n",
              "      <td>0.0</td>\n",
              "      <td>0.0</td>\n",
              "      <td>0.0</td>\n",
              "      <td>0.0</td>\n",
              "      <td>0.0</td>\n",
              "      <td>1.0</td>\n",
              "    </tr>\n",
              "    <tr>\n",
              "      <th>165345</th>\n",
              "      <td>0.0</td>\n",
              "      <td>0.0</td>\n",
              "      <td>0.0</td>\n",
              "      <td>0.0</td>\n",
              "      <td>0.0</td>\n",
              "      <td>0.0</td>\n",
              "      <td>0.0</td>\n",
              "      <td>0.0</td>\n",
              "      <td>0.0</td>\n",
              "      <td>1.0</td>\n",
              "    </tr>\n",
              "    <tr>\n",
              "      <th>165346</th>\n",
              "      <td>0.0</td>\n",
              "      <td>0.0</td>\n",
              "      <td>0.0</td>\n",
              "      <td>0.0</td>\n",
              "      <td>0.0</td>\n",
              "      <td>0.0</td>\n",
              "      <td>0.0</td>\n",
              "      <td>0.0</td>\n",
              "      <td>0.0</td>\n",
              "      <td>1.0</td>\n",
              "    </tr>\n",
              "    <tr>\n",
              "      <th>165347</th>\n",
              "      <td>1.0</td>\n",
              "      <td>0.0</td>\n",
              "      <td>0.0</td>\n",
              "      <td>0.0</td>\n",
              "      <td>0.0</td>\n",
              "      <td>0.0</td>\n",
              "      <td>0.0</td>\n",
              "      <td>0.0</td>\n",
              "      <td>0.0</td>\n",
              "      <td>0.0</td>\n",
              "    </tr>\n",
              "  </tbody>\n",
              "</table>\n",
              "<p>165348 rows × 10 columns</p>\n",
              "</div>"
            ],
            "text/plain": [
              "          0    1    2    3    4    5    6    7    8    9\n",
              "0       0.0  0.0  0.0  1.0  0.0  0.0  0.0  0.0  0.0  0.0\n",
              "1       1.0  0.0  0.0  0.0  0.0  0.0  0.0  0.0  0.0  0.0\n",
              "2       0.0  1.0  0.0  0.0  0.0  0.0  0.0  0.0  0.0  0.0\n",
              "3       0.0  1.0  0.0  0.0  0.0  0.0  0.0  0.0  0.0  0.0\n",
              "4       0.0  0.0  0.0  0.0  0.0  0.0  0.0  0.0  0.0  0.0\n",
              "...     ...  ...  ...  ...  ...  ...  ...  ...  ...  ...\n",
              "165343  0.0  0.0  0.0  0.0  0.0  0.0  0.0  0.0  0.0  0.0\n",
              "165344  0.0  0.0  0.0  0.0  0.0  0.0  0.0  0.0  0.0  1.0\n",
              "165345  0.0  0.0  0.0  0.0  0.0  0.0  0.0  0.0  0.0  1.0\n",
              "165346  0.0  0.0  0.0  0.0  0.0  0.0  0.0  0.0  0.0  1.0\n",
              "165347  1.0  0.0  0.0  0.0  0.0  0.0  0.0  0.0  0.0  0.0\n",
              "\n",
              "[165348 rows x 10 columns]"
            ]
          },
          "metadata": {
            "tags": []
          },
          "execution_count": 61
        }
      ]
    },
    {
      "cell_type": "code",
      "metadata": {
        "id": "RfSjL2DwtPsD"
      },
      "source": [
        "Labels = list(Labels)"
      ],
      "execution_count": 62,
      "outputs": []
    },
    {
      "cell_type": "code",
      "metadata": {
        "colab": {
          "base_uri": "https://localhost:8080/"
        },
        "id": "xQJ7Dp8_dDaC",
        "outputId": "157cefc2-b70f-4c7f-d999-391408ed2a89"
      },
      "source": [
        "Labels"
      ],
      "execution_count": 63,
      "outputs": [
        {
          "output_type": "execute_result",
          "data": {
            "text/plain": [
              "['android',\n",
              " 'c#',\n",
              " 'c++',\n",
              " 'html',\n",
              " 'ios',\n",
              " 'java',\n",
              " 'javascript',\n",
              " 'jquery',\n",
              " 'php',\n",
              " 'python']"
            ]
          },
          "metadata": {
            "tags": []
          },
          "execution_count": 63
        }
      ]
    },
    {
      "cell_type": "code",
      "metadata": {
        "id": "ORV94ponYJgZ"
      },
      "source": [
        "from  sklearn.metrics import confusion_matrix,classification_report"
      ],
      "execution_count": 64,
      "outputs": []
    },
    {
      "cell_type": "code",
      "metadata": {
        "colab": {
          "base_uri": "https://localhost:8080/"
        },
        "id": "12GLZ6x_aiI3",
        "outputId": "a2b90a84-466a-4dfa-d3ca-557e45b3e29c"
      },
      "source": [
        "y_test"
      ],
      "execution_count": 65,
      "outputs": [
        {
          "output_type": "execute_result",
          "data": {
            "text/plain": [
              "array([[0, 0, 0, ..., 1, 0, 0],\n",
              "       [1, 0, 0, ..., 0, 0, 0],\n",
              "       [0, 1, 0, ..., 0, 0, 0],\n",
              "       ...,\n",
              "       [0, 0, 0, ..., 0, 0, 1],\n",
              "       [0, 0, 0, ..., 0, 0, 1],\n",
              "       [1, 0, 0, ..., 0, 0, 0]], dtype=uint8)"
            ]
          },
          "metadata": {
            "tags": []
          },
          "execution_count": 65
        }
      ]
    },
    {
      "cell_type": "code",
      "metadata": {
        "id": "W4vJgL4jbEPi"
      },
      "source": [
        "y_true = np.argmax(y_test, axis=1)"
      ],
      "execution_count": 66,
      "outputs": []
    },
    {
      "cell_type": "code",
      "metadata": {
        "id": "GgNyJMrebLkJ"
      },
      "source": [
        "y_true = pd.DataFrame(y_true)"
      ],
      "execution_count": 67,
      "outputs": []
    },
    {
      "cell_type": "code",
      "metadata": {
        "colab": {
          "base_uri": "https://localhost:8080/",
          "height": 195
        },
        "id": "U4jPSvr1bsE6",
        "outputId": "92ab99bf-18da-4f13-b07e-10f3daf3e87c"
      },
      "source": [
        "y_true.head()"
      ],
      "execution_count": 68,
      "outputs": [
        {
          "output_type": "execute_result",
          "data": {
            "text/html": [
              "<div>\n",
              "<style scoped>\n",
              "    .dataframe tbody tr th:only-of-type {\n",
              "        vertical-align: middle;\n",
              "    }\n",
              "\n",
              "    .dataframe tbody tr th {\n",
              "        vertical-align: top;\n",
              "    }\n",
              "\n",
              "    .dataframe thead th {\n",
              "        text-align: right;\n",
              "    }\n",
              "</style>\n",
              "<table border=\"1\" class=\"dataframe\">\n",
              "  <thead>\n",
              "    <tr style=\"text-align: right;\">\n",
              "      <th></th>\n",
              "      <th>0</th>\n",
              "    </tr>\n",
              "  </thead>\n",
              "  <tbody>\n",
              "    <tr>\n",
              "      <th>0</th>\n",
              "      <td>7</td>\n",
              "    </tr>\n",
              "    <tr>\n",
              "      <th>1</th>\n",
              "      <td>0</td>\n",
              "    </tr>\n",
              "    <tr>\n",
              "      <th>2</th>\n",
              "      <td>1</td>\n",
              "    </tr>\n",
              "    <tr>\n",
              "      <th>3</th>\n",
              "      <td>1</td>\n",
              "    </tr>\n",
              "    <tr>\n",
              "      <th>4</th>\n",
              "      <td>6</td>\n",
              "    </tr>\n",
              "  </tbody>\n",
              "</table>\n",
              "</div>"
            ],
            "text/plain": [
              "   0\n",
              "0  7\n",
              "1  0\n",
              "2  1\n",
              "3  1\n",
              "4  6"
            ]
          },
          "metadata": {
            "tags": []
          },
          "execution_count": 68
        }
      ]
    },
    {
      "cell_type": "code",
      "metadata": {
        "id": "qSpSgbbibz2W"
      },
      "source": [
        "y_predicted = pd.DataFrame(np.argmax(y_pred,axis=1))"
      ],
      "execution_count": 69,
      "outputs": []
    },
    {
      "cell_type": "code",
      "metadata": {
        "colab": {
          "base_uri": "https://localhost:8080/",
          "height": 195
        },
        "id": "jKLxTdMkcJC6",
        "outputId": "70e8c483-9e28-41f3-e7de-f280eb400c99"
      },
      "source": [
        "y_predicted.head()"
      ],
      "execution_count": 70,
      "outputs": [
        {
          "output_type": "execute_result",
          "data": {
            "text/html": [
              "<div>\n",
              "<style scoped>\n",
              "    .dataframe tbody tr th:only-of-type {\n",
              "        vertical-align: middle;\n",
              "    }\n",
              "\n",
              "    .dataframe tbody tr th {\n",
              "        vertical-align: top;\n",
              "    }\n",
              "\n",
              "    .dataframe thead th {\n",
              "        text-align: right;\n",
              "    }\n",
              "</style>\n",
              "<table border=\"1\" class=\"dataframe\">\n",
              "  <thead>\n",
              "    <tr style=\"text-align: right;\">\n",
              "      <th></th>\n",
              "      <th>0</th>\n",
              "    </tr>\n",
              "  </thead>\n",
              "  <tbody>\n",
              "    <tr>\n",
              "      <th>0</th>\n",
              "      <td>3</td>\n",
              "    </tr>\n",
              "    <tr>\n",
              "      <th>1</th>\n",
              "      <td>0</td>\n",
              "    </tr>\n",
              "    <tr>\n",
              "      <th>2</th>\n",
              "      <td>1</td>\n",
              "    </tr>\n",
              "    <tr>\n",
              "      <th>3</th>\n",
              "      <td>1</td>\n",
              "    </tr>\n",
              "    <tr>\n",
              "      <th>4</th>\n",
              "      <td>0</td>\n",
              "    </tr>\n",
              "  </tbody>\n",
              "</table>\n",
              "</div>"
            ],
            "text/plain": [
              "   0\n",
              "0  3\n",
              "1  0\n",
              "2  1\n",
              "3  1\n",
              "4  0"
            ]
          },
          "metadata": {
            "tags": []
          },
          "execution_count": 70
        }
      ]
    },
    {
      "cell_type": "code",
      "metadata": {
        "id": "lhUziOA3dP3l"
      },
      "source": [
        "report = classification_report(y_true,y_predicted, target_names=Labels)"
      ],
      "execution_count": 71,
      "outputs": []
    },
    {
      "cell_type": "code",
      "metadata": {
        "colab": {
          "base_uri": "https://localhost:8080/"
        },
        "id": "R7DexETsdioj",
        "outputId": "1a29d6dd-c80c-405e-fb63-023dfdb23f12"
      },
      "source": [
        "print(report)"
      ],
      "execution_count": 72,
      "outputs": [
        {
          "output_type": "stream",
          "text": [
            "              precision    recall  f1-score   support\n",
            "\n",
            "     android       0.41      0.95      0.58     17828\n",
            "          c#       0.86      0.86      0.86     20289\n",
            "         c++       0.91      0.79      0.85      9492\n",
            "        html       0.62      0.33      0.43     11678\n",
            "         ios       0.96      0.84      0.90      9379\n",
            "        java       0.92      0.74      0.82     23343\n",
            "  javascript       0.68      0.53      0.60     25102\n",
            "      jquery       0.55      0.46      0.50     15644\n",
            "         php       0.84      0.79      0.81     19660\n",
            "      python       0.95      0.88      0.91     12933\n",
            "\n",
            "    accuracy                           0.72    165348\n",
            "   macro avg       0.77      0.72      0.73    165348\n",
            "weighted avg       0.76      0.72      0.72    165348\n",
            "\n"
          ],
          "name": "stdout"
        }
      ]
    },
    {
      "cell_type": "code",
      "metadata": {
        "id": "xJ8hTGLAZ7ve"
      },
      "source": [
        "conf_matrix = confusion_matrix(y_true,y_predicted)"
      ],
      "execution_count": 73,
      "outputs": []
    },
    {
      "cell_type": "code",
      "metadata": {
        "colab": {
          "base_uri": "https://localhost:8080/",
          "height": 343
        },
        "id": "vu4FYLk3aB0L",
        "outputId": "9b988d07-104c-46aa-8acb-cf34eec44868"
      },
      "source": [
        "confusion_df = pd.DataFrame(conf_matrix)\r\n",
        "confusion_df"
      ],
      "execution_count": 74,
      "outputs": [
        {
          "output_type": "execute_result",
          "data": {
            "text/html": [
              "<div>\n",
              "<style scoped>\n",
              "    .dataframe tbody tr th:only-of-type {\n",
              "        vertical-align: middle;\n",
              "    }\n",
              "\n",
              "    .dataframe tbody tr th {\n",
              "        vertical-align: top;\n",
              "    }\n",
              "\n",
              "    .dataframe thead th {\n",
              "        text-align: right;\n",
              "    }\n",
              "</style>\n",
              "<table border=\"1\" class=\"dataframe\">\n",
              "  <thead>\n",
              "    <tr style=\"text-align: right;\">\n",
              "      <th></th>\n",
              "      <th>0</th>\n",
              "      <th>1</th>\n",
              "      <th>2</th>\n",
              "      <th>3</th>\n",
              "      <th>4</th>\n",
              "      <th>5</th>\n",
              "      <th>6</th>\n",
              "      <th>7</th>\n",
              "      <th>8</th>\n",
              "      <th>9</th>\n",
              "    </tr>\n",
              "  </thead>\n",
              "  <tbody>\n",
              "    <tr>\n",
              "      <th>0</th>\n",
              "      <td>16907</td>\n",
              "      <td>106</td>\n",
              "      <td>34</td>\n",
              "      <td>17</td>\n",
              "      <td>58</td>\n",
              "      <td>488</td>\n",
              "      <td>120</td>\n",
              "      <td>15</td>\n",
              "      <td>61</td>\n",
              "      <td>22</td>\n",
              "    </tr>\n",
              "    <tr>\n",
              "      <th>1</th>\n",
              "      <td>1774</td>\n",
              "      <td>17493</td>\n",
              "      <td>247</td>\n",
              "      <td>60</td>\n",
              "      <td>43</td>\n",
              "      <td>171</td>\n",
              "      <td>209</td>\n",
              "      <td>138</td>\n",
              "      <td>115</td>\n",
              "      <td>39</td>\n",
              "    </tr>\n",
              "    <tr>\n",
              "      <th>2</th>\n",
              "      <td>859</td>\n",
              "      <td>745</td>\n",
              "      <td>7526</td>\n",
              "      <td>3</td>\n",
              "      <td>42</td>\n",
              "      <td>134</td>\n",
              "      <td>26</td>\n",
              "      <td>0</td>\n",
              "      <td>38</td>\n",
              "      <td>119</td>\n",
              "    </tr>\n",
              "    <tr>\n",
              "      <th>3</th>\n",
              "      <td>2729</td>\n",
              "      <td>272</td>\n",
              "      <td>13</td>\n",
              "      <td>3872</td>\n",
              "      <td>39</td>\n",
              "      <td>147</td>\n",
              "      <td>2009</td>\n",
              "      <td>1424</td>\n",
              "      <td>1033</td>\n",
              "      <td>140</td>\n",
              "    </tr>\n",
              "    <tr>\n",
              "      <th>4</th>\n",
              "      <td>1114</td>\n",
              "      <td>115</td>\n",
              "      <td>76</td>\n",
              "      <td>30</td>\n",
              "      <td>7896</td>\n",
              "      <td>13</td>\n",
              "      <td>84</td>\n",
              "      <td>11</td>\n",
              "      <td>30</td>\n",
              "      <td>10</td>\n",
              "    </tr>\n",
              "    <tr>\n",
              "      <th>5</th>\n",
              "      <td>4941</td>\n",
              "      <td>529</td>\n",
              "      <td>182</td>\n",
              "      <td>54</td>\n",
              "      <td>18</td>\n",
              "      <td>17197</td>\n",
              "      <td>174</td>\n",
              "      <td>41</td>\n",
              "      <td>101</td>\n",
              "      <td>106</td>\n",
              "    </tr>\n",
              "    <tr>\n",
              "      <th>6</th>\n",
              "      <td>5258</td>\n",
              "      <td>542</td>\n",
              "      <td>20</td>\n",
              "      <td>1152</td>\n",
              "      <td>70</td>\n",
              "      <td>200</td>\n",
              "      <td>13319</td>\n",
              "      <td>3634</td>\n",
              "      <td>817</td>\n",
              "      <td>90</td>\n",
              "    </tr>\n",
              "    <tr>\n",
              "      <th>7</th>\n",
              "      <td>3792</td>\n",
              "      <td>283</td>\n",
              "      <td>1</td>\n",
              "      <td>753</td>\n",
              "      <td>7</td>\n",
              "      <td>54</td>\n",
              "      <td>2937</td>\n",
              "      <td>7157</td>\n",
              "      <td>634</td>\n",
              "      <td>26</td>\n",
              "    </tr>\n",
              "    <tr>\n",
              "      <th>8</th>\n",
              "      <td>2465</td>\n",
              "      <td>151</td>\n",
              "      <td>35</td>\n",
              "      <td>300</td>\n",
              "      <td>33</td>\n",
              "      <td>91</td>\n",
              "      <td>520</td>\n",
              "      <td>539</td>\n",
              "      <td>15473</td>\n",
              "      <td>53</td>\n",
              "    </tr>\n",
              "    <tr>\n",
              "      <th>9</th>\n",
              "      <td>901</td>\n",
              "      <td>120</td>\n",
              "      <td>167</td>\n",
              "      <td>32</td>\n",
              "      <td>12</td>\n",
              "      <td>99</td>\n",
              "      <td>98</td>\n",
              "      <td>9</td>\n",
              "      <td>96</td>\n",
              "      <td>11399</td>\n",
              "    </tr>\n",
              "  </tbody>\n",
              "</table>\n",
              "</div>"
            ],
            "text/plain": [
              "       0      1     2     3     4      5      6     7      8      9\n",
              "0  16907    106    34    17    58    488    120    15     61     22\n",
              "1   1774  17493   247    60    43    171    209   138    115     39\n",
              "2    859    745  7526     3    42    134     26     0     38    119\n",
              "3   2729    272    13  3872    39    147   2009  1424   1033    140\n",
              "4   1114    115    76    30  7896     13     84    11     30     10\n",
              "5   4941    529   182    54    18  17197    174    41    101    106\n",
              "6   5258    542    20  1152    70    200  13319  3634    817     90\n",
              "7   3792    283     1   753     7     54   2937  7157    634     26\n",
              "8   2465    151    35   300    33     91    520   539  15473     53\n",
              "9    901    120   167    32    12     99     98     9     96  11399"
            ]
          },
          "metadata": {
            "tags": []
          },
          "execution_count": 74
        }
      ]
    },
    {
      "cell_type": "code",
      "metadata": {
        "colab": {
          "base_uri": "https://localhost:8080/"
        },
        "id": "hNNb9rj4d822",
        "outputId": "09352e5d-21ef-4738-c495-b5dd0bc6a8b6"
      },
      "source": [
        "Labels"
      ],
      "execution_count": 75,
      "outputs": [
        {
          "output_type": "execute_result",
          "data": {
            "text/plain": [
              "['android',\n",
              " 'c#',\n",
              " 'c++',\n",
              " 'html',\n",
              " 'ios',\n",
              " 'java',\n",
              " 'javascript',\n",
              " 'jquery',\n",
              " 'php',\n",
              " 'python']"
            ]
          },
          "metadata": {
            "tags": []
          },
          "execution_count": 75
        }
      ]
    },
    {
      "cell_type": "code",
      "metadata": {
        "id": "lLQDpr_0eB7a"
      },
      "source": [
        "# Creating a dictionary of labels\r\n",
        "labels_dict = {\r\n",
        "    0: 'android',\r\n",
        "    1: 'c#',\r\n",
        "    2: 'c++',\r\n",
        "    3: 'html',\r\n",
        "    4: 'ios',\r\n",
        "    5: 'java',\r\n",
        "    6: 'javascript',\r\n",
        "    7: 'jquery',\r\n",
        "    8: 'php',\r\n",
        "    9: 'python'\r\n",
        "}"
      ],
      "execution_count": 76,
      "outputs": []
    },
    {
      "cell_type": "code",
      "metadata": {
        "colab": {
          "base_uri": "https://localhost:8080/",
          "height": 343
        },
        "id": "Xa33aqhWeTUo",
        "outputId": "bedd1587-8d75-403a-b3b8-745847a93807"
      },
      "source": [
        "# Renaming rows and columns with labes\r\n",
        "confusion_df = confusion_df.rename(columns=labels_dict)\r\n",
        "confusion_df.index = confusion_df.columns\r\n",
        "confusion_df"
      ],
      "execution_count": 77,
      "outputs": [
        {
          "output_type": "execute_result",
          "data": {
            "text/html": [
              "<div>\n",
              "<style scoped>\n",
              "    .dataframe tbody tr th:only-of-type {\n",
              "        vertical-align: middle;\n",
              "    }\n",
              "\n",
              "    .dataframe tbody tr th {\n",
              "        vertical-align: top;\n",
              "    }\n",
              "\n",
              "    .dataframe thead th {\n",
              "        text-align: right;\n",
              "    }\n",
              "</style>\n",
              "<table border=\"1\" class=\"dataframe\">\n",
              "  <thead>\n",
              "    <tr style=\"text-align: right;\">\n",
              "      <th></th>\n",
              "      <th>android</th>\n",
              "      <th>c#</th>\n",
              "      <th>c++</th>\n",
              "      <th>html</th>\n",
              "      <th>ios</th>\n",
              "      <th>java</th>\n",
              "      <th>javascript</th>\n",
              "      <th>jquery</th>\n",
              "      <th>php</th>\n",
              "      <th>python</th>\n",
              "    </tr>\n",
              "  </thead>\n",
              "  <tbody>\n",
              "    <tr>\n",
              "      <th>android</th>\n",
              "      <td>16907</td>\n",
              "      <td>106</td>\n",
              "      <td>34</td>\n",
              "      <td>17</td>\n",
              "      <td>58</td>\n",
              "      <td>488</td>\n",
              "      <td>120</td>\n",
              "      <td>15</td>\n",
              "      <td>61</td>\n",
              "      <td>22</td>\n",
              "    </tr>\n",
              "    <tr>\n",
              "      <th>c#</th>\n",
              "      <td>1774</td>\n",
              "      <td>17493</td>\n",
              "      <td>247</td>\n",
              "      <td>60</td>\n",
              "      <td>43</td>\n",
              "      <td>171</td>\n",
              "      <td>209</td>\n",
              "      <td>138</td>\n",
              "      <td>115</td>\n",
              "      <td>39</td>\n",
              "    </tr>\n",
              "    <tr>\n",
              "      <th>c++</th>\n",
              "      <td>859</td>\n",
              "      <td>745</td>\n",
              "      <td>7526</td>\n",
              "      <td>3</td>\n",
              "      <td>42</td>\n",
              "      <td>134</td>\n",
              "      <td>26</td>\n",
              "      <td>0</td>\n",
              "      <td>38</td>\n",
              "      <td>119</td>\n",
              "    </tr>\n",
              "    <tr>\n",
              "      <th>html</th>\n",
              "      <td>2729</td>\n",
              "      <td>272</td>\n",
              "      <td>13</td>\n",
              "      <td>3872</td>\n",
              "      <td>39</td>\n",
              "      <td>147</td>\n",
              "      <td>2009</td>\n",
              "      <td>1424</td>\n",
              "      <td>1033</td>\n",
              "      <td>140</td>\n",
              "    </tr>\n",
              "    <tr>\n",
              "      <th>ios</th>\n",
              "      <td>1114</td>\n",
              "      <td>115</td>\n",
              "      <td>76</td>\n",
              "      <td>30</td>\n",
              "      <td>7896</td>\n",
              "      <td>13</td>\n",
              "      <td>84</td>\n",
              "      <td>11</td>\n",
              "      <td>30</td>\n",
              "      <td>10</td>\n",
              "    </tr>\n",
              "    <tr>\n",
              "      <th>java</th>\n",
              "      <td>4941</td>\n",
              "      <td>529</td>\n",
              "      <td>182</td>\n",
              "      <td>54</td>\n",
              "      <td>18</td>\n",
              "      <td>17197</td>\n",
              "      <td>174</td>\n",
              "      <td>41</td>\n",
              "      <td>101</td>\n",
              "      <td>106</td>\n",
              "    </tr>\n",
              "    <tr>\n",
              "      <th>javascript</th>\n",
              "      <td>5258</td>\n",
              "      <td>542</td>\n",
              "      <td>20</td>\n",
              "      <td>1152</td>\n",
              "      <td>70</td>\n",
              "      <td>200</td>\n",
              "      <td>13319</td>\n",
              "      <td>3634</td>\n",
              "      <td>817</td>\n",
              "      <td>90</td>\n",
              "    </tr>\n",
              "    <tr>\n",
              "      <th>jquery</th>\n",
              "      <td>3792</td>\n",
              "      <td>283</td>\n",
              "      <td>1</td>\n",
              "      <td>753</td>\n",
              "      <td>7</td>\n",
              "      <td>54</td>\n",
              "      <td>2937</td>\n",
              "      <td>7157</td>\n",
              "      <td>634</td>\n",
              "      <td>26</td>\n",
              "    </tr>\n",
              "    <tr>\n",
              "      <th>php</th>\n",
              "      <td>2465</td>\n",
              "      <td>151</td>\n",
              "      <td>35</td>\n",
              "      <td>300</td>\n",
              "      <td>33</td>\n",
              "      <td>91</td>\n",
              "      <td>520</td>\n",
              "      <td>539</td>\n",
              "      <td>15473</td>\n",
              "      <td>53</td>\n",
              "    </tr>\n",
              "    <tr>\n",
              "      <th>python</th>\n",
              "      <td>901</td>\n",
              "      <td>120</td>\n",
              "      <td>167</td>\n",
              "      <td>32</td>\n",
              "      <td>12</td>\n",
              "      <td>99</td>\n",
              "      <td>98</td>\n",
              "      <td>9</td>\n",
              "      <td>96</td>\n",
              "      <td>11399</td>\n",
              "    </tr>\n",
              "  </tbody>\n",
              "</table>\n",
              "</div>"
            ],
            "text/plain": [
              "            android     c#   c++  html  ...  javascript  jquery    php  python\n",
              "android       16907    106    34    17  ...         120      15     61      22\n",
              "c#             1774  17493   247    60  ...         209     138    115      39\n",
              "c++             859    745  7526     3  ...          26       0     38     119\n",
              "html           2729    272    13  3872  ...        2009    1424   1033     140\n",
              "ios            1114    115    76    30  ...          84      11     30      10\n",
              "java           4941    529   182    54  ...         174      41    101     106\n",
              "javascript     5258    542    20  1152  ...       13319    3634    817      90\n",
              "jquery         3792    283     1   753  ...        2937    7157    634      26\n",
              "php            2465    151    35   300  ...         520     539  15473      53\n",
              "python          901    120   167    32  ...          98       9     96   11399\n",
              "\n",
              "[10 rows x 10 columns]"
            ]
          },
          "metadata": {
            "tags": []
          },
          "execution_count": 77
        }
      ]
    },
    {
      "cell_type": "code",
      "metadata": {
        "colab": {
          "base_uri": "https://localhost:8080/",
          "height": 720
        },
        "id": "HL-8sF7TeW6f",
        "outputId": "c6685550-dce1-4d2d-e319-f5caa14abae5"
      },
      "source": [
        "import seaborn as sns\r\n",
        "\r\n",
        "# Creating a heatmap for the confusion matrix for display\r\n",
        "plt.figure(figsize= (20,12))\r\n",
        "sns.set(font_scale = 1);\r\n",
        "ax = sns.heatmap(confusion_df, annot=True, cmap=sns.cubehelix_palette(50));\r\n",
        "ax.set(xlabel='Predicted Values', ylabel='Actual Values');"
      ],
      "execution_count": 78,
      "outputs": [
        {
          "output_type": "display_data",
          "data": {
            "image/png": "[encoded data removed]",
            "text/plain": [
              "<Figure size 1440x864 with 2 Axes>"
            ]
          },
          "metadata": {
            "tags": [],
            "needs_background": "light"
          }
        }
      ]
    },
    {
      "cell_type": "code",
      "metadata": {
        "id": "WxHUA-j5efOV"
      },
      "source": [
        ""
      ],
      "execution_count": null,
      "outputs": []
    }
  ]
}