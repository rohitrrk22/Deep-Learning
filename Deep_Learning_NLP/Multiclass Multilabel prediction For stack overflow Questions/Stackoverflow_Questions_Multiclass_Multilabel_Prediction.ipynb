{
  "nbformat": 4,
  "nbformat_minor": 0,
  "metadata": {
    "colab": {
      "name": "Copy of Copy of Stackoverflow.ipynb",
      "provenance": [],
      "collapsed_sections": [],
      "authorship_tag": "ABX9TyMvL9VwEa8AhIXCbf/i1SbN",
      "include_colab_link": true
    },
    "kernelspec": {
      "name": "python3",
      "display_name": "Python 3"
    },
    "accelerator": "GPU"
  },
  "cells": [
    {
      "cell_type": "markdown",
      "metadata": {
        "id": "view-in-github",
        "colab_type": "text"
      },
      "source": [
        "<a href=\"https://colab.research.google.com/github/rohitrrk22/Deep-Learning/blob/master/Deep_Learning_NLP/Multiclass%20Multilabel%20prediction%20For%20stack%20overflow%20Questions/Stackoverflow_Questions_Multiclass_Multilabel_Prediction.ipynb\" target=\"_parent\"><img src=\"https://colab.research.google.com/assets/colab-badge.svg\" alt=\"Open In Colab\"/></a>"
      ]
    },
    {
      "cell_type": "code",
      "metadata": {
        "id": "HAGeh8inxKPe"
      },
      "source": [
        " %tensorflow_version 2.x"
      ],
      "execution_count": 1,
      "outputs": []
    },
    {
      "cell_type": "code",
      "metadata": {
        "id": "kghdRY_Pxd2t"
      },
      "source": [
        "import pandas as pd\r\n",
        "import numpy as np\r\n",
        "import warnings\r\n",
        "warnings.filterwarnings('ignore')\r\n",
        "\r\n",
        "np.random.seed(1)"
      ],
      "execution_count": 2,
      "outputs": []
    },
    {
      "cell_type": "code",
      "metadata": {
        "colab": {
          "base_uri": "https://localhost:8080/"
        },
        "id": "Uu_21wS6xmgZ",
        "outputId": "7f042595-3d71-4dd1-9760-410472a2afd4"
      },
      "source": [
        "!wget https://www.dropbox.com/s/5721wcs2guuykzl/stacksample.zip"
      ],
      "execution_count": 3,
      "outputs": [
        {
          "output_type": "stream",
          "text": [
            "--2021-01-02 13:30:59--  https://www.dropbox.com/s/5721wcs2guuykzl/stacksample.zip\n",
            "Resolving www.dropbox.com (www.dropbox.com)... 162.125.6.18, 2620:100:6019:18::a27d:412\n",
            "Connecting to www.dropbox.com (www.dropbox.com)|162.125.6.18|:443... connected.\n",
            "HTTP request sent, awaiting response... 301 Moved Permanently\n",
            "Location: /s/raw/5721wcs2guuykzl/stacksample.zip [following]\n",
            "--2021-01-02 13:30:59--  https://www.dropbox.com/s/raw/5721wcs2guuykzl/stacksample.zip\n",
            "Reusing existing connection to www.dropbox.com:443.\n",
            "HTTP request sent, awaiting response... 302 Found\n",
            "Location: https://uc014398da7d6df13600364b0f05.dl.dropboxusercontent.com/cd/0/inline/BGMELIhBEK6_NXg7Tmb_oBxMgDie5liS2IQ6Fy2QXZsFGhrRHZ6Qu5CKHW-gsog2Jgk_tBk_seO-p3e_iIzUHir4T1ZqWbl7ws1NqGYS8ewk_A/file# [following]\n",
            "--2021-01-02 13:31:00--  https://uc014398da7d6df13600364b0f05.dl.dropboxusercontent.com/cd/0/inline/BGMELIhBEK6_NXg7Tmb_oBxMgDie5liS2IQ6Fy2QXZsFGhrRHZ6Qu5CKHW-gsog2Jgk_tBk_seO-p3e_iIzUHir4T1ZqWbl7ws1NqGYS8ewk_A/file\n",
            "Resolving uc014398da7d6df13600364b0f05.dl.dropboxusercontent.com (uc014398da7d6df13600364b0f05.dl.dropboxusercontent.com)... 162.125.6.15, 2620:100:601c:15::a27d:60f\n",
            "Connecting to uc014398da7d6df13600364b0f05.dl.dropboxusercontent.com (uc014398da7d6df13600364b0f05.dl.dropboxusercontent.com)|162.125.6.15|:443... connected.\n",
            "HTTP request sent, awaiting response... 302 Found\n",
            "Location: /cd/0/inline2/BGPQvWjOOKJKC_5a_VRz_28ZQlQZt5GPOM8N_aih6S1Xn_ZMhwqdckQ256fq46gDFwmCpW64GDKSxMYQb1JxQHlhdmrdGLuwyQGdHaq_PWUxvlILa6Rn4X4d280f-yxk9kRuQaA5tKqtrwYMHcqNfl4RXkDZNdgHI-lWlxCgef-eoMGsInVv0164Lzd-Qzdk3DbXCbDzhmnlBUqf_ecLsZDx3LkrqLakF8gVYP2L7dJPQpw945ilOER6jWH3DXgOtQGo9obNrxT5RNFt-80IkHJ95enMbe3rqVkZidfE0eoRwYFsksuXoaF1waYWL9Vb7HYJoV63DqR_XFVYqy82QJF-/file [following]\n",
            "--2021-01-02 13:31:00--  https://uc014398da7d6df13600364b0f05.dl.dropboxusercontent.com/cd/0/inline2/BGPQvWjOOKJKC_5a_VRz_28ZQlQZt5GPOM8N_aih6S1Xn_ZMhwqdckQ256fq46gDFwmCpW64GDKSxMYQb1JxQHlhdmrdGLuwyQGdHaq_PWUxvlILa6Rn4X4d280f-yxk9kRuQaA5tKqtrwYMHcqNfl4RXkDZNdgHI-lWlxCgef-eoMGsInVv0164Lzd-Qzdk3DbXCbDzhmnlBUqf_ecLsZDx3LkrqLakF8gVYP2L7dJPQpw945ilOER6jWH3DXgOtQGo9obNrxT5RNFt-80IkHJ95enMbe3rqVkZidfE0eoRwYFsksuXoaF1waYWL9Vb7HYJoV63DqR_XFVYqy82QJF-/file\n",
            "Reusing existing connection to uc014398da7d6df13600364b0f05.dl.dropboxusercontent.com:443.\n",
            "HTTP request sent, awaiting response... 200 OK\n",
            "Length: 1231288519 (1.1G) [application/zip]\n",
            "Saving to: ‘stacksample.zip’\n",
            "\n",
            "stacksample.zip     100%[===================>]   1.15G   125MB/s    in 9.3s    \n",
            "\n",
            "2021-01-02 13:31:10 (126 MB/s) - ‘stacksample.zip’ saved [1231288519/1231288519]\n",
            "\n"
          ],
          "name": "stdout"
        }
      ]
    },
    {
      "cell_type": "code",
      "metadata": {
        "colab": {
          "base_uri": "https://localhost:8080/"
        },
        "id": "icMvK1Alxneb",
        "outputId": "91cc6fed-aa34-4c22-b276-6233450b9c53"
      },
      "source": [
        "!unzip stacksample.zip"
      ],
      "execution_count": 4,
      "outputs": [
        {
          "output_type": "stream",
          "text": [
            "Archive:  stacksample.zip\n",
            "  inflating: Answers.csv             \n",
            "  inflating: Questions.csv           \n",
            "  inflating: Tags.csv                \n"
          ],
          "name": "stdout"
        }
      ]
    },
    {
      "cell_type": "code",
      "metadata": {
        "id": "1UO8ZAT2xq1n"
      },
      "source": [
        "!rm stacksample.zip"
      ],
      "execution_count": 5,
      "outputs": []
    },
    {
      "cell_type": "code",
      "metadata": {
        "id": "4PtG19SuxshN"
      },
      "source": [
        "questions = pd.read_csv(r'/content/Questions.csv',encoding='ISO-8859-1')\r\n",
        "tags = pd.read_csv(r'/content/Tags.csv',encoding='utf-8')"
      ],
      "execution_count": 6,
      "outputs": []
    },
    {
      "cell_type": "code",
      "metadata": {
        "colab": {
          "base_uri": "https://localhost:8080/",
          "height": 279
        },
        "id": "4JZ01uzxxvu0",
        "outputId": "7cdf2489-af3f-4a7a-c5f0-90e1a06b734e"
      },
      "source": [
        "questions.head()"
      ],
      "execution_count": 7,
      "outputs": [
        {
          "output_type": "execute_result",
          "data": {
            "text/html": [
              "<div>\n",
              "<style scoped>\n",
              "    .dataframe tbody tr th:only-of-type {\n",
              "        vertical-align: middle;\n",
              "    }\n",
              "\n",
              "    .dataframe tbody tr th {\n",
              "        vertical-align: top;\n",
              "    }\n",
              "\n",
              "    .dataframe thead th {\n",
              "        text-align: right;\n",
              "    }\n",
              "</style>\n",
              "<table border=\"1\" class=\"dataframe\">\n",
              "  <thead>\n",
              "    <tr style=\"text-align: right;\">\n",
              "      <th></th>\n",
              "      <th>Id</th>\n",
              "      <th>OwnerUserId</th>\n",
              "      <th>CreationDate</th>\n",
              "      <th>ClosedDate</th>\n",
              "      <th>Score</th>\n",
              "      <th>Title</th>\n",
              "      <th>Body</th>\n",
              "    </tr>\n",
              "  </thead>\n",
              "  <tbody>\n",
              "    <tr>\n",
              "      <th>0</th>\n",
              "      <td>80</td>\n",
              "      <td>26.0</td>\n",
              "      <td>2008-08-01T13:57:07Z</td>\n",
              "      <td>NaN</td>\n",
              "      <td>26</td>\n",
              "      <td>SQLStatement.execute() - multiple queries in o...</td>\n",
              "      <td>&lt;p&gt;I've written a database generation script i...</td>\n",
              "    </tr>\n",
              "    <tr>\n",
              "      <th>1</th>\n",
              "      <td>90</td>\n",
              "      <td>58.0</td>\n",
              "      <td>2008-08-01T14:41:24Z</td>\n",
              "      <td>2012-12-26T03:45:49Z</td>\n",
              "      <td>144</td>\n",
              "      <td>Good branching and merging tutorials for Torto...</td>\n",
              "      <td>&lt;p&gt;Are there any really good tutorials explain...</td>\n",
              "    </tr>\n",
              "    <tr>\n",
              "      <th>2</th>\n",
              "      <td>120</td>\n",
              "      <td>83.0</td>\n",
              "      <td>2008-08-01T15:50:08Z</td>\n",
              "      <td>NaN</td>\n",
              "      <td>21</td>\n",
              "      <td>ASP.NET Site Maps</td>\n",
              "      <td>&lt;p&gt;Has anyone got experience creating &lt;strong&gt;...</td>\n",
              "    </tr>\n",
              "    <tr>\n",
              "      <th>3</th>\n",
              "      <td>180</td>\n",
              "      <td>2089740.0</td>\n",
              "      <td>2008-08-01T18:42:19Z</td>\n",
              "      <td>NaN</td>\n",
              "      <td>53</td>\n",
              "      <td>Function for creating color wheels</td>\n",
              "      <td>&lt;p&gt;This is something I've pseudo-solved many t...</td>\n",
              "    </tr>\n",
              "    <tr>\n",
              "      <th>4</th>\n",
              "      <td>260</td>\n",
              "      <td>91.0</td>\n",
              "      <td>2008-08-01T23:22:08Z</td>\n",
              "      <td>NaN</td>\n",
              "      <td>49</td>\n",
              "      <td>Adding scripting functionality to .NET applica...</td>\n",
              "      <td>&lt;p&gt;I have a little game written in C#. It uses...</td>\n",
              "    </tr>\n",
              "  </tbody>\n",
              "</table>\n",
              "</div>"
            ],
            "text/plain": [
              "    Id  ...                                               Body\n",
              "0   80  ...  <p>I've written a database generation script i...\n",
              "1   90  ...  <p>Are there any really good tutorials explain...\n",
              "2  120  ...  <p>Has anyone got experience creating <strong>...\n",
              "3  180  ...  <p>This is something I've pseudo-solved many t...\n",
              "4  260  ...  <p>I have a little game written in C#. It uses...\n",
              "\n",
              "[5 rows x 7 columns]"
            ]
          },
          "metadata": {
            "tags": []
          },
          "execution_count": 7
        }
      ]
    },
    {
      "cell_type": "code",
      "metadata": {
        "colab": {
          "base_uri": "https://localhost:8080/",
          "height": 195
        },
        "id": "QS6szlsYx7G_",
        "outputId": "b53f5ebb-849a-4fd7-8876-98e4b7dd0d67"
      },
      "source": [
        "tags.head()"
      ],
      "execution_count": 8,
      "outputs": [
        {
          "output_type": "execute_result",
          "data": {
            "text/html": [
              "<div>\n",
              "<style scoped>\n",
              "    .dataframe tbody tr th:only-of-type {\n",
              "        vertical-align: middle;\n",
              "    }\n",
              "\n",
              "    .dataframe tbody tr th {\n",
              "        vertical-align: top;\n",
              "    }\n",
              "\n",
              "    .dataframe thead th {\n",
              "        text-align: right;\n",
              "    }\n",
              "</style>\n",
              "<table border=\"1\" class=\"dataframe\">\n",
              "  <thead>\n",
              "    <tr style=\"text-align: right;\">\n",
              "      <th></th>\n",
              "      <th>Id</th>\n",
              "      <th>Tag</th>\n",
              "    </tr>\n",
              "  </thead>\n",
              "  <tbody>\n",
              "    <tr>\n",
              "      <th>0</th>\n",
              "      <td>80</td>\n",
              "      <td>flex</td>\n",
              "    </tr>\n",
              "    <tr>\n",
              "      <th>1</th>\n",
              "      <td>80</td>\n",
              "      <td>actionscript-3</td>\n",
              "    </tr>\n",
              "    <tr>\n",
              "      <th>2</th>\n",
              "      <td>80</td>\n",
              "      <td>air</td>\n",
              "    </tr>\n",
              "    <tr>\n",
              "      <th>3</th>\n",
              "      <td>90</td>\n",
              "      <td>svn</td>\n",
              "    </tr>\n",
              "    <tr>\n",
              "      <th>4</th>\n",
              "      <td>90</td>\n",
              "      <td>tortoisesvn</td>\n",
              "    </tr>\n",
              "  </tbody>\n",
              "</table>\n",
              "</div>"
            ],
            "text/plain": [
              "   Id             Tag\n",
              "0  80            flex\n",
              "1  80  actionscript-3\n",
              "2  80             air\n",
              "3  90             svn\n",
              "4  90     tortoisesvn"
            ]
          },
          "metadata": {
            "tags": []
          },
          "execution_count": 8
        }
      ]
    },
    {
      "cell_type": "code",
      "metadata": {
        "id": "yvJATagyx9F2"
      },
      "source": [
        "grouped_tags = tags.groupby(\"Tag\", sort=\"count\").size().reset_index(name = 'count_number')"
      ],
      "execution_count": 9,
      "outputs": []
    },
    {
      "cell_type": "code",
      "metadata": {
        "colab": {
          "base_uri": "https://localhost:8080/",
          "height": 402
        },
        "id": "DsxFuynLyVrr",
        "outputId": "fa79af95-5ef0-4252-b513-72ad8d55926c"
      },
      "source": [
        "grouped_tags"
      ],
      "execution_count": 10,
      "outputs": [
        {
          "output_type": "execute_result",
          "data": {
            "text/html": [
              "<div>\n",
              "<style scoped>\n",
              "    .dataframe tbody tr th:only-of-type {\n",
              "        vertical-align: middle;\n",
              "    }\n",
              "\n",
              "    .dataframe tbody tr th {\n",
              "        vertical-align: top;\n",
              "    }\n",
              "\n",
              "    .dataframe thead th {\n",
              "        text-align: right;\n",
              "    }\n",
              "</style>\n",
              "<table border=\"1\" class=\"dataframe\">\n",
              "  <thead>\n",
              "    <tr style=\"text-align: right;\">\n",
              "      <th></th>\n",
              "      <th>Tag</th>\n",
              "      <th>count_number</th>\n",
              "    </tr>\n",
              "  </thead>\n",
              "  <tbody>\n",
              "    <tr>\n",
              "      <th>0</th>\n",
              "      <td>.a</td>\n",
              "      <td>13</td>\n",
              "    </tr>\n",
              "    <tr>\n",
              "      <th>1</th>\n",
              "      <td>.app</td>\n",
              "      <td>14</td>\n",
              "    </tr>\n",
              "    <tr>\n",
              "      <th>2</th>\n",
              "      <td>.aspxauth</td>\n",
              "      <td>6</td>\n",
              "    </tr>\n",
              "    <tr>\n",
              "      <th>3</th>\n",
              "      <td>.bash-profile</td>\n",
              "      <td>46</td>\n",
              "    </tr>\n",
              "    <tr>\n",
              "      <th>4</th>\n",
              "      <td>.class-file</td>\n",
              "      <td>19</td>\n",
              "    </tr>\n",
              "    <tr>\n",
              "      <th>...</th>\n",
              "      <td>...</td>\n",
              "      <td>...</td>\n",
              "    </tr>\n",
              "    <tr>\n",
              "      <th>37029</th>\n",
              "      <td>zwoptex</td>\n",
              "      <td>3</td>\n",
              "    </tr>\n",
              "    <tr>\n",
              "      <th>37030</th>\n",
              "      <td>zxing</td>\n",
              "      <td>159</td>\n",
              "    </tr>\n",
              "    <tr>\n",
              "      <th>37031</th>\n",
              "      <td>zxspectrum</td>\n",
              "      <td>1</td>\n",
              "    </tr>\n",
              "    <tr>\n",
              "      <th>37032</th>\n",
              "      <td>zynq</td>\n",
              "      <td>11</td>\n",
              "    </tr>\n",
              "    <tr>\n",
              "      <th>37033</th>\n",
              "      <td>zypper</td>\n",
              "      <td>2</td>\n",
              "    </tr>\n",
              "  </tbody>\n",
              "</table>\n",
              "<p>37034 rows × 2 columns</p>\n",
              "</div>"
            ],
            "text/plain": [
              "                 Tag  count_number\n",
              "0                 .a            13\n",
              "1               .app            14\n",
              "2          .aspxauth             6\n",
              "3      .bash-profile            46\n",
              "4        .class-file            19\n",
              "...              ...           ...\n",
              "37029        zwoptex             3\n",
              "37030          zxing           159\n",
              "37031     zxspectrum             1\n",
              "37032           zynq            11\n",
              "37033         zypper             2\n",
              "\n",
              "[37034 rows x 2 columns]"
            ]
          },
          "metadata": {
            "tags": []
          },
          "execution_count": 10
        }
      ]
    },
    {
      "cell_type": "code",
      "metadata": {
        "id": "XAvj7vofyYGH"
      },
      "source": [
        "num_classes = 10\r\n",
        "grouped_tags_1 = tags.groupby(\"Tag\").size().reset_index(name='count_number')\r\n",
        "top_10 = grouped_tags_1.nlargest(num_classes, columns='count_number')"
      ],
      "execution_count": 11,
      "outputs": []
    },
    {
      "cell_type": "code",
      "metadata": {
        "colab": {
          "base_uri": "https://localhost:8080/",
          "height": 343
        },
        "id": "uo4Oz_yuyiRp",
        "outputId": "57f6ae07-d8f4-4d5d-ab17-df56a169c170"
      },
      "source": [
        "top_10"
      ],
      "execution_count": 12,
      "outputs": [
        {
          "output_type": "execute_result",
          "data": {
            "text/html": [
              "<div>\n",
              "<style scoped>\n",
              "    .dataframe tbody tr th:only-of-type {\n",
              "        vertical-align: middle;\n",
              "    }\n",
              "\n",
              "    .dataframe tbody tr th {\n",
              "        vertical-align: top;\n",
              "    }\n",
              "\n",
              "    .dataframe thead th {\n",
              "        text-align: right;\n",
              "    }\n",
              "</style>\n",
              "<table border=\"1\" class=\"dataframe\">\n",
              "  <thead>\n",
              "    <tr style=\"text-align: right;\">\n",
              "      <th></th>\n",
              "      <th>Tag</th>\n",
              "      <th>count_number</th>\n",
              "    </tr>\n",
              "  </thead>\n",
              "  <tbody>\n",
              "    <tr>\n",
              "      <th>16121</th>\n",
              "      <td>javascript</td>\n",
              "      <td>124155</td>\n",
              "    </tr>\n",
              "    <tr>\n",
              "      <th>16020</th>\n",
              "      <td>java</td>\n",
              "      <td>115212</td>\n",
              "    </tr>\n",
              "    <tr>\n",
              "      <th>4301</th>\n",
              "      <td>c#</td>\n",
              "      <td>101186</td>\n",
              "    </tr>\n",
              "    <tr>\n",
              "      <th>24211</th>\n",
              "      <td>php</td>\n",
              "      <td>98808</td>\n",
              "    </tr>\n",
              "    <tr>\n",
              "      <th>979</th>\n",
              "      <td>android</td>\n",
              "      <td>90659</td>\n",
              "    </tr>\n",
              "    <tr>\n",
              "      <th>16611</th>\n",
              "      <td>jquery</td>\n",
              "      <td>78542</td>\n",
              "    </tr>\n",
              "    <tr>\n",
              "      <th>25712</th>\n",
              "      <td>python</td>\n",
              "      <td>64601</td>\n",
              "    </tr>\n",
              "    <tr>\n",
              "      <th>14180</th>\n",
              "      <td>html</td>\n",
              "      <td>58976</td>\n",
              "    </tr>\n",
              "    <tr>\n",
              "      <th>4311</th>\n",
              "      <td>c++</td>\n",
              "      <td>47591</td>\n",
              "    </tr>\n",
              "    <tr>\n",
              "      <th>15565</th>\n",
              "      <td>ios</td>\n",
              "      <td>47009</td>\n",
              "    </tr>\n",
              "  </tbody>\n",
              "</table>\n",
              "</div>"
            ],
            "text/plain": [
              "              Tag  count_number\n",
              "16121  javascript        124155\n",
              "16020        java        115212\n",
              "4301           c#        101186\n",
              "24211         php         98808\n",
              "979       android         90659\n",
              "16611      jquery         78542\n",
              "25712      python         64601\n",
              "14180        html         58976\n",
              "4311          c++         47591\n",
              "15565         ios         47009"
            ]
          },
          "metadata": {
            "tags": []
          },
          "execution_count": 12
        }
      ]
    },
    {
      "cell_type": "code",
      "metadata": {
        "id": "dS7zbe0Nyjnq"
      },
      "source": [
        "# Plotting Libs\r\n",
        "import matplotlib.pyplot as plt\r\n",
        "import matplotlib.cm as cm\r\n",
        "# magic function\r\n",
        "%matplotlib inline\r\n",
        "\r\n",
        "import collections\r\n",
        "\r\n",
        "def plot_tags(tagCount):\r\n",
        "    \r\n",
        "    x,y = zip(*tagCount)\r\n",
        "\r\n",
        "    colormap = plt.cm.gist_ncar #nipy_spectral, Set1,Paired  \r\n",
        "    colors = [colormap(i) for i in np.linspace(0, 0.8,50)]   \r\n",
        "\r\n",
        "    area = [i/4000 for i in list(y)]   # 0 to 15 point radiuses\r\n",
        "    plt.figure(figsize=(9,8))\r\n",
        "    plt.ylabel(\"Number of question associations\")\r\n",
        "    for i in range(len(y)):\r\n",
        "        plt.plot(i,y[i], marker='o', linestyle='',ms=area[i],label=x[i])\r\n",
        "\r\n",
        "    plt.legend(numpoints=1)\r\n",
        "    plt.show()"
      ],
      "execution_count": 13,
      "outputs": []
    },
    {
      "cell_type": "code",
      "metadata": {
        "colab": {
          "base_uri": "https://localhost:8080/",
          "height": 520
        },
        "id": "AtftSlmtzLfJ",
        "outputId": "8657867f-b28d-4f51-bc88-a0b82f25ea15"
      },
      "source": [
        "tagCount =  collections.Counter(list(tags['Tag'])).most_common(10)\r\n",
        "print(tagCount)\r\n",
        "plot_tags(tagCount)"
      ],
      "execution_count": 14,
      "outputs": [
        {
          "output_type": "stream",
          "text": [
            "[('javascript', 124155), ('java', 115212), ('c#', 101186), ('php', 98808), ('android', 90659), ('jquery', 78542), ('python', 64601), ('html', 58976), ('c++', 47591), ('ios', 47009)]\n"
          ],
          "name": "stdout"
        },
        {
          "output_type": "display_data",
          "data": {
            "image/png": "[encoded data removed]",
            "text/plain": [
              "<Figure size 648x576 with 1 Axes>"
            ]
          },
          "metadata": {
            "tags": [],
            "needs_background": "light"
          }
        }
      ]
    },
    {
      "cell_type": "code",
      "metadata": {
        "id": "eq5RvV6-zUmE"
      },
      "source": [
        "# Filtering the top 10 tags data\r\n",
        "\r\n",
        "tags.Tag = tags.Tag.apply(lambda tag : tag if tag in top_10.Tag.values else None)"
      ],
      "execution_count": 15,
      "outputs": []
    },
    {
      "cell_type": "code",
      "metadata": {
        "colab": {
          "base_uri": "https://localhost:8080/",
          "height": 195
        },
        "id": "4guPyd13sh29",
        "outputId": "c19672c4-8eae-4fe2-9223-03a58904b107"
      },
      "source": [
        "tags.head()"
      ],
      "execution_count": 16,
      "outputs": [
        {
          "output_type": "execute_result",
          "data": {
            "text/html": [
              "<div>\n",
              "<style scoped>\n",
              "    .dataframe tbody tr th:only-of-type {\n",
              "        vertical-align: middle;\n",
              "    }\n",
              "\n",
              "    .dataframe tbody tr th {\n",
              "        vertical-align: top;\n",
              "    }\n",
              "\n",
              "    .dataframe thead th {\n",
              "        text-align: right;\n",
              "    }\n",
              "</style>\n",
              "<table border=\"1\" class=\"dataframe\">\n",
              "  <thead>\n",
              "    <tr style=\"text-align: right;\">\n",
              "      <th></th>\n",
              "      <th>Id</th>\n",
              "      <th>Tag</th>\n",
              "    </tr>\n",
              "  </thead>\n",
              "  <tbody>\n",
              "    <tr>\n",
              "      <th>0</th>\n",
              "      <td>80</td>\n",
              "      <td>None</td>\n",
              "    </tr>\n",
              "    <tr>\n",
              "      <th>1</th>\n",
              "      <td>80</td>\n",
              "      <td>None</td>\n",
              "    </tr>\n",
              "    <tr>\n",
              "      <th>2</th>\n",
              "      <td>80</td>\n",
              "      <td>None</td>\n",
              "    </tr>\n",
              "    <tr>\n",
              "      <th>3</th>\n",
              "      <td>90</td>\n",
              "      <td>None</td>\n",
              "    </tr>\n",
              "    <tr>\n",
              "      <th>4</th>\n",
              "      <td>90</td>\n",
              "      <td>None</td>\n",
              "    </tr>\n",
              "  </tbody>\n",
              "</table>\n",
              "</div>"
            ],
            "text/plain": [
              "   Id   Tag\n",
              "0  80  None\n",
              "1  80  None\n",
              "2  80  None\n",
              "3  90  None\n",
              "4  90  None"
            ]
          },
          "metadata": {
            "tags": []
          },
          "execution_count": 16
        }
      ]
    },
    {
      "cell_type": "code",
      "metadata": {
        "id": "PAXXYhcWsxq7"
      },
      "source": [
        "tags.dropna(inplace=True)"
      ],
      "execution_count": 17,
      "outputs": []
    },
    {
      "cell_type": "code",
      "metadata": {
        "colab": {
          "base_uri": "https://localhost:8080/",
          "height": 195
        },
        "id": "xj9vq9Vvs2Ib",
        "outputId": "49d92818-6b90-42de-bd6d-aeb27b6ffcd6"
      },
      "source": [
        "tags.head()"
      ],
      "execution_count": 18,
      "outputs": [
        {
          "output_type": "execute_result",
          "data": {
            "text/html": [
              "<div>\n",
              "<style scoped>\n",
              "    .dataframe tbody tr th:only-of-type {\n",
              "        vertical-align: middle;\n",
              "    }\n",
              "\n",
              "    .dataframe tbody tr th {\n",
              "        vertical-align: top;\n",
              "    }\n",
              "\n",
              "    .dataframe thead th {\n",
              "        text-align: right;\n",
              "    }\n",
              "</style>\n",
              "<table border=\"1\" class=\"dataframe\">\n",
              "  <thead>\n",
              "    <tr style=\"text-align: right;\">\n",
              "      <th></th>\n",
              "      <th>Id</th>\n",
              "      <th>Tag</th>\n",
              "    </tr>\n",
              "  </thead>\n",
              "  <tbody>\n",
              "    <tr>\n",
              "      <th>14</th>\n",
              "      <td>260</td>\n",
              "      <td>c#</td>\n",
              "    </tr>\n",
              "    <tr>\n",
              "      <th>18</th>\n",
              "      <td>330</td>\n",
              "      <td>c++</td>\n",
              "    </tr>\n",
              "    <tr>\n",
              "      <th>28</th>\n",
              "      <td>650</td>\n",
              "      <td>c#</td>\n",
              "    </tr>\n",
              "    <tr>\n",
              "      <th>35</th>\n",
              "      <td>930</td>\n",
              "      <td>c#</td>\n",
              "    </tr>\n",
              "    <tr>\n",
              "      <th>39</th>\n",
              "      <td>1010</td>\n",
              "      <td>c#</td>\n",
              "    </tr>\n",
              "  </tbody>\n",
              "</table>\n",
              "</div>"
            ],
            "text/plain": [
              "      Id  Tag\n",
              "14   260   c#\n",
              "18   330  c++\n",
              "28   650   c#\n",
              "35   930   c#\n",
              "39  1010   c#"
            ]
          },
          "metadata": {
            "tags": []
          },
          "execution_count": 18
        }
      ]
    },
    {
      "cell_type": "code",
      "metadata": {
        "id": "KE1xhy7ptz-z"
      },
      "source": [
        "questions.drop(columns=['OwnerUserId', 'CreationDate', 'ClosedDate','Score'], inplace=True)"
      ],
      "execution_count": 19,
      "outputs": []
    },
    {
      "cell_type": "code",
      "metadata": {
        "colab": {
          "base_uri": "https://localhost:8080/",
          "height": 195
        },
        "id": "qieT88wns32d",
        "outputId": "9f554f4e-ac1e-4828-c5af-f26298ffa345"
      },
      "source": [
        "questions.head()"
      ],
      "execution_count": 20,
      "outputs": [
        {
          "output_type": "execute_result",
          "data": {
            "text/html": [
              "<div>\n",
              "<style scoped>\n",
              "    .dataframe tbody tr th:only-of-type {\n",
              "        vertical-align: middle;\n",
              "    }\n",
              "\n",
              "    .dataframe tbody tr th {\n",
              "        vertical-align: top;\n",
              "    }\n",
              "\n",
              "    .dataframe thead th {\n",
              "        text-align: right;\n",
              "    }\n",
              "</style>\n",
              "<table border=\"1\" class=\"dataframe\">\n",
              "  <thead>\n",
              "    <tr style=\"text-align: right;\">\n",
              "      <th></th>\n",
              "      <th>Id</th>\n",
              "      <th>Title</th>\n",
              "      <th>Body</th>\n",
              "    </tr>\n",
              "  </thead>\n",
              "  <tbody>\n",
              "    <tr>\n",
              "      <th>0</th>\n",
              "      <td>80</td>\n",
              "      <td>SQLStatement.execute() - multiple queries in o...</td>\n",
              "      <td>&lt;p&gt;I've written a database generation script i...</td>\n",
              "    </tr>\n",
              "    <tr>\n",
              "      <th>1</th>\n",
              "      <td>90</td>\n",
              "      <td>Good branching and merging tutorials for Torto...</td>\n",
              "      <td>&lt;p&gt;Are there any really good tutorials explain...</td>\n",
              "    </tr>\n",
              "    <tr>\n",
              "      <th>2</th>\n",
              "      <td>120</td>\n",
              "      <td>ASP.NET Site Maps</td>\n",
              "      <td>&lt;p&gt;Has anyone got experience creating &lt;strong&gt;...</td>\n",
              "    </tr>\n",
              "    <tr>\n",
              "      <th>3</th>\n",
              "      <td>180</td>\n",
              "      <td>Function for creating color wheels</td>\n",
              "      <td>&lt;p&gt;This is something I've pseudo-solved many t...</td>\n",
              "    </tr>\n",
              "    <tr>\n",
              "      <th>4</th>\n",
              "      <td>260</td>\n",
              "      <td>Adding scripting functionality to .NET applica...</td>\n",
              "      <td>&lt;p&gt;I have a little game written in C#. It uses...</td>\n",
              "    </tr>\n",
              "  </tbody>\n",
              "</table>\n",
              "</div>"
            ],
            "text/plain": [
              "    Id  ...                                               Body\n",
              "0   80  ...  <p>I've written a database generation script i...\n",
              "1   90  ...  <p>Are there any really good tutorials explain...\n",
              "2  120  ...  <p>Has anyone got experience creating <strong>...\n",
              "3  180  ...  <p>This is something I've pseudo-solved many t...\n",
              "4  260  ...  <p>I have a little game written in C#. It uses...\n",
              "\n",
              "[5 rows x 3 columns]"
            ]
          },
          "metadata": {
            "tags": []
          },
          "execution_count": 20
        }
      ]
    },
    {
      "cell_type": "code",
      "metadata": {
        "colab": {
          "base_uri": "https://localhost:8080/",
          "height": 402
        },
        "id": "AQ804N1C1huV",
        "outputId": "be554f59-7fda-4c0f-e731-c66690f392c5"
      },
      "source": [
        "tags.sort_values('Id')"
      ],
      "execution_count": 21,
      "outputs": [
        {
          "output_type": "execute_result",
          "data": {
            "text/html": [
              "<div>\n",
              "<style scoped>\n",
              "    .dataframe tbody tr th:only-of-type {\n",
              "        vertical-align: middle;\n",
              "    }\n",
              "\n",
              "    .dataframe tbody tr th {\n",
              "        vertical-align: top;\n",
              "    }\n",
              "\n",
              "    .dataframe thead th {\n",
              "        text-align: right;\n",
              "    }\n",
              "</style>\n",
              "<table border=\"1\" class=\"dataframe\">\n",
              "  <thead>\n",
              "    <tr style=\"text-align: right;\">\n",
              "      <th></th>\n",
              "      <th>Id</th>\n",
              "      <th>Tag</th>\n",
              "    </tr>\n",
              "  </thead>\n",
              "  <tbody>\n",
              "    <tr>\n",
              "      <th>14</th>\n",
              "      <td>260</td>\n",
              "      <td>c#</td>\n",
              "    </tr>\n",
              "    <tr>\n",
              "      <th>18</th>\n",
              "      <td>330</td>\n",
              "      <td>c++</td>\n",
              "    </tr>\n",
              "    <tr>\n",
              "      <th>28</th>\n",
              "      <td>650</td>\n",
              "      <td>c#</td>\n",
              "    </tr>\n",
              "    <tr>\n",
              "      <th>35</th>\n",
              "      <td>930</td>\n",
              "      <td>c#</td>\n",
              "    </tr>\n",
              "    <tr>\n",
              "      <th>39</th>\n",
              "      <td>1010</td>\n",
              "      <td>c#</td>\n",
              "    </tr>\n",
              "    <tr>\n",
              "      <th>...</th>\n",
              "      <td>...</td>\n",
              "      <td>...</td>\n",
              "    </tr>\n",
              "    <tr>\n",
              "      <th>3750974</th>\n",
              "      <td>40143150</td>\n",
              "      <td>javascript</td>\n",
              "    </tr>\n",
              "    <tr>\n",
              "      <th>3750981</th>\n",
              "      <td>40143190</td>\n",
              "      <td>python</td>\n",
              "    </tr>\n",
              "    <tr>\n",
              "      <th>3750984</th>\n",
              "      <td>40143210</td>\n",
              "      <td>php</td>\n",
              "    </tr>\n",
              "    <tr>\n",
              "      <th>3750987</th>\n",
              "      <td>40143340</td>\n",
              "      <td>android</td>\n",
              "    </tr>\n",
              "    <tr>\n",
              "      <th>3750989</th>\n",
              "      <td>40143360</td>\n",
              "      <td>javascript</td>\n",
              "    </tr>\n",
              "  </tbody>\n",
              "</table>\n",
              "<p>826739 rows × 2 columns</p>\n",
              "</div>"
            ],
            "text/plain": [
              "               Id         Tag\n",
              "14            260          c#\n",
              "18            330         c++\n",
              "28            650          c#\n",
              "35            930          c#\n",
              "39           1010          c#\n",
              "...           ...         ...\n",
              "3750974  40143150  javascript\n",
              "3750981  40143190      python\n",
              "3750984  40143210         php\n",
              "3750987  40143340     android\n",
              "3750989  40143360  javascript\n",
              "\n",
              "[826739 rows x 2 columns]"
            ]
          },
          "metadata": {
            "tags": []
          },
          "execution_count": 21
        }
      ]
    },
    {
      "cell_type": "code",
      "metadata": {
        "id": "xuqEtwE11hrl"
      },
      "source": [
        "tag_ids = list(tags['Id'])"
      ],
      "execution_count": 22,
      "outputs": []
    },
    {
      "cell_type": "code",
      "metadata": {
        "id": "bp_-g7P91hoh"
      },
      "source": [
        "question_top_10 = questions[questions['Id'].isin(tag_ids)]"
      ],
      "execution_count": 23,
      "outputs": []
    },
    {
      "cell_type": "code",
      "metadata": {
        "colab": {
          "base_uri": "https://localhost:8080/",
          "height": 195
        },
        "id": "nr1Hseai1hll",
        "outputId": "77048806-546d-4961-a7a4-2cf5dacf81bd"
      },
      "source": [
        "question_top_10.head()"
      ],
      "execution_count": 24,
      "outputs": [
        {
          "output_type": "execute_result",
          "data": {
            "text/html": [
              "<div>\n",
              "<style scoped>\n",
              "    .dataframe tbody tr th:only-of-type {\n",
              "        vertical-align: middle;\n",
              "    }\n",
              "\n",
              "    .dataframe tbody tr th {\n",
              "        vertical-align: top;\n",
              "    }\n",
              "\n",
              "    .dataframe thead th {\n",
              "        text-align: right;\n",
              "    }\n",
              "</style>\n",
              "<table border=\"1\" class=\"dataframe\">\n",
              "  <thead>\n",
              "    <tr style=\"text-align: right;\">\n",
              "      <th></th>\n",
              "      <th>Id</th>\n",
              "      <th>Title</th>\n",
              "      <th>Body</th>\n",
              "    </tr>\n",
              "  </thead>\n",
              "  <tbody>\n",
              "    <tr>\n",
              "      <th>4</th>\n",
              "      <td>260</td>\n",
              "      <td>Adding scripting functionality to .NET applica...</td>\n",
              "      <td>&lt;p&gt;I have a little game written in C#. It uses...</td>\n",
              "    </tr>\n",
              "    <tr>\n",
              "      <th>5</th>\n",
              "      <td>330</td>\n",
              "      <td>Should I use nested classes in this case?</td>\n",
              "      <td>&lt;p&gt;I am working on a collection of classes use...</td>\n",
              "    </tr>\n",
              "    <tr>\n",
              "      <th>8</th>\n",
              "      <td>650</td>\n",
              "      <td>Automatically update version number</td>\n",
              "      <td>&lt;p&gt;I would like the version property of my app...</td>\n",
              "    </tr>\n",
              "    <tr>\n",
              "      <th>10</th>\n",
              "      <td>930</td>\n",
              "      <td>How do I connect to a database and loop over a...</td>\n",
              "      <td>&lt;p&gt;What's the simplest way to connect and quer...</td>\n",
              "    </tr>\n",
              "    <tr>\n",
              "      <th>11</th>\n",
              "      <td>1010</td>\n",
              "      <td>How to get the value of built, encoded ViewState?</td>\n",
              "      <td>&lt;p&gt;I need to grab the base64-encoded represent...</td>\n",
              "    </tr>\n",
              "  </tbody>\n",
              "</table>\n",
              "</div>"
            ],
            "text/plain": [
              "      Id  ...                                               Body\n",
              "4    260  ...  <p>I have a little game written in C#. It uses...\n",
              "5    330  ...  <p>I am working on a collection of classes use...\n",
              "8    650  ...  <p>I would like the version property of my app...\n",
              "10   930  ...  <p>What's the simplest way to connect and quer...\n",
              "11  1010  ...  <p>I need to grab the base64-encoded represent...\n",
              "\n",
              "[5 rows x 3 columns]"
            ]
          },
          "metadata": {
            "tags": []
          },
          "execution_count": 24
        }
      ]
    },
    {
      "cell_type": "code",
      "metadata": {
        "id": "Vr5BqpDB1hix"
      },
      "source": [
        "questions_data_top_10 = question_top_10.merge(tags)"
      ],
      "execution_count": 25,
      "outputs": []
    },
    {
      "cell_type": "code",
      "metadata": {
        "colab": {
          "base_uri": "https://localhost:8080/",
          "height": 195
        },
        "id": "4B4mhDf_1hMy",
        "outputId": "5886386f-2b0e-465a-cfa6-841021900c42"
      },
      "source": [
        "questions_data_top_10.head()"
      ],
      "execution_count": 26,
      "outputs": [
        {
          "output_type": "execute_result",
          "data": {
            "text/html": [
              "<div>\n",
              "<style scoped>\n",
              "    .dataframe tbody tr th:only-of-type {\n",
              "        vertical-align: middle;\n",
              "    }\n",
              "\n",
              "    .dataframe tbody tr th {\n",
              "        vertical-align: top;\n",
              "    }\n",
              "\n",
              "    .dataframe thead th {\n",
              "        text-align: right;\n",
              "    }\n",
              "</style>\n",
              "<table border=\"1\" class=\"dataframe\">\n",
              "  <thead>\n",
              "    <tr style=\"text-align: right;\">\n",
              "      <th></th>\n",
              "      <th>Id</th>\n",
              "      <th>Title</th>\n",
              "      <th>Body</th>\n",
              "      <th>Tag</th>\n",
              "    </tr>\n",
              "  </thead>\n",
              "  <tbody>\n",
              "    <tr>\n",
              "      <th>0</th>\n",
              "      <td>260</td>\n",
              "      <td>Adding scripting functionality to .NET applica...</td>\n",
              "      <td>&lt;p&gt;I have a little game written in C#. It uses...</td>\n",
              "      <td>c#</td>\n",
              "    </tr>\n",
              "    <tr>\n",
              "      <th>1</th>\n",
              "      <td>330</td>\n",
              "      <td>Should I use nested classes in this case?</td>\n",
              "      <td>&lt;p&gt;I am working on a collection of classes use...</td>\n",
              "      <td>c++</td>\n",
              "    </tr>\n",
              "    <tr>\n",
              "      <th>2</th>\n",
              "      <td>650</td>\n",
              "      <td>Automatically update version number</td>\n",
              "      <td>&lt;p&gt;I would like the version property of my app...</td>\n",
              "      <td>c#</td>\n",
              "    </tr>\n",
              "    <tr>\n",
              "      <th>3</th>\n",
              "      <td>930</td>\n",
              "      <td>How do I connect to a database and loop over a...</td>\n",
              "      <td>&lt;p&gt;What's the simplest way to connect and quer...</td>\n",
              "      <td>c#</td>\n",
              "    </tr>\n",
              "    <tr>\n",
              "      <th>4</th>\n",
              "      <td>1010</td>\n",
              "      <td>How to get the value of built, encoded ViewState?</td>\n",
              "      <td>&lt;p&gt;I need to grab the base64-encoded represent...</td>\n",
              "      <td>c#</td>\n",
              "    </tr>\n",
              "  </tbody>\n",
              "</table>\n",
              "</div>"
            ],
            "text/plain": [
              "     Id  ...  Tag\n",
              "0   260  ...   c#\n",
              "1   330  ...  c++\n",
              "2   650  ...   c#\n",
              "3   930  ...   c#\n",
              "4  1010  ...   c#\n",
              "\n",
              "[5 rows x 4 columns]"
            ]
          },
          "metadata": {
            "tags": []
          },
          "execution_count": 26
        }
      ]
    },
    {
      "cell_type": "code",
      "metadata": {
        "id": "UHAA6S0r1Ca8"
      },
      "source": [
        "import re \r\n",
        "\r\n",
        "def rem_html_tags(body):\r\n",
        "    regex = re.compile('<.*?>')\r\n",
        "    return re.sub(regex, '', body)"
      ],
      "execution_count": 27,
      "outputs": []
    },
    {
      "cell_type": "code",
      "metadata": {
        "colab": {
          "base_uri": "https://localhost:8080/",
          "height": 195
        },
        "id": "aAerN40Tm7tR",
        "outputId": "8f153a6c-5b44-419b-ad27-4c30c1a45914"
      },
      "source": [
        "questions_data_top_10['Body'] = questions_data_top_10['Body'].apply(rem_html_tags)\r\n",
        "questions_data_top_10.head()"
      ],
      "execution_count": 28,
      "outputs": [
        {
          "output_type": "execute_result",
          "data": {
            "text/html": [
              "<div>\n",
              "<style scoped>\n",
              "    .dataframe tbody tr th:only-of-type {\n",
              "        vertical-align: middle;\n",
              "    }\n",
              "\n",
              "    .dataframe tbody tr th {\n",
              "        vertical-align: top;\n",
              "    }\n",
              "\n",
              "    .dataframe thead th {\n",
              "        text-align: right;\n",
              "    }\n",
              "</style>\n",
              "<table border=\"1\" class=\"dataframe\">\n",
              "  <thead>\n",
              "    <tr style=\"text-align: right;\">\n",
              "      <th></th>\n",
              "      <th>Id</th>\n",
              "      <th>Title</th>\n",
              "      <th>Body</th>\n",
              "      <th>Tag</th>\n",
              "    </tr>\n",
              "  </thead>\n",
              "  <tbody>\n",
              "    <tr>\n",
              "      <th>0</th>\n",
              "      <td>260</td>\n",
              "      <td>Adding scripting functionality to .NET applica...</td>\n",
              "      <td>I have a little game written in C#. It uses a ...</td>\n",
              "      <td>c#</td>\n",
              "    </tr>\n",
              "    <tr>\n",
              "      <th>1</th>\n",
              "      <td>330</td>\n",
              "      <td>Should I use nested classes in this case?</td>\n",
              "      <td>I am working on a collection of classes used f...</td>\n",
              "      <td>c++</td>\n",
              "    </tr>\n",
              "    <tr>\n",
              "      <th>2</th>\n",
              "      <td>650</td>\n",
              "      <td>Automatically update version number</td>\n",
              "      <td>I would like the version property of my applic...</td>\n",
              "      <td>c#</td>\n",
              "    </tr>\n",
              "    <tr>\n",
              "      <th>3</th>\n",
              "      <td>930</td>\n",
              "      <td>How do I connect to a database and loop over a...</td>\n",
              "      <td>What's the simplest way to connect and query a...</td>\n",
              "      <td>c#</td>\n",
              "    </tr>\n",
              "    <tr>\n",
              "      <th>4</th>\n",
              "      <td>1010</td>\n",
              "      <td>How to get the value of built, encoded ViewState?</td>\n",
              "      <td>I need to grab the base64-encoded representati...</td>\n",
              "      <td>c#</td>\n",
              "    </tr>\n",
              "  </tbody>\n",
              "</table>\n",
              "</div>"
            ],
            "text/plain": [
              "     Id  ...  Tag\n",
              "0   260  ...   c#\n",
              "1   330  ...  c++\n",
              "2   650  ...   c#\n",
              "3   930  ...   c#\n",
              "4  1010  ...   c#\n",
              "\n",
              "[5 rows x 4 columns]"
            ]
          },
          "metadata": {
            "tags": []
          },
          "execution_count": 28
        }
      ]
    },
    {
      "cell_type": "code",
      "metadata": {
        "colab": {
          "base_uri": "https://localhost:8080/",
          "height": 35
        },
        "id": "6vBdzVEQ0YKR",
        "outputId": "0f1b6a74-4c1f-49c4-dddc-99a4740efd88"
      },
      "source": [
        "questions_data_top_10['Body'].iloc[3]"
      ],
      "execution_count": 29,
      "outputs": [
        {
          "output_type": "execute_result",
          "data": {
            "application/vnd.google.colaboratory.intrinsic+json": {
              "type": "string"
            },
            "text/plain": [
              "\"What's the simplest way to connect and query a database for a set of records in C#?\\n\""
            ]
          },
          "metadata": {
            "tags": []
          },
          "execution_count": 29
        }
      ]
    },
    {
      "cell_type": "code",
      "metadata": {
        "id": "ui4mNDaxniv_"
      },
      "source": [
        "questions_data_top_10['Text'] = questions_data_top_10['Title'] +' '+ questions_data_top_10['Body']"
      ],
      "execution_count": 30,
      "outputs": []
    },
    {
      "cell_type": "code",
      "metadata": {
        "colab": {
          "base_uri": "https://localhost:8080/",
          "height": 195
        },
        "id": "xagi2NkVnvNa",
        "outputId": "08198ba8-5a70-4d01-d552-0d638baf67ce"
      },
      "source": [
        "questions_data_top_10.head()"
      ],
      "execution_count": 31,
      "outputs": [
        {
          "output_type": "execute_result",
          "data": {
            "text/html": [
              "<div>\n",
              "<style scoped>\n",
              "    .dataframe tbody tr th:only-of-type {\n",
              "        vertical-align: middle;\n",
              "    }\n",
              "\n",
              "    .dataframe tbody tr th {\n",
              "        vertical-align: top;\n",
              "    }\n",
              "\n",
              "    .dataframe thead th {\n",
              "        text-align: right;\n",
              "    }\n",
              "</style>\n",
              "<table border=\"1\" class=\"dataframe\">\n",
              "  <thead>\n",
              "    <tr style=\"text-align: right;\">\n",
              "      <th></th>\n",
              "      <th>Id</th>\n",
              "      <th>Title</th>\n",
              "      <th>Body</th>\n",
              "      <th>Tag</th>\n",
              "      <th>Text</th>\n",
              "    </tr>\n",
              "  </thead>\n",
              "  <tbody>\n",
              "    <tr>\n",
              "      <th>0</th>\n",
              "      <td>260</td>\n",
              "      <td>Adding scripting functionality to .NET applica...</td>\n",
              "      <td>I have a little game written in C#. It uses a ...</td>\n",
              "      <td>c#</td>\n",
              "      <td>Adding scripting functionality to .NET applica...</td>\n",
              "    </tr>\n",
              "    <tr>\n",
              "      <th>1</th>\n",
              "      <td>330</td>\n",
              "      <td>Should I use nested classes in this case?</td>\n",
              "      <td>I am working on a collection of classes used f...</td>\n",
              "      <td>c++</td>\n",
              "      <td>Should I use nested classes in this case? I am...</td>\n",
              "    </tr>\n",
              "    <tr>\n",
              "      <th>2</th>\n",
              "      <td>650</td>\n",
              "      <td>Automatically update version number</td>\n",
              "      <td>I would like the version property of my applic...</td>\n",
              "      <td>c#</td>\n",
              "      <td>Automatically update version number I would li...</td>\n",
              "    </tr>\n",
              "    <tr>\n",
              "      <th>3</th>\n",
              "      <td>930</td>\n",
              "      <td>How do I connect to a database and loop over a...</td>\n",
              "      <td>What's the simplest way to connect and query a...</td>\n",
              "      <td>c#</td>\n",
              "      <td>How do I connect to a database and loop over a...</td>\n",
              "    </tr>\n",
              "    <tr>\n",
              "      <th>4</th>\n",
              "      <td>1010</td>\n",
              "      <td>How to get the value of built, encoded ViewState?</td>\n",
              "      <td>I need to grab the base64-encoded representati...</td>\n",
              "      <td>c#</td>\n",
              "      <td>How to get the value of built, encoded ViewSta...</td>\n",
              "    </tr>\n",
              "  </tbody>\n",
              "</table>\n",
              "</div>"
            ],
            "text/plain": [
              "     Id  ...                                               Text\n",
              "0   260  ...  Adding scripting functionality to .NET applica...\n",
              "1   330  ...  Should I use nested classes in this case? I am...\n",
              "2   650  ...  Automatically update version number I would li...\n",
              "3   930  ...  How do I connect to a database and loop over a...\n",
              "4  1010  ...  How to get the value of built, encoded ViewSta...\n",
              "\n",
              "[5 rows x 5 columns]"
            ]
          },
          "metadata": {
            "tags": []
          },
          "execution_count": 31
        }
      ]
    },
    {
      "cell_type": "code",
      "metadata": {
        "id": "e5k48Fmxn5P9"
      },
      "source": [
        "questions_data_top_10.drop(columns=['Title','Body'], inplace=True)"
      ],
      "execution_count": 32,
      "outputs": []
    },
    {
      "cell_type": "code",
      "metadata": {
        "colab": {
          "base_uri": "https://localhost:8080/",
          "height": 195
        },
        "id": "XlG2eW-4oK0S",
        "outputId": "9d782f40-1b3e-435d-8a53-63ed90a49519"
      },
      "source": [
        "questions_data_top_10.head()"
      ],
      "execution_count": 33,
      "outputs": [
        {
          "output_type": "execute_result",
          "data": {
            "text/html": [
              "<div>\n",
              "<style scoped>\n",
              "    .dataframe tbody tr th:only-of-type {\n",
              "        vertical-align: middle;\n",
              "    }\n",
              "\n",
              "    .dataframe tbody tr th {\n",
              "        vertical-align: top;\n",
              "    }\n",
              "\n",
              "    .dataframe thead th {\n",
              "        text-align: right;\n",
              "    }\n",
              "</style>\n",
              "<table border=\"1\" class=\"dataframe\">\n",
              "  <thead>\n",
              "    <tr style=\"text-align: right;\">\n",
              "      <th></th>\n",
              "      <th>Id</th>\n",
              "      <th>Tag</th>\n",
              "      <th>Text</th>\n",
              "    </tr>\n",
              "  </thead>\n",
              "  <tbody>\n",
              "    <tr>\n",
              "      <th>0</th>\n",
              "      <td>260</td>\n",
              "      <td>c#</td>\n",
              "      <td>Adding scripting functionality to .NET applica...</td>\n",
              "    </tr>\n",
              "    <tr>\n",
              "      <th>1</th>\n",
              "      <td>330</td>\n",
              "      <td>c++</td>\n",
              "      <td>Should I use nested classes in this case? I am...</td>\n",
              "    </tr>\n",
              "    <tr>\n",
              "      <th>2</th>\n",
              "      <td>650</td>\n",
              "      <td>c#</td>\n",
              "      <td>Automatically update version number I would li...</td>\n",
              "    </tr>\n",
              "    <tr>\n",
              "      <th>3</th>\n",
              "      <td>930</td>\n",
              "      <td>c#</td>\n",
              "      <td>How do I connect to a database and loop over a...</td>\n",
              "    </tr>\n",
              "    <tr>\n",
              "      <th>4</th>\n",
              "      <td>1010</td>\n",
              "      <td>c#</td>\n",
              "      <td>How to get the value of built, encoded ViewSta...</td>\n",
              "    </tr>\n",
              "  </tbody>\n",
              "</table>\n",
              "</div>"
            ],
            "text/plain": [
              "     Id  Tag                                               Text\n",
              "0   260   c#  Adding scripting functionality to .NET applica...\n",
              "1   330  c++  Should I use nested classes in this case? I am...\n",
              "2   650   c#  Automatically update version number I would li...\n",
              "3   930   c#  How do I connect to a database and loop over a...\n",
              "4  1010   c#  How to get the value of built, encoded ViewSta..."
            ]
          },
          "metadata": {
            "tags": []
          },
          "execution_count": 33
        }
      ]
    },
    {
      "cell_type": "code",
      "metadata": {
        "id": "TKtZ8SI4oNBi"
      },
      "source": [
        "from keras.preprocessing.text import Tokenizer\r\n",
        "from keras.preprocessing.sequence import pad_sequences\r\n",
        "from sklearn.preprocessing import MultiLabelBinarizer"
      ],
      "execution_count": 34,
      "outputs": []
    },
    {
      "cell_type": "code",
      "metadata": {
        "colab": {
          "base_uri": "https://localhost:8080/"
        },
        "id": "f4MHUEFCobh9",
        "outputId": "9d110f55-d34e-4ac3-bbb9-cfb4f14dbe76"
      },
      "source": [
        "multiLableBinarizer = MultiLabelBinarizer()\r\n",
        "multiLableBinarizer.fit([questions_data_top_10.Tag])"
      ],
      "execution_count": 35,
      "outputs": [
        {
          "output_type": "execute_result",
          "data": {
            "text/plain": [
              "MultiLabelBinarizer(classes=None, sparse_output=False)"
            ]
          },
          "metadata": {
            "tags": []
          },
          "execution_count": 35
        }
      ]
    },
    {
      "cell_type": "code",
      "metadata": {
        "colab": {
          "base_uri": "https://localhost:8080/"
        },
        "id": "geIKdTSNoiSX",
        "outputId": "e1ca2e32-9197-4332-9fc0-3c29038d1bb0"
      },
      "source": [
        "Labels = multiLableBinarizer.classes_\r\n",
        "Labels"
      ],
      "execution_count": 36,
      "outputs": [
        {
          "output_type": "execute_result",
          "data": {
            "text/plain": [
              "array(['android', 'c#', 'c++', 'html', 'ios', 'java', 'javascript',\n",
              "       'jquery', 'php', 'python'], dtype=object)"
            ]
          },
          "metadata": {
            "tags": []
          },
          "execution_count": 36
        }
      ]
    },
    {
      "cell_type": "code",
      "metadata": {
        "id": "Snupnj0tok7V"
      },
      "source": [
        "sam = multiLableBinarizer.transform(questions_data_top_10.Tag)"
      ],
      "execution_count": 37,
      "outputs": []
    },
    {
      "cell_type": "code",
      "metadata": {
        "colab": {
          "base_uri": "https://localhost:8080/"
        },
        "id": "aYivvx3ooo7J",
        "outputId": "505a9ca0-72d4-4d3c-a445-30422c6ef438"
      },
      "source": [
        "sam"
      ],
      "execution_count": 38,
      "outputs": [
        {
          "output_type": "execute_result",
          "data": {
            "text/plain": [
              "array([[0, 0, 0, ..., 0, 0, 0],\n",
              "       [0, 0, 0, ..., 0, 0, 0],\n",
              "       [0, 0, 0, ..., 0, 0, 0],\n",
              "       ...,\n",
              "       [0, 0, 0, ..., 0, 0, 0],\n",
              "       [0, 0, 0, ..., 0, 0, 0],\n",
              "       [0, 0, 0, ..., 0, 0, 0]])"
            ]
          },
          "metadata": {
            "tags": []
          },
          "execution_count": 38
        }
      ]
    },
    {
      "cell_type": "code",
      "metadata": {
        "id": "4HWKGe1BorzV"
      },
      "source": [
        "y = pd.get_dummies(questions_data_top_10.Tag).to_numpy()"
      ],
      "execution_count": 39,
      "outputs": []
    },
    {
      "cell_type": "code",
      "metadata": {
        "id": "2xOi0H5Dovlm"
      },
      "source": [
        "maxlen = 180\r\n",
        "max_words = 5000\r\n",
        "tokenizer = Tokenizer(num_words=max_words, lower=True)\r\n",
        "tokenizer.fit_on_texts(questions_data_top_10.Text)"
      ],
      "execution_count": 40,
      "outputs": []
    },
    {
      "cell_type": "code",
      "metadata": {
        "id": "I7B64b2coybR"
      },
      "source": [
        "def get_features(text_series):\r\n",
        "    \"\"\"\r\n",
        "    transforms text data to feature_vectors that can be used in the ml model.\r\n",
        "    tokenizer must be available.\r\n",
        "    \"\"\"\r\n",
        "    sequences = tokenizer.texts_to_sequences(text_series)\r\n",
        "    return pad_sequences(sequences, maxlen=maxlen)\r\n",
        "\r\n",
        "def prediction_to_label(prediction):\r\n",
        "    tag_prob = [(labels[i], prob) for i, prob in enumerate(prediction.tolist())]\r\n",
        "    return dict(sorted(tag_prob, key=lambda kv: kv[1], reverse=True))"
      ],
      "execution_count": 41,
      "outputs": []
    },
    {
      "cell_type": "code",
      "metadata": {
        "id": "OKCeZyCYo7_M"
      },
      "source": [
        "from sklearn.model_selection import train_test_split\r\n",
        "#from sklearn.preprocessing import OneHotEncoder\r\n",
        "#enc = OneHotEncoder(handle_unknown='ignore')\r\n",
        "\r\n",
        "x = get_features(questions_data_top_10.Text)"
      ],
      "execution_count": 42,
      "outputs": []
    },
    {
      "cell_type": "code",
      "metadata": {
        "id": "hOZYIGPCpOF7",
        "colab": {
          "base_uri": "https://localhost:8080/"
        },
        "outputId": "022b9f9f-ce95-4804-e279-7e5670485b15"
      },
      "source": [
        "x.shape"
      ],
      "execution_count": 43,
      "outputs": [
        {
          "output_type": "execute_result",
          "data": {
            "text/plain": [
              "(826739, 180)"
            ]
          },
          "metadata": {
            "tags": []
          },
          "execution_count": 43
        }
      ]
    },
    {
      "cell_type": "code",
      "metadata": {
        "id": "iBwr5d-epTNP",
        "colab": {
          "base_uri": "https://localhost:8080/"
        },
        "outputId": "760dba26-a65b-418e-82a7-4ee713ebbe52"
      },
      "source": [
        "y.shape"
      ],
      "execution_count": 44,
      "outputs": [
        {
          "output_type": "execute_result",
          "data": {
            "text/plain": [
              "(826739, 10)"
            ]
          },
          "metadata": {
            "tags": []
          },
          "execution_count": 44
        }
      ]
    },
    {
      "cell_type": "code",
      "metadata": {
        "id": "JY53qve1pWgK"
      },
      "source": [
        "x_train, x_test, y_train, y_test = train_test_split(x, y, test_size=0.2, random_state=0)"
      ],
      "execution_count": 45,
      "outputs": []
    },
    {
      "cell_type": "code",
      "metadata": {
        "id": "eyTpSQsqpeG4",
        "colab": {
          "base_uri": "https://localhost:8080/"
        },
        "outputId": "ce69ea31-fc71-45fe-82e3-9426981ecaec"
      },
      "source": [
        "from tensorflow.keras.layers import LSTM, Activation, Dense, Dropout, Input, Embedding\r\n",
        "from tensorflow.keras.models import Sequential\r\n",
        "from tensorflow.keras.layers import Dense, Activation, Embedding, Flatten, GlobalMaxPool1D, Dropout, Conv1D\r\n",
        "from tensorflow.keras.callbacks import ReduceLROnPlateau, EarlyStopping, ModelCheckpoint\r\n",
        "from tensorflow.keras.losses import binary_crossentropy\r\n",
        "from tensorflow.keras.optimizers import Adam\r\n",
        "from tensorflow.keras.models import Model\r\n",
        "\r\n",
        "filter_length = 300\r\n",
        "\r\n",
        "model = Sequential()\r\n",
        "model.add(Embedding(max_words, 20, input_length=maxlen))\r\n",
        "model.add(Dropout(0.1))\r\n",
        "model.add(Conv1D(filter_length, 3, padding='valid', activation='relu', strides=1))\r\n",
        "model.add(GlobalMaxPool1D())\r\n",
        "model.add(Dense(num_classes))\r\n",
        "model.add(Activation('sigmoid'))\r\n",
        "\r\n",
        "model.compile(optimizer='adam', loss='binary_crossentropy', metrics=['categorical_accuracy'])\r\n",
        "model.summary()"
      ],
      "execution_count": 46,
      "outputs": [
        {
          "output_type": "stream",
          "text": [
            "Model: \"sequential\"\n",
            "_________________________________________________________________\n",
            "Layer (type)                 Output Shape              Param #   \n",
            "=================================================================\n",
            "embedding (Embedding)        (None, 180, 20)           100000    \n",
            "_________________________________________________________________\n",
            "dropout (Dropout)            (None, 180, 20)           0         \n",
            "_________________________________________________________________\n",
            "conv1d (Conv1D)              (None, 178, 300)          18300     \n",
            "_________________________________________________________________\n",
            "global_max_pooling1d (Global (None, 300)               0         \n",
            "_________________________________________________________________\n",
            "dense (Dense)                (None, 10)                3010      \n",
            "_________________________________________________________________\n",
            "activation (Activation)      (None, 10)                0         \n",
            "=================================================================\n",
            "Total params: 121,310\n",
            "Trainable params: 121,310\n",
            "Non-trainable params: 0\n",
            "_________________________________________________________________\n"
          ],
          "name": "stdout"
        }
      ]
    },
    {
      "cell_type": "code",
      "metadata": {
        "id": "BBFuVtJepd5z",
        "colab": {
          "base_uri": "https://localhost:8080/"
        },
        "outputId": "450ed176-d959-4646-dd7d-75b8b1656e16"
      },
      "source": [
        "history=model.fit(x_train,y_train,epochs=7,validation_split=0.2)"
      ],
      "execution_count": 47,
      "outputs": [
        {
          "output_type": "stream",
          "text": [
            "Epoch 1/7\n",
            "16535/16535 [==============================] - 110s 6ms/step - loss: 0.1506 - categorical_accuracy: 0.6836 - val_loss: 0.1120 - val_categorical_accuracy: 0.7619\n",
            "Epoch 2/7\n",
            "16535/16535 [==============================] - 102s 6ms/step - loss: 0.1106 - categorical_accuracy: 0.7666 - val_loss: 0.1099 - val_categorical_accuracy: 0.7653\n",
            "Epoch 3/7\n",
            "16535/16535 [==============================] - 103s 6ms/step - loss: 0.1078 - categorical_accuracy: 0.7711 - val_loss: 0.1083 - val_categorical_accuracy: 0.7665\n",
            "Epoch 4/7\n",
            "16535/16535 [==============================] - 102s 6ms/step - loss: 0.1065 - categorical_accuracy: 0.7732 - val_loss: 0.1082 - val_categorical_accuracy: 0.7678\n",
            "Epoch 5/7\n",
            "16535/16535 [==============================] - 103s 6ms/step - loss: 0.1057 - categorical_accuracy: 0.7746 - val_loss: 0.1076 - val_categorical_accuracy: 0.7691\n",
            "Epoch 6/7\n",
            "16535/16535 [==============================] - 102s 6ms/step - loss: 0.1048 - categorical_accuracy: 0.7770 - val_loss: 0.1093 - val_categorical_accuracy: 0.7702\n",
            "Epoch 7/7\n",
            "16535/16535 [==============================] - 105s 6ms/step - loss: 0.1045 - categorical_accuracy: 0.7776 - val_loss: 0.1077 - val_categorical_accuracy: 0.7682\n"
          ],
          "name": "stdout"
        }
      ]
    },
    {
      "cell_type": "code",
      "metadata": {
        "id": "3n10p2k_pdrM"
      },
      "source": [
        "y_pred = model.predict_classes(x_test)"
      ],
      "execution_count": 48,
      "outputs": []
    },
    {
      "cell_type": "code",
      "metadata": {
        "colab": {
          "base_uri": "https://localhost:8080/"
        },
        "id": "lfryI0C6suSt",
        "outputId": "e2d8ab29-8ad8-4e33-914c-9754dc55f69f"
      },
      "source": [
        "y_pred"
      ],
      "execution_count": 49,
      "outputs": [
        {
          "output_type": "execute_result",
          "data": {
            "text/plain": [
              "array([3, 0, 1, ..., 9, 9, 0])"
            ]
          },
          "metadata": {
            "tags": []
          },
          "execution_count": 49
        }
      ]
    },
    {
      "cell_type": "code",
      "metadata": {
        "colab": {
          "base_uri": "https://localhost:8080/"
        },
        "id": "AJkXhPttsxT8",
        "outputId": "706ba513-82f6-493c-93df-ce16bd89c3bd"
      },
      "source": [
        "model.evaluate(x_test,y_test)"
      ],
      "execution_count": 50,
      "outputs": [
        {
          "output_type": "stream",
          "text": [
            "5168/5168 [==============================] - 13s 2ms/step - loss: 0.1078 - categorical_accuracy: 0.7695\n"
          ],
          "name": "stdout"
        },
        {
          "output_type": "execute_result",
          "data": {
            "text/plain": [
              "[0.10779980570077896, 0.769461989402771]"
            ]
          },
          "metadata": {
            "tags": []
          },
          "execution_count": 50
        }
      ]
    },
    {
      "cell_type": "code",
      "metadata": {
        "id": "EFJ77RpBs0RV"
      },
      "source": [
        "import matplotlib.pyplot as plt"
      ],
      "execution_count": null,
      "outputs": []
    },
    {
      "cell_type": "code",
      "metadata": {
        "id": "ODBWI1N9s4wd"
      },
      "source": [
        "# Plot results\r\n",
        "acc = history.history['categorical_accuracy']\r\n",
        "val_acc = history.history['val_categorical_accuracy']\r\n",
        "loss = history.history['loss']\r\n",
        "val_loss = history.history['val_loss']\r\n",
        "\r\n",
        "epochs = range(1, len(acc)+1)\r\n",
        "\r\n",
        "plt.plot(epochs, acc, 'g', label='Training accuracy')\r\n",
        "plt.plot(epochs, val_acc, 'r', label='Validation accuracy')\r\n",
        "plt.title('Training and validation accuracy')\r\n",
        "plt.legend()\r\n",
        "\r\n",
        "plt.figure()\r\n",
        "\r\n",
        "plt.plot(epochs, loss, 'g', label='Training loss')\r\n",
        "plt.plot(epochs, val_loss, 'r', label='Validation loss')\r\n",
        "plt.title('Training and validation loss')\r\n",
        "plt.legend()\r\n",
        "\r\n",
        "plt.show()"
      ],
      "execution_count": null,
      "outputs": []
    },
    {
      "cell_type": "code",
      "metadata": {
        "id": "Zngf219ms85A"
      },
      "source": [
        "y_pred = model.predict(x_test)"
      ],
      "execution_count": 53,
      "outputs": []
    },
    {
      "cell_type": "code",
      "metadata": {
        "id": "VCqxoB0ytA4h"
      },
      "source": [
        "y_pred [y_pred > 0.5] = 1.0\r\n",
        "y_pred[y_pred <= 0.5] = 0.0"
      ],
      "execution_count": null,
      "outputs": []
    },
    {
      "cell_type": "code",
      "metadata": {
        "colab": {
          "base_uri": "https://localhost:8080/"
        },
        "id": "h4a2GrVUtE7D",
        "outputId": "38f44b13-696f-440d-f365-43d797d316b0"
      },
      "source": [
        "y_pred"
      ],
      "execution_count": 55,
      "outputs": [
        {
          "output_type": "execute_result",
          "data": {
            "text/plain": [
              "array([[0., 0., 0., ..., 0., 0., 0.],\n",
              "       [1., 0., 0., ..., 0., 0., 0.],\n",
              "       [0., 1., 0., ..., 0., 0., 0.],\n",
              "       ...,\n",
              "       [0., 0., 0., ..., 0., 0., 1.],\n",
              "       [0., 0., 0., ..., 0., 0., 1.],\n",
              "       [1., 0., 0., ..., 0., 0., 0.]], dtype=float32)"
            ]
          },
          "metadata": {
            "tags": []
          },
          "execution_count": 55
        }
      ]
    },
    {
      "cell_type": "code",
      "metadata": {
        "id": "fiOzX0LCtG5B"
      },
      "source": [
        "from  sklearn.metrics import roc_auc_score\r\n",
        "auc = roc_auc_score(y_test,y_pred)"
      ],
      "execution_count": 56,
      "outputs": []
    },
    {
      "cell_type": "code",
      "metadata": {
        "colab": {
          "base_uri": "https://localhost:8080/"
        },
        "id": "Uybg3bXTtJjh",
        "outputId": "05f858d1-5a3e-4502-bc1d-46270d7b61fe"
      },
      "source": [
        "auc"
      ],
      "execution_count": 57,
      "outputs": [
        {
          "output_type": "execute_result",
          "data": {
            "text/plain": [
              "0.8547329475007386"
            ]
          },
          "metadata": {
            "tags": []
          },
          "execution_count": 57
        }
      ]
    },
    {
      "cell_type": "code",
      "metadata": {
        "id": "43xxYhHQtLXn"
      },
      "source": [
        "pred = pd.DataFrame(y_pred)"
      ],
      "execution_count": 58,
      "outputs": []
    },
    {
      "cell_type": "code",
      "metadata": {
        "colab": {
          "base_uri": "https://localhost:8080/"
        },
        "id": "WMAs-I26tNzs",
        "outputId": "98247b74-9ef9-433f-fcee-e101296a4f56"
      },
      "source": [
        "pred.shape"
      ],
      "execution_count": 63,
      "outputs": [
        {
          "output_type": "execute_result",
          "data": {
            "text/plain": [
              "(165348, 10)"
            ]
          },
          "metadata": {
            "tags": []
          },
          "execution_count": 63
        }
      ]
    },
    {
      "cell_type": "code",
      "metadata": {
        "colab": {
          "base_uri": "https://localhost:8080/",
          "height": 402
        },
        "id": "SAP_H6Bsbe58",
        "outputId": "24386298-4191-4f6c-a0a9-ed767e05efe9"
      },
      "source": [
        "pred"
      ],
      "execution_count": 72,
      "outputs": [
        {
          "output_type": "execute_result",
          "data": {
            "text/html": [
              "<div>\n",
              "<style scoped>\n",
              "    .dataframe tbody tr th:only-of-type {\n",
              "        vertical-align: middle;\n",
              "    }\n",
              "\n",
              "    .dataframe tbody tr th {\n",
              "        vertical-align: top;\n",
              "    }\n",
              "\n",
              "    .dataframe thead th {\n",
              "        text-align: right;\n",
              "    }\n",
              "</style>\n",
              "<table border=\"1\" class=\"dataframe\">\n",
              "  <thead>\n",
              "    <tr style=\"text-align: right;\">\n",
              "      <th></th>\n",
              "      <th>0</th>\n",
              "      <th>1</th>\n",
              "      <th>2</th>\n",
              "      <th>3</th>\n",
              "      <th>4</th>\n",
              "      <th>5</th>\n",
              "      <th>6</th>\n",
              "      <th>7</th>\n",
              "      <th>8</th>\n",
              "      <th>9</th>\n",
              "    </tr>\n",
              "  </thead>\n",
              "  <tbody>\n",
              "    <tr>\n",
              "      <th>0</th>\n",
              "      <td>0.0</td>\n",
              "      <td>0.0</td>\n",
              "      <td>0.0</td>\n",
              "      <td>1.0</td>\n",
              "      <td>0.0</td>\n",
              "      <td>0.0</td>\n",
              "      <td>0.0</td>\n",
              "      <td>0.0</td>\n",
              "      <td>0.0</td>\n",
              "      <td>0.0</td>\n",
              "    </tr>\n",
              "    <tr>\n",
              "      <th>1</th>\n",
              "      <td>1.0</td>\n",
              "      <td>0.0</td>\n",
              "      <td>0.0</td>\n",
              "      <td>0.0</td>\n",
              "      <td>0.0</td>\n",
              "      <td>0.0</td>\n",
              "      <td>0.0</td>\n",
              "      <td>0.0</td>\n",
              "      <td>0.0</td>\n",
              "      <td>0.0</td>\n",
              "    </tr>\n",
              "    <tr>\n",
              "      <th>2</th>\n",
              "      <td>0.0</td>\n",
              "      <td>1.0</td>\n",
              "      <td>0.0</td>\n",
              "      <td>0.0</td>\n",
              "      <td>0.0</td>\n",
              "      <td>0.0</td>\n",
              "      <td>0.0</td>\n",
              "      <td>0.0</td>\n",
              "      <td>0.0</td>\n",
              "      <td>0.0</td>\n",
              "    </tr>\n",
              "    <tr>\n",
              "      <th>3</th>\n",
              "      <td>0.0</td>\n",
              "      <td>1.0</td>\n",
              "      <td>0.0</td>\n",
              "      <td>0.0</td>\n",
              "      <td>0.0</td>\n",
              "      <td>0.0</td>\n",
              "      <td>0.0</td>\n",
              "      <td>0.0</td>\n",
              "      <td>0.0</td>\n",
              "      <td>0.0</td>\n",
              "    </tr>\n",
              "    <tr>\n",
              "      <th>4</th>\n",
              "      <td>0.0</td>\n",
              "      <td>0.0</td>\n",
              "      <td>0.0</td>\n",
              "      <td>0.0</td>\n",
              "      <td>0.0</td>\n",
              "      <td>0.0</td>\n",
              "      <td>0.0</td>\n",
              "      <td>0.0</td>\n",
              "      <td>0.0</td>\n",
              "      <td>0.0</td>\n",
              "    </tr>\n",
              "    <tr>\n",
              "      <th>...</th>\n",
              "      <td>...</td>\n",
              "      <td>...</td>\n",
              "      <td>...</td>\n",
              "      <td>...</td>\n",
              "      <td>...</td>\n",
              "      <td>...</td>\n",
              "      <td>...</td>\n",
              "      <td>...</td>\n",
              "      <td>...</td>\n",
              "      <td>...</td>\n",
              "    </tr>\n",
              "    <tr>\n",
              "      <th>165343</th>\n",
              "      <td>0.0</td>\n",
              "      <td>0.0</td>\n",
              "      <td>0.0</td>\n",
              "      <td>0.0</td>\n",
              "      <td>0.0</td>\n",
              "      <td>0.0</td>\n",
              "      <td>0.0</td>\n",
              "      <td>0.0</td>\n",
              "      <td>0.0</td>\n",
              "      <td>0.0</td>\n",
              "    </tr>\n",
              "    <tr>\n",
              "      <th>165344</th>\n",
              "      <td>0.0</td>\n",
              "      <td>0.0</td>\n",
              "      <td>0.0</td>\n",
              "      <td>0.0</td>\n",
              "      <td>0.0</td>\n",
              "      <td>0.0</td>\n",
              "      <td>0.0</td>\n",
              "      <td>0.0</td>\n",
              "      <td>0.0</td>\n",
              "      <td>1.0</td>\n",
              "    </tr>\n",
              "    <tr>\n",
              "      <th>165345</th>\n",
              "      <td>0.0</td>\n",
              "      <td>0.0</td>\n",
              "      <td>0.0</td>\n",
              "      <td>0.0</td>\n",
              "      <td>0.0</td>\n",
              "      <td>0.0</td>\n",
              "      <td>0.0</td>\n",
              "      <td>0.0</td>\n",
              "      <td>0.0</td>\n",
              "      <td>1.0</td>\n",
              "    </tr>\n",
              "    <tr>\n",
              "      <th>165346</th>\n",
              "      <td>0.0</td>\n",
              "      <td>0.0</td>\n",
              "      <td>0.0</td>\n",
              "      <td>0.0</td>\n",
              "      <td>0.0</td>\n",
              "      <td>0.0</td>\n",
              "      <td>0.0</td>\n",
              "      <td>0.0</td>\n",
              "      <td>0.0</td>\n",
              "      <td>1.0</td>\n",
              "    </tr>\n",
              "    <tr>\n",
              "      <th>165347</th>\n",
              "      <td>1.0</td>\n",
              "      <td>0.0</td>\n",
              "      <td>0.0</td>\n",
              "      <td>0.0</td>\n",
              "      <td>0.0</td>\n",
              "      <td>0.0</td>\n",
              "      <td>0.0</td>\n",
              "      <td>0.0</td>\n",
              "      <td>0.0</td>\n",
              "      <td>0.0</td>\n",
              "    </tr>\n",
              "  </tbody>\n",
              "</table>\n",
              "<p>165348 rows × 10 columns</p>\n",
              "</div>"
            ],
            "text/plain": [
              "          0    1    2    3    4    5    6    7    8    9\n",
              "0       0.0  0.0  0.0  1.0  0.0  0.0  0.0  0.0  0.0  0.0\n",
              "1       1.0  0.0  0.0  0.0  0.0  0.0  0.0  0.0  0.0  0.0\n",
              "2       0.0  1.0  0.0  0.0  0.0  0.0  0.0  0.0  0.0  0.0\n",
              "3       0.0  1.0  0.0  0.0  0.0  0.0  0.0  0.0  0.0  0.0\n",
              "4       0.0  0.0  0.0  0.0  0.0  0.0  0.0  0.0  0.0  0.0\n",
              "...     ...  ...  ...  ...  ...  ...  ...  ...  ...  ...\n",
              "165343  0.0  0.0  0.0  0.0  0.0  0.0  0.0  0.0  0.0  0.0\n",
              "165344  0.0  0.0  0.0  0.0  0.0  0.0  0.0  0.0  0.0  1.0\n",
              "165345  0.0  0.0  0.0  0.0  0.0  0.0  0.0  0.0  0.0  1.0\n",
              "165346  0.0  0.0  0.0  0.0  0.0  0.0  0.0  0.0  0.0  1.0\n",
              "165347  1.0  0.0  0.0  0.0  0.0  0.0  0.0  0.0  0.0  0.0\n",
              "\n",
              "[165348 rows x 10 columns]"
            ]
          },
          "metadata": {
            "tags": []
          },
          "execution_count": 72
        }
      ]
    },
    {
      "cell_type": "code",
      "metadata": {
        "id": "RfSjL2DwtPsD"
      },
      "source": [
        "Labels = list(Labels)"
      ],
      "execution_count": 80,
      "outputs": []
    },
    {
      "cell_type": "code",
      "metadata": {
        "colab": {
          "base_uri": "https://localhost:8080/"
        },
        "id": "xQJ7Dp8_dDaC",
        "outputId": "510300fe-5566-44ca-f60d-85df3b55109c"
      },
      "source": [
        "Labels"
      ],
      "execution_count": 81,
      "outputs": [
        {
          "output_type": "execute_result",
          "data": {
            "text/plain": [
              "['android',\n",
              " 'c#',\n",
              " 'c++',\n",
              " 'html',\n",
              " 'ios',\n",
              " 'java',\n",
              " 'javascript',\n",
              " 'jquery',\n",
              " 'php',\n",
              " 'python']"
            ]
          },
          "metadata": {
            "tags": []
          },
          "execution_count": 81
        }
      ]
    },
    {
      "cell_type": "code",
      "metadata": {
        "id": "ORV94ponYJgZ"
      },
      "source": [
        "from  sklearn.metrics import confusion_matrix,classification_report\r\n"
      ],
      "execution_count": 82,
      "outputs": []
    },
    {
      "cell_type": "code",
      "metadata": {
        "colab": {
          "base_uri": "https://localhost:8080/"
        },
        "id": "12GLZ6x_aiI3",
        "outputId": "76599930-e53d-4ad3-8efb-1e1f6f9ed847"
      },
      "source": [
        "y_test"
      ],
      "execution_count": 68,
      "outputs": [
        {
          "output_type": "execute_result",
          "data": {
            "text/plain": [
              "array([[0, 0, 0, ..., 1, 0, 0],\n",
              "       [1, 0, 0, ..., 0, 0, 0],\n",
              "       [0, 1, 0, ..., 0, 0, 0],\n",
              "       ...,\n",
              "       [0, 0, 0, ..., 0, 0, 1],\n",
              "       [0, 0, 0, ..., 0, 0, 1],\n",
              "       [1, 0, 0, ..., 0, 0, 0]], dtype=uint8)"
            ]
          },
          "metadata": {
            "tags": []
          },
          "execution_count": 68
        }
      ]
    },
    {
      "cell_type": "code",
      "metadata": {
        "id": "W4vJgL4jbEPi"
      },
      "source": [
        "y_true = np.argmax(y_test, axis=1)"
      ],
      "execution_count": 69,
      "outputs": []
    },
    {
      "cell_type": "code",
      "metadata": {
        "id": "GgNyJMrebLkJ"
      },
      "source": [
        "y_true = pd.DataFrame(y_true)"
      ],
      "execution_count": 73,
      "outputs": []
    },
    {
      "cell_type": "code",
      "metadata": {
        "colab": {
          "base_uri": "https://localhost:8080/",
          "height": 402
        },
        "id": "U4jPSvr1bsE6",
        "outputId": "e5a09d48-9daa-4af5-effa-05cb9f304b78"
      },
      "source": [
        "y_true"
      ],
      "execution_count": 74,
      "outputs": [
        {
          "output_type": "execute_result",
          "data": {
            "text/html": [
              "<div>\n",
              "<style scoped>\n",
              "    .dataframe tbody tr th:only-of-type {\n",
              "        vertical-align: middle;\n",
              "    }\n",
              "\n",
              "    .dataframe tbody tr th {\n",
              "        vertical-align: top;\n",
              "    }\n",
              "\n",
              "    .dataframe thead th {\n",
              "        text-align: right;\n",
              "    }\n",
              "</style>\n",
              "<table border=\"1\" class=\"dataframe\">\n",
              "  <thead>\n",
              "    <tr style=\"text-align: right;\">\n",
              "      <th></th>\n",
              "      <th>0</th>\n",
              "    </tr>\n",
              "  </thead>\n",
              "  <tbody>\n",
              "    <tr>\n",
              "      <th>0</th>\n",
              "      <td>7</td>\n",
              "    </tr>\n",
              "    <tr>\n",
              "      <th>1</th>\n",
              "      <td>0</td>\n",
              "    </tr>\n",
              "    <tr>\n",
              "      <th>2</th>\n",
              "      <td>1</td>\n",
              "    </tr>\n",
              "    <tr>\n",
              "      <th>3</th>\n",
              "      <td>1</td>\n",
              "    </tr>\n",
              "    <tr>\n",
              "      <th>4</th>\n",
              "      <td>6</td>\n",
              "    </tr>\n",
              "    <tr>\n",
              "      <th>...</th>\n",
              "      <td>...</td>\n",
              "    </tr>\n",
              "    <tr>\n",
              "      <th>165343</th>\n",
              "      <td>3</td>\n",
              "    </tr>\n",
              "    <tr>\n",
              "      <th>165344</th>\n",
              "      <td>9</td>\n",
              "    </tr>\n",
              "    <tr>\n",
              "      <th>165345</th>\n",
              "      <td>9</td>\n",
              "    </tr>\n",
              "    <tr>\n",
              "      <th>165346</th>\n",
              "      <td>9</td>\n",
              "    </tr>\n",
              "    <tr>\n",
              "      <th>165347</th>\n",
              "      <td>0</td>\n",
              "    </tr>\n",
              "  </tbody>\n",
              "</table>\n",
              "<p>165348 rows × 1 columns</p>\n",
              "</div>"
            ],
            "text/plain": [
              "        0\n",
              "0       7\n",
              "1       0\n",
              "2       1\n",
              "3       1\n",
              "4       6\n",
              "...    ..\n",
              "165343  3\n",
              "165344  9\n",
              "165345  9\n",
              "165346  9\n",
              "165347  0\n",
              "\n",
              "[165348 rows x 1 columns]"
            ]
          },
          "metadata": {
            "tags": []
          },
          "execution_count": 74
        }
      ]
    },
    {
      "cell_type": "code",
      "metadata": {
        "id": "qSpSgbbibz2W"
      },
      "source": [
        "y_predicted = pd.DataFrame(np.argmax(y_pred,axis=1))"
      ],
      "execution_count": 77,
      "outputs": []
    },
    {
      "cell_type": "code",
      "metadata": {
        "colab": {
          "base_uri": "https://localhost:8080/",
          "height": 402
        },
        "id": "jKLxTdMkcJC6",
        "outputId": "cd84125c-5ff6-4252-d4e0-b3ac2b93fc10"
      },
      "source": [
        "y_predicted"
      ],
      "execution_count": 78,
      "outputs": [
        {
          "output_type": "execute_result",
          "data": {
            "text/html": [
              "<div>\n",
              "<style scoped>\n",
              "    .dataframe tbody tr th:only-of-type {\n",
              "        vertical-align: middle;\n",
              "    }\n",
              "\n",
              "    .dataframe tbody tr th {\n",
              "        vertical-align: top;\n",
              "    }\n",
              "\n",
              "    .dataframe thead th {\n",
              "        text-align: right;\n",
              "    }\n",
              "</style>\n",
              "<table border=\"1\" class=\"dataframe\">\n",
              "  <thead>\n",
              "    <tr style=\"text-align: right;\">\n",
              "      <th></th>\n",
              "      <th>0</th>\n",
              "    </tr>\n",
              "  </thead>\n",
              "  <tbody>\n",
              "    <tr>\n",
              "      <th>0</th>\n",
              "      <td>3</td>\n",
              "    </tr>\n",
              "    <tr>\n",
              "      <th>1</th>\n",
              "      <td>0</td>\n",
              "    </tr>\n",
              "    <tr>\n",
              "      <th>2</th>\n",
              "      <td>1</td>\n",
              "    </tr>\n",
              "    <tr>\n",
              "      <th>3</th>\n",
              "      <td>1</td>\n",
              "    </tr>\n",
              "    <tr>\n",
              "      <th>4</th>\n",
              "      <td>0</td>\n",
              "    </tr>\n",
              "    <tr>\n",
              "      <th>...</th>\n",
              "      <td>...</td>\n",
              "    </tr>\n",
              "    <tr>\n",
              "      <th>165343</th>\n",
              "      <td>0</td>\n",
              "    </tr>\n",
              "    <tr>\n",
              "      <th>165344</th>\n",
              "      <td>9</td>\n",
              "    </tr>\n",
              "    <tr>\n",
              "      <th>165345</th>\n",
              "      <td>9</td>\n",
              "    </tr>\n",
              "    <tr>\n",
              "      <th>165346</th>\n",
              "      <td>9</td>\n",
              "    </tr>\n",
              "    <tr>\n",
              "      <th>165347</th>\n",
              "      <td>0</td>\n",
              "    </tr>\n",
              "  </tbody>\n",
              "</table>\n",
              "<p>165348 rows × 1 columns</p>\n",
              "</div>"
            ],
            "text/plain": [
              "        0\n",
              "0       3\n",
              "1       0\n",
              "2       1\n",
              "3       1\n",
              "4       0\n",
              "...    ..\n",
              "165343  0\n",
              "165344  9\n",
              "165345  9\n",
              "165346  9\n",
              "165347  0\n",
              "\n",
              "[165348 rows x 1 columns]"
            ]
          },
          "metadata": {
            "tags": []
          },
          "execution_count": 78
        }
      ]
    },
    {
      "cell_type": "code",
      "metadata": {
        "id": "lhUziOA3dP3l"
      },
      "source": [
        "report = classification_report(y_true,y_predicted, target_names=Labels)\r\n"
      ],
      "execution_count": 83,
      "outputs": []
    },
    {
      "cell_type": "code",
      "metadata": {
        "colab": {
          "base_uri": "https://localhost:8080/"
        },
        "id": "R7DexETsdioj",
        "outputId": "16b794a3-d502-4a3d-a2d1-3655e6af7b28"
      },
      "source": [
        "print(report)"
      ],
      "execution_count": 85,
      "outputs": [
        {
          "output_type": "stream",
          "text": [
            "              precision    recall  f1-score   support\n",
            "\n",
            "     android       0.41      0.94      0.57     17828\n",
            "          c#       0.88      0.84      0.86     20289\n",
            "         c++       0.91      0.80      0.85      9492\n",
            "        html       0.65      0.34      0.44     11678\n",
            "         ios       0.96      0.85      0.90      9379\n",
            "        java       0.92      0.75      0.82     23343\n",
            "  javascript       0.72      0.51      0.60     25102\n",
            "      jquery       0.55      0.55      0.55     15644\n",
            "         php       0.87      0.77      0.82     19660\n",
            "      python       0.94      0.90      0.92     12933\n",
            "\n",
            "    accuracy                           0.72    165348\n",
            "   macro avg       0.78      0.72      0.73    165348\n",
            "weighted avg       0.77      0.72      0.73    165348\n",
            "\n"
          ],
          "name": "stdout"
        }
      ]
    },
    {
      "cell_type": "code",
      "metadata": {
        "id": "xJ8hTGLAZ7ve"
      },
      "source": [
        "conf_matrix = confusion_matrix(y_true,y_predicted)"
      ],
      "execution_count": 86,
      "outputs": []
    },
    {
      "cell_type": "code",
      "metadata": {
        "colab": {
          "base_uri": "https://localhost:8080/",
          "height": 343
        },
        "id": "vu4FYLk3aB0L",
        "outputId": "4ceb9f20-5e76-4057-c33d-19084f32c6fe"
      },
      "source": [
        "confusion_df = pd.DataFrame(conf_matrix)\r\n",
        "confusion_df"
      ],
      "execution_count": 87,
      "outputs": [
        {
          "output_type": "execute_result",
          "data": {
            "text/html": [
              "<div>\n",
              "<style scoped>\n",
              "    .dataframe tbody tr th:only-of-type {\n",
              "        vertical-align: middle;\n",
              "    }\n",
              "\n",
              "    .dataframe tbody tr th {\n",
              "        vertical-align: top;\n",
              "    }\n",
              "\n",
              "    .dataframe thead th {\n",
              "        text-align: right;\n",
              "    }\n",
              "</style>\n",
              "<table border=\"1\" class=\"dataframe\">\n",
              "  <thead>\n",
              "    <tr style=\"text-align: right;\">\n",
              "      <th></th>\n",
              "      <th>0</th>\n",
              "      <th>1</th>\n",
              "      <th>2</th>\n",
              "      <th>3</th>\n",
              "      <th>4</th>\n",
              "      <th>5</th>\n",
              "      <th>6</th>\n",
              "      <th>7</th>\n",
              "      <th>8</th>\n",
              "      <th>9</th>\n",
              "    </tr>\n",
              "  </thead>\n",
              "  <tbody>\n",
              "    <tr>\n",
              "      <th>0</th>\n",
              "      <td>16824</td>\n",
              "      <td>105</td>\n",
              "      <td>57</td>\n",
              "      <td>32</td>\n",
              "      <td>60</td>\n",
              "      <td>575</td>\n",
              "      <td>84</td>\n",
              "      <td>14</td>\n",
              "      <td>53</td>\n",
              "      <td>24</td>\n",
              "    </tr>\n",
              "    <tr>\n",
              "      <th>1</th>\n",
              "      <td>2081</td>\n",
              "      <td>17131</td>\n",
              "      <td>241</td>\n",
              "      <td>73</td>\n",
              "      <td>52</td>\n",
              "      <td>184</td>\n",
              "      <td>188</td>\n",
              "      <td>172</td>\n",
              "      <td>89</td>\n",
              "      <td>78</td>\n",
              "    </tr>\n",
              "    <tr>\n",
              "      <th>2</th>\n",
              "      <td>890</td>\n",
              "      <td>705</td>\n",
              "      <td>7572</td>\n",
              "      <td>3</td>\n",
              "      <td>29</td>\n",
              "      <td>119</td>\n",
              "      <td>29</td>\n",
              "      <td>0</td>\n",
              "      <td>20</td>\n",
              "      <td>125</td>\n",
              "    </tr>\n",
              "    <tr>\n",
              "      <th>3</th>\n",
              "      <td>2772</td>\n",
              "      <td>203</td>\n",
              "      <td>16</td>\n",
              "      <td>3926</td>\n",
              "      <td>38</td>\n",
              "      <td>151</td>\n",
              "      <td>1666</td>\n",
              "      <td>1740</td>\n",
              "      <td>1027</td>\n",
              "      <td>139</td>\n",
              "    </tr>\n",
              "    <tr>\n",
              "      <th>4</th>\n",
              "      <td>1066</td>\n",
              "      <td>82</td>\n",
              "      <td>82</td>\n",
              "      <td>50</td>\n",
              "      <td>7959</td>\n",
              "      <td>17</td>\n",
              "      <td>70</td>\n",
              "      <td>16</td>\n",
              "      <td>23</td>\n",
              "      <td>14</td>\n",
              "    </tr>\n",
              "    <tr>\n",
              "      <th>5</th>\n",
              "      <td>4846</td>\n",
              "      <td>443</td>\n",
              "      <td>129</td>\n",
              "      <td>65</td>\n",
              "      <td>21</td>\n",
              "      <td>17442</td>\n",
              "      <td>141</td>\n",
              "      <td>34</td>\n",
              "      <td>79</td>\n",
              "      <td>143</td>\n",
              "    </tr>\n",
              "    <tr>\n",
              "      <th>6</th>\n",
              "      <td>5526</td>\n",
              "      <td>378</td>\n",
              "      <td>24</td>\n",
              "      <td>1017</td>\n",
              "      <td>64</td>\n",
              "      <td>216</td>\n",
              "      <td>12803</td>\n",
              "      <td>4425</td>\n",
              "      <td>544</td>\n",
              "      <td>105</td>\n",
              "    </tr>\n",
              "    <tr>\n",
              "      <th>7</th>\n",
              "      <td>3476</td>\n",
              "      <td>168</td>\n",
              "      <td>2</td>\n",
              "      <td>665</td>\n",
              "      <td>10</td>\n",
              "      <td>60</td>\n",
              "      <td>2215</td>\n",
              "      <td>8611</td>\n",
              "      <td>410</td>\n",
              "      <td>27</td>\n",
              "    </tr>\n",
              "    <tr>\n",
              "      <th>8</th>\n",
              "      <td>2874</td>\n",
              "      <td>108</td>\n",
              "      <td>30</td>\n",
              "      <td>180</td>\n",
              "      <td>32</td>\n",
              "      <td>95</td>\n",
              "      <td>502</td>\n",
              "      <td>647</td>\n",
              "      <td>15130</td>\n",
              "      <td>62</td>\n",
              "    </tr>\n",
              "    <tr>\n",
              "      <th>9</th>\n",
              "      <td>742</td>\n",
              "      <td>66</td>\n",
              "      <td>168</td>\n",
              "      <td>41</td>\n",
              "      <td>9</td>\n",
              "      <td>103</td>\n",
              "      <td>91</td>\n",
              "      <td>21</td>\n",
              "      <td>93</td>\n",
              "      <td>11599</td>\n",
              "    </tr>\n",
              "  </tbody>\n",
              "</table>\n",
              "</div>"
            ],
            "text/plain": [
              "       0      1     2     3     4      5      6     7      8      9\n",
              "0  16824    105    57    32    60    575     84    14     53     24\n",
              "1   2081  17131   241    73    52    184    188   172     89     78\n",
              "2    890    705  7572     3    29    119     29     0     20    125\n",
              "3   2772    203    16  3926    38    151   1666  1740   1027    139\n",
              "4   1066     82    82    50  7959     17     70    16     23     14\n",
              "5   4846    443   129    65    21  17442    141    34     79    143\n",
              "6   5526    378    24  1017    64    216  12803  4425    544    105\n",
              "7   3476    168     2   665    10     60   2215  8611    410     27\n",
              "8   2874    108    30   180    32     95    502   647  15130     62\n",
              "9    742     66   168    41     9    103     91    21     93  11599"
            ]
          },
          "metadata": {
            "tags": []
          },
          "execution_count": 87
        }
      ]
    },
    {
      "cell_type": "code",
      "metadata": {
        "colab": {
          "base_uri": "https://localhost:8080/"
        },
        "id": "hNNb9rj4d822",
        "outputId": "a493fa2e-6055-4d81-e884-9e24736c996f"
      },
      "source": [
        "Labels"
      ],
      "execution_count": 88,
      "outputs": [
        {
          "output_type": "execute_result",
          "data": {
            "text/plain": [
              "['android',\n",
              " 'c#',\n",
              " 'c++',\n",
              " 'html',\n",
              " 'ios',\n",
              " 'java',\n",
              " 'javascript',\n",
              " 'jquery',\n",
              " 'php',\n",
              " 'python']"
            ]
          },
          "metadata": {
            "tags": []
          },
          "execution_count": 88
        }
      ]
    },
    {
      "cell_type": "code",
      "metadata": {
        "id": "lLQDpr_0eB7a"
      },
      "source": [
        "# Creating a dictionary of labels\r\n",
        "labels_dict = {\r\n",
        "    0: 'android',\r\n",
        "    1: 'c#',\r\n",
        "    2: 'c++',\r\n",
        "    3: 'html',\r\n",
        "    4: 'ios',\r\n",
        "    5: 'java',\r\n",
        "    6: 'javascript',\r\n",
        "    7: 'jquery',\r\n",
        "    8: 'php',\r\n",
        "    9: 'python'\r\n",
        "}"
      ],
      "execution_count": 89,
      "outputs": []
    },
    {
      "cell_type": "code",
      "metadata": {
        "colab": {
          "base_uri": "https://localhost:8080/",
          "height": 343
        },
        "id": "Xa33aqhWeTUo",
        "outputId": "392a19fc-adae-40c0-a0e9-a91186af4f70"
      },
      "source": [
        "# Renaming rows and columns with labes\r\n",
        "confusion_df = confusion_df.rename(columns=labels_dict)\r\n",
        "confusion_df.index = confusion_df.columns\r\n",
        "confusion_df"
      ],
      "execution_count": 90,
      "outputs": [
        {
          "output_type": "execute_result",
          "data": {
            "text/html": [
              "<div>\n",
              "<style scoped>\n",
              "    .dataframe tbody tr th:only-of-type {\n",
              "        vertical-align: middle;\n",
              "    }\n",
              "\n",
              "    .dataframe tbody tr th {\n",
              "        vertical-align: top;\n",
              "    }\n",
              "\n",
              "    .dataframe thead th {\n",
              "        text-align: right;\n",
              "    }\n",
              "</style>\n",
              "<table border=\"1\" class=\"dataframe\">\n",
              "  <thead>\n",
              "    <tr style=\"text-align: right;\">\n",
              "      <th></th>\n",
              "      <th>android</th>\n",
              "      <th>c#</th>\n",
              "      <th>c++</th>\n",
              "      <th>html</th>\n",
              "      <th>ios</th>\n",
              "      <th>java</th>\n",
              "      <th>javascript</th>\n",
              "      <th>jquery</th>\n",
              "      <th>php</th>\n",
              "      <th>python</th>\n",
              "    </tr>\n",
              "  </thead>\n",
              "  <tbody>\n",
              "    <tr>\n",
              "      <th>android</th>\n",
              "      <td>16824</td>\n",
              "      <td>105</td>\n",
              "      <td>57</td>\n",
              "      <td>32</td>\n",
              "      <td>60</td>\n",
              "      <td>575</td>\n",
              "      <td>84</td>\n",
              "      <td>14</td>\n",
              "      <td>53</td>\n",
              "      <td>24</td>\n",
              "    </tr>\n",
              "    <tr>\n",
              "      <th>c#</th>\n",
              "      <td>2081</td>\n",
              "      <td>17131</td>\n",
              "      <td>241</td>\n",
              "      <td>73</td>\n",
              "      <td>52</td>\n",
              "      <td>184</td>\n",
              "      <td>188</td>\n",
              "      <td>172</td>\n",
              "      <td>89</td>\n",
              "      <td>78</td>\n",
              "    </tr>\n",
              "    <tr>\n",
              "      <th>c++</th>\n",
              "      <td>890</td>\n",
              "      <td>705</td>\n",
              "      <td>7572</td>\n",
              "      <td>3</td>\n",
              "      <td>29</td>\n",
              "      <td>119</td>\n",
              "      <td>29</td>\n",
              "      <td>0</td>\n",
              "      <td>20</td>\n",
              "      <td>125</td>\n",
              "    </tr>\n",
              "    <tr>\n",
              "      <th>html</th>\n",
              "      <td>2772</td>\n",
              "      <td>203</td>\n",
              "      <td>16</td>\n",
              "      <td>3926</td>\n",
              "      <td>38</td>\n",
              "      <td>151</td>\n",
              "      <td>1666</td>\n",
              "      <td>1740</td>\n",
              "      <td>1027</td>\n",
              "      <td>139</td>\n",
              "    </tr>\n",
              "    <tr>\n",
              "      <th>ios</th>\n",
              "      <td>1066</td>\n",
              "      <td>82</td>\n",
              "      <td>82</td>\n",
              "      <td>50</td>\n",
              "      <td>7959</td>\n",
              "      <td>17</td>\n",
              "      <td>70</td>\n",
              "      <td>16</td>\n",
              "      <td>23</td>\n",
              "      <td>14</td>\n",
              "    </tr>\n",
              "    <tr>\n",
              "      <th>java</th>\n",
              "      <td>4846</td>\n",
              "      <td>443</td>\n",
              "      <td>129</td>\n",
              "      <td>65</td>\n",
              "      <td>21</td>\n",
              "      <td>17442</td>\n",
              "      <td>141</td>\n",
              "      <td>34</td>\n",
              "      <td>79</td>\n",
              "      <td>143</td>\n",
              "    </tr>\n",
              "    <tr>\n",
              "      <th>javascript</th>\n",
              "      <td>5526</td>\n",
              "      <td>378</td>\n",
              "      <td>24</td>\n",
              "      <td>1017</td>\n",
              "      <td>64</td>\n",
              "      <td>216</td>\n",
              "      <td>12803</td>\n",
              "      <td>4425</td>\n",
              "      <td>544</td>\n",
              "      <td>105</td>\n",
              "    </tr>\n",
              "    <tr>\n",
              "      <th>jquery</th>\n",
              "      <td>3476</td>\n",
              "      <td>168</td>\n",
              "      <td>2</td>\n",
              "      <td>665</td>\n",
              "      <td>10</td>\n",
              "      <td>60</td>\n",
              "      <td>2215</td>\n",
              "      <td>8611</td>\n",
              "      <td>410</td>\n",
              "      <td>27</td>\n",
              "    </tr>\n",
              "    <tr>\n",
              "      <th>php</th>\n",
              "      <td>2874</td>\n",
              "      <td>108</td>\n",
              "      <td>30</td>\n",
              "      <td>180</td>\n",
              "      <td>32</td>\n",
              "      <td>95</td>\n",
              "      <td>502</td>\n",
              "      <td>647</td>\n",
              "      <td>15130</td>\n",
              "      <td>62</td>\n",
              "    </tr>\n",
              "    <tr>\n",
              "      <th>python</th>\n",
              "      <td>742</td>\n",
              "      <td>66</td>\n",
              "      <td>168</td>\n",
              "      <td>41</td>\n",
              "      <td>9</td>\n",
              "      <td>103</td>\n",
              "      <td>91</td>\n",
              "      <td>21</td>\n",
              "      <td>93</td>\n",
              "      <td>11599</td>\n",
              "    </tr>\n",
              "  </tbody>\n",
              "</table>\n",
              "</div>"
            ],
            "text/plain": [
              "            android     c#   c++  html  ...  javascript  jquery    php  python\n",
              "android       16824    105    57    32  ...          84      14     53      24\n",
              "c#             2081  17131   241    73  ...         188     172     89      78\n",
              "c++             890    705  7572     3  ...          29       0     20     125\n",
              "html           2772    203    16  3926  ...        1666    1740   1027     139\n",
              "ios            1066     82    82    50  ...          70      16     23      14\n",
              "java           4846    443   129    65  ...         141      34     79     143\n",
              "javascript     5526    378    24  1017  ...       12803    4425    544     105\n",
              "jquery         3476    168     2   665  ...        2215    8611    410      27\n",
              "php            2874    108    30   180  ...         502     647  15130      62\n",
              "python          742     66   168    41  ...          91      21     93   11599\n",
              "\n",
              "[10 rows x 10 columns]"
            ]
          },
          "metadata": {
            "tags": []
          },
          "execution_count": 90
        }
      ]
    },
    {
      "cell_type": "code",
      "metadata": {
        "colab": {
          "base_uri": "https://localhost:8080/",
          "height": 720
        },
        "id": "HL-8sF7TeW6f",
        "outputId": "d714817a-ea84-4786-c8a4-61b7e8e6bda6"
      },
      "source": [
        "import seaborn as sns\r\n",
        "\r\n",
        "# Creating a heatmap for the confusion matrix for display\r\n",
        "plt.figure(figsize= (20,12))\r\n",
        "sns.set(font_scale = 1);\r\n",
        "ax = sns.heatmap(confusion_df, annot=True, cmap=sns.cubehelix_palette(50));\r\n",
        "ax.set(xlabel='Predicted Values', ylabel='Actual Values');"
      ],
      "execution_count": 96,
      "outputs": [
        {
          "output_type": "display_data",
          "data": {
            "image/png": "[encoded data removed]",
            "text/plain": [
              "<Figure size 1440x864 with 2 Axes>"
            ]
          },
          "metadata": {
            "tags": []
          }
        }
      ]
    },
    {
      "cell_type": "code",
      "metadata": {
        "id": "WxHUA-j5efOV"
      },
      "source": [
        ""
      ],
      "execution_count": null,
      "outputs": []
    }
  ]
}