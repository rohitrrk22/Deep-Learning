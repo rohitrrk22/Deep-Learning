{
  "nbformat": 4,
  "nbformat_minor": 0,
  "metadata": {
    "colab": {
      "name": "FastText.ipynb",
      "provenance": [],
      "authorship_tag": "ABX9TyNugXnMcAvDrxEbkT+MRx1I",
      "include_colab_link": true
    },
    "kernelspec": {
      "name": "python3",
      "display_name": "Python 3"
    },
    "accelerator": "GPU"
  },
  "cells": [
    {
      "cell_type": "markdown",
      "metadata": {
        "id": "view-in-github",
        "colab_type": "text"
      },
      "source": [
        "<a href=\"https://colab.research.google.com/github/rohitrrk22/Deep-Learning/blob/master/Deep_Learning_NLP/Spam_Filter_For_Quora_Questions/FastText.ipynb\" target=\"_parent\"><img src=\"https://colab.research.google.com/assets/colab-badge.svg\" alt=\"Open In Colab\"/></a>"
      ]
    },
    {
      "cell_type": "code",
      "metadata": {
        "id": "hy4leQG8Xka2",
        "colab_type": "code",
        "colab": {}
      },
      "source": [
        "%tensorflow_version 2.x"
      ],
      "execution_count": 1,
      "outputs": []
    },
    {
      "cell_type": "code",
      "metadata": {
        "id": "FqUxZZd9X7xO",
        "colab_type": "code",
        "colab": {}
      },
      "source": [
        "import pandas as pd\n",
        "import numpy as np"
      ],
      "execution_count": 2,
      "outputs": []
    },
    {
      "cell_type": "code",
      "metadata": {
        "id": "BsYEy62OYApY",
        "colab_type": "code",
        "colab": {
          "base_uri": "https://localhost:8080/",
          "height": 373
        },
        "outputId": "8ca35e32-c9e5-400e-8ecb-6ad7a894ce2b"
      },
      "source": [
        "!wget https://www.dropbox.com/sh/kpf9z73woodfssv/AAAw1_JIzpuVvwteJCma0xMla"
      ],
      "execution_count": 3,
      "outputs": [
        {
          "output_type": "stream",
          "text": [
            "--2020-08-29 17:12:14--  https://www.dropbox.com/sh/kpf9z73woodfssv/AAAw1_JIzpuVvwteJCma0xMla\n",
            "Resolving www.dropbox.com (www.dropbox.com)... 162.125.1.1, 2620:100:6016:1::a27d:101\n",
            "Connecting to www.dropbox.com (www.dropbox.com)|162.125.1.1|:443... connected.\n",
            "HTTP request sent, awaiting response... 301 Moved Permanently\n",
            "Location: /sh/raw/kpf9z73woodfssv/AAAw1_JIzpuVvwteJCma0xMla [following]\n",
            "--2020-08-29 17:12:14--  https://www.dropbox.com/sh/raw/kpf9z73woodfssv/AAAw1_JIzpuVvwteJCma0xMla\n",
            "Reusing existing connection to www.dropbox.com:443.\n",
            "HTTP request sent, awaiting response... 302 Found\n",
            "Location: https://uc3d10098aa86d1861989df386df.dl.dropboxusercontent.com/zip_download_get/AhyTE_HlG3r8Cz1UGGLUY2UQaKof9mtK-l1RhwvXv-dSjx9QJz3qgyGAFueQj0jAnRvkhpbsgpEceWsRz5EIB23SXRJyQOzZTOUvCeGeGYMA9g [following]\n",
            "--2020-08-29 17:12:15--  https://uc3d10098aa86d1861989df386df.dl.dropboxusercontent.com/zip_download_get/AhyTE_HlG3r8Cz1UGGLUY2UQaKof9mtK-l1RhwvXv-dSjx9QJz3qgyGAFueQj0jAnRvkhpbsgpEceWsRz5EIB23SXRJyQOzZTOUvCeGeGYMA9g\n",
            "Resolving uc3d10098aa86d1861989df386df.dl.dropboxusercontent.com (uc3d10098aa86d1861989df386df.dl.dropboxusercontent.com)... 162.125.1.15, 2620:100:6016:15::a27d:10f\n",
            "Connecting to uc3d10098aa86d1861989df386df.dl.dropboxusercontent.com (uc3d10098aa86d1861989df386df.dl.dropboxusercontent.com)|162.125.1.15|:443... connected.\n",
            "HTTP request sent, awaiting response... 200 OK\n",
            "Length: 124206982 (118M) [application/zip]\n",
            "Saving to: ‘AAAw1_JIzpuVvwteJCma0xMla’\n",
            "\n",
            "AAAw1_JIzpuVvwteJCm 100%[===================>] 118.45M  84.6MB/s    in 1.4s    \n",
            "\n",
            "2020-08-29 17:12:17 (84.6 MB/s) - ‘AAAw1_JIzpuVvwteJCma0xMla’ saved [124206982/124206982]\n",
            "\n"
          ],
          "name": "stdout"
        }
      ]
    },
    {
      "cell_type": "code",
      "metadata": {
        "id": "SBvjENhAYEsB",
        "colab_type": "code",
        "colab": {}
      },
      "source": [
        "train = pd.read_csv(r'/content/spam_quora_data',encoding='ISO-8859-1')"
      ],
      "execution_count": 4,
      "outputs": []
    },
    {
      "cell_type": "code",
      "metadata": {
        "id": "d9hK2rjyYPcC",
        "colab_type": "code",
        "colab": {}
      },
      "source": [
        "train.dropna(axis=0 , how='any',inplace=True)\n",
        "train.rename(columns={'PK\u0003\u0004\u0014': 'qid'},inplace=True)"
      ],
      "execution_count": 5,
      "outputs": []
    },
    {
      "cell_type": "code",
      "metadata": {
        "id": "S-y5wBsqYmmn",
        "colab_type": "code",
        "colab": {
          "base_uri": "https://localhost:8080/",
          "height": 195
        },
        "outputId": "46f87f62-f31b-4cbe-df80-3c603dc196a7"
      },
      "source": [
        "train.head()"
      ],
      "execution_count": 6,
      "outputs": [
        {
          "output_type": "execute_result",
          "data": {
            "text/html": [
              "<div>\n",
              "<style scoped>\n",
              "    .dataframe tbody tr th:only-of-type {\n",
              "        vertical-align: middle;\n",
              "    }\n",
              "\n",
              "    .dataframe tbody tr th {\n",
              "        vertical-align: top;\n",
              "    }\n",
              "\n",
              "    .dataframe thead th {\n",
              "        text-align: right;\n",
              "    }\n",
              "</style>\n",
              "<table border=\"1\" class=\"dataframe\">\n",
              "  <thead>\n",
              "    <tr style=\"text-align: right;\">\n",
              "      <th></th>\n",
              "      <th>qid</th>\n",
              "      <th>question_text</th>\n",
              "      <th>target</th>\n",
              "    </tr>\n",
              "  </thead>\n",
              "  <tbody>\n",
              "    <tr>\n",
              "      <th>0</th>\n",
              "      <td>00002165364db923c7e6</td>\n",
              "      <td>How did Quebec nationalists see their province...</td>\n",
              "      <td>0.0</td>\n",
              "    </tr>\n",
              "    <tr>\n",
              "      <th>1</th>\n",
              "      <td>000032939017120e6e44</td>\n",
              "      <td>Do you have an adopted dog, how would you enco...</td>\n",
              "      <td>0.0</td>\n",
              "    </tr>\n",
              "    <tr>\n",
              "      <th>2</th>\n",
              "      <td>0000412ca6e4628ce2cf</td>\n",
              "      <td>Why does velocity affect time? Does velocity a...</td>\n",
              "      <td>0.0</td>\n",
              "    </tr>\n",
              "    <tr>\n",
              "      <th>3</th>\n",
              "      <td>000042bf85aa498cd78e</td>\n",
              "      <td>How did Otto von Guericke used the Magdeburg h...</td>\n",
              "      <td>0.0</td>\n",
              "    </tr>\n",
              "    <tr>\n",
              "      <th>4</th>\n",
              "      <td>0000455dfa3e01eae3af</td>\n",
              "      <td>Can I convert montra helicon D to a mountain b...</td>\n",
              "      <td>0.0</td>\n",
              "    </tr>\n",
              "  </tbody>\n",
              "</table>\n",
              "</div>"
            ],
            "text/plain": [
              "                    qid  ... target\n",
              "0  00002165364db923c7e6  ...    0.0\n",
              "1  000032939017120e6e44  ...    0.0\n",
              "2  0000412ca6e4628ce2cf  ...    0.0\n",
              "3  000042bf85aa498cd78e  ...    0.0\n",
              "4  0000455dfa3e01eae3af  ...    0.0\n",
              "\n",
              "[5 rows x 3 columns]"
            ]
          },
          "metadata": {
            "tags": []
          },
          "execution_count": 6
        }
      ]
    },
    {
      "cell_type": "code",
      "metadata": {
        "id": "2hvN2WIkYqAg",
        "colab_type": "code",
        "colab": {}
      },
      "source": [
        "from sklearn.model_selection import train_test_split\n",
        "\n",
        "#Train & Test dataset\n",
        "quora_train,quora_test=train_test_split(train,test_size=0.2,random_state=2)\n",
        "\n",
        "del quora_train[\"qid\"]"
      ],
      "execution_count": 7,
      "outputs": []
    },
    {
      "cell_type": "code",
      "metadata": {
        "id": "LLd8Nd65Yt0W",
        "colab_type": "code",
        "colab": {
          "base_uri": "https://localhost:8080/",
          "height": 34
        },
        "outputId": "83f915e4-d552-4aa1-9fbb-3b166399dd9b"
      },
      "source": [
        "quora_train.shape"
      ],
      "execution_count": 8,
      "outputs": [
        {
          "output_type": "execute_result",
          "data": {
            "text/plain": [
              "(1044897, 2)"
            ]
          },
          "metadata": {
            "tags": []
          },
          "execution_count": 8
        }
      ]
    },
    {
      "cell_type": "code",
      "metadata": {
        "id": "l6b1nKTzZA9h",
        "colab_type": "code",
        "colab": {}
      },
      "source": [
        "quora_test.reset_index(drop=True, inplace=True)"
      ],
      "execution_count": 9,
      "outputs": []
    },
    {
      "cell_type": "code",
      "metadata": {
        "id": "RixtxQ4cYykw",
        "colab_type": "code",
        "colab": {
          "base_uri": "https://localhost:8080/",
          "height": 195
        },
        "outputId": "2423c1b3-c948-4172-9ac6-760d20201efb"
      },
      "source": [
        "quora_test.head()"
      ],
      "execution_count": 10,
      "outputs": [
        {
          "output_type": "execute_result",
          "data": {
            "text/html": [
              "<div>\n",
              "<style scoped>\n",
              "    .dataframe tbody tr th:only-of-type {\n",
              "        vertical-align: middle;\n",
              "    }\n",
              "\n",
              "    .dataframe tbody tr th {\n",
              "        vertical-align: top;\n",
              "    }\n",
              "\n",
              "    .dataframe thead th {\n",
              "        text-align: right;\n",
              "    }\n",
              "</style>\n",
              "<table border=\"1\" class=\"dataframe\">\n",
              "  <thead>\n",
              "    <tr style=\"text-align: right;\">\n",
              "      <th></th>\n",
              "      <th>qid</th>\n",
              "      <th>question_text</th>\n",
              "      <th>target</th>\n",
              "    </tr>\n",
              "  </thead>\n",
              "  <tbody>\n",
              "    <tr>\n",
              "      <th>0</th>\n",
              "      <td>8747d2afef04f494fd71</td>\n",
              "      <td>How does stopping refugee families, women and ...</td>\n",
              "      <td>1.0</td>\n",
              "    </tr>\n",
              "    <tr>\n",
              "      <th>1</th>\n",
              "      <td>5ad7be48609f9b63a5b0</td>\n",
              "      <td>What makes you start your business?</td>\n",
              "      <td>0.0</td>\n",
              "    </tr>\n",
              "    <tr>\n",
              "      <th>2</th>\n",
              "      <td>be9e2e86a915f88212f9</td>\n",
              "      <td>Someone said they wouldn't give me something \"...</td>\n",
              "      <td>0.0</td>\n",
              "    </tr>\n",
              "    <tr>\n",
              "      <th>3</th>\n",
              "      <td>bc721413105adba6d757</td>\n",
              "      <td>What is best option for a disqualified medical...</td>\n",
              "      <td>0.0</td>\n",
              "    </tr>\n",
              "    <tr>\n",
              "      <th>4</th>\n",
              "      <td>79a5f298b4b5dbac4dd7</td>\n",
              "      <td>What are the best sites to create apps on Andr...</td>\n",
              "      <td>0.0</td>\n",
              "    </tr>\n",
              "  </tbody>\n",
              "</table>\n",
              "</div>"
            ],
            "text/plain": [
              "                    qid  ... target\n",
              "0  8747d2afef04f494fd71  ...    1.0\n",
              "1  5ad7be48609f9b63a5b0  ...    0.0\n",
              "2  be9e2e86a915f88212f9  ...    0.0\n",
              "3  bc721413105adba6d757  ...    0.0\n",
              "4  79a5f298b4b5dbac4dd7  ...    0.0\n",
              "\n",
              "[5 rows x 3 columns]"
            ]
          },
          "metadata": {
            "tags": []
          },
          "execution_count": 10
        }
      ]
    },
    {
      "cell_type": "code",
      "metadata": {
        "id": "mkx-lER9Y1XV",
        "colab_type": "code",
        "colab": {}
      },
      "source": [
        "#Train dataset split into train & validation dataset\n",
        "quora_trn,quora_val=train_test_split(quora_train,test_size=0.2,random_state=2)"
      ],
      "execution_count": 11,
      "outputs": []
    },
    {
      "cell_type": "code",
      "metadata": {
        "id": "3LgDJKSBY4nn",
        "colab_type": "code",
        "colab": {}
      },
      "source": [
        "quora_trn.reset_index(drop=True, inplace=True)"
      ],
      "execution_count": 12,
      "outputs": []
    },
    {
      "cell_type": "code",
      "metadata": {
        "id": "tLTNv0yBZL1t",
        "colab_type": "code",
        "colab": {}
      },
      "source": [
        "quora_val.reset_index(drop=True, inplace=True)"
      ],
      "execution_count": 13,
      "outputs": []
    },
    {
      "cell_type": "code",
      "metadata": {
        "id": "1jKjYoSQZUnL",
        "colab_type": "code",
        "colab": {}
      },
      "source": [
        "x_train=quora_trn['question_text']\n",
        "y_train=quora_trn['target']\n",
        "x_test=quora_val['question_text']     \n",
        "y_test=quora_val['target']"
      ],
      "execution_count": 14,
      "outputs": []
    },
    {
      "cell_type": "code",
      "metadata": {
        "id": "gTKUhclXZY4M",
        "colab_type": "code",
        "colab": {
          "base_uri": "https://localhost:8080/",
          "height": 34
        },
        "outputId": "81927251-9dda-413f-8292-282232a48d90"
      },
      "source": [
        "x_test.shape"
      ],
      "execution_count": 15,
      "outputs": [
        {
          "output_type": "execute_result",
          "data": {
            "text/plain": [
              "(208980,)"
            ]
          },
          "metadata": {
            "tags": []
          },
          "execution_count": 15
        }
      ]
    },
    {
      "cell_type": "code",
      "metadata": {
        "id": "Yh_eY9ugZcKq",
        "colab_type": "code",
        "colab": {
          "base_uri": "https://localhost:8080/",
          "height": 202
        },
        "outputId": "0856fe4a-4664-447d-e1fa-628568e94202"
      },
      "source": [
        "!wget https://dl.fbaipublicfiles.com/fasttext/vectors-wiki/wiki.en.zip"
      ],
      "execution_count": 16,
      "outputs": [
        {
          "output_type": "stream",
          "text": [
            "--2020-08-29 17:12:53--  https://dl.fbaipublicfiles.com/fasttext/vectors-wiki/wiki.en.zip\n",
            "Resolving dl.fbaipublicfiles.com (dl.fbaipublicfiles.com)... 172.67.9.4, 104.22.74.142, 104.22.75.142, ...\n",
            "Connecting to dl.fbaipublicfiles.com (dl.fbaipublicfiles.com)|172.67.9.4|:443... connected.\n",
            "HTTP request sent, awaiting response... 200 OK\n",
            "Length: 10356881291 (9.6G) [application/zip]\n",
            "Saving to: ‘wiki.en.zip’\n",
            "\n",
            "wiki.en.zip         100%[===================>]   9.65G  49.7MB/s    in 3m 50s  \n",
            "\n",
            "2020-08-29 17:16:44 (42.9 MB/s) - ‘wiki.en.zip’ saved [10356881291/10356881291]\n",
            "\n"
          ],
          "name": "stdout"
        }
      ]
    },
    {
      "cell_type": "code",
      "metadata": {
        "id": "AbXwN84ZaE-m",
        "colab_type": "code",
        "colab": {
          "base_uri": "https://localhost:8080/",
          "height": 67
        },
        "outputId": "b1817397-209f-4e53-923c-14202823dc62"
      },
      "source": [
        "!unzip wiki.en.zip"
      ],
      "execution_count": 17,
      "outputs": [
        {
          "output_type": "stream",
          "text": [
            "Archive:  wiki.en.zip\n",
            "  inflating: wiki.en.vec             \n",
            "  inflating: wiki.en.bin             \n"
          ],
          "name": "stdout"
        }
      ]
    },
    {
      "cell_type": "code",
      "metadata": {
        "id": "Rz7NBs6NaIh2",
        "colab_type": "code",
        "colab": {}
      },
      "source": [
        "!rm /content/wiki.en.zip"
      ],
      "execution_count": 18,
      "outputs": []
    },
    {
      "cell_type": "code",
      "metadata": {
        "id": "du2mIip-aNyq",
        "colab_type": "code",
        "colab": {}
      },
      "source": [
        "from gensim.models import FastText"
      ],
      "execution_count": 19,
      "outputs": []
    },
    {
      "cell_type": "code",
      "metadata": {
        "id": "W7UCUpQFaQ1E",
        "colab_type": "code",
        "colab": {}
      },
      "source": [
        "ft_model = FastText.load_fasttext_format('/content/wiki.en.bin')\n"
      ],
      "execution_count": 20,
      "outputs": []
    },
    {
      "cell_type": "code",
      "metadata": {
        "id": "0qxem9S5aTqb",
        "colab_type": "code",
        "colab": {
          "base_uri": "https://localhost:8080/",
          "height": 87
        },
        "outputId": "43de8aaf-53db-4dc3-9a88-904f97a1e616"
      },
      "source": [
        "len(ft_model['random'])"
      ],
      "execution_count": 21,
      "outputs": [
        {
          "output_type": "stream",
          "text": [
            "/usr/local/lib/python3.6/dist-packages/ipykernel_launcher.py:1: DeprecationWarning: Call to deprecated `__getitem__` (Method will be removed in 4.0.0, use self.wv.__getitem__() instead).\n",
            "  \"\"\"Entry point for launching an IPython kernel.\n"
          ],
          "name": "stderr"
        },
        {
          "output_type": "execute_result",
          "data": {
            "text/plain": [
              "300"
            ]
          },
          "metadata": {
            "tags": []
          },
          "execution_count": 21
        }
      ]
    },
    {
      "cell_type": "code",
      "metadata": {
        "id": "qjoAR7fja8H6",
        "colab_type": "code",
        "colab": {}
      },
      "source": [
        "# ft_model['heldo']"
      ],
      "execution_count": null,
      "outputs": []
    },
    {
      "cell_type": "code",
      "metadata": {
        "id": "XxeYRMZKRizX",
        "colab_type": "code",
        "colab": {}
      },
      "source": [
        "from tensorflow.keras.preprocessing.text import Tokenizer\n",
        "from tensorflow.keras.preprocessing import sequence\n",
        "from tensorflow.keras.layers import LSTM,Activation,Dense,Input,Embedding,Dropout\n",
        "from tensorflow.keras.models import Model\n",
        "from nltk import word_tokenize"
      ],
      "execution_count": 22,
      "outputs": []
    },
    {
      "cell_type": "code",
      "metadata": {
        "id": "paimbKPzRi9G",
        "colab_type": "code",
        "colab": {
          "base_uri": "https://localhost:8080/",
          "height": 67
        },
        "outputId": "c8c2fd14-2119-427c-b154-c10abef9b3e8"
      },
      "source": [
        "import nltk\n",
        "nltk.download('punkt')"
      ],
      "execution_count": 23,
      "outputs": [
        {
          "output_type": "stream",
          "text": [
            "[nltk_data] Downloading package punkt to /root/nltk_data...\n",
            "[nltk_data]   Unzipping tokenizers/punkt.zip.\n"
          ],
          "name": "stdout"
        },
        {
          "output_type": "execute_result",
          "data": {
            "text/plain": [
              "True"
            ]
          },
          "metadata": {
            "tags": []
          },
          "execution_count": 23
        }
      ]
    },
    {
      "cell_type": "code",
      "metadata": {
        "id": "Q0p-ojzwRi4m",
        "colab_type": "code",
        "colab": {}
      },
      "source": [
        "sent_lens=[len(word_tokenize(x)) for x in x_train]"
      ],
      "execution_count": 24,
      "outputs": []
    },
    {
      "cell_type": "code",
      "metadata": {
        "id": "_mCRQLkLRimL",
        "colab_type": "code",
        "colab": {
          "base_uri": "https://localhost:8080/",
          "height": 34
        },
        "outputId": "d295c7a5-f988-4f1c-eae8-8a76ef55c359"
      },
      "source": [
        "np.percentile(sent_lens,95)"
      ],
      "execution_count": 25,
      "outputs": [
        {
          "output_type": "execute_result",
          "data": {
            "text/plain": [
              "30.0"
            ]
          },
          "metadata": {
            "tags": []
          },
          "execution_count": 25
        }
      ]
    },
    {
      "cell_type": "code",
      "metadata": {
        "id": "_Z09DAUpRyTZ",
        "colab_type": "code",
        "colab": {}
      },
      "source": [
        "max_len=30\n",
        "\n",
        "tk=Tokenizer(char_level=False,split=' ')\n",
        "\n",
        "tk.fit_on_texts(x_train)\n",
        "\n",
        "seq_train=tk.texts_to_sequences(x_train)\n",
        "seq_test=tk.texts_to_sequences(x_test)\n",
        "\n",
        "vocab_size=len(tk.word_index)\n",
        "\n",
        "seq_train_matrix=sequence.pad_sequences(seq_train,maxlen=max_len)\n",
        "seq_test_matrix=sequence.pad_sequences(seq_test,maxlen=max_len)"
      ],
      "execution_count": 26,
      "outputs": []
    },
    {
      "cell_type": "code",
      "metadata": {
        "id": "KQN0Wf1-R8wm",
        "colab_type": "code",
        "colab": {
          "base_uri": "https://localhost:8080/",
          "height": 34
        },
        "outputId": "7a2df3bc-3442-4526-ae75-dffbefcbeeb7"
      },
      "source": [
        "vocab_size"
      ],
      "execution_count": 27,
      "outputs": [
        {
          "output_type": "execute_result",
          "data": {
            "text/plain": [
              "173214"
            ]
          },
          "metadata": {
            "tags": []
          },
          "execution_count": 27
        }
      ]
    },
    {
      "cell_type": "code",
      "metadata": {
        "id": "v4BZj-_Eaa3H",
        "colab_type": "code",
        "colab": {
          "base_uri": "https://localhost:8080/",
          "height": 70
        },
        "outputId": "5a13a767-7ec4-4456-d425-f7025f0fb0ad"
      },
      "source": [
        "embedding_matrix=np.zeros((vocab_size+1,300))\n",
        "words_not_available=0\n",
        "for word,i in tk.word_index.items():\n",
        "    try:\n",
        "      embed_vector=ft_model[word]\n",
        "      embedding_matrix[i]=embed_vector\n",
        "    except:\n",
        "      words_not_available+=1\n"
      ],
      "execution_count": 29,
      "outputs": [
        {
          "output_type": "stream",
          "text": [
            "/usr/local/lib/python3.6/dist-packages/ipykernel_launcher.py:5: DeprecationWarning: Call to deprecated `__getitem__` (Method will be removed in 4.0.0, use self.wv.__getitem__() instead).\n",
            "  \"\"\"\n"
          ],
          "name": "stderr"
        }
      ]
    },
    {
      "cell_type": "code",
      "metadata": {
        "id": "i3pIE813alF_",
        "colab_type": "code",
        "colab": {
          "base_uri": "https://localhost:8080/",
          "height": 34
        },
        "outputId": "47474ab6-1c04-487e-8dbf-6c3a424e2e98"
      },
      "source": [
        "words_not_available"
      ],
      "execution_count": 30,
      "outputs": [
        {
          "output_type": "execute_result",
          "data": {
            "text/plain": [
              "1"
            ]
          },
          "metadata": {
            "tags": []
          },
          "execution_count": 30
        }
      ]
    },
    {
      "cell_type": "code",
      "metadata": {
        "id": "n0tStnv_am0N",
        "colab_type": "code",
        "colab": {
          "base_uri": "https://localhost:8080/",
          "height": 487
        },
        "outputId": "883edfd8-ddf2-4fb4-9d82-46d9d0401bc9"
      },
      "source": [
        "# Now while creating the model for text data , we'll keep embedding layer weights \n",
        "# non-trainable as we are supplying those values from our end \n",
        "\n",
        "inputs=Input(name='text_input',shape=[max_len])\n",
        "embed=Embedding(vocab_size+1,300,input_length=max_len,mask_zero=True,\n",
        "                weights=[embedding_matrix],trainable=False)(inputs)\n",
        "lstm_layer=LSTM(150)(embed)\n",
        "dense1=Dense(75,activation='relu')(lstm_layer)\n",
        "drop1=Dropout(0.2)(dense1)\n",
        "dense2=Dense(35,activation='relu')(drop1)\n",
        "drop2=Dropout(0.2)(dense2)\n",
        "dense3=Dense(15,activation='relu')(drop2)\n",
        "drop3=Dropout(0.2)(dense3)\n",
        "final_layer=Dense(1,activation='sigmoid')(drop3)\n",
        "\n",
        "model=Model(inputs=inputs,outputs=final_layer)\n",
        "\n",
        "model.summary()"
      ],
      "execution_count": 32,
      "outputs": [
        {
          "output_type": "stream",
          "text": [
            "Model: \"functional_1\"\n",
            "_________________________________________________________________\n",
            "Layer (type)                 Output Shape              Param #   \n",
            "=================================================================\n",
            "text_input (InputLayer)      [(None, 30)]              0         \n",
            "_________________________________________________________________\n",
            "embedding_1 (Embedding)      (None, 30, 300)           51964500  \n",
            "_________________________________________________________________\n",
            "lstm (LSTM)                  (None, 150)               270600    \n",
            "_________________________________________________________________\n",
            "dense (Dense)                (None, 75)                11325     \n",
            "_________________________________________________________________\n",
            "dropout (Dropout)            (None, 75)                0         \n",
            "_________________________________________________________________\n",
            "dense_1 (Dense)              (None, 35)                2660      \n",
            "_________________________________________________________________\n",
            "dropout_1 (Dropout)          (None, 35)                0         \n",
            "_________________________________________________________________\n",
            "dense_2 (Dense)              (None, 15)                540       \n",
            "_________________________________________________________________\n",
            "dropout_2 (Dropout)          (None, 15)                0         \n",
            "_________________________________________________________________\n",
            "dense_3 (Dense)              (None, 1)                 16        \n",
            "=================================================================\n",
            "Total params: 52,249,641\n",
            "Trainable params: 285,141\n",
            "Non-trainable params: 51,964,500\n",
            "_________________________________________________________________\n"
          ],
          "name": "stdout"
        }
      ]
    },
    {
      "cell_type": "code",
      "metadata": {
        "id": "1U4pzKVXa0os",
        "colab_type": "code",
        "colab": {}
      },
      "source": [
        "model.compile(optimizer='adam',loss='binary_crossentropy',metrics=['accuracy'])"
      ],
      "execution_count": 34,
      "outputs": []
    },
    {
      "cell_type": "code",
      "metadata": {
        "id": "zEq83cWHa4H3",
        "colab_type": "code",
        "colab": {
          "base_uri": "https://localhost:8080/",
          "height": 84
        },
        "outputId": "46d35078-7085-4665-e737-dbf2b2cf3f07"
      },
      "source": [
        "history = model.fit(\n",
        "    seq_train_matrix, y_train, batch_size=120, epochs=2, validation_data=(seq_test_matrix, y_test)\n",
        ")"
      ],
      "execution_count": 35,
      "outputs": [
        {
          "output_type": "stream",
          "text": [
            "Epoch 1/2\n",
            "6966/6966 [==============================] - 487s 70ms/step - loss: 0.1260 - accuracy: 0.9514 - val_loss: 0.1116 - val_accuracy: 0.9566\n",
            "Epoch 2/2\n",
            "6966/6966 [==============================] - 481s 69ms/step - loss: 0.1091 - accuracy: 0.9569 - val_loss: 0.1071 - val_accuracy: 0.9579\n"
          ],
          "name": "stdout"
        }
      ]
    },
    {
      "cell_type": "code",
      "metadata": {
        "id": "uV9YQ9Fxa-0n",
        "colab_type": "code",
        "colab": {}
      },
      "source": [
        "p=model.predict(seq_test_matrix)"
      ],
      "execution_count": 36,
      "outputs": []
    },
    {
      "cell_type": "code",
      "metadata": {
        "id": "BaAiYegcbHsp",
        "colab_type": "code",
        "colab": {
          "base_uri": "https://localhost:8080/",
          "height": 34
        },
        "outputId": "2b6a67fa-bb58-4f61-e94b-9884d2da56a2"
      },
      "source": [
        "from sklearn.metrics import roc_auc_score,confusion_matrix\n",
        "roc_auc_score(y_test,p)"
      ],
      "execution_count": 37,
      "outputs": [
        {
          "output_type": "execute_result",
          "data": {
            "text/plain": [
              "0.9604547738966392"
            ]
          },
          "metadata": {
            "tags": []
          },
          "execution_count": 37
        }
      ]
    },
    {
      "cell_type": "code",
      "metadata": {
        "id": "EV_rtgqTbJKL",
        "colab_type": "code",
        "colab": {}
      },
      "source": [
        "model.save(\"my_h5_model_FastText.h5\")"
      ],
      "execution_count": 38,
      "outputs": []
    },
    {
      "cell_type": "code",
      "metadata": {
        "id": "K_kjkHIkbMLf",
        "colab_type": "code",
        "colab": {}
      },
      "source": [
        "#Merging train and validation data set\n",
        "X_train=pd.concat([x_train,x_test],axis=0)\n",
        "Y_train=pd.concat([y_train,y_test],axis=0)"
      ],
      "execution_count": 40,
      "outputs": []
    },
    {
      "cell_type": "code",
      "metadata": {
        "id": "djxanYwobOTF",
        "colab_type": "code",
        "colab": {}
      },
      "source": [
        "quora_test.reset_index(drop=True,inplace=True)"
      ],
      "execution_count": 41,
      "outputs": []
    },
    {
      "cell_type": "code",
      "metadata": {
        "id": "kp7RrAiabQSo",
        "colab_type": "code",
        "colab": {}
      },
      "source": [
        "X_test=quora_test['question_text']     \n",
        "Y_test=quora_test['target']"
      ],
      "execution_count": 43,
      "outputs": []
    },
    {
      "cell_type": "code",
      "metadata": {
        "id": "kkGas_unXVkR",
        "colab_type": "code",
        "colab": {
          "base_uri": "https://localhost:8080/",
          "height": 34
        },
        "outputId": "59483b22-cc32-4057-a38e-7e5a23f2105c"
      },
      "source": [
        "sent_lens=[len(word_tokenize(x)) for x in X_train]\n",
        "np.percentile(sent_lens,95)"
      ],
      "execution_count": 44,
      "outputs": [
        {
          "output_type": "execute_result",
          "data": {
            "text/plain": [
              "30.0"
            ]
          },
          "metadata": {
            "tags": []
          },
          "execution_count": 44
        }
      ]
    },
    {
      "cell_type": "code",
      "metadata": {
        "id": "5crxB1lEXWAW",
        "colab_type": "code",
        "colab": {}
      },
      "source": [
        "max_len=30\n",
        "\n",
        "tk=Tokenizer(char_level=False,split=' ')\n",
        "\n",
        "tk.fit_on_texts(X_train)\n",
        "\n",
        "seq_train=tk.texts_to_sequences(X_train)\n",
        "seq_test=tk.texts_to_sequences(X_test)\n",
        "\n",
        "vocab_size=len(tk.word_index)\n",
        "\n",
        "seq_train_matrix=sequence.pad_sequences(seq_train,maxlen=max_len)\n",
        "seq_test_matrix=sequence.pad_sequences(seq_test,maxlen=max_len)"
      ],
      "execution_count": 45,
      "outputs": []
    },
    {
      "cell_type": "code",
      "metadata": {
        "id": "mlacD3nDYR2L",
        "colab_type": "code",
        "colab": {
          "base_uri": "https://localhost:8080/",
          "height": 34
        },
        "outputId": "b094269b-af2b-41d9-bec3-7315ad7e3691"
      },
      "source": [
        "vocab_size"
      ],
      "execution_count": 49,
      "outputs": [
        {
          "output_type": "execute_result",
          "data": {
            "text/plain": [
              "196220"
            ]
          },
          "metadata": {
            "tags": []
          },
          "execution_count": 49
        }
      ]
    },
    {
      "cell_type": "code",
      "metadata": {
        "id": "O5Hm3nLyXV1h",
        "colab_type": "code",
        "colab": {
          "base_uri": "https://localhost:8080/",
          "height": 70
        },
        "outputId": "1eef116a-937a-49d5-985d-4d03a21787b5"
      },
      "source": [
        "embedding_matrix=np.zeros((vocab_size+1,300))\n",
        "words_not_available=0\n",
        "for word,i in tk.word_index.items():\n",
        "    try:\n",
        "      embed_vector=ft_model[word]\n",
        "      embedding_matrix[i]=embed_vector\n",
        "    except:\n",
        "      words_not_available+=1"
      ],
      "execution_count": 47,
      "outputs": [
        {
          "output_type": "stream",
          "text": [
            "/usr/local/lib/python3.6/dist-packages/ipykernel_launcher.py:5: DeprecationWarning: Call to deprecated `__getitem__` (Method will be removed in 4.0.0, use self.wv.__getitem__() instead).\n",
            "  \"\"\"\n"
          ],
          "name": "stderr"
        }
      ]
    },
    {
      "cell_type": "code",
      "metadata": {
        "id": "4I4BqO5pYUfF",
        "colab_type": "code",
        "colab": {
          "base_uri": "https://localhost:8080/",
          "height": 34
        },
        "outputId": "aa918d31-2b21-49d9-87ef-5ec61d8f8215"
      },
      "source": [
        "words_not_available"
      ],
      "execution_count": 50,
      "outputs": [
        {
          "output_type": "execute_result",
          "data": {
            "text/plain": [
              "1"
            ]
          },
          "metadata": {
            "tags": []
          },
          "execution_count": 50
        }
      ]
    },
    {
      "cell_type": "code",
      "metadata": {
        "id": "i2_HwmrVXgHQ",
        "colab_type": "code",
        "colab": {
          "base_uri": "https://localhost:8080/",
          "height": 487
        },
        "outputId": "c956a27f-42ac-4986-d48d-eb6ada86b61e"
      },
      "source": [
        "# LSTM Model with Glove Embedding Layer\n",
        "\n",
        "inputs=Input(name='text_input',shape=[max_len])\n",
        "embed=Embedding(vocab_size+1,300,input_length=max_len,mask_zero=True,\n",
        "                weights=[embedding_matrix],trainable=False)(inputs)\n",
        "lstm_layer=LSTM(150)(embed)\n",
        "dense1=Dense(75,activation='relu')(lstm_layer)\n",
        "drop1=Dropout(0.2)(dense1)\n",
        "dense2=Dense(35,activation='relu')(drop1)\n",
        "drop2=Dropout(0.2)(dense2)\n",
        "dense3=Dense(15,activation='relu')(drop2)\n",
        "drop3=Dropout(0.2)(dense3)\n",
        "final_layer=Dense(1,activation='sigmoid')(drop3)\n",
        "\n",
        "model=Model(inputs=inputs,outputs=final_layer)\n",
        "\n",
        "model.summary()"
      ],
      "execution_count": 51,
      "outputs": [
        {
          "output_type": "stream",
          "text": [
            "Model: \"functional_5\"\n",
            "_________________________________________________________________\n",
            "Layer (type)                 Output Shape              Param #   \n",
            "=================================================================\n",
            "text_input (InputLayer)      [(None, 30)]              0         \n",
            "_________________________________________________________________\n",
            "embedding_3 (Embedding)      (None, 30, 300)           58866300  \n",
            "_________________________________________________________________\n",
            "lstm_2 (LSTM)                (None, 150)               270600    \n",
            "_________________________________________________________________\n",
            "dense_8 (Dense)              (None, 75)                11325     \n",
            "_________________________________________________________________\n",
            "dropout_6 (Dropout)          (None, 75)                0         \n",
            "_________________________________________________________________\n",
            "dense_9 (Dense)              (None, 35)                2660      \n",
            "_________________________________________________________________\n",
            "dropout_7 (Dropout)          (None, 35)                0         \n",
            "_________________________________________________________________\n",
            "dense_10 (Dense)             (None, 15)                540       \n",
            "_________________________________________________________________\n",
            "dropout_8 (Dropout)          (None, 15)                0         \n",
            "_________________________________________________________________\n",
            "dense_11 (Dense)             (None, 1)                 16        \n",
            "=================================================================\n",
            "Total params: 59,151,441\n",
            "Trainable params: 285,141\n",
            "Non-trainable params: 58,866,300\n",
            "_________________________________________________________________\n"
          ],
          "name": "stdout"
        }
      ]
    },
    {
      "cell_type": "code",
      "metadata": {
        "id": "0qgFTm7AXf82",
        "colab_type": "code",
        "colab": {
          "base_uri": "https://localhost:8080/",
          "height": 84
        },
        "outputId": "2b6ca9a7-002a-4e02-dea5-e23ffe51c6d2"
      },
      "source": [
        "model.compile(optimizer='adam',loss='binary_crossentropy',metrics=['accuracy'])\n",
        "\n",
        "history=model.fit(seq_train_matrix,Y_train,validation_data=(seq_test_matrix,Y_test),epochs=2,batch_size=150)"
      ],
      "execution_count": 52,
      "outputs": [
        {
          "output_type": "stream",
          "text": [
            "Epoch 1/2\n",
            "6966/6966 [==============================] - 487s 70ms/step - loss: 0.1248 - accuracy: 0.9523 - val_loss: 0.1088 - val_accuracy: 0.9568\n",
            "Epoch 2/2\n",
            "6966/6966 [==============================] - 483s 69ms/step - loss: 0.1084 - accuracy: 0.9572 - val_loss: 0.1041 - val_accuracy: 0.9583\n"
          ],
          "name": "stdout"
        }
      ]
    },
    {
      "cell_type": "code",
      "metadata": {
        "id": "BBteQko-Xljv",
        "colab_type": "code",
        "colab": {
          "base_uri": "https://localhost:8080/",
          "height": 50
        },
        "outputId": "6b0b7715-1e4e-4178-8c91-afe410d4039b"
      },
      "source": [
        "model.evaluate(seq_test_matrix, Y_test, batch_size=150)"
      ],
      "execution_count": 53,
      "outputs": [
        {
          "output_type": "stream",
          "text": [
            "1742/1742 [==============================] - 15s 8ms/step - loss: 0.1041 - accuracy: 0.9583\n"
          ],
          "name": "stdout"
        },
        {
          "output_type": "execute_result",
          "data": {
            "text/plain": [
              "[0.10409432649612427, 0.9582964777946472]"
            ]
          },
          "metadata": {
            "tags": []
          },
          "execution_count": 53
        }
      ]
    },
    {
      "cell_type": "code",
      "metadata": {
        "id": "hUWkoUM2XlvL",
        "colab_type": "code",
        "colab": {}
      },
      "source": [
        "#Prediction on Test Data Set\n",
        "predict=model.predict(seq_test_matrix)"
      ],
      "execution_count": 54,
      "outputs": []
    },
    {
      "cell_type": "code",
      "metadata": {
        "id": "zyls2NUeXlQJ",
        "colab_type": "code",
        "colab": {
          "base_uri": "https://localhost:8080/",
          "height": 34
        },
        "outputId": "fd4acdae-a516-4084-ccdd-aa30e2b25c93"
      },
      "source": [
        "from sklearn.metrics import roc_auc_score,confusion_matrix\n",
        "roc_auc_score(Y_test,predict)"
      ],
      "execution_count": 55,
      "outputs": [
        {
          "output_type": "execute_result",
          "data": {
            "text/plain": [
              "0.9626150383222687"
            ]
          },
          "metadata": {
            "tags": []
          },
          "execution_count": 55
        }
      ]
    },
    {
      "cell_type": "code",
      "metadata": {
        "id": "inKNyQG9XzxP",
        "colab_type": "code",
        "colab": {}
      },
      "source": [
        "Y_Predicted = pd.DataFrame(predict, index=range(predict.shape[0]),\n",
        "                     columns=range(predict.shape[1]))"
      ],
      "execution_count": 56,
      "outputs": []
    },
    {
      "cell_type": "code",
      "metadata": {
        "id": "mxgPf0-cXzju",
        "colab_type": "code",
        "colab": {}
      },
      "source": [
        "Y_Predicted = np.where(Y_Predicted > 0.5, 1, 0)\n",
        "Y_test=Y_test.astype(int)"
      ],
      "execution_count": 57,
      "outputs": []
    },
    {
      "cell_type": "code",
      "metadata": {
        "id": "QIqXThSdX7Z2",
        "colab_type": "code",
        "colab": {}
      },
      "source": [
        "Y_Predicted = pd.DataFrame(list(Y_Predicted),columns=['Predicted Target'])\n",
        "Y_Actual = pd.DataFrame(Y_test.values,columns=[\"Actual Target\"])\n",
        "Final_Comparison=pd.concat([quora_test['qid'],quora_test['question_text'],Y_Actual,Y_Predicted],axis=1)"
      ],
      "execution_count": 58,
      "outputs": []
    },
    {
      "cell_type": "code",
      "metadata": {
        "id": "jg1g9IYKX7JQ",
        "colab_type": "code",
        "colab": {
          "base_uri": "https://localhost:8080/",
          "height": 343
        },
        "outputId": "39a59d3e-67c9-4608-9e71-a4194cb5716e"
      },
      "source": [
        "Final_Comparison.head(10)"
      ],
      "execution_count": 59,
      "outputs": [
        {
          "output_type": "execute_result",
          "data": {
            "text/html": [
              "<div>\n",
              "<style scoped>\n",
              "    .dataframe tbody tr th:only-of-type {\n",
              "        vertical-align: middle;\n",
              "    }\n",
              "\n",
              "    .dataframe tbody tr th {\n",
              "        vertical-align: top;\n",
              "    }\n",
              "\n",
              "    .dataframe thead th {\n",
              "        text-align: right;\n",
              "    }\n",
              "</style>\n",
              "<table border=\"1\" class=\"dataframe\">\n",
              "  <thead>\n",
              "    <tr style=\"text-align: right;\">\n",
              "      <th></th>\n",
              "      <th>qid</th>\n",
              "      <th>question_text</th>\n",
              "      <th>Actual Target</th>\n",
              "      <th>Predicted Target</th>\n",
              "    </tr>\n",
              "  </thead>\n",
              "  <tbody>\n",
              "    <tr>\n",
              "      <th>0</th>\n",
              "      <td>8747d2afef04f494fd71</td>\n",
              "      <td>How does stopping refugee families, women and ...</td>\n",
              "      <td>1</td>\n",
              "      <td>0</td>\n",
              "    </tr>\n",
              "    <tr>\n",
              "      <th>1</th>\n",
              "      <td>5ad7be48609f9b63a5b0</td>\n",
              "      <td>What makes you start your business?</td>\n",
              "      <td>0</td>\n",
              "      <td>0</td>\n",
              "    </tr>\n",
              "    <tr>\n",
              "      <th>2</th>\n",
              "      <td>be9e2e86a915f88212f9</td>\n",
              "      <td>Someone said they wouldn't give me something \"...</td>\n",
              "      <td>0</td>\n",
              "      <td>0</td>\n",
              "    </tr>\n",
              "    <tr>\n",
              "      <th>3</th>\n",
              "      <td>bc721413105adba6d757</td>\n",
              "      <td>What is best option for a disqualified medical...</td>\n",
              "      <td>0</td>\n",
              "      <td>0</td>\n",
              "    </tr>\n",
              "    <tr>\n",
              "      <th>4</th>\n",
              "      <td>79a5f298b4b5dbac4dd7</td>\n",
              "      <td>What are the best sites to create apps on Andr...</td>\n",
              "      <td>0</td>\n",
              "      <td>0</td>\n",
              "    </tr>\n",
              "    <tr>\n",
              "      <th>5</th>\n",
              "      <td>ff1fd33a96c6c72b61b6</td>\n",
              "      <td>Which is the best homeopathic face wash for wo...</td>\n",
              "      <td>0</td>\n",
              "      <td>0</td>\n",
              "    </tr>\n",
              "    <tr>\n",
              "      <th>6</th>\n",
              "      <td>251b29aa445efc14aa04</td>\n",
              "      <td>Is it possible that the laws of physics may ha...</td>\n",
              "      <td>0</td>\n",
              "      <td>0</td>\n",
              "    </tr>\n",
              "    <tr>\n",
              "      <th>7</th>\n",
              "      <td>412350e4aaa272a16f81</td>\n",
              "      <td>What's your take on the dispute between core d...</td>\n",
              "      <td>0</td>\n",
              "      <td>0</td>\n",
              "    </tr>\n",
              "    <tr>\n",
              "      <th>8</th>\n",
              "      <td>bfd87b2feffdeee55656</td>\n",
              "      <td>What is the basic difference between Automatic...</td>\n",
              "      <td>0</td>\n",
              "      <td>0</td>\n",
              "    </tr>\n",
              "    <tr>\n",
              "      <th>9</th>\n",
              "      <td>99a93d95d6d030de6205</td>\n",
              "      <td>How is the taste of SirkkaleipÃ¤?</td>\n",
              "      <td>0</td>\n",
              "      <td>0</td>\n",
              "    </tr>\n",
              "  </tbody>\n",
              "</table>\n",
              "</div>"
            ],
            "text/plain": [
              "                    qid  ... Predicted Target\n",
              "0  8747d2afef04f494fd71  ...                0\n",
              "1  5ad7be48609f9b63a5b0  ...                0\n",
              "2  be9e2e86a915f88212f9  ...                0\n",
              "3  bc721413105adba6d757  ...                0\n",
              "4  79a5f298b4b5dbac4dd7  ...                0\n",
              "5  ff1fd33a96c6c72b61b6  ...                0\n",
              "6  251b29aa445efc14aa04  ...                0\n",
              "7  412350e4aaa272a16f81  ...                0\n",
              "8  bfd87b2feffdeee55656  ...                0\n",
              "9  99a93d95d6d030de6205  ...                0\n",
              "\n",
              "[10 rows x 4 columns]"
            ]
          },
          "metadata": {
            "tags": []
          },
          "execution_count": 59
        }
      ]
    },
    {
      "cell_type": "code",
      "metadata": {
        "id": "isTLGDz0Yk68",
        "colab_type": "code",
        "colab": {
          "base_uri": "https://localhost:8080/",
          "height": 50
        },
        "outputId": "13d24c56-a869-442d-fa05-975cde869300"
      },
      "source": [
        "confusion_matrix(Y_Actual,Y_Predicted)"
      ],
      "execution_count": 60,
      "outputs": [
        {
          "output_type": "execute_result",
          "data": {
            "text/plain": [
              "array([[242210,   3024],\n",
              "       [  7870,   8121]])"
            ]
          },
          "metadata": {
            "tags": []
          },
          "execution_count": 60
        }
      ]
    },
    {
      "cell_type": "code",
      "metadata": {
        "id": "mGuKPvC_VOij",
        "colab_type": "code",
        "colab": {
          "base_uri": "https://localhost:8080/",
          "height": 545
        },
        "outputId": "6200d048-f9cf-4197-f7bc-7bc38fd1c5b7"
      },
      "source": [
        "# Plot the chart for accuracy and loss on both training and validation\n",
        "%matplotlib inline\n",
        "import matplotlib.pyplot as plt\n",
        "acc = history.history['accuracy']\n",
        "val_acc = history.history['val_accuracy']\n",
        "loss = history.history['loss']\n",
        "val_loss = history.history['val_loss']\n",
        "\n",
        "epochs = range(len(acc))\n",
        "\n",
        "plt.plot(epochs, acc, 'r', label='Training accuracy')\n",
        "plt.plot(epochs, val_acc, 'b', label='Validation accuracy')\n",
        "plt.title('Training and validation accuracy')\n",
        "plt.legend()\n",
        "plt.figure()\n",
        "\n",
        "plt.plot(epochs, loss, 'r', label='Training Loss')\n",
        "plt.plot(epochs, val_loss, 'b', label='Validation Loss')\n",
        "plt.title('Training and validation loss')\n",
        "plt.legend()\n",
        "\n",
        "plt.show()"
      ],
      "execution_count": 61,
      "outputs": [
        {
          "output_type": "display_data",
          "data": {
            "image/png": "[encoded data removed]",
            "text/plain": [
              "<Figure size 432x288 with 1 Axes>"
            ]
          },
          "metadata": {
            "tags": [],
            "needs_background": "light"
          }
        },
        {
          "output_type": "display_data",
          "data": {
            "image/png": "[encoded data removed]",
            "text/plain": [
              "<Figure size 432x288 with 1 Axes>"
            ]
          },
          "metadata": {
            "tags": [],
            "needs_background": "light"
          }
        }
      ]
    },
    {
      "cell_type": "code",
      "metadata": {
        "id": "UNTZ8bSWcrh_",
        "colab_type": "code",
        "colab": {}
      },
      "source": [
        ""
      ],
      "execution_count": null,
      "outputs": []
    }
  ]
}