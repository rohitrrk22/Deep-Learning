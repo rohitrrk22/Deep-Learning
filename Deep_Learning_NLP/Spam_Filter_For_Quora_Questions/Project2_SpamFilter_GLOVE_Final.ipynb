{
  "nbformat": 4,
  "nbformat_minor": 0,
  "metadata": {
    "colab": {
      "name": "Project2_SpamFilter_GLOVE_Final.ipynb",
      "provenance": [],
      "collapsed_sections": [],
      "authorship_tag": "ABX9TyN2DbUWpnPycQJiGywSed+3",
      "include_colab_link": true
    },
    "kernelspec": {
      "name": "python3",
      "display_name": "Python 3"
    },
    "accelerator": "GPU"
  },
  "cells": [
    {
      "cell_type": "markdown",
      "metadata": {
        "id": "view-in-github",
        "colab_type": "text"
      },
      "source": [
        "<a href=\"https://colab.research.google.com/github/rohitrrk22/Deep-Learning/blob/master/Deep_Learning_NLP/Spam_Filter_For_Quora_Questions/Project2_SpamFilter_GLOVE_Final.ipynb\" target=\"_parent\"><img src=\"https://colab.research.google.com/assets/colab-badge.svg\" alt=\"Open In Colab\"/></a>"
      ]
    },
    {
      "cell_type": "code",
      "metadata": {
        "id": "AyIfbAjq5Mmy",
        "colab_type": "code",
        "colab": {}
      },
      "source": [
        "%tensorflow_version 2.x"
      ],
      "execution_count": 1,
      "outputs": []
    },
    {
      "cell_type": "code",
      "metadata": {
        "id": "fxEXr_qo0BNG",
        "colab_type": "code",
        "colab": {}
      },
      "source": [
        "import pandas as pd\n",
        "import numpy as np"
      ],
      "execution_count": 3,
      "outputs": []
    },
    {
      "cell_type": "code",
      "metadata": {
        "id": "b-jqDFLN2ACj",
        "colab_type": "code",
        "colab": {
          "base_uri": "https://localhost:8080/",
          "height": 373
        },
        "outputId": "125ab429-1991-4e03-eb29-1e7aa59bcd79"
      },
      "source": [
        "#Getting the data\n",
        "!wget https://www.dropbox.com/sh/kpf9z73woodfssv/AAAw1_JIzpuVvwteJCma0xMla"
      ],
      "execution_count": 4,
      "outputs": [
        {
          "output_type": "stream",
          "text": [
            "--2020-08-29 11:53:40--  https://www.dropbox.com/sh/kpf9z73woodfssv/AAAw1_JIzpuVvwteJCma0xMla\n",
            "Resolving www.dropbox.com (www.dropbox.com)... 162.125.65.1, 2620:100:6021:1::a27d:4101\n",
            "Connecting to www.dropbox.com (www.dropbox.com)|162.125.65.1|:443... connected.\n",
            "HTTP request sent, awaiting response... 301 Moved Permanently\n",
            "Location: /sh/raw/kpf9z73woodfssv/AAAw1_JIzpuVvwteJCma0xMla [following]\n",
            "--2020-08-29 11:53:40--  https://www.dropbox.com/sh/raw/kpf9z73woodfssv/AAAw1_JIzpuVvwteJCma0xMla\n",
            "Reusing existing connection to www.dropbox.com:443.\n",
            "HTTP request sent, awaiting response... 302 Found\n",
            "Location: https://uc92f90ca6ce66d1632aaf149ad4.dl.dropboxusercontent.com/zip_download_get/AhySI9LQoAb2iPJnPkShWh2zxXX3T1NHnCqafjTttokDbKx7vDR4SVEwmB11D8aZ48Z2PHhfg9j1FYRnFsss8XuH6yeZrfy3jchL5vXmvwdsmQ [following]\n",
            "--2020-08-29 11:53:41--  https://uc92f90ca6ce66d1632aaf149ad4.dl.dropboxusercontent.com/zip_download_get/AhySI9LQoAb2iPJnPkShWh2zxXX3T1NHnCqafjTttokDbKx7vDR4SVEwmB11D8aZ48Z2PHhfg9j1FYRnFsss8XuH6yeZrfy3jchL5vXmvwdsmQ\n",
            "Resolving uc92f90ca6ce66d1632aaf149ad4.dl.dropboxusercontent.com (uc92f90ca6ce66d1632aaf149ad4.dl.dropboxusercontent.com)... 162.125.65.15, 2620:100:6021:15::a27d:410f\n",
            "Connecting to uc92f90ca6ce66d1632aaf149ad4.dl.dropboxusercontent.com (uc92f90ca6ce66d1632aaf149ad4.dl.dropboxusercontent.com)|162.125.65.15|:443... connected.\n",
            "HTTP request sent, awaiting response... 200 OK\n",
            "Length: 124206982 (118M) [application/zip]\n",
            "Saving to: ‘AAAw1_JIzpuVvwteJCma0xMla’\n",
            "\n",
            "AAAw1_JIzpuVvwteJCm 100%[===================>] 118.45M  23.6MB/s    in 5.0s    \n",
            "\n",
            "2020-08-29 11:53:46 (23.5 MB/s) - ‘AAAw1_JIzpuVvwteJCma0xMla’ saved [124206982/124206982]\n",
            "\n"
          ],
          "name": "stdout"
        }
      ]
    },
    {
      "cell_type": "code",
      "metadata": {
        "id": "_sygkgMUM_sO",
        "colab_type": "code",
        "colab": {}
      },
      "source": [
        "train = pd.read_csv(r'/content/spam_quora_data',encoding='ISO-8859-1')"
      ],
      "execution_count": 5,
      "outputs": []
    },
    {
      "cell_type": "code",
      "metadata": {
        "id": "SIvjbRFRM_kK",
        "colab_type": "code",
        "colab": {}
      },
      "source": [
        "train.dropna(axis=0 , how='any',inplace=True)\n",
        "train.rename(columns={'PK\u0003\u0004\u0014': 'qid'},inplace=True)"
      ],
      "execution_count": 6,
      "outputs": []
    },
    {
      "cell_type": "code",
      "metadata": {
        "id": "ul7p5qtuM_UX",
        "colab_type": "code",
        "colab": {
          "base_uri": "https://localhost:8080/",
          "height": 195
        },
        "outputId": "f06d6edf-8f9c-4ed3-b515-a4ab1c61507b"
      },
      "source": [
        "train.head()"
      ],
      "execution_count": 7,
      "outputs": [
        {
          "output_type": "execute_result",
          "data": {
            "text/html": [
              "<div>\n",
              "<style scoped>\n",
              "    .dataframe tbody tr th:only-of-type {\n",
              "        vertical-align: middle;\n",
              "    }\n",
              "\n",
              "    .dataframe tbody tr th {\n",
              "        vertical-align: top;\n",
              "    }\n",
              "\n",
              "    .dataframe thead th {\n",
              "        text-align: right;\n",
              "    }\n",
              "</style>\n",
              "<table border=\"1\" class=\"dataframe\">\n",
              "  <thead>\n",
              "    <tr style=\"text-align: right;\">\n",
              "      <th></th>\n",
              "      <th>qid</th>\n",
              "      <th>question_text</th>\n",
              "      <th>target</th>\n",
              "    </tr>\n",
              "  </thead>\n",
              "  <tbody>\n",
              "    <tr>\n",
              "      <th>0</th>\n",
              "      <td>00002165364db923c7e6</td>\n",
              "      <td>How did Quebec nationalists see their province...</td>\n",
              "      <td>0.0</td>\n",
              "    </tr>\n",
              "    <tr>\n",
              "      <th>1</th>\n",
              "      <td>000032939017120e6e44</td>\n",
              "      <td>Do you have an adopted dog, how would you enco...</td>\n",
              "      <td>0.0</td>\n",
              "    </tr>\n",
              "    <tr>\n",
              "      <th>2</th>\n",
              "      <td>0000412ca6e4628ce2cf</td>\n",
              "      <td>Why does velocity affect time? Does velocity a...</td>\n",
              "      <td>0.0</td>\n",
              "    </tr>\n",
              "    <tr>\n",
              "      <th>3</th>\n",
              "      <td>000042bf85aa498cd78e</td>\n",
              "      <td>How did Otto von Guericke used the Magdeburg h...</td>\n",
              "      <td>0.0</td>\n",
              "    </tr>\n",
              "    <tr>\n",
              "      <th>4</th>\n",
              "      <td>0000455dfa3e01eae3af</td>\n",
              "      <td>Can I convert montra helicon D to a mountain b...</td>\n",
              "      <td>0.0</td>\n",
              "    </tr>\n",
              "  </tbody>\n",
              "</table>\n",
              "</div>"
            ],
            "text/plain": [
              "                    qid  ... target\n",
              "0  00002165364db923c7e6  ...    0.0\n",
              "1  000032939017120e6e44  ...    0.0\n",
              "2  0000412ca6e4628ce2cf  ...    0.0\n",
              "3  000042bf85aa498cd78e  ...    0.0\n",
              "4  0000455dfa3e01eae3af  ...    0.0\n",
              "\n",
              "[5 rows x 3 columns]"
            ]
          },
          "metadata": {
            "tags": []
          },
          "execution_count": 7
        }
      ]
    },
    {
      "cell_type": "code",
      "metadata": {
        "id": "9MpdCRmwNdWS",
        "colab_type": "code",
        "colab": {}
      },
      "source": [
        "from sklearn.model_selection import train_test_split\n",
        "\n",
        "#Train & Test dataset\n",
        "quora_train,quora_test=train_test_split(train,test_size=0.2,random_state=2)\n"
      ],
      "execution_count": 8,
      "outputs": []
    },
    {
      "cell_type": "code",
      "metadata": {
        "id": "nprH1dleNfrM",
        "colab_type": "code",
        "colab": {}
      },
      "source": [
        "del quora_train[\"qid\"]"
      ],
      "execution_count": 9,
      "outputs": []
    },
    {
      "cell_type": "code",
      "metadata": {
        "id": "bu6mzAB2Eey6",
        "colab_type": "code",
        "colab": {
          "base_uri": "https://localhost:8080/",
          "height": 67
        },
        "outputId": "ce3ded66-5cf0-4893-dc99-2d6b2831ecd3"
      },
      "source": [
        "quora_train[\"target\"].value_counts()"
      ],
      "execution_count": 11,
      "outputs": [
        {
          "output_type": "execute_result",
          "data": {
            "text/plain": [
              "0.0    980078\n",
              "1.0     64819\n",
              "Name: target, dtype: int64"
            ]
          },
          "metadata": {
            "tags": []
          },
          "execution_count": 11
        }
      ]
    },
    {
      "cell_type": "code",
      "metadata": {
        "id": "Geo1vdn8Skl-",
        "colab_type": "code",
        "colab": {}
      },
      "source": [
        "#Train dataset split into train & validation dataset\n",
        "quora_trn,quora_val=train_test_split(quora_train,test_size=0.2,random_state=2)\n",
        "\n",
        "x_train=quora_trn['question_text']\n",
        "y_train=quora_trn['target']\n",
        "x_test=quora_val['question_text']     \n",
        "y_test=quora_val['target']"
      ],
      "execution_count": 48,
      "outputs": []
    },
    {
      "cell_type": "code",
      "metadata": {
        "id": "9qvATIa19Y6b",
        "colab_type": "code",
        "colab": {
          "base_uri": "https://localhost:8080/",
          "height": 34
        },
        "outputId": "8a3afc8f-5e2e-4f3f-e4f0-628e0830592a"
      },
      "source": [
        "y_test.shape"
      ],
      "execution_count": 49,
      "outputs": [
        {
          "output_type": "execute_result",
          "data": {
            "text/plain": [
              "(208980,)"
            ]
          },
          "metadata": {
            "tags": []
          },
          "execution_count": 49
        }
      ]
    },
    {
      "cell_type": "code",
      "metadata": {
        "id": "3w9karvsNtbU",
        "colab_type": "code",
        "colab": {
          "base_uri": "https://localhost:8080/",
          "height": 353
        },
        "outputId": "be7d65a4-1b1f-45f1-ee6f-216404750297"
      },
      "source": [
        "!wget http://nlp.stanford.edu/data/glove.42B.300d.zip"
      ],
      "execution_count": 12,
      "outputs": [
        {
          "output_type": "stream",
          "text": [
            "--2020-08-29 11:56:56--  http://nlp.stanford.edu/data/glove.42B.300d.zip\n",
            "Resolving nlp.stanford.edu (nlp.stanford.edu)... 171.64.67.140\n",
            "Connecting to nlp.stanford.edu (nlp.stanford.edu)|171.64.67.140|:80... connected.\n",
            "HTTP request sent, awaiting response... 302 Found\n",
            "Location: https://nlp.stanford.edu/data/glove.42B.300d.zip [following]\n",
            "--2020-08-29 11:56:57--  https://nlp.stanford.edu/data/glove.42B.300d.zip\n",
            "Connecting to nlp.stanford.edu (nlp.stanford.edu)|171.64.67.140|:443... connected.\n",
            "HTTP request sent, awaiting response... 301 Moved Permanently\n",
            "Location: http://downloads.cs.stanford.edu/nlp/data/glove.42B.300d.zip [following]\n",
            "--2020-08-29 11:56:57--  http://downloads.cs.stanford.edu/nlp/data/glove.42B.300d.zip\n",
            "Resolving downloads.cs.stanford.edu (downloads.cs.stanford.edu)... 171.64.64.22\n",
            "Connecting to downloads.cs.stanford.edu (downloads.cs.stanford.edu)|171.64.64.22|:80... connected.\n",
            "HTTP request sent, awaiting response... 200 OK\n",
            "Length: 1877800501 (1.7G) [application/zip]\n",
            "Saving to: ‘glove.42B.300d.zip’\n",
            "\n",
            "glove.42B.300d.zip  100%[===================>]   1.75G  1.94MB/s    in 14m 35s \n",
            "\n",
            "2020-08-29 12:11:32 (2.05 MB/s) - ‘glove.42B.300d.zip’ saved [1877800501/1877800501]\n",
            "\n"
          ],
          "name": "stdout"
        }
      ]
    },
    {
      "cell_type": "code",
      "metadata": {
        "id": "UXvgmg0bN0bQ",
        "colab_type": "code",
        "colab": {
          "base_uri": "https://localhost:8080/",
          "height": 50
        },
        "outputId": "7f19f581-48a4-4e6c-eea7-a10c2b701e07"
      },
      "source": [
        "!unzip /content/glove.42B.300d.zip"
      ],
      "execution_count": 15,
      "outputs": [
        {
          "output_type": "stream",
          "text": [
            "Archive:  /content/glove.42B.300d.zip\n",
            "  inflating: glove.42B.300d.txt      \n"
          ],
          "name": "stdout"
        }
      ]
    },
    {
      "cell_type": "code",
      "metadata": {
        "id": "xbmHlyTuN4Hh",
        "colab_type": "code",
        "colab": {}
      },
      "source": [
        "!rm /content/glove.42B.300d.zip"
      ],
      "execution_count": 16,
      "outputs": []
    },
    {
      "cell_type": "code",
      "metadata": {
        "id": "6GZu1GxoN4sZ",
        "colab_type": "code",
        "colab": {}
      },
      "source": [
        "embeding_index={}\n",
        "\n",
        "f=open('glove.42B.300d.txt',encoding='utf-8')\n",
        "\n",
        "for line in f:\n",
        "    values=line.split()\n",
        "    word=values[0]\n",
        "    coefs=np.asarray(values[1:],dtype='float32')\n",
        "    embeding_index[word]=coefs\n",
        "f.close()\n",
        "# this again will take good amount of time"
      ],
      "execution_count": 50,
      "outputs": []
    },
    {
      "cell_type": "code",
      "metadata": {
        "id": "p8IRkXloN37w",
        "colab_type": "code",
        "colab": {}
      },
      "source": [
        "from tensorflow.keras.preprocessing.text import Tokenizer\n",
        "from tensorflow.keras.preprocessing import sequence\n",
        "from tensorflow.keras.layers import LSTM,Activation,Dense,Input,Embedding,Dropout\n",
        "from tensorflow.keras.models import Model\n",
        "from nltk import word_tokenize"
      ],
      "execution_count": 51,
      "outputs": []
    },
    {
      "cell_type": "code",
      "metadata": {
        "id": "dhJxJZyjOMUQ",
        "colab_type": "code",
        "colab": {
          "base_uri": "https://localhost:8080/",
          "height": 67
        },
        "outputId": "f9478519-93d2-4e9f-db07-b8643a41935c"
      },
      "source": [
        "import nltk\n",
        "nltk.download('punkt')"
      ],
      "execution_count": 52,
      "outputs": [
        {
          "output_type": "stream",
          "text": [
            "[nltk_data] Downloading package punkt to /root/nltk_data...\n",
            "[nltk_data]   Package punkt is already up-to-date!\n"
          ],
          "name": "stdout"
        },
        {
          "output_type": "execute_result",
          "data": {
            "text/plain": [
              "True"
            ]
          },
          "metadata": {
            "tags": []
          },
          "execution_count": 52
        }
      ]
    },
    {
      "cell_type": "code",
      "metadata": {
        "id": "O_QCDL_sOMdt",
        "colab_type": "code",
        "colab": {}
      },
      "source": [
        "sent_lens=[len(word_tokenize(x)) for x in x_train]"
      ],
      "execution_count": 53,
      "outputs": []
    },
    {
      "cell_type": "code",
      "metadata": {
        "id": "oY2dpVUPOMIA",
        "colab_type": "code",
        "colab": {
          "base_uri": "https://localhost:8080/",
          "height": 34
        },
        "outputId": "dfcee9b9-802d-4999-e37a-66eb77e861bb"
      },
      "source": [
        "np.percentile(sent_lens,95)"
      ],
      "execution_count": 54,
      "outputs": [
        {
          "output_type": "execute_result",
          "data": {
            "text/plain": [
              "30.0"
            ]
          },
          "metadata": {
            "tags": []
          },
          "execution_count": 54
        }
      ]
    },
    {
      "cell_type": "code",
      "metadata": {
        "id": "HIAQ83saOTzV",
        "colab_type": "code",
        "colab": {}
      },
      "source": [
        "max_len=30\n",
        "\n",
        "tk=Tokenizer(char_level=False,split=' ')\n",
        "\n",
        "tk.fit_on_texts(x_train)\n",
        "\n",
        "seq_train=tk.texts_to_sequences(x_train)\n",
        "seq_test=tk.texts_to_sequences(x_test)\n",
        "\n",
        "vocab_size=len(tk.word_index)\n",
        "\n",
        "seq_train_matrix=sequence.pad_sequences(seq_train,maxlen=max_len)\n",
        "seq_test_matrix=sequence.pad_sequences(seq_test,maxlen=max_len)"
      ],
      "execution_count": 55,
      "outputs": []
    },
    {
      "cell_type": "code",
      "metadata": {
        "id": "ig-Z26SoEPIz",
        "colab_type": "code",
        "colab": {}
      },
      "source": [
        "embedding_matrix=np.zeros((vocab_size+1,300))\n",
        "words_not_available=0\n",
        "for word,i in tk.word_index.items():\n",
        "    embed_vector=embeding_index.get(word)\n",
        "    if embed_vector is not None:\n",
        "        embedding_matrix[i]=embed_vector\n",
        "    else:\n",
        "      words_not_available+=1"
      ],
      "execution_count": 57,
      "outputs": []
    },
    {
      "cell_type": "code",
      "metadata": {
        "id": "zKTpYcTMOTnY",
        "colab_type": "code",
        "colab": {}
      },
      "source": [
        "# Now while creating the model for text data , we'll keep embedding layer weights \n",
        "# non-trainable as we are supplying those values from our end \n",
        "\n",
        "inputs=Input(name='text_input',shape=[max_len])\n",
        "embed=Embedding(vocab_size+1,300,input_length=max_len,mask_zero=True,\n",
        "                weights=[embedding_matrix],trainable=False)(inputs)\n",
        "lstm_layer=LSTM(150)(embed)\n",
        "dense1=Dense(75,activation='relu')(lstm_layer)\n",
        "drop1=Dropout(0.2)(dense1)\n",
        "dense2=Dense(35,activation='relu')(drop1)\n",
        "drop2=Dropout(0.2)(dense2)\n",
        "dense3=Dense(15,activation='relu')(drop2)\n",
        "drop3=Dropout(0.2)(dense3)\n",
        "final_layer=Dense(1,activation='sigmoid')(drop3)\n",
        "\n",
        "model=Model(inputs=inputs,outputs=final_layer)"
      ],
      "execution_count": 88,
      "outputs": []
    },
    {
      "cell_type": "code",
      "metadata": {
        "id": "LWTLIMTbOhpY",
        "colab_type": "code",
        "colab": {
          "base_uri": "https://localhost:8080/",
          "height": 487
        },
        "outputId": "5e02bf08-134e-40cd-a075-e4efd5c3f8c9"
      },
      "source": [
        "model.summary()"
      ],
      "execution_count": 76,
      "outputs": [
        {
          "output_type": "stream",
          "text": [
            "Model: \"functional_9\"\n",
            "_________________________________________________________________\n",
            "Layer (type)                 Output Shape              Param #   \n",
            "=================================================================\n",
            "text_input (InputLayer)      [(None, 30)]              0         \n",
            "_________________________________________________________________\n",
            "embedding_4 (Embedding)      (None, 30, 300)           51964500  \n",
            "_________________________________________________________________\n",
            "lstm_4 (LSTM)                (None, 150)               270600    \n",
            "_________________________________________________________________\n",
            "dense_19 (Dense)             (None, 75)                11325     \n",
            "_________________________________________________________________\n",
            "dropout_15 (Dropout)         (None, 75)                0         \n",
            "_________________________________________________________________\n",
            "dense_20 (Dense)             (None, 35)                2660      \n",
            "_________________________________________________________________\n",
            "dropout_16 (Dropout)         (None, 35)                0         \n",
            "_________________________________________________________________\n",
            "dense_21 (Dense)             (None, 15)                540       \n",
            "_________________________________________________________________\n",
            "dropout_17 (Dropout)         (None, 15)                0         \n",
            "_________________________________________________________________\n",
            "dense_22 (Dense)             (None, 1)                 16        \n",
            "=================================================================\n",
            "Total params: 52,249,641\n",
            "Trainable params: 285,141\n",
            "Non-trainable params: 51,964,500\n",
            "_________________________________________________________________\n"
          ],
          "name": "stdout"
        }
      ]
    },
    {
      "cell_type": "code",
      "metadata": {
        "id": "6MjzZIn-Ohyn",
        "colab_type": "code",
        "colab": {}
      },
      "source": [
        "model.compile(optimizer='adam',loss='binary_crossentropy',metrics=['accuracy'])"
      ],
      "execution_count": 77,
      "outputs": []
    },
    {
      "cell_type": "code",
      "metadata": {
        "id": "4FP8y7jwWUEO",
        "colab_type": "code",
        "colab": {
          "base_uri": "https://localhost:8080/",
          "height": 84
        },
        "outputId": "4566f36d-2905-41b2-c114-700cee65847c"
      },
      "source": [
        "history = model.fit(\n",
        "    seq_train_matrix, y_train, batch_size=120, epochs=2, validation_data=(seq_test_matrix, y_test)\n",
        ")"
      ],
      "execution_count": 28,
      "outputs": [
        {
          "output_type": "stream",
          "text": [
            "Epoch 1/2\n",
            "6966/6966 [==============================] - 607s 87ms/step - loss: 0.1226 - accuracy: 0.9528 - val_loss: 0.1108 - val_accuracy: 0.9576\n",
            "Epoch 2/2\n",
            "6966/6966 [==============================] - 605s 87ms/step - loss: 0.1056 - accuracy: 0.9579 - val_loss: 0.1035 - val_accuracy: 0.9593\n"
          ],
          "name": "stdout"
        }
      ]
    },
    {
      "cell_type": "code",
      "metadata": {
        "id": "LXnq6TtiWT6W",
        "colab_type": "code",
        "colab": {
          "base_uri": "https://localhost:8080/",
          "height": 50
        },
        "outputId": "94029a37-5800-43f6-8bf3-c7eb1a1b685b"
      },
      "source": [
        "#Performance on Validation dataset\n",
        "model.evaluate(seq_test_matrix, y_test, batch_size=120)"
      ],
      "execution_count": 29,
      "outputs": [
        {
          "output_type": "stream",
          "text": [
            "1742/1742 [==============================] - 18s 10ms/step - loss: 0.1035 - accuracy: 0.9593\n"
          ],
          "name": "stdout"
        },
        {
          "output_type": "execute_result",
          "data": {
            "text/plain": [
              "[0.10350986570119858, 0.9592879414558411]"
            ]
          },
          "metadata": {
            "tags": []
          },
          "execution_count": 29
        }
      ]
    },
    {
      "cell_type": "code",
      "metadata": {
        "id": "5uAs6_BbLsxP",
        "colab_type": "code",
        "colab": {
          "base_uri": "https://localhost:8080/",
          "height": 34
        },
        "outputId": "e64b1069-148c-4c1d-9d89-7c8189ac5da7"
      },
      "source": [
        "from sklearn.metrics import roc_auc_score,confusion_matrix\n",
        "roc_auc_score(y_test,p)"
      ],
      "execution_count": 32,
      "outputs": [
        {
          "output_type": "execute_result",
          "data": {
            "text/plain": [
              "0.9632106952955616"
            ]
          },
          "metadata": {
            "tags": []
          },
          "execution_count": 32
        }
      ]
    },
    {
      "cell_type": "code",
      "metadata": {
        "id": "gthnlkXHaHEY",
        "colab_type": "code",
        "colab": {}
      },
      "source": [
        "#Merging train and validation data set\n",
        "X_train=pd.concat([x_train,x_test],axis=0)\n",
        "Y_train=pd.concat([y_train,y_test],axis=0)"
      ],
      "execution_count": 106,
      "outputs": []
    },
    {
      "cell_type": "code",
      "metadata": {
        "id": "AF_LyIZVxtmd",
        "colab_type": "code",
        "colab": {}
      },
      "source": [
        "quora_test.reset_index(drop=True,inplace=True)"
      ],
      "execution_count": 194,
      "outputs": []
    },
    {
      "cell_type": "code",
      "metadata": {
        "id": "5gOpOMaebB92",
        "colab_type": "code",
        "colab": {}
      },
      "source": [
        "X_test=quora_test['question_text']     \n",
        "Y_test=quora_test['target']"
      ],
      "execution_count": 110,
      "outputs": []
    },
    {
      "cell_type": "code",
      "metadata": {
        "id": "zB1j25vgbbLx",
        "colab_type": "code",
        "colab": {}
      },
      "source": [
        "X_test.reset_index(drop=True,inplace=True)\n",
        "Y_test.reset_index(drop=True,inplace=True)"
      ],
      "execution_count": 113,
      "outputs": []
    },
    {
      "cell_type": "code",
      "metadata": {
        "id": "KhcPeGmCb-I4",
        "colab_type": "code",
        "colab": {}
      },
      "source": [
        "sent_lens=[len(word_tokenize(x)) for x in X_train]"
      ],
      "execution_count": 115,
      "outputs": []
    },
    {
      "cell_type": "code",
      "metadata": {
        "id": "MHaFlDpGcdph",
        "colab_type": "code",
        "colab": {
          "base_uri": "https://localhost:8080/",
          "height": 34
        },
        "outputId": "62a3b5c1-937b-4585-890e-38f0e604a8c2"
      },
      "source": [
        "np.percentile(sent_lens,95)"
      ],
      "execution_count": 119,
      "outputs": [
        {
          "output_type": "execute_result",
          "data": {
            "text/plain": [
              "30.0"
            ]
          },
          "metadata": {
            "tags": []
          },
          "execution_count": 119
        }
      ]
    },
    {
      "cell_type": "code",
      "metadata": {
        "id": "yM9hzG7Jcgfl",
        "colab_type": "code",
        "colab": {}
      },
      "source": [
        "max_len=30\n",
        "\n",
        "tk=Tokenizer(char_level=False,split=' ')\n",
        "\n",
        "tk.fit_on_texts(X_train)\n",
        "\n",
        "seq_train=tk.texts_to_sequences(X_train)\n",
        "seq_test=tk.texts_to_sequences(X_test)\n",
        "\n",
        "vocab_size=len(tk.word_index)\n",
        "\n",
        "seq_train_matrix=sequence.pad_sequences(seq_train,maxlen=max_len)\n",
        "seq_test_matrix=sequence.pad_sequences(seq_test,maxlen=max_len)"
      ],
      "execution_count": 120,
      "outputs": []
    },
    {
      "cell_type": "code",
      "metadata": {
        "id": "jF0xStGVcuEj",
        "colab_type": "code",
        "colab": {}
      },
      "source": [
        "embedding_matrix=np.zeros((vocab_size+1,300))\n",
        "words_not_available=0\n",
        "for word,i in tk.word_index.items():\n",
        "    embed_vector=embeding_index.get(word)\n",
        "    if embed_vector is not None:\n",
        "        embedding_matrix[i]=embed_vector\n",
        "    else:\n",
        "      words_not_available+=1"
      ],
      "execution_count": 122,
      "outputs": []
    },
    {
      "cell_type": "code",
      "metadata": {
        "id": "dKT-BjhIc0R_",
        "colab_type": "code",
        "colab": {
          "base_uri": "https://localhost:8080/",
          "height": 487
        },
        "outputId": "16c8e449-ce2a-4c73-d9e0-eca79188ce87"
      },
      "source": [
        "# LSTM Model with Glove Embedding Layer\n",
        "\n",
        "inputs=Input(name='text_input',shape=[max_len])\n",
        "embed=Embedding(vocab_size+1,300,input_length=max_len,mask_zero=True,\n",
        "                weights=[embedding_matrix],trainable=False)(inputs)\n",
        "lstm_layer=LSTM(150)(embed)\n",
        "dense1=Dense(75,activation='relu')(lstm_layer)\n",
        "drop1=Dropout(0.2)(dense1)\n",
        "dense2=Dense(35,activation='relu')(drop1)\n",
        "drop2=Dropout(0.2)(dense2)\n",
        "dense3=Dense(15,activation='relu')(drop2)\n",
        "drop3=Dropout(0.2)(dense3)\n",
        "final_layer=Dense(1,activation='sigmoid')(drop3)\n",
        "\n",
        "model=Model(inputs=inputs,outputs=final_layer)\n",
        "\n",
        "model.summary()"
      ],
      "execution_count": 124,
      "outputs": [
        {
          "output_type": "stream",
          "text": [
            "Model: \"functional_13\"\n",
            "_________________________________________________________________\n",
            "Layer (type)                 Output Shape              Param #   \n",
            "=================================================================\n",
            "text_input (InputLayer)      [(None, 30)]              0         \n",
            "_________________________________________________________________\n",
            "embedding_6 (Embedding)      (None, 30, 300)           58866300  \n",
            "_________________________________________________________________\n",
            "lstm_6 (LSTM)                (None, 150)               270600    \n",
            "_________________________________________________________________\n",
            "dense_27 (Dense)             (None, 75)                11325     \n",
            "_________________________________________________________________\n",
            "dropout_21 (Dropout)         (None, 75)                0         \n",
            "_________________________________________________________________\n",
            "dense_28 (Dense)             (None, 35)                2660      \n",
            "_________________________________________________________________\n",
            "dropout_22 (Dropout)         (None, 35)                0         \n",
            "_________________________________________________________________\n",
            "dense_29 (Dense)             (None, 15)                540       \n",
            "_________________________________________________________________\n",
            "dropout_23 (Dropout)         (None, 15)                0         \n",
            "_________________________________________________________________\n",
            "dense_30 (Dense)             (None, 1)                 16        \n",
            "=================================================================\n",
            "Total params: 59,151,441\n",
            "Trainable params: 285,141\n",
            "Non-trainable params: 58,866,300\n",
            "_________________________________________________________________\n"
          ],
          "name": "stdout"
        }
      ]
    },
    {
      "cell_type": "code",
      "metadata": {
        "id": "FclgXd4DeZzs",
        "colab_type": "code",
        "colab": {
          "base_uri": "https://localhost:8080/",
          "height": 185
        },
        "outputId": "1d9b3321-5b24-4fc7-cd7b-16bf9983d908"
      },
      "source": [
        "model.compile(optimizer='adam',loss='binary_crossentropy',metrics=['accuracy'])\n",
        "\n",
        "history=model.fit(seq_train_matrix,Y_train,validation_data=(seq_test_matrix,Y_test),epochs=5,batch_size=150)"
      ],
      "execution_count": 126,
      "outputs": [
        {
          "output_type": "stream",
          "text": [
            "Epoch 1/5\n",
            "6966/6966 [==============================] - 520s 75ms/step - loss: 0.1184 - accuracy: 0.9539 - val_loss: 0.1078 - val_accuracy: 0.9570\n",
            "Epoch 2/5\n",
            "6966/6966 [==============================] - 519s 75ms/step - loss: 0.1045 - accuracy: 0.9585 - val_loss: 0.1019 - val_accuracy: 0.9589\n",
            "Epoch 3/5\n",
            "6966/6966 [==============================] - 517s 74ms/step - loss: 0.0965 - accuracy: 0.9609 - val_loss: 0.1042 - val_accuracy: 0.9594\n",
            "Epoch 4/5\n",
            "6966/6966 [==============================] - 502s 72ms/step - loss: 0.0883 - accuracy: 0.9636 - val_loss: 0.1061 - val_accuracy: 0.9574\n",
            "Epoch 5/5\n",
            "6966/6966 [==============================] - 516s 74ms/step - loss: 0.0803 - accuracy: 0.9665 - val_loss: 0.1113 - val_accuracy: 0.9571\n"
          ],
          "name": "stdout"
        }
      ]
    },
    {
      "cell_type": "code",
      "metadata": {
        "id": "AZ6ZpIOHeqLe",
        "colab_type": "code",
        "colab": {}
      },
      "source": [
        "#model.save(\"my_h5_model_29_08_2020_4_epoch_5.h5\")"
      ],
      "execution_count": 127,
      "outputs": []
    },
    {
      "cell_type": "code",
      "metadata": {
        "id": "p1tBT_8Eph3O",
        "colab_type": "code",
        "colab": {
          "base_uri": "https://localhost:8080/",
          "height": 50
        },
        "outputId": "7b8b0abb-e97a-440e-9a1f-6530604bb965"
      },
      "source": [
        "model.evaluate(seq_test_matrix, Y_test, batch_size=150)"
      ],
      "execution_count": 129,
      "outputs": [
        {
          "output_type": "stream",
          "text": [
            "1742/1742 [==============================] - 15s 8ms/step - loss: 0.1113 - accuracy: 0.9571\n"
          ],
          "name": "stdout"
        },
        {
          "output_type": "execute_result",
          "data": {
            "text/plain": [
              "[0.11132235825061798, 0.9571097493171692]"
            ]
          },
          "metadata": {
            "tags": []
          },
          "execution_count": 129
        }
      ]
    },
    {
      "cell_type": "code",
      "metadata": {
        "id": "awn6PyECponI",
        "colab_type": "code",
        "colab": {}
      },
      "source": [
        "#Prediction on Test Data Set\n",
        "predict=model.predict(seq_test_matrix)"
      ],
      "execution_count": 175,
      "outputs": []
    },
    {
      "cell_type": "code",
      "metadata": {
        "id": "liU60HFdqBiz",
        "colab_type": "code",
        "colab": {
          "base_uri": "https://localhost:8080/",
          "height": 34
        },
        "outputId": "2197acf9-2063-443a-8c4b-1eff41838535"
      },
      "source": [
        "from sklearn.metrics import roc_auc_score,confusion_matrix\n",
        "roc_auc_score(Y_test,predict)"
      ],
      "execution_count": 131,
      "outputs": [
        {
          "output_type": "execute_result",
          "data": {
            "text/plain": [
              "0.9622702399596498"
            ]
          },
          "metadata": {
            "tags": []
          },
          "execution_count": 131
        }
      ]
    },
    {
      "cell_type": "code",
      "metadata": {
        "id": "ZNlW07OuqFuH",
        "colab_type": "code",
        "colab": {}
      },
      "source": [
        "Y_Predicted = pd.DataFrame(predict, index=range(predict.shape[0]),\n",
        "                     columns=range(predict.shape[1]))"
      ],
      "execution_count": 207,
      "outputs": []
    },
    {
      "cell_type": "code",
      "metadata": {
        "id": "lc71IBenqo7H",
        "colab_type": "code",
        "colab": {}
      },
      "source": [
        "Y_Predicted = np.where(Y_Predicted > 0.5, 1, 0)\n",
        "Y_test=Y_test.astype(int)"
      ],
      "execution_count": 209,
      "outputs": []
    },
    {
      "cell_type": "code",
      "metadata": {
        "id": "_SFiizwKvanE",
        "colab_type": "code",
        "colab": {}
      },
      "source": [
        "Y_Predicted = pd.DataFrame(list(Y_Predicted),columns=['Predicted Target'])\n",
        "Y_Actual = pd.DataFrame(Y_test.values,columns=[\"Actual Target\"])\n",
        "Final_Comparison=pd.concat([quora_test['qid'],quora_test['question_text'],Y_Actual,Y_Predicted],axis=1)"
      ],
      "execution_count": 210,
      "outputs": []
    },
    {
      "cell_type": "code",
      "metadata": {
        "id": "IxmBdJD4wYz2",
        "colab_type": "code",
        "colab": {
          "base_uri": "https://localhost:8080/",
          "height": 343
        },
        "outputId": "506bbeb7-d316-4bb8-dc08-0d97a71982b7"
      },
      "source": [
        "Final_Comparison.head(10)"
      ],
      "execution_count": 213,
      "outputs": [
        {
          "output_type": "execute_result",
          "data": {
            "text/html": [
              "<div>\n",
              "<style scoped>\n",
              "    .dataframe tbody tr th:only-of-type {\n",
              "        vertical-align: middle;\n",
              "    }\n",
              "\n",
              "    .dataframe tbody tr th {\n",
              "        vertical-align: top;\n",
              "    }\n",
              "\n",
              "    .dataframe thead th {\n",
              "        text-align: right;\n",
              "    }\n",
              "</style>\n",
              "<table border=\"1\" class=\"dataframe\">\n",
              "  <thead>\n",
              "    <tr style=\"text-align: right;\">\n",
              "      <th></th>\n",
              "      <th>qid</th>\n",
              "      <th>question_text</th>\n",
              "      <th>Actual Target</th>\n",
              "      <th>Predicted Target</th>\n",
              "    </tr>\n",
              "  </thead>\n",
              "  <tbody>\n",
              "    <tr>\n",
              "      <th>0</th>\n",
              "      <td>8747d2afef04f494fd71</td>\n",
              "      <td>How does stopping refugee families, women and ...</td>\n",
              "      <td>1</td>\n",
              "      <td>0</td>\n",
              "    </tr>\n",
              "    <tr>\n",
              "      <th>1</th>\n",
              "      <td>5ad7be48609f9b63a5b0</td>\n",
              "      <td>What makes you start your business?</td>\n",
              "      <td>0</td>\n",
              "      <td>0</td>\n",
              "    </tr>\n",
              "    <tr>\n",
              "      <th>2</th>\n",
              "      <td>be9e2e86a915f88212f9</td>\n",
              "      <td>Someone said they wouldn't give me something \"...</td>\n",
              "      <td>0</td>\n",
              "      <td>0</td>\n",
              "    </tr>\n",
              "    <tr>\n",
              "      <th>3</th>\n",
              "      <td>bc721413105adba6d757</td>\n",
              "      <td>What is best option for a disqualified medical...</td>\n",
              "      <td>0</td>\n",
              "      <td>0</td>\n",
              "    </tr>\n",
              "    <tr>\n",
              "      <th>4</th>\n",
              "      <td>79a5f298b4b5dbac4dd7</td>\n",
              "      <td>What are the best sites to create apps on Andr...</td>\n",
              "      <td>0</td>\n",
              "      <td>0</td>\n",
              "    </tr>\n",
              "    <tr>\n",
              "      <th>5</th>\n",
              "      <td>ff1fd33a96c6c72b61b6</td>\n",
              "      <td>Which is the best homeopathic face wash for wo...</td>\n",
              "      <td>0</td>\n",
              "      <td>0</td>\n",
              "    </tr>\n",
              "    <tr>\n",
              "      <th>6</th>\n",
              "      <td>251b29aa445efc14aa04</td>\n",
              "      <td>Is it possible that the laws of physics may ha...</td>\n",
              "      <td>0</td>\n",
              "      <td>0</td>\n",
              "    </tr>\n",
              "    <tr>\n",
              "      <th>7</th>\n",
              "      <td>412350e4aaa272a16f81</td>\n",
              "      <td>What's your take on the dispute between core d...</td>\n",
              "      <td>0</td>\n",
              "      <td>0</td>\n",
              "    </tr>\n",
              "    <tr>\n",
              "      <th>8</th>\n",
              "      <td>bfd87b2feffdeee55656</td>\n",
              "      <td>What is the basic difference between Automatic...</td>\n",
              "      <td>0</td>\n",
              "      <td>0</td>\n",
              "    </tr>\n",
              "    <tr>\n",
              "      <th>9</th>\n",
              "      <td>99a93d95d6d030de6205</td>\n",
              "      <td>How is the taste of SirkkaleipÃ¤?</td>\n",
              "      <td>0</td>\n",
              "      <td>0</td>\n",
              "    </tr>\n",
              "  </tbody>\n",
              "</table>\n",
              "</div>"
            ],
            "text/plain": [
              "                    qid  ... Predicted Target\n",
              "0  8747d2afef04f494fd71  ...                0\n",
              "1  5ad7be48609f9b63a5b0  ...                0\n",
              "2  be9e2e86a915f88212f9  ...                0\n",
              "3  bc721413105adba6d757  ...                0\n",
              "4  79a5f298b4b5dbac4dd7  ...                0\n",
              "5  ff1fd33a96c6c72b61b6  ...                0\n",
              "6  251b29aa445efc14aa04  ...                0\n",
              "7  412350e4aaa272a16f81  ...                0\n",
              "8  bfd87b2feffdeee55656  ...                0\n",
              "9  99a93d95d6d030de6205  ...                0\n",
              "\n",
              "[10 rows x 4 columns]"
            ]
          },
          "metadata": {
            "tags": []
          },
          "execution_count": 213
        }
      ]
    },
    {
      "cell_type": "code",
      "metadata": {
        "id": "FSfie0BUrijH",
        "colab_type": "code",
        "colab": {
          "base_uri": "https://localhost:8080/",
          "height": 50
        },
        "outputId": "3ccb9e56-3b57-4405-aa53-be7d09433895"
      },
      "source": [
        "confusion_matrix(Y_Actual,Y_Predicted)"
      ],
      "execution_count": 183,
      "outputs": [
        {
          "output_type": "execute_result",
          "data": {
            "text/plain": [
              "array([[239305,   5929],\n",
              "       [  5275,  10716]])"
            ]
          },
          "metadata": {
            "tags": []
          },
          "execution_count": 183
        }
      ]
    },
    {
      "cell_type": "code",
      "metadata": {
        "id": "HLi99fNMrxIF",
        "colab_type": "code",
        "colab": {
          "base_uri": "https://localhost:8080/",
          "height": 545
        },
        "outputId": "13f5f988-3a69-49f5-9dbf-2f82574085d1"
      },
      "source": [
        "# Plot the chart for accuracy and loss on both training and validation\n",
        "%matplotlib inline\n",
        "import matplotlib.pyplot as plt\n",
        "acc = history.history['accuracy']\n",
        "val_acc = history.history['val_accuracy']\n",
        "loss = history.history['loss']\n",
        "val_loss = history.history['val_loss']\n",
        "\n",
        "epochs = range(len(acc))\n",
        "\n",
        "plt.plot(epochs, acc, 'r', label='Training accuracy')\n",
        "plt.plot(epochs, val_acc, 'b', label='Validation accuracy')\n",
        "plt.title('Training and validation accuracy')\n",
        "plt.legend()\n",
        "plt.figure()\n",
        "\n",
        "plt.plot(epochs, loss, 'r', label='Training Loss')\n",
        "plt.plot(epochs, val_loss, 'b', label='Validation Loss')\n",
        "plt.title('Training and validation loss')\n",
        "plt.legend()\n",
        "\n",
        "plt.show()"
      ],
      "execution_count": 165,
      "outputs": [
        {
          "output_type": "display_data",
          "data": {
            "image/png": "[encoded data removed]",
            "text/plain": [
              "<Figure size 432x288 with 1 Axes>"
            ]
          },
          "metadata": {
            "tags": [],
            "needs_background": "light"
          }
        },
        {
          "output_type": "display_data",
          "data": {
            "image/png": "[encoded data removed]",
            "text/plain": [
              "<Figure size 432x288 with 1 Axes>"
            ]
          },
          "metadata": {
            "tags": [],
            "needs_background": "light"
          }
        }
      ]
    },
    {
      "cell_type": "code",
      "metadata": {
        "id": "rDHPKH3ks_mW",
        "colab_type": "code",
        "colab": {}
      },
      "source": [
        ""
      ],
      "execution_count": null,
      "outputs": []
    }
  ]
}