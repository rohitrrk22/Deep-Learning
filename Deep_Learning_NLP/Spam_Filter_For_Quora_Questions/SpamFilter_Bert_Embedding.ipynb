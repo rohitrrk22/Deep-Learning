{
  "nbformat": 4,
  "nbformat_minor": 0,
  "metadata": {
    "colab": {
      "name": "SpamFilter_Bert_Embedding.ipynb",
      "provenance": [],
      "collapsed_sections": [],
      "authorship_tag": "ABX9TyPcoZipDRcXZmYtaNFYKkJ6",
      "include_colab_link": true
    },
    "kernelspec": {
      "name": "python3",
      "display_name": "Python 3"
    },
    "accelerator": "GPU"
  },
  "cells": [
    {
      "cell_type": "markdown",
      "metadata": {
        "id": "view-in-github",
        "colab_type": "text"
      },
      "source": [
        "<a href=\"https://colab.research.google.com/github/rohitrrk22/Deep-Learning/blob/master/Deep_Learning_NLP/Spam_Filter_For_Quora_Questions/SpamFilter_Bert_Embedding.ipynb\" target=\"_parent\"><img src=\"https://colab.research.google.com/assets/colab-badge.svg\" alt=\"Open In Colab\"/></a>"
      ]
    },
    {
      "cell_type": "code",
      "metadata": {
        "id": "AyIfbAjq5Mmy",
        "colab_type": "code",
        "colab": {}
      },
      "source": [
        "%tensorflow_version 2.x"
      ],
      "execution_count": 1,
      "outputs": []
    },
    {
      "cell_type": "code",
      "metadata": {
        "id": "fxEXr_qo0BNG",
        "colab_type": "code",
        "colab": {}
      },
      "source": [
        "import pandas as pd\n",
        "import numpy as np"
      ],
      "execution_count": 2,
      "outputs": []
    },
    {
      "cell_type": "code",
      "metadata": {
        "id": "b-jqDFLN2ACj",
        "colab_type": "code",
        "colab": {
          "base_uri": "https://localhost:8080/",
          "height": 373
        },
        "outputId": "a44ccba8-d5ab-4d89-a32c-ea5e9bc12582"
      },
      "source": [
        "!wget https://www.dropbox.com/sh/kpf9z73woodfssv/AAAw1_JIzpuVvwteJCma0xMla"
      ],
      "execution_count": 3,
      "outputs": [
        {
          "output_type": "stream",
          "text": [
            "--2020-08-30 07:54:29--  https://www.dropbox.com/sh/kpf9z73woodfssv/AAAw1_JIzpuVvwteJCma0xMla\n",
            "Resolving www.dropbox.com (www.dropbox.com)... 162.125.82.1, 2620:100:6032:1::a27d:5201\n",
            "Connecting to www.dropbox.com (www.dropbox.com)|162.125.82.1|:443... connected.\n",
            "HTTP request sent, awaiting response... 301 Moved Permanently\n",
            "Location: /sh/raw/kpf9z73woodfssv/AAAw1_JIzpuVvwteJCma0xMla [following]\n",
            "--2020-08-30 07:54:29--  https://www.dropbox.com/sh/raw/kpf9z73woodfssv/AAAw1_JIzpuVvwteJCma0xMla\n",
            "Reusing existing connection to www.dropbox.com:443.\n",
            "HTTP request sent, awaiting response... 302 Found\n",
            "Location: https://ucaa0a3c15817d2b880c7aca376f.dl.dropboxusercontent.com/zip_download_get/Ah1i0Xg4CQU6-zgL9jr4_KThk7-lt1oDtT3zWZh6J21dErIS13bGsRZwKSGbcMOnzvgyR-RX3HOJL83V982-WekXrhlg2k0LD7pgkJicjn8xeg [following]\n",
            "--2020-08-30 07:54:30--  https://ucaa0a3c15817d2b880c7aca376f.dl.dropboxusercontent.com/zip_download_get/Ah1i0Xg4CQU6-zgL9jr4_KThk7-lt1oDtT3zWZh6J21dErIS13bGsRZwKSGbcMOnzvgyR-RX3HOJL83V982-WekXrhlg2k0LD7pgkJicjn8xeg\n",
            "Resolving ucaa0a3c15817d2b880c7aca376f.dl.dropboxusercontent.com (ucaa0a3c15817d2b880c7aca376f.dl.dropboxusercontent.com)... 162.125.82.15, 2620:100:6032:15::a27d:520f\n",
            "Connecting to ucaa0a3c15817d2b880c7aca376f.dl.dropboxusercontent.com (ucaa0a3c15817d2b880c7aca376f.dl.dropboxusercontent.com)|162.125.82.15|:443... connected.\n",
            "HTTP request sent, awaiting response... 200 OK\n",
            "Length: 124206982 (118M) [application/zip]\n",
            "Saving to: ‘AAAw1_JIzpuVvwteJCma0xMla’\n",
            "\n",
            "AAAw1_JIzpuVvwteJCm 100%[===================>] 118.45M  11.8MB/s    in 9.9s    \n",
            "\n",
            "2020-08-30 07:54:40 (12.0 MB/s) - ‘AAAw1_JIzpuVvwteJCma0xMla’ saved [124206982/124206982]\n",
            "\n"
          ],
          "name": "stdout"
        }
      ]
    },
    {
      "cell_type": "code",
      "metadata": {
        "id": "_sygkgMUM_sO",
        "colab_type": "code",
        "colab": {}
      },
      "source": [
        "train = pd.read_csv(r'/content/spam_quora_data',encoding='ISO-8859-1')"
      ],
      "execution_count": 4,
      "outputs": []
    },
    {
      "cell_type": "code",
      "metadata": {
        "id": "SIvjbRFRM_kK",
        "colab_type": "code",
        "colab": {}
      },
      "source": [
        "train.dropna(axis=0 , how='any',inplace=True)\n",
        "train.rename(columns={'PK\u0003\u0004\u0014': 'qid'},inplace=True)"
      ],
      "execution_count": 5,
      "outputs": []
    },
    {
      "cell_type": "code",
      "metadata": {
        "id": "ul7p5qtuM_UX",
        "colab_type": "code",
        "colab": {
          "base_uri": "https://localhost:8080/",
          "height": 195
        },
        "outputId": "852c13dc-ad5e-4cd8-b275-9e78302532f8"
      },
      "source": [
        "train.head()"
      ],
      "execution_count": 6,
      "outputs": [
        {
          "output_type": "execute_result",
          "data": {
            "text/html": [
              "<div>\n",
              "<style scoped>\n",
              "    .dataframe tbody tr th:only-of-type {\n",
              "        vertical-align: middle;\n",
              "    }\n",
              "\n",
              "    .dataframe tbody tr th {\n",
              "        vertical-align: top;\n",
              "    }\n",
              "\n",
              "    .dataframe thead th {\n",
              "        text-align: right;\n",
              "    }\n",
              "</style>\n",
              "<table border=\"1\" class=\"dataframe\">\n",
              "  <thead>\n",
              "    <tr style=\"text-align: right;\">\n",
              "      <th></th>\n",
              "      <th>qid</th>\n",
              "      <th>question_text</th>\n",
              "      <th>target</th>\n",
              "    </tr>\n",
              "  </thead>\n",
              "  <tbody>\n",
              "    <tr>\n",
              "      <th>0</th>\n",
              "      <td>00002165364db923c7e6</td>\n",
              "      <td>How did Quebec nationalists see their province...</td>\n",
              "      <td>0.0</td>\n",
              "    </tr>\n",
              "    <tr>\n",
              "      <th>1</th>\n",
              "      <td>000032939017120e6e44</td>\n",
              "      <td>Do you have an adopted dog, how would you enco...</td>\n",
              "      <td>0.0</td>\n",
              "    </tr>\n",
              "    <tr>\n",
              "      <th>2</th>\n",
              "      <td>0000412ca6e4628ce2cf</td>\n",
              "      <td>Why does velocity affect time? Does velocity a...</td>\n",
              "      <td>0.0</td>\n",
              "    </tr>\n",
              "    <tr>\n",
              "      <th>3</th>\n",
              "      <td>000042bf85aa498cd78e</td>\n",
              "      <td>How did Otto von Guericke used the Magdeburg h...</td>\n",
              "      <td>0.0</td>\n",
              "    </tr>\n",
              "    <tr>\n",
              "      <th>4</th>\n",
              "      <td>0000455dfa3e01eae3af</td>\n",
              "      <td>Can I convert montra helicon D to a mountain b...</td>\n",
              "      <td>0.0</td>\n",
              "    </tr>\n",
              "  </tbody>\n",
              "</table>\n",
              "</div>"
            ],
            "text/plain": [
              "                    qid  ... target\n",
              "0  00002165364db923c7e6  ...    0.0\n",
              "1  000032939017120e6e44  ...    0.0\n",
              "2  0000412ca6e4628ce2cf  ...    0.0\n",
              "3  000042bf85aa498cd78e  ...    0.0\n",
              "4  0000455dfa3e01eae3af  ...    0.0\n",
              "\n",
              "[5 rows x 3 columns]"
            ]
          },
          "metadata": {
            "tags": []
          },
          "execution_count": 6
        }
      ]
    },
    {
      "cell_type": "code",
      "metadata": {
        "id": "9MpdCRmwNdWS",
        "colab_type": "code",
        "colab": {}
      },
      "source": [
        "#del train[\"qid\"]"
      ],
      "execution_count": 7,
      "outputs": []
    },
    {
      "cell_type": "code",
      "metadata": {
        "id": "nprH1dleNfrM",
        "colab_type": "code",
        "colab": {}
      },
      "source": [
        "from sklearn.model_selection import train_test_split\n",
        "\n",
        "#Train & Test dataset\n",
        "quora_train,quora_test=train_test_split(train,test_size=0.2,random_state=2)\n",
        "\n",
        "del quora_train[\"qid\"]"
      ],
      "execution_count": 8,
      "outputs": []
    },
    {
      "cell_type": "code",
      "metadata": {
        "id": "1-87es5k7o5_",
        "colab_type": "code",
        "colab": {
          "base_uri": "https://localhost:8080/",
          "height": 34
        },
        "outputId": "1188b6d2-8b95-4540-bb4d-ef7b8f6b7321"
      },
      "source": [
        "quora_train.shape"
      ],
      "execution_count": 9,
      "outputs": [
        {
          "output_type": "execute_result",
          "data": {
            "text/plain": [
              "(1044897, 2)"
            ]
          },
          "metadata": {
            "tags": []
          },
          "execution_count": 9
        }
      ]
    },
    {
      "cell_type": "code",
      "metadata": {
        "id": "4dvqPOK77sc5",
        "colab_type": "code",
        "colab": {
          "base_uri": "https://localhost:8080/",
          "height": 34
        },
        "outputId": "bc6fbb08-629d-48b9-c5b3-337c6130d30b"
      },
      "source": [
        "quora_test.shape"
      ],
      "execution_count": 10,
      "outputs": [
        {
          "output_type": "execute_result",
          "data": {
            "text/plain": [
              "(261225, 3)"
            ]
          },
          "metadata": {
            "tags": []
          },
          "execution_count": 10
        }
      ]
    },
    {
      "cell_type": "code",
      "metadata": {
        "id": "S5BnZpd074ZB",
        "colab_type": "code",
        "colab": {}
      },
      "source": [
        "#Train dataset split into train & validation dataset\n",
        "quora_trn,quora_val=train_test_split(quora_train,test_size=0.2,random_state=2)"
      ],
      "execution_count": 11,
      "outputs": []
    },
    {
      "cell_type": "code",
      "metadata": {
        "id": "fAQirytX75FL",
        "colab_type": "code",
        "colab": {
          "base_uri": "https://localhost:8080/",
          "height": 34
        },
        "outputId": "f3818637-4abd-4604-8296-f47ac0d3a250"
      },
      "source": [
        "quora_trn.shape"
      ],
      "execution_count": 12,
      "outputs": [
        {
          "output_type": "execute_result",
          "data": {
            "text/plain": [
              "(835917, 2)"
            ]
          },
          "metadata": {
            "tags": []
          },
          "execution_count": 12
        }
      ]
    },
    {
      "cell_type": "code",
      "metadata": {
        "id": "V55g-Rrv8hfg",
        "colab_type": "code",
        "colab": {
          "base_uri": "https://localhost:8080/",
          "height": 34
        },
        "outputId": "c9b7e4cd-4acc-43dd-eb6a-11948100aacd"
      },
      "source": [
        "quora_val.shape"
      ],
      "execution_count": 13,
      "outputs": [
        {
          "output_type": "execute_result",
          "data": {
            "text/plain": [
              "(208980, 2)"
            ]
          },
          "metadata": {
            "tags": []
          },
          "execution_count": 13
        }
      ]
    },
    {
      "cell_type": "code",
      "metadata": {
        "id": "TdurGi0i9fhx",
        "colab_type": "code",
        "colab": {}
      },
      "source": [
        "x_train=quora_trn['question_text']\n",
        "y_train=quora_trn['target']\n",
        "x_test=quora_val['question_text']     \n",
        "y_test=quora_val['target']"
      ],
      "execution_count": 14,
      "outputs": []
    },
    {
      "cell_type": "code",
      "metadata": {
        "id": "ctSR0iJ89gDK",
        "colab_type": "code",
        "colab": {
          "base_uri": "https://localhost:8080/",
          "height": 34
        },
        "outputId": "89e6b4b4-7bc7-470f-cac6-41b0551d0ce0"
      },
      "source": [
        "x_train.shape"
      ],
      "execution_count": 15,
      "outputs": [
        {
          "output_type": "execute_result",
          "data": {
            "text/plain": [
              "(835917,)"
            ]
          },
          "metadata": {
            "tags": []
          },
          "execution_count": 15
        }
      ]
    },
    {
      "cell_type": "code",
      "metadata": {
        "id": "0tjc2Twq9f13",
        "colab_type": "code",
        "colab": {
          "base_uri": "https://localhost:8080/",
          "height": 34
        },
        "outputId": "e2679383-a449-4300-c2db-7c5a0d78927a"
      },
      "source": [
        "x_test.shape"
      ],
      "execution_count": 16,
      "outputs": [
        {
          "output_type": "execute_result",
          "data": {
            "text/plain": [
              "(208980,)"
            ]
          },
          "metadata": {
            "tags": []
          },
          "execution_count": 16
        }
      ]
    },
    {
      "cell_type": "code",
      "metadata": {
        "id": "3w9karvsNtbU",
        "colab_type": "code",
        "colab": {
          "base_uri": "https://localhost:8080/",
          "height": 202
        },
        "outputId": "625b757f-d4e1-480a-fd67-06555c3a43fd"
      },
      "source": [
        "#!wget https://storage.googleapis.com/bert_models/2018_10_18/uncased_L-12_H-768_A-12.zip\n",
        "!wget https://storage.googleapis.com/bert_models/2019_05_30/wwm_uncased_L-24_H-1024_A-16.zip"
      ],
      "execution_count": 17,
      "outputs": [
        {
          "output_type": "stream",
          "text": [
            "--2020-08-30 07:55:03--  https://storage.googleapis.com/bert_models/2019_05_30/wwm_uncased_L-24_H-1024_A-16.zip\n",
            "Resolving storage.googleapis.com (storage.googleapis.com)... 64.233.189.128, 108.177.97.128, 108.177.125.128, ...\n",
            "Connecting to storage.googleapis.com (storage.googleapis.com)|64.233.189.128|:443... connected.\n",
            "HTTP request sent, awaiting response... 200 OK\n",
            "Length: 1248381879 (1.2G) [application/zip]\n",
            "Saving to: ‘wwm_uncased_L-24_H-1024_A-16.zip’\n",
            "\n",
            "wwm_uncased_L-24_H- 100%[===================>]   1.16G  61.6MB/s    in 20s     \n",
            "\n",
            "2020-08-30 07:55:24 (60.3 MB/s) - ‘wwm_uncased_L-24_H-1024_A-16.zip’ saved [1248381879/1248381879]\n",
            "\n"
          ],
          "name": "stdout"
        }
      ]
    },
    {
      "cell_type": "code",
      "metadata": {
        "id": "UXvgmg0bN0bQ",
        "colab_type": "code",
        "colab": {
          "base_uri": "https://localhost:8080/",
          "height": 134
        },
        "outputId": "99fe2a90-9527-4b47-8100-7ab80d3aeb0b"
      },
      "source": [
        "#!unzip /content/uncased_L-12_H-768_A-12.zip\n",
        "\n",
        "!unzip /content/wwm_uncased_L-24_H-1024_A-16.zip"
      ],
      "execution_count": 18,
      "outputs": [
        {
          "output_type": "stream",
          "text": [
            "Archive:  /content/wwm_uncased_L-24_H-1024_A-16.zip\n",
            "   creating: wwm_uncased_L-24_H-1024_A-16/\n",
            "  inflating: wwm_uncased_L-24_H-1024_A-16/bert_model.ckpt.meta  \n",
            "  inflating: wwm_uncased_L-24_H-1024_A-16/bert_model.ckpt.data-00000-of-00001  \n",
            "  inflating: wwm_uncased_L-24_H-1024_A-16/vocab.txt  \n",
            "  inflating: wwm_uncased_L-24_H-1024_A-16/bert_model.ckpt.index  \n",
            "  inflating: wwm_uncased_L-24_H-1024_A-16/bert_config.json  \n"
          ],
          "name": "stdout"
        }
      ]
    },
    {
      "cell_type": "code",
      "metadata": {
        "id": "xbmHlyTuN4Hh",
        "colab_type": "code",
        "colab": {}
      },
      "source": [
        "#!rm /content/wwm_uncased_L-24_H-1024_A-16.zip\n",
        "! rm /content/wwm_uncased_L-24_H-1024_A-16.zip"
      ],
      "execution_count": 19,
      "outputs": []
    },
    {
      "cell_type": "code",
      "metadata": {
        "id": "6GZu1GxoN4sZ",
        "colab_type": "code",
        "colab": {}
      },
      "source": [
        "embeding_index={}\n",
        "\n",
        "f=open('/content/wwm_uncased_L-24_H-1024_A-16/vocab.txt',encoding='utf-8')\n",
        "\n",
        "for line in f:\n",
        "    values=line.split()\n",
        "    word=values[0]\n",
        "    coefs=np.asarray(values[1:],dtype='float32')\n",
        "    embeding_index[word]=coefs\n",
        "f.close()\n",
        "# this again will take good amount of time"
      ],
      "execution_count": 20,
      "outputs": []
    },
    {
      "cell_type": "code",
      "metadata": {
        "id": "8o75Qn6z6JWg",
        "colab_type": "code",
        "colab": {
          "base_uri": "https://localhost:8080/",
          "height": 34
        },
        "outputId": "88b0fabb-d011-41e0-bb3c-93104df61119"
      },
      "source": [
        "len(embeding_index)"
      ],
      "execution_count": 21,
      "outputs": [
        {
          "output_type": "execute_result",
          "data": {
            "text/plain": [
              "30522"
            ]
          },
          "metadata": {
            "tags": []
          },
          "execution_count": 21
        }
      ]
    },
    {
      "cell_type": "code",
      "metadata": {
        "id": "p8IRkXloN37w",
        "colab_type": "code",
        "colab": {}
      },
      "source": [
        "from tensorflow.keras.preprocessing.text import Tokenizer\n",
        "from tensorflow.keras.preprocessing import sequence\n",
        "from tensorflow.keras.layers import LSTM,Activation,Dense,Input,Embedding,Dropout\n",
        "from tensorflow.keras.models import Model\n",
        "from nltk import word_tokenize"
      ],
      "execution_count": 22,
      "outputs": []
    },
    {
      "cell_type": "code",
      "metadata": {
        "id": "dhJxJZyjOMUQ",
        "colab_type": "code",
        "colab": {
          "base_uri": "https://localhost:8080/",
          "height": 67
        },
        "outputId": "be23f01f-5623-4846-d25b-305e936a610d"
      },
      "source": [
        "import nltk\n",
        "nltk.download('punkt')"
      ],
      "execution_count": 23,
      "outputs": [
        {
          "output_type": "stream",
          "text": [
            "[nltk_data] Downloading package punkt to /root/nltk_data...\n",
            "[nltk_data]   Unzipping tokenizers/punkt.zip.\n"
          ],
          "name": "stdout"
        },
        {
          "output_type": "execute_result",
          "data": {
            "text/plain": [
              "True"
            ]
          },
          "metadata": {
            "tags": []
          },
          "execution_count": 23
        }
      ]
    },
    {
      "cell_type": "code",
      "metadata": {
        "id": "LqIudFYV647H",
        "colab_type": "code",
        "colab": {}
      },
      "source": [
        "#Merging train and validation data set\n",
        "X_train=pd.concat([x_train,x_test],axis=0)\n",
        "Y_train=pd.concat([y_train,y_test],axis=0)\n",
        "quora_test.reset_index(drop=True,inplace=True)\n",
        "X_test=quora_test['question_text']     \n",
        "Y_test=quora_test['target']"
      ],
      "execution_count": 24,
      "outputs": []
    },
    {
      "cell_type": "code",
      "metadata": {
        "id": "O_QCDL_sOMdt",
        "colab_type": "code",
        "colab": {}
      },
      "source": [
        "sent_lens=[len(word_tokenize(x)) for x in X_train]"
      ],
      "execution_count": 25,
      "outputs": []
    },
    {
      "cell_type": "code",
      "metadata": {
        "id": "jdP_Cepr6b0q",
        "colab_type": "code",
        "colab": {
          "base_uri": "https://localhost:8080/",
          "height": 1000
        },
        "outputId": "e3833208-a71b-41d7-e257-a88089b384cc"
      },
      "source": [
        "sent_lens"
      ],
      "execution_count": 26,
      "outputs": [
        {
          "output_type": "execute_result",
          "data": {
            "text/plain": [
              "[6,\n",
              " 7,\n",
              " 15,\n",
              " 23,\n",
              " 19,\n",
              " 23,\n",
              " 9,\n",
              " 7,\n",
              " 9,\n",
              " 26,\n",
              " 13,\n",
              " 13,\n",
              " 13,\n",
              " 11,\n",
              " 10,\n",
              " 24,\n",
              " 10,\n",
              " 23,\n",
              " 11,\n",
              " 31,\n",
              " 5,\n",
              " 10,\n",
              " 13,\n",
              " 32,\n",
              " 20,\n",
              " 10,\n",
              " 11,\n",
              " 14,\n",
              " 12,\n",
              " 7,\n",
              " 11,\n",
              " 12,\n",
              " 17,\n",
              " 28,\n",
              " 14,\n",
              " 11,\n",
              " 9,\n",
              " 19,\n",
              " 14,\n",
              " 29,\n",
              " 10,\n",
              " 14,\n",
              " 11,\n",
              " 20,\n",
              " 18,\n",
              " 11,\n",
              " 10,\n",
              " 10,\n",
              " 23,\n",
              " 31,\n",
              " 12,\n",
              " 12,\n",
              " 29,\n",
              " 23,\n",
              " 18,\n",
              " 9,\n",
              " 12,\n",
              " 16,\n",
              " 7,\n",
              " 11,\n",
              " 13,\n",
              " 17,\n",
              " 23,\n",
              " 13,\n",
              " 24,\n",
              " 13,\n",
              " 22,\n",
              " 12,\n",
              " 11,\n",
              " 18,\n",
              " 23,\n",
              " 14,\n",
              " 12,\n",
              " 15,\n",
              " 10,\n",
              " 25,\n",
              " 11,\n",
              " 11,\n",
              " 10,\n",
              " 10,\n",
              " 12,\n",
              " 11,\n",
              " 25,\n",
              " 10,\n",
              " 8,\n",
              " 6,\n",
              " 22,\n",
              " 6,\n",
              " 14,\n",
              " 13,\n",
              " 12,\n",
              " 9,\n",
              " 13,\n",
              " 34,\n",
              " 15,\n",
              " 11,\n",
              " 19,\n",
              " 23,\n",
              " 8,\n",
              " 17,\n",
              " 25,\n",
              " 13,\n",
              " 14,\n",
              " 8,\n",
              " 12,\n",
              " 11,\n",
              " 33,\n",
              " 11,\n",
              " 18,\n",
              " 18,\n",
              " 9,\n",
              " 11,\n",
              " 14,\n",
              " 36,\n",
              " 10,\n",
              " 10,\n",
              " 18,\n",
              " 14,\n",
              " 17,\n",
              " 16,\n",
              " 13,\n",
              " 9,\n",
              " 45,\n",
              " 33,\n",
              " 13,\n",
              " 10,\n",
              " 35,\n",
              " 5,\n",
              " 19,\n",
              " 8,\n",
              " 26,\n",
              " 27,\n",
              " 13,\n",
              " 7,\n",
              " 13,\n",
              " 14,\n",
              " 6,\n",
              " 11,\n",
              " 8,\n",
              " 15,\n",
              " 16,\n",
              " 10,\n",
              " 10,\n",
              " 14,\n",
              " 13,\n",
              " 17,\n",
              " 13,\n",
              " 11,\n",
              " 19,\n",
              " 40,\n",
              " 7,\n",
              " 17,\n",
              " 13,\n",
              " 14,\n",
              " 9,\n",
              " 14,\n",
              " 5,\n",
              " 5,\n",
              " 9,\n",
              " 7,\n",
              " 17,\n",
              " 12,\n",
              " 25,\n",
              " 13,\n",
              " 7,\n",
              " 7,\n",
              " 7,\n",
              " 11,\n",
              " 17,\n",
              " 6,\n",
              " 19,\n",
              " 27,\n",
              " 18,\n",
              " 12,\n",
              " 22,\n",
              " 20,\n",
              " 8,\n",
              " 11,\n",
              " 14,\n",
              " 9,\n",
              " 28,\n",
              " 24,\n",
              " 10,\n",
              " 10,\n",
              " 20,\n",
              " 9,\n",
              " 12,\n",
              " 8,\n",
              " 16,\n",
              " 12,\n",
              " 13,\n",
              " 12,\n",
              " 12,\n",
              " 32,\n",
              " 8,\n",
              " 9,\n",
              " 15,\n",
              " 14,\n",
              " 9,\n",
              " 8,\n",
              " 10,\n",
              " 12,\n",
              " 13,\n",
              " 14,\n",
              " 11,\n",
              " 8,\n",
              " 17,\n",
              " 15,\n",
              " 18,\n",
              " 10,\n",
              " 11,\n",
              " 16,\n",
              " 18,\n",
              " 14,\n",
              " 14,\n",
              " 9,\n",
              " 8,\n",
              " 16,\n",
              " 41,\n",
              " 11,\n",
              " 9,\n",
              " 7,\n",
              " 11,\n",
              " 7,\n",
              " 11,\n",
              " 11,\n",
              " 7,\n",
              " 12,\n",
              " 21,\n",
              " 23,\n",
              " 28,\n",
              " 9,\n",
              " 11,\n",
              " 7,\n",
              " 13,\n",
              " 9,\n",
              " 8,\n",
              " 16,\n",
              " 9,\n",
              " 8,\n",
              " 6,\n",
              " 7,\n",
              " 7,\n",
              " 10,\n",
              " 11,\n",
              " 32,\n",
              " 10,\n",
              " 9,\n",
              " 22,\n",
              " 25,\n",
              " 15,\n",
              " 18,\n",
              " 13,\n",
              " 20,\n",
              " 39,\n",
              " 22,\n",
              " 13,\n",
              " 9,\n",
              " 8,\n",
              " 16,\n",
              " 9,\n",
              " 12,\n",
              " 8,\n",
              " 8,\n",
              " 13,\n",
              " 12,\n",
              " 14,\n",
              " 14,\n",
              " 10,\n",
              " 16,\n",
              " 8,\n",
              " 53,\n",
              " 15,\n",
              " 13,\n",
              " 19,\n",
              " 12,\n",
              " 18,\n",
              " 7,\n",
              " 11,\n",
              " 34,\n",
              " 10,\n",
              " 10,\n",
              " 11,\n",
              " 8,\n",
              " 13,\n",
              " 8,\n",
              " 14,\n",
              " 9,\n",
              " 13,\n",
              " 23,\n",
              " 6,\n",
              " 29,\n",
              " 9,\n",
              " 6,\n",
              " 10,\n",
              " 7,\n",
              " 24,\n",
              " 10,\n",
              " 13,\n",
              " 5,\n",
              " 5,\n",
              " 25,\n",
              " 26,\n",
              " 11,\n",
              " 14,\n",
              " 23,\n",
              " 12,\n",
              " 19,\n",
              " 14,\n",
              " 22,\n",
              " 14,\n",
              " 12,\n",
              " 9,\n",
              " 7,\n",
              " 10,\n",
              " 16,\n",
              " 14,\n",
              " 7,\n",
              " 5,\n",
              " 13,\n",
              " 13,\n",
              " 13,\n",
              " 39,\n",
              " 6,\n",
              " 8,\n",
              " 12,\n",
              " 8,\n",
              " 13,\n",
              " 27,\n",
              " 16,\n",
              " 8,\n",
              " 10,\n",
              " 13,\n",
              " 15,\n",
              " 10,\n",
              " 31,\n",
              " 13,\n",
              " 19,\n",
              " 10,\n",
              " 17,\n",
              " 7,\n",
              " 14,\n",
              " 10,\n",
              " 21,\n",
              " 24,\n",
              " 12,\n",
              " 23,\n",
              " 13,\n",
              " 20,\n",
              " 9,\n",
              " 25,\n",
              " 6,\n",
              " 11,\n",
              " 9,\n",
              " 17,\n",
              " 17,\n",
              " 12,\n",
              " 19,\n",
              " 8,\n",
              " 10,\n",
              " 8,\n",
              " 51,\n",
              " 19,\n",
              " 7,\n",
              " 9,\n",
              " 17,\n",
              " 4,\n",
              " 63,\n",
              " 17,\n",
              " 10,\n",
              " 22,\n",
              " 24,\n",
              " 11,\n",
              " 11,\n",
              " 20,\n",
              " 6,\n",
              " 16,\n",
              " 16,\n",
              " 15,\n",
              " 23,\n",
              " 20,\n",
              " 4,\n",
              " 12,\n",
              " 22,\n",
              " 16,\n",
              " 11,\n",
              " 8,\n",
              " 12,\n",
              " 14,\n",
              " 7,\n",
              " 9,\n",
              " 13,\n",
              " 13,\n",
              " 19,\n",
              " 19,\n",
              " 7,\n",
              " 11,\n",
              " 9,\n",
              " 7,\n",
              " 13,\n",
              " 10,\n",
              " 7,\n",
              " 21,\n",
              " 5,\n",
              " 17,\n",
              " 14,\n",
              " 18,\n",
              " 6,\n",
              " 9,\n",
              " 11,\n",
              " 9,\n",
              " 9,\n",
              " 9,\n",
              " 11,\n",
              " 6,\n",
              " 10,\n",
              " 26,\n",
              " 21,\n",
              " 10,\n",
              " 11,\n",
              " 15,\n",
              " 14,\n",
              " 12,\n",
              " 10,\n",
              " 25,\n",
              " 38,\n",
              " 4,\n",
              " 8,\n",
              " 12,\n",
              " 19,\n",
              " 31,\n",
              " 22,\n",
              " 13,\n",
              " 11,\n",
              " 14,\n",
              " 14,\n",
              " 12,\n",
              " 11,\n",
              " 8,\n",
              " 21,\n",
              " 13,\n",
              " 9,\n",
              " 8,\n",
              " 21,\n",
              " 15,\n",
              " 18,\n",
              " 11,\n",
              " 15,\n",
              " 18,\n",
              " 21,\n",
              " 8,\n",
              " 20,\n",
              " 10,\n",
              " 8,\n",
              " 26,\n",
              " 10,\n",
              " 10,\n",
              " 5,\n",
              " 18,\n",
              " 7,\n",
              " 12,\n",
              " 9,\n",
              " 6,\n",
              " 13,\n",
              " 32,\n",
              " 30,\n",
              " 10,\n",
              " 9,\n",
              " 9,\n",
              " 32,\n",
              " 13,\n",
              " 10,\n",
              " 28,\n",
              " 16,\n",
              " 9,\n",
              " 17,\n",
              " 9,\n",
              " 9,\n",
              " 9,\n",
              " 35,\n",
              " 19,\n",
              " 15,\n",
              " 36,\n",
              " 7,\n",
              " 10,\n",
              " 11,\n",
              " 17,\n",
              " 8,\n",
              " 18,\n",
              " 20,\n",
              " 6,\n",
              " 8,\n",
              " 14,\n",
              " 29,\n",
              " 14,\n",
              " 8,\n",
              " 26,\n",
              " 21,\n",
              " 11,\n",
              " 8,\n",
              " 18,\n",
              " 12,\n",
              " 26,\n",
              " 7,\n",
              " 14,\n",
              " 11,\n",
              " 28,\n",
              " 14,\n",
              " 19,\n",
              " 44,\n",
              " 10,\n",
              " 15,\n",
              " 14,\n",
              " 27,\n",
              " 23,\n",
              " 7,\n",
              " 9,\n",
              " 16,\n",
              " 15,\n",
              " 17,\n",
              " 15,\n",
              " 13,\n",
              " 7,\n",
              " 13,\n",
              " 31,\n",
              " 9,\n",
              " 9,\n",
              " 17,\n",
              " 8,\n",
              " 7,\n",
              " 6,\n",
              " 33,\n",
              " 19,\n",
              " 5,\n",
              " 28,\n",
              " 18,\n",
              " 19,\n",
              " 11,\n",
              " 7,\n",
              " 21,\n",
              " 12,\n",
              " 16,\n",
              " 12,\n",
              " 6,\n",
              " 8,\n",
              " 5,\n",
              " 8,\n",
              " 10,\n",
              " 12,\n",
              " 9,\n",
              " 15,\n",
              " 15,\n",
              " 4,\n",
              " 18,\n",
              " 18,\n",
              " 17,\n",
              " 9,\n",
              " 19,\n",
              " 4,\n",
              " 17,\n",
              " 8,\n",
              " 9,\n",
              " 13,\n",
              " 11,\n",
              " 10,\n",
              " 27,\n",
              " 29,\n",
              " 9,\n",
              " 10,\n",
              " 11,\n",
              " 13,\n",
              " 20,\n",
              " 15,\n",
              " 15,\n",
              " 11,\n",
              " 24,\n",
              " 12,\n",
              " 9,\n",
              " 16,\n",
              " 18,\n",
              " 14,\n",
              " 10,\n",
              " 11,\n",
              " 17,\n",
              " 19,\n",
              " 12,\n",
              " 10,\n",
              " 23,\n",
              " 16,\n",
              " 11,\n",
              " 13,\n",
              " 14,\n",
              " 23,\n",
              " 11,\n",
              " 12,\n",
              " 19,\n",
              " 44,\n",
              " 18,\n",
              " 16,\n",
              " 23,\n",
              " 8,\n",
              " 23,\n",
              " 12,\n",
              " 12,\n",
              " 26,\n",
              " 16,\n",
              " 8,\n",
              " 10,\n",
              " 16,\n",
              " 9,\n",
              " 22,\n",
              " 6,\n",
              " 12,\n",
              " 9,\n",
              " 10,\n",
              " 10,\n",
              " 11,\n",
              " 11,\n",
              " 14,\n",
              " 32,\n",
              " 16,\n",
              " 12,\n",
              " 18,\n",
              " 16,\n",
              " 45,\n",
              " 50,\n",
              " 11,\n",
              " 30,\n",
              " 15,\n",
              " 11,\n",
              " 21,\n",
              " 5,\n",
              " 9,\n",
              " 12,\n",
              " 13,\n",
              " 20,\n",
              " 12,\n",
              " 14,\n",
              " 14,\n",
              " 7,\n",
              " 16,\n",
              " 32,\n",
              " 25,\n",
              " 9,\n",
              " 25,\n",
              " 10,\n",
              " 39,\n",
              " 6,\n",
              " 22,\n",
              " 44,\n",
              " 7,\n",
              " 9,\n",
              " 7,\n",
              " 6,\n",
              " 7,\n",
              " 6,\n",
              " 9,\n",
              " 16,\n",
              " 8,\n",
              " 7,\n",
              " 10,\n",
              " 14,\n",
              " 17,\n",
              " 9,\n",
              " 10,\n",
              " 9,\n",
              " 11,\n",
              " 10,\n",
              " 8,\n",
              " 11,\n",
              " 20,\n",
              " 23,\n",
              " 11,\n",
              " 10,\n",
              " 7,\n",
              " 15,\n",
              " 8,\n",
              " 11,\n",
              " 11,\n",
              " 12,\n",
              " 9,\n",
              " 21,\n",
              " 9,\n",
              " 10,\n",
              " 16,\n",
              " 9,\n",
              " 15,\n",
              " 6,\n",
              " 14,\n",
              " 10,\n",
              " 16,\n",
              " 8,\n",
              " 10,\n",
              " 16,\n",
              " 12,\n",
              " 9,\n",
              " 36,\n",
              " 10,\n",
              " 14,\n",
              " 9,\n",
              " 11,\n",
              " 23,\n",
              " 18,\n",
              " 19,\n",
              " 10,\n",
              " 17,\n",
              " 6,\n",
              " 18,\n",
              " 9,\n",
              " 23,\n",
              " 7,\n",
              " 12,\n",
              " 8,\n",
              " 11,\n",
              " 16,\n",
              " 15,\n",
              " 9,\n",
              " 28,\n",
              " 16,\n",
              " 4,\n",
              " 10,\n",
              " 8,\n",
              " 10,\n",
              " 19,\n",
              " 10,\n",
              " 17,\n",
              " 14,\n",
              " 7,\n",
              " 10,\n",
              " 23,\n",
              " 13,\n",
              " 9,\n",
              " 8,\n",
              " 14,\n",
              " 15,\n",
              " 5,\n",
              " 12,\n",
              " 5,\n",
              " 23,\n",
              " 11,\n",
              " 27,\n",
              " 12,\n",
              " 7,\n",
              " 14,\n",
              " 28,\n",
              " 7,\n",
              " 11,\n",
              " 4,\n",
              " 9,\n",
              " 14,\n",
              " 19,\n",
              " 10,\n",
              " 32,\n",
              " 40,\n",
              " 7,\n",
              " 8,\n",
              " 10,\n",
              " 9,\n",
              " 15,\n",
              " 15,\n",
              " 19,\n",
              " 8,\n",
              " 8,\n",
              " 8,\n",
              " 11,\n",
              " 10,\n",
              " 12,\n",
              " 11,\n",
              " 7,\n",
              " 17,\n",
              " 11,\n",
              " 19,\n",
              " 12,\n",
              " 9,\n",
              " 16,\n",
              " 6,\n",
              " 21,\n",
              " 13,\n",
              " 10,\n",
              " 15,\n",
              " 14,\n",
              " 27,\n",
              " 8,\n",
              " 15,\n",
              " 7,\n",
              " 25,\n",
              " 11,\n",
              " 10,\n",
              " 16,\n",
              " 7,\n",
              " 37,\n",
              " 13,\n",
              " 6,\n",
              " 13,\n",
              " 9,\n",
              " 10,\n",
              " 14,\n",
              " 15,\n",
              " 13,\n",
              " 15,\n",
              " 30,\n",
              " 12,\n",
              " 9,\n",
              " 13,\n",
              " 6,\n",
              " 9,\n",
              " 16,\n",
              " 13,\n",
              " 13,\n",
              " 10,\n",
              " 23,\n",
              " 10,\n",
              " 15,\n",
              " 10,\n",
              " 15,\n",
              " 18,\n",
              " 8,\n",
              " 13,\n",
              " 20,\n",
              " 17,\n",
              " 7,\n",
              " 8,\n",
              " 17,\n",
              " 11,\n",
              " 14,\n",
              " 15,\n",
              " 11,\n",
              " 26,\n",
              " 9,\n",
              " 5,\n",
              " 7,\n",
              " 7,\n",
              " 44,\n",
              " 14,\n",
              " 12,\n",
              " 12,\n",
              " 14,\n",
              " 7,\n",
              " 12,\n",
              " 12,\n",
              " 12,\n",
              " 11,\n",
              " 11,\n",
              " 11,\n",
              " 21,\n",
              " 13,\n",
              " 16,\n",
              " 10,\n",
              " 36,\n",
              " 8,\n",
              " 7,\n",
              " 14,\n",
              " 10,\n",
              " 16,\n",
              " 11,\n",
              " 10,\n",
              " 10,\n",
              " 20,\n",
              " 8,\n",
              " 5,\n",
              " 8,\n",
              " 7,\n",
              " 14,\n",
              " 14,\n",
              " 9,\n",
              " 18,\n",
              " 22,\n",
              " 8,\n",
              " 11,\n",
              " 17,\n",
              " 8,\n",
              " 28,\n",
              " 18,\n",
              " 26,\n",
              " 9,\n",
              " 20,\n",
              " 10,\n",
              " 7,\n",
              " 11,\n",
              " 7,\n",
              " 13,\n",
              " 10,\n",
              " 51,\n",
              " 17,\n",
              " 26,\n",
              " 13,\n",
              " 11,\n",
              " 26,\n",
              " 6,\n",
              " 8,\n",
              " 14,\n",
              " 8,\n",
              " 9,\n",
              " 16,\n",
              " 8,\n",
              " 15,\n",
              " 15,\n",
              " 12,\n",
              " 12,\n",
              " 23,\n",
              " 8,\n",
              " 9,\n",
              " 32,\n",
              " 15,\n",
              " 8,\n",
              " 14,\n",
              " 14,\n",
              " 8,\n",
              " 7,\n",
              " 8,\n",
              " 16,\n",
              " 13,\n",
              " 10,\n",
              " 16,\n",
              " 6,\n",
              " 11,\n",
              " 5,\n",
              " 14,\n",
              " 7,\n",
              " 11,\n",
              " 15,\n",
              " 7,\n",
              " 13,\n",
              " 25,\n",
              " 9,\n",
              " 7,\n",
              " 9,\n",
              " 12,\n",
              " 26,\n",
              " 13,\n",
              " 32,\n",
              " 9,\n",
              " 21,\n",
              " 21,\n",
              " 33,\n",
              " 20,\n",
              " 11,\n",
              " 9,\n",
              " 7,\n",
              " 29,\n",
              " 16,\n",
              " 11,\n",
              " 11,\n",
              " 12,\n",
              " 8,\n",
              " 13,\n",
              " 8,\n",
              " 44,\n",
              " 13,\n",
              " 12,\n",
              " 11,\n",
              " 5,\n",
              " 9,\n",
              " 18,\n",
              " 33,\n",
              " 12,\n",
              " 23,\n",
              " 11,\n",
              " 13,\n",
              " 30,\n",
              " 10,\n",
              " 28,\n",
              " 8,\n",
              " 13,\n",
              " 13,\n",
              " 11,\n",
              " 9,\n",
              " 20,\n",
              " 19,\n",
              " 10,\n",
              " 12,\n",
              " 15,\n",
              " 13,\n",
              " 12,\n",
              " 23,\n",
              " 14,\n",
              " 10,\n",
              " 20,\n",
              " 13,\n",
              " 9,\n",
              " 13,\n",
              " 10,\n",
              " 10,\n",
              " 10,\n",
              " 22,\n",
              " 12,\n",
              " 5,\n",
              " 9,\n",
              " 11,\n",
              " 19,\n",
              " 10,\n",
              " 20,\n",
              " 27,\n",
              " 7,\n",
              " 13,\n",
              " 9,\n",
              " 23,\n",
              " 26,\n",
              " 13,\n",
              " 21,\n",
              " ...]"
            ]
          },
          "metadata": {
            "tags": []
          },
          "execution_count": 26
        }
      ]
    },
    {
      "cell_type": "code",
      "metadata": {
        "id": "qS2_oNtG6_rf",
        "colab_type": "code",
        "colab": {
          "base_uri": "https://localhost:8080/",
          "height": 34
        },
        "outputId": "c486887a-9c85-4707-d8c2-43eb8a70a8f2"
      },
      "source": [
        "max(sent_lens)"
      ],
      "execution_count": 27,
      "outputs": [
        {
          "output_type": "execute_result",
          "data": {
            "text/plain": [
              "412"
            ]
          },
          "metadata": {
            "tags": []
          },
          "execution_count": 27
        }
      ]
    },
    {
      "cell_type": "code",
      "metadata": {
        "id": "oY2dpVUPOMIA",
        "colab_type": "code",
        "colab": {
          "base_uri": "https://localhost:8080/",
          "height": 34
        },
        "outputId": "c8a3e5d0-4764-407a-83b8-b2a133ab4b08"
      },
      "source": [
        "np.percentile(sent_lens,95)"
      ],
      "execution_count": 28,
      "outputs": [
        {
          "output_type": "execute_result",
          "data": {
            "text/plain": [
              "30.0"
            ]
          },
          "metadata": {
            "tags": []
          },
          "execution_count": 28
        }
      ]
    },
    {
      "cell_type": "code",
      "metadata": {
        "id": "HIAQ83saOTzV",
        "colab_type": "code",
        "colab": {}
      },
      "source": [
        "max_len=30\n",
        "\n",
        "tk=Tokenizer(char_level=False,split=' ')\n",
        "\n",
        "tk.fit_on_texts(X_train)\n",
        "\n",
        "seq_train=tk.texts_to_sequences(X_train)\n",
        "seq_test=tk.texts_to_sequences(X_test)\n",
        "\n",
        "vocab_size=len(tk.word_index)\n",
        "\n",
        "seq_train_matrix=sequence.pad_sequences(seq_train,maxlen=max_len)\n",
        "seq_test_matrix=sequence.pad_sequences(seq_test,maxlen=max_len)"
      ],
      "execution_count": 29,
      "outputs": []
    },
    {
      "cell_type": "code",
      "metadata": {
        "id": "AZ3jMG5m8NeO",
        "colab_type": "code",
        "colab": {
          "base_uri": "https://localhost:8080/",
          "height": 34
        },
        "outputId": "4034eca0-0cab-4cbb-811c-041d5c0f2fde"
      },
      "source": [
        "vocab_size"
      ],
      "execution_count": 30,
      "outputs": [
        {
          "output_type": "execute_result",
          "data": {
            "text/plain": [
              "196220"
            ]
          },
          "metadata": {
            "tags": []
          },
          "execution_count": 30
        }
      ]
    },
    {
      "cell_type": "code",
      "metadata": {
        "id": "LdAohi5AOUDU",
        "colab_type": "code",
        "colab": {}
      },
      "source": [
        "embedding_matrix=np.zeros((vocab_size+1,300))\n",
        "words_not_available=0\n",
        "for word,i in tk.word_index.items():\n",
        "    try:\n",
        "      embed_vector=ft_model[word]\n",
        "      embedding_matrix[i]=embed_vector\n",
        "    except:\n",
        "      words_not_available+=1"
      ],
      "execution_count": 31,
      "outputs": []
    },
    {
      "cell_type": "code",
      "metadata": {
        "id": "6mJ_Da0Hp2yp",
        "colab_type": "code",
        "colab": {
          "base_uri": "https://localhost:8080/",
          "height": 34
        },
        "outputId": "629ac71f-c13c-4386-c084-4cd274432829"
      },
      "source": [
        "print(words_not_available)"
      ],
      "execution_count": 32,
      "outputs": [
        {
          "output_type": "stream",
          "text": [
            "196220\n"
          ],
          "name": "stdout"
        }
      ]
    },
    {
      "cell_type": "code",
      "metadata": {
        "id": "zKTpYcTMOTnY",
        "colab_type": "code",
        "colab": {
          "base_uri": "https://localhost:8080/",
          "height": 487
        },
        "outputId": "1a590727-2f86-48cb-c553-7548bfd75ff1"
      },
      "source": [
        "# LSTM Model with Glove Embedding Layer\n",
        "\n",
        "inputs=Input(name='text_input',shape=[max_len])\n",
        "embed=Embedding(vocab_size+1,300,input_length=max_len,mask_zero=True,\n",
        "                weights=[embedding_matrix],trainable=False)(inputs)\n",
        "lstm_layer=LSTM(150)(embed)\n",
        "dense1=Dense(75,activation='relu')(lstm_layer)\n",
        "drop1=Dropout(0.2)(dense1)\n",
        "dense2=Dense(35,activation='relu')(drop1)\n",
        "drop2=Dropout(0.2)(dense2)\n",
        "dense3=Dense(15,activation='relu')(drop2)\n",
        "drop3=Dropout(0.2)(dense3)\n",
        "final_layer=Dense(1,activation='sigmoid')(drop3)\n",
        "\n",
        "model=Model(inputs=inputs,outputs=final_layer)\n",
        "\n",
        "model.summary()"
      ],
      "execution_count": 33,
      "outputs": [
        {
          "output_type": "stream",
          "text": [
            "Model: \"functional_1\"\n",
            "_________________________________________________________________\n",
            "Layer (type)                 Output Shape              Param #   \n",
            "=================================================================\n",
            "text_input (InputLayer)      [(None, 30)]              0         \n",
            "_________________________________________________________________\n",
            "embedding (Embedding)        (None, 30, 300)           58866300  \n",
            "_________________________________________________________________\n",
            "lstm (LSTM)                  (None, 150)               270600    \n",
            "_________________________________________________________________\n",
            "dense (Dense)                (None, 75)                11325     \n",
            "_________________________________________________________________\n",
            "dropout (Dropout)            (None, 75)                0         \n",
            "_________________________________________________________________\n",
            "dense_1 (Dense)              (None, 35)                2660      \n",
            "_________________________________________________________________\n",
            "dropout_1 (Dropout)          (None, 35)                0         \n",
            "_________________________________________________________________\n",
            "dense_2 (Dense)              (None, 15)                540       \n",
            "_________________________________________________________________\n",
            "dropout_2 (Dropout)          (None, 15)                0         \n",
            "_________________________________________________________________\n",
            "dense_3 (Dense)              (None, 1)                 16        \n",
            "=================================================================\n",
            "Total params: 59,151,441\n",
            "Trainable params: 285,141\n",
            "Non-trainable params: 58,866,300\n",
            "_________________________________________________________________\n"
          ],
          "name": "stdout"
        }
      ]
    },
    {
      "cell_type": "code",
      "metadata": {
        "id": "6MjzZIn-Ohyn",
        "colab_type": "code",
        "colab": {
          "base_uri": "https://localhost:8080/",
          "height": 84
        },
        "outputId": "98d41449-314d-4556-bdca-bd4a22444c5d"
      },
      "source": [
        "model.compile(optimizer='adam',loss='binary_crossentropy',metrics=['accuracy'])\n",
        "\n",
        "history=model.fit(seq_train_matrix,Y_train,validation_data=(seq_test_matrix,Y_test),epochs=2,batch_size=150)"
      ],
      "execution_count": 34,
      "outputs": [
        {
          "output_type": "stream",
          "text": [
            "Epoch 1/2\n",
            "6966/6966 [==============================] - 827s 119ms/step - loss: 0.2972 - accuracy: 0.9380 - val_loss: 0.2303 - val_accuracy: 0.9388\n",
            "Epoch 2/2\n",
            "6966/6966 [==============================] - 832s 119ms/step - loss: 0.2325 - accuracy: 0.9380 - val_loss: 0.2303 - val_accuracy: 0.9388\n"
          ],
          "name": "stdout"
        }
      ]
    },
    {
      "cell_type": "code",
      "metadata": {
        "id": "UleYAqOLjqQn",
        "colab_type": "code",
        "colab": {}
      },
      "source": [
        "# # save model structure to JSON (no weights)\n",
        "# model_json = model.to_json()\n",
        "# with open(\"model_to_json.json\", \"w\") as json_file:\n",
        "#     json_file.write(model_json)\n",
        "# # saving the model weight separately\n",
        "# model.save_weights(\"j_model.h5\")"
      ],
      "execution_count": null,
      "outputs": []
    },
    {
      "cell_type": "code",
      "metadata": {
        "id": "yO4cKus5Zryh",
        "colab_type": "code",
        "colab": {}
      },
      "source": [
        "#Prediction on Test Data Set\n",
        "predict=model.predict(seq_test_matrix)"
      ],
      "execution_count": 37,
      "outputs": []
    },
    {
      "cell_type": "code",
      "metadata": {
        "id": "q8xCWq6gZ85f",
        "colab_type": "code",
        "colab": {
          "base_uri": "https://localhost:8080/",
          "height": 34
        },
        "outputId": "5339a544-570a-42d8-8369-de4546682bdc"
      },
      "source": [
        "from sklearn.metrics import roc_auc_score,confusion_matrix\n",
        "roc_auc_score(Y_test,predict)"
      ],
      "execution_count": 38,
      "outputs": [
        {
          "output_type": "execute_result",
          "data": {
            "text/plain": [
              "0.5"
            ]
          },
          "metadata": {
            "tags": []
          },
          "execution_count": 38
        }
      ]
    },
    {
      "cell_type": "code",
      "metadata": {
        "id": "6Ql_b_7IZ8rC",
        "colab_type": "code",
        "colab": {}
      },
      "source": [
        "Y_Predicted = pd.DataFrame(predict, index=range(predict.shape[0]),\n",
        "                     columns=range(predict.shape[1]))\n",
        "Y_Predicted = np.where(Y_Predicted > 0.5, 1, 0)\n",
        "Y_test=Y_test.astype(int)\n",
        "Y_Predicted = pd.DataFrame(list(Y_Predicted),columns=['Predicted Target'])\n",
        "Y_Actual = pd.DataFrame(Y_test.values,columns=[\"Actual Target\"])\n",
        "Final_Comparison=pd.concat([quora_test['qid'],quora_test['question_text'],Y_Actual,Y_Predicted],axis=1)"
      ],
      "execution_count": 39,
      "outputs": []
    },
    {
      "cell_type": "code",
      "metadata": {
        "id": "KOy74Wb6aGUR",
        "colab_type": "code",
        "colab": {
          "base_uri": "https://localhost:8080/",
          "height": 343
        },
        "outputId": "e34dd320-7dd7-491c-f2dd-793fac6672ea"
      },
      "source": [
        "Final_Comparison.head(10)"
      ],
      "execution_count": 40,
      "outputs": [
        {
          "output_type": "execute_result",
          "data": {
            "text/html": [
              "<div>\n",
              "<style scoped>\n",
              "    .dataframe tbody tr th:only-of-type {\n",
              "        vertical-align: middle;\n",
              "    }\n",
              "\n",
              "    .dataframe tbody tr th {\n",
              "        vertical-align: top;\n",
              "    }\n",
              "\n",
              "    .dataframe thead th {\n",
              "        text-align: right;\n",
              "    }\n",
              "</style>\n",
              "<table border=\"1\" class=\"dataframe\">\n",
              "  <thead>\n",
              "    <tr style=\"text-align: right;\">\n",
              "      <th></th>\n",
              "      <th>qid</th>\n",
              "      <th>question_text</th>\n",
              "      <th>Actual Target</th>\n",
              "      <th>Predicted Target</th>\n",
              "    </tr>\n",
              "  </thead>\n",
              "  <tbody>\n",
              "    <tr>\n",
              "      <th>0</th>\n",
              "      <td>8747d2afef04f494fd71</td>\n",
              "      <td>How does stopping refugee families, women and ...</td>\n",
              "      <td>1</td>\n",
              "      <td>0</td>\n",
              "    </tr>\n",
              "    <tr>\n",
              "      <th>1</th>\n",
              "      <td>5ad7be48609f9b63a5b0</td>\n",
              "      <td>What makes you start your business?</td>\n",
              "      <td>0</td>\n",
              "      <td>0</td>\n",
              "    </tr>\n",
              "    <tr>\n",
              "      <th>2</th>\n",
              "      <td>be9e2e86a915f88212f9</td>\n",
              "      <td>Someone said they wouldn't give me something \"...</td>\n",
              "      <td>0</td>\n",
              "      <td>0</td>\n",
              "    </tr>\n",
              "    <tr>\n",
              "      <th>3</th>\n",
              "      <td>bc721413105adba6d757</td>\n",
              "      <td>What is best option for a disqualified medical...</td>\n",
              "      <td>0</td>\n",
              "      <td>0</td>\n",
              "    </tr>\n",
              "    <tr>\n",
              "      <th>4</th>\n",
              "      <td>79a5f298b4b5dbac4dd7</td>\n",
              "      <td>What are the best sites to create apps on Andr...</td>\n",
              "      <td>0</td>\n",
              "      <td>0</td>\n",
              "    </tr>\n",
              "    <tr>\n",
              "      <th>5</th>\n",
              "      <td>ff1fd33a96c6c72b61b6</td>\n",
              "      <td>Which is the best homeopathic face wash for wo...</td>\n",
              "      <td>0</td>\n",
              "      <td>0</td>\n",
              "    </tr>\n",
              "    <tr>\n",
              "      <th>6</th>\n",
              "      <td>251b29aa445efc14aa04</td>\n",
              "      <td>Is it possible that the laws of physics may ha...</td>\n",
              "      <td>0</td>\n",
              "      <td>0</td>\n",
              "    </tr>\n",
              "    <tr>\n",
              "      <th>7</th>\n",
              "      <td>412350e4aaa272a16f81</td>\n",
              "      <td>What's your take on the dispute between core d...</td>\n",
              "      <td>0</td>\n",
              "      <td>0</td>\n",
              "    </tr>\n",
              "    <tr>\n",
              "      <th>8</th>\n",
              "      <td>bfd87b2feffdeee55656</td>\n",
              "      <td>What is the basic difference between Automatic...</td>\n",
              "      <td>0</td>\n",
              "      <td>0</td>\n",
              "    </tr>\n",
              "    <tr>\n",
              "      <th>9</th>\n",
              "      <td>99a93d95d6d030de6205</td>\n",
              "      <td>How is the taste of SirkkaleipÃ¤?</td>\n",
              "      <td>0</td>\n",
              "      <td>0</td>\n",
              "    </tr>\n",
              "  </tbody>\n",
              "</table>\n",
              "</div>"
            ],
            "text/plain": [
              "                    qid  ... Predicted Target\n",
              "0  8747d2afef04f494fd71  ...                0\n",
              "1  5ad7be48609f9b63a5b0  ...                0\n",
              "2  be9e2e86a915f88212f9  ...                0\n",
              "3  bc721413105adba6d757  ...                0\n",
              "4  79a5f298b4b5dbac4dd7  ...                0\n",
              "5  ff1fd33a96c6c72b61b6  ...                0\n",
              "6  251b29aa445efc14aa04  ...                0\n",
              "7  412350e4aaa272a16f81  ...                0\n",
              "8  bfd87b2feffdeee55656  ...                0\n",
              "9  99a93d95d6d030de6205  ...                0\n",
              "\n",
              "[10 rows x 4 columns]"
            ]
          },
          "metadata": {
            "tags": []
          },
          "execution_count": 40
        }
      ]
    },
    {
      "cell_type": "code",
      "metadata": {
        "id": "M3s8eoSmaIYS",
        "colab_type": "code",
        "colab": {
          "base_uri": "https://localhost:8080/",
          "height": 50
        },
        "outputId": "c10eac0e-b189-4d2c-ba7c-06481e466cec"
      },
      "source": [
        "confusion_matrix(Y_Actual,Y_Predicted)"
      ],
      "execution_count": 41,
      "outputs": [
        {
          "output_type": "execute_result",
          "data": {
            "text/plain": [
              "array([[245234,      0],\n",
              "       [ 15991,      0]])"
            ]
          },
          "metadata": {
            "tags": []
          },
          "execution_count": 41
        }
      ]
    },
    {
      "cell_type": "code",
      "metadata": {
        "id": "NBKkTJHHaKG9",
        "colab_type": "code",
        "colab": {
          "base_uri": "https://localhost:8080/",
          "height": 545
        },
        "outputId": "f27447af-61a4-40c5-e42d-4e2c7a9fb083"
      },
      "source": [
        "# Plot the chart for accuracy and loss on both training and validation\n",
        "%matplotlib inline\n",
        "import matplotlib.pyplot as plt\n",
        "acc = history.history['accuracy']\n",
        "val_acc = history.history['val_accuracy']\n",
        "loss = history.history['loss']\n",
        "val_loss = history.history['val_loss']\n",
        "\n",
        "epochs = range(len(acc))\n",
        "\n",
        "plt.plot(epochs, acc, 'r', label='Training accuracy')\n",
        "plt.plot(epochs, val_acc, 'b', label='Validation accuracy')\n",
        "plt.title('Training and validation accuracy')\n",
        "plt.legend()\n",
        "plt.figure()\n",
        "\n",
        "plt.plot(epochs, loss, 'r', label='Training Loss')\n",
        "plt.plot(epochs, val_loss, 'b', label='Validation Loss')\n",
        "plt.title('Training and validation loss')\n",
        "plt.legend()\n",
        "\n",
        "plt.show()"
      ],
      "execution_count": 42,
      "outputs": [
        {
          "output_type": "display_data",
          "data": {
            "image/png": "[encoded data removed]",
            "text/plain": [
              "<Figure size 432x288 with 1 Axes>"
            ]
          },
          "metadata": {
            "tags": [],
            "needs_background": "light"
          }
        },
        {
          "output_type": "display_data",
          "data": {
            "image/png": "[encoded data removed]",
            "text/plain": [
              "<Figure size 432x288 with 1 Axes>"
            ]
          },
          "metadata": {
            "tags": [],
            "needs_background": "light"
          }
        }
      ]
    },
    {
      "cell_type": "code",
      "metadata": {
        "id": "MAiBrzK7gBjA",
        "colab_type": "code",
        "colab": {}
      },
      "source": [
        ""
      ],
      "execution_count": null,
      "outputs": []
    }
  ]
}