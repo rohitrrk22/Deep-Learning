{
  "nbformat": 4,
  "nbformat_minor": 0,
  "metadata": {
    "colab": {
      "name": "Word2Vec.ipynb",
      "provenance": [],
      "collapsed_sections": [],
      "authorship_tag": "ABX9TyMJJH74PDUsf687QYSAQBT0",
      "include_colab_link": true
    },
    "kernelspec": {
      "name": "python3",
      "display_name": "Python 3"
    },
    "accelerator": "GPU"
  },
  "cells": [
    {
      "cell_type": "markdown",
      "metadata": {
        "id": "view-in-github",
        "colab_type": "text"
      },
      "source": [
        "<a href=\"https://colab.research.google.com/github/rohitrrk22/Deep-Learning/blob/master/Deep_Learning_NLP/Spam_Filter_For_Quora_Questions/Word2Vec.ipynb\" target=\"_parent\"><img src=\"https://colab.research.google.com/assets/colab-badge.svg\" alt=\"Open In Colab\"/></a>"
      ]
    },
    {
      "cell_type": "code",
      "metadata": {
        "id": "JT_iNUOpMjE6",
        "colab_type": "code",
        "colab": {}
      },
      "source": [
        "%tensorflow_version 2.x"
      ],
      "execution_count": 1,
      "outputs": []
    },
    {
      "cell_type": "code",
      "metadata": {
        "id": "pI0be6s_NIWB",
        "colab_type": "code",
        "colab": {}
      },
      "source": [
        "import pandas as pd\n",
        "import numpy as np"
      ],
      "execution_count": 2,
      "outputs": []
    },
    {
      "cell_type": "code",
      "metadata": {
        "id": "Q89NdydYNLF9",
        "colab_type": "code",
        "colab": {
          "base_uri": "https://localhost:8080/",
          "height": 373
        },
        "outputId": "48eb7f36-7580-4ab5-c3eb-3800644b3b9e"
      },
      "source": [
        "!wget https://www.dropbox.com/sh/kpf9z73woodfssv/AAAw1_JIzpuVvwteJCma0xMla"
      ],
      "execution_count": 3,
      "outputs": [
        {
          "output_type": "stream",
          "text": [
            "--2020-08-30 05:58:53--  https://www.dropbox.com/sh/kpf9z73woodfssv/AAAw1_JIzpuVvwteJCma0xMla\n",
            "Resolving www.dropbox.com (www.dropbox.com)... 162.125.82.1, 2620:100:6032:1::a27d:5201\n",
            "Connecting to www.dropbox.com (www.dropbox.com)|162.125.82.1|:443... connected.\n",
            "HTTP request sent, awaiting response... 301 Moved Permanently\n",
            "Location: /sh/raw/kpf9z73woodfssv/AAAw1_JIzpuVvwteJCma0xMla [following]\n",
            "--2020-08-30 05:58:53--  https://www.dropbox.com/sh/raw/kpf9z73woodfssv/AAAw1_JIzpuVvwteJCma0xMla\n",
            "Reusing existing connection to www.dropbox.com:443.\n",
            "HTTP request sent, awaiting response... 302 Found\n",
            "Location: https://uc8eebcb3eea57ed4c87786f158e.dl.dropboxusercontent.com/zip_download_get/Ah0iDj4aCXSmbxhJDzaXtaUNkp31z33cBcI6o9jBImUb53MEL15nATQSsvX6JD-N94W28Z8cCy3UWZqAXWlQF0-NU_XCQSxR2DXTWaSrDLU6qA [following]\n",
            "--2020-08-30 05:58:54--  https://uc8eebcb3eea57ed4c87786f158e.dl.dropboxusercontent.com/zip_download_get/Ah0iDj4aCXSmbxhJDzaXtaUNkp31z33cBcI6o9jBImUb53MEL15nATQSsvX6JD-N94W28Z8cCy3UWZqAXWlQF0-NU_XCQSxR2DXTWaSrDLU6qA\n",
            "Resolving uc8eebcb3eea57ed4c87786f158e.dl.dropboxusercontent.com (uc8eebcb3eea57ed4c87786f158e.dl.dropboxusercontent.com)... 162.125.82.15, 2620:100:6032:15::a27d:520f\n",
            "Connecting to uc8eebcb3eea57ed4c87786f158e.dl.dropboxusercontent.com (uc8eebcb3eea57ed4c87786f158e.dl.dropboxusercontent.com)|162.125.82.15|:443... connected.\n",
            "HTTP request sent, awaiting response... 200 OK\n",
            "Length: 124206982 (118M) [application/zip]\n",
            "Saving to: ‘AAAw1_JIzpuVvwteJCma0xMla’\n",
            "\n",
            "AAAw1_JIzpuVvwteJCm 100%[===================>] 118.45M  11.8MB/s    in 9.9s    \n",
            "\n",
            "2020-08-30 05:59:04 (12.0 MB/s) - ‘AAAw1_JIzpuVvwteJCma0xMla’ saved [124206982/124206982]\n",
            "\n"
          ],
          "name": "stdout"
        }
      ]
    },
    {
      "cell_type": "code",
      "metadata": {
        "id": "dxunWl1CNNp8",
        "colab_type": "code",
        "colab": {}
      },
      "source": [
        "train = pd.read_csv(r'/content/spam_quora_data',encoding='ISO-8859-1')"
      ],
      "execution_count": 4,
      "outputs": []
    },
    {
      "cell_type": "code",
      "metadata": {
        "id": "cocc3fpKNfob",
        "colab_type": "code",
        "colab": {}
      },
      "source": [
        "train.dropna(axis=0 , how='any',inplace=True)\n",
        "train.rename(columns={'PK\u0003\u0004\u0014': 'qid'},inplace=True)"
      ],
      "execution_count": 5,
      "outputs": []
    },
    {
      "cell_type": "code",
      "metadata": {
        "id": "zaABQYmwNmjw",
        "colab_type": "code",
        "colab": {
          "base_uri": "https://localhost:8080/",
          "height": 195
        },
        "outputId": "ec621535-b950-4e19-b54f-3f7001c407e7"
      },
      "source": [
        "train.head()"
      ],
      "execution_count": 6,
      "outputs": [
        {
          "output_type": "execute_result",
          "data": {
            "text/html": [
              "<div>\n",
              "<style scoped>\n",
              "    .dataframe tbody tr th:only-of-type {\n",
              "        vertical-align: middle;\n",
              "    }\n",
              "\n",
              "    .dataframe tbody tr th {\n",
              "        vertical-align: top;\n",
              "    }\n",
              "\n",
              "    .dataframe thead th {\n",
              "        text-align: right;\n",
              "    }\n",
              "</style>\n",
              "<table border=\"1\" class=\"dataframe\">\n",
              "  <thead>\n",
              "    <tr style=\"text-align: right;\">\n",
              "      <th></th>\n",
              "      <th>qid</th>\n",
              "      <th>question_text</th>\n",
              "      <th>target</th>\n",
              "    </tr>\n",
              "  </thead>\n",
              "  <tbody>\n",
              "    <tr>\n",
              "      <th>0</th>\n",
              "      <td>00002165364db923c7e6</td>\n",
              "      <td>How did Quebec nationalists see their province...</td>\n",
              "      <td>0.0</td>\n",
              "    </tr>\n",
              "    <tr>\n",
              "      <th>1</th>\n",
              "      <td>000032939017120e6e44</td>\n",
              "      <td>Do you have an adopted dog, how would you enco...</td>\n",
              "      <td>0.0</td>\n",
              "    </tr>\n",
              "    <tr>\n",
              "      <th>2</th>\n",
              "      <td>0000412ca6e4628ce2cf</td>\n",
              "      <td>Why does velocity affect time? Does velocity a...</td>\n",
              "      <td>0.0</td>\n",
              "    </tr>\n",
              "    <tr>\n",
              "      <th>3</th>\n",
              "      <td>000042bf85aa498cd78e</td>\n",
              "      <td>How did Otto von Guericke used the Magdeburg h...</td>\n",
              "      <td>0.0</td>\n",
              "    </tr>\n",
              "    <tr>\n",
              "      <th>4</th>\n",
              "      <td>0000455dfa3e01eae3af</td>\n",
              "      <td>Can I convert montra helicon D to a mountain b...</td>\n",
              "      <td>0.0</td>\n",
              "    </tr>\n",
              "  </tbody>\n",
              "</table>\n",
              "</div>"
            ],
            "text/plain": [
              "                    qid  ... target\n",
              "0  00002165364db923c7e6  ...    0.0\n",
              "1  000032939017120e6e44  ...    0.0\n",
              "2  0000412ca6e4628ce2cf  ...    0.0\n",
              "3  000042bf85aa498cd78e  ...    0.0\n",
              "4  0000455dfa3e01eae3af  ...    0.0\n",
              "\n",
              "[5 rows x 3 columns]"
            ]
          },
          "metadata": {
            "tags": []
          },
          "execution_count": 6
        }
      ]
    },
    {
      "cell_type": "code",
      "metadata": {
        "id": "axEW-vnkNpNv",
        "colab_type": "code",
        "colab": {}
      },
      "source": [
        "from sklearn.model_selection import train_test_split\n",
        "\n",
        "#Train & Test dataset\n",
        "quora_train,quora_test=train_test_split(train,test_size=0.2,random_state=2)\n",
        "\n",
        "del quora_train[\"qid\"]"
      ],
      "execution_count": 7,
      "outputs": []
    },
    {
      "cell_type": "code",
      "metadata": {
        "id": "BQuQzWlzNruQ",
        "colab_type": "code",
        "colab": {
          "base_uri": "https://localhost:8080/",
          "height": 34
        },
        "outputId": "273303b4-8bf8-4574-8ea2-bdfd37ec1829"
      },
      "source": [
        "quora_train.shape"
      ],
      "execution_count": 8,
      "outputs": [
        {
          "output_type": "execute_result",
          "data": {
            "text/plain": [
              "(1044897, 2)"
            ]
          },
          "metadata": {
            "tags": []
          },
          "execution_count": 8
        }
      ]
    },
    {
      "cell_type": "code",
      "metadata": {
        "id": "r6EO7dJ0Nt_R",
        "colab_type": "code",
        "colab": {
          "base_uri": "https://localhost:8080/",
          "height": 34
        },
        "outputId": "27e21259-5e13-4b29-e6d4-bbeb00683fc6"
      },
      "source": [
        "quora_test.shape"
      ],
      "execution_count": 9,
      "outputs": [
        {
          "output_type": "execute_result",
          "data": {
            "text/plain": [
              "(261225, 3)"
            ]
          },
          "metadata": {
            "tags": []
          },
          "execution_count": 9
        }
      ]
    },
    {
      "cell_type": "code",
      "metadata": {
        "id": "iTW8rr-RNv0i",
        "colab_type": "code",
        "colab": {}
      },
      "source": [
        "#Train dataset split into train & validation dataset\n",
        "quora_trn,quora_val=train_test_split(quora_train,test_size=0.2,random_state=2)"
      ],
      "execution_count": 10,
      "outputs": []
    },
    {
      "cell_type": "code",
      "metadata": {
        "id": "AMYKCn-eN31J",
        "colab_type": "code",
        "colab": {}
      },
      "source": [
        "x_train=quora_trn['question_text']\n",
        "y_train=quora_trn['target']\n",
        "x_test=quora_val['question_text']     \n",
        "y_test=quora_val['target']"
      ],
      "execution_count": 11,
      "outputs": []
    },
    {
      "cell_type": "code",
      "metadata": {
        "id": "qDP2hdLnN6pC",
        "colab_type": "code",
        "colab": {
          "base_uri": "https://localhost:8080/",
          "height": 34
        },
        "outputId": "088fa500-8b7f-4788-a426-19a17e4642a1"
      },
      "source": [
        "x_train.shape"
      ],
      "execution_count": 12,
      "outputs": [
        {
          "output_type": "execute_result",
          "data": {
            "text/plain": [
              "(835917,)"
            ]
          },
          "metadata": {
            "tags": []
          },
          "execution_count": 12
        }
      ]
    },
    {
      "cell_type": "code",
      "metadata": {
        "id": "IKVKS9cgN_pI",
        "colab_type": "code",
        "colab": {
          "base_uri": "https://localhost:8080/",
          "height": 34
        },
        "outputId": "6e9a60be-bd16-4c33-df01-0b7879bbdba8"
      },
      "source": [
        "x_test.shape"
      ],
      "execution_count": 13,
      "outputs": [
        {
          "output_type": "execute_result",
          "data": {
            "text/plain": [
              "(208980,)"
            ]
          },
          "metadata": {
            "tags": []
          },
          "execution_count": 13
        }
      ]
    },
    {
      "cell_type": "code",
      "metadata": {
        "id": "Y_R5Edm1OBR_",
        "colab_type": "code",
        "colab": {
          "base_uri": "https://localhost:8080/",
          "height": 202
        },
        "outputId": "f200fb28-7503-4191-f078-227034c7d1e1"
      },
      "source": [
        "#Getting the Word2Vec Pretrained Embeddings\n",
        "!wget http://vectors.nlpl.eu/repository/20/0.zip   "
      ],
      "execution_count": 14,
      "outputs": [
        {
          "output_type": "stream",
          "text": [
            "--2020-08-30 05:59:30--  http://vectors.nlpl.eu/repository/20/0.zip\n",
            "Resolving vectors.nlpl.eu (vectors.nlpl.eu)... 129.240.189.225\n",
            "Connecting to vectors.nlpl.eu (vectors.nlpl.eu)|129.240.189.225|:80... connected.\n",
            "HTTP request sent, awaiting response... 200 OK\n",
            "Length: 344050746 (328M) [application/zip]\n",
            "Saving to: ‘0.zip’\n",
            "\n",
            "0.zip               100%[===================>] 328.11M  9.64MB/s    in 41s     \n",
            "\n",
            "2020-08-30 06:00:13 (8.06 MB/s) - ‘0.zip’ saved [344050746/344050746]\n",
            "\n"
          ],
          "name": "stdout"
        }
      ]
    },
    {
      "cell_type": "code",
      "metadata": {
        "id": "9KotEljCOPtf",
        "colab_type": "code",
        "colab": {
          "base_uri": "https://localhost:8080/",
          "height": 101
        },
        "outputId": "22b13fca-32c9-4523-d207-10e2dd95a082"
      },
      "source": [
        "!unzip 0.zip"
      ],
      "execution_count": 16,
      "outputs": [
        {
          "output_type": "stream",
          "text": [
            "Archive:  0.zip\n",
            "replace meta.json? [y]es, [n]o, [A]ll, [N]one, [r]ename: n\n",
            "replace model.bin? [y]es, [n]o, [A]ll, [N]one, [r]ename: n\n",
            "replace model.txt? [y]es, [n]o, [A]ll, [N]one, [r]ename: n\n",
            "replace README? [y]es, [n]o, [A]ll, [N]one, [r]ename: n\n"
          ],
          "name": "stdout"
        }
      ]
    },
    {
      "cell_type": "code",
      "metadata": {
        "id": "izF7ProQ-FTO",
        "colab_type": "code",
        "colab": {}
      },
      "source": [
        "!rm -rf 0.zip README meta.json model.bin"
      ],
      "execution_count": 25,
      "outputs": []
    },
    {
      "cell_type": "code",
      "metadata": {
        "id": "ARji46pQOe1d",
        "colab_type": "code",
        "colab": {}
      },
      "source": [
        "embeding_index={}\n",
        "\n",
        "f=open('/content/model.txt',encoding='utf-8')\n",
        "\n",
        "for i,line in enumerate(f):\n",
        "    if i==0:continue\n",
        "    values=line.split()\n",
        "    word=values[0].split('_')[0]\n",
        "    coefs=np.asarray(values[1:],dtype='float32')\n",
        "    embeding_index[word]=coefs\n",
        "f.close()"
      ],
      "execution_count": 17,
      "outputs": []
    },
    {
      "cell_type": "code",
      "metadata": {
        "id": "gGEqemNhOovr",
        "colab_type": "code",
        "colab": {
          "base_uri": "https://localhost:8080/",
          "height": 34
        },
        "outputId": "5bf4d8d2-6d81-425d-c69d-b196a4e8d79c"
      },
      "source": [
        "len(embeding_index)"
      ],
      "execution_count": 18,
      "outputs": [
        {
          "output_type": "execute_result",
          "data": {
            "text/plain": [
              "152494"
            ]
          },
          "metadata": {
            "tags": []
          },
          "execution_count": 18
        }
      ]
    },
    {
      "cell_type": "code",
      "metadata": {
        "id": "uxDpbmUFOq_9",
        "colab_type": "code",
        "colab": {
          "base_uri": "https://localhost:8080/",
          "height": 34
        },
        "outputId": "9ac4777f-6859-4269-d38d-a3e584247388"
      },
      "source": [
        "list(embeding_index.keys())[:10]"
      ],
      "execution_count": null,
      "outputs": [
        {
          "output_type": "execute_result",
          "data": {
            "text/plain": [
              "['say', 'go', 'make', 'get', 'one', 'see', 'time', 'take', 'know', 'year']"
            ]
          },
          "metadata": {
            "tags": []
          },
          "execution_count": 18
        }
      ]
    },
    {
      "cell_type": "code",
      "metadata": {
        "id": "dN8mZbtuTSya",
        "colab_type": "code",
        "colab": {}
      },
      "source": [
        "from tensorflow.keras.preprocessing.text import Tokenizer\n",
        "from tensorflow.keras.preprocessing import sequence\n",
        "from tensorflow.keras.layers import LSTM,Activation,Dense,Input,Embedding,Dropout\n",
        "from tensorflow.keras.models import Model\n",
        "from nltk import word_tokenize"
      ],
      "execution_count": 19,
      "outputs": []
    },
    {
      "cell_type": "code",
      "metadata": {
        "id": "Ev3sPULpTWwE",
        "colab_type": "code",
        "colab": {
          "base_uri": "https://localhost:8080/",
          "height": 67
        },
        "outputId": "82c97b7a-1011-494f-ed48-1d02ec83838c"
      },
      "source": [
        "import nltk\n",
        "nltk.download('punkt')"
      ],
      "execution_count": 20,
      "outputs": [
        {
          "output_type": "stream",
          "text": [
            "[nltk_data] Downloading package punkt to /root/nltk_data...\n",
            "[nltk_data]   Unzipping tokenizers/punkt.zip.\n"
          ],
          "name": "stdout"
        },
        {
          "output_type": "execute_result",
          "data": {
            "text/plain": [
              "True"
            ]
          },
          "metadata": {
            "tags": []
          },
          "execution_count": 20
        }
      ]
    },
    {
      "cell_type": "code",
      "metadata": {
        "id": "scIue0ktTaH1",
        "colab_type": "code",
        "colab": {}
      },
      "source": [
        "sent_lens=[len(word_tokenize(x)) for x in x_train]"
      ],
      "execution_count": 21,
      "outputs": []
    },
    {
      "cell_type": "code",
      "metadata": {
        "id": "a3fdq-cETch6",
        "colab_type": "code",
        "colab": {
          "base_uri": "https://localhost:8080/",
          "height": 34
        },
        "outputId": "b2a54c4b-eff4-4e2b-c056-168a265caaf2"
      },
      "source": [
        "np.percentile(sent_lens,95)"
      ],
      "execution_count": 22,
      "outputs": [
        {
          "output_type": "execute_result",
          "data": {
            "text/plain": [
              "30.0"
            ]
          },
          "metadata": {
            "tags": []
          },
          "execution_count": 22
        }
      ]
    },
    {
      "cell_type": "code",
      "metadata": {
        "id": "byivIredTfBl",
        "colab_type": "code",
        "colab": {}
      },
      "source": [
        "max_len=30\n",
        "\n",
        "tk=Tokenizer(char_level=False,split=' ')\n",
        "\n",
        "tk.fit_on_texts(x_train)\n",
        "\n",
        "seq_train=tk.texts_to_sequences(x_train)\n",
        "seq_test=tk.texts_to_sequences(x_test)\n",
        "\n",
        "vocab_size=len(tk.word_index)\n",
        "\n",
        "seq_train_matrix=sequence.pad_sequences(seq_train,maxlen=max_len)\n",
        "seq_test_matrix=sequence.pad_sequences(seq_test,maxlen=max_len)"
      ],
      "execution_count": 23,
      "outputs": []
    },
    {
      "cell_type": "code",
      "metadata": {
        "id": "tkInDiII_wDB",
        "colab_type": "code",
        "colab": {
          "base_uri": "https://localhost:8080/",
          "height": 34
        },
        "outputId": "22947c8a-5f93-4805-f403-4888ff863401"
      },
      "source": [
        "vocab_size"
      ],
      "execution_count": 26,
      "outputs": [
        {
          "output_type": "execute_result",
          "data": {
            "text/plain": [
              "173214"
            ]
          },
          "metadata": {
            "tags": []
          },
          "execution_count": 26
        }
      ]
    },
    {
      "cell_type": "code",
      "metadata": {
        "id": "_5YVnDDkOs9-",
        "colab_type": "code",
        "colab": {}
      },
      "source": [
        "embedding_matrix=np.zeros((vocab_size+1,300))\n",
        "words_not_available=0\n",
        "for word,i in tk.word_index.items():\n",
        "    embed_vector=embeding_index.get(word)\n",
        "    if embed_vector is not None:\n",
        "        embedding_matrix[i]=embed_vector\n",
        "    else:\n",
        "      words_not_available+=1"
      ],
      "execution_count": 27,
      "outputs": []
    },
    {
      "cell_type": "code",
      "metadata": {
        "id": "_SztknAsRfrY",
        "colab_type": "code",
        "colab": {
          "base_uri": "https://localhost:8080/",
          "height": 34
        },
        "outputId": "05777fb9-216c-4203-cfaa-74888708a760"
      },
      "source": [
        "words_not_available"
      ],
      "execution_count": 28,
      "outputs": [
        {
          "output_type": "execute_result",
          "data": {
            "text/plain": [
              "134467"
            ]
          },
          "metadata": {
            "tags": []
          },
          "execution_count": 28
        }
      ]
    },
    {
      "cell_type": "code",
      "metadata": {
        "id": "_7WI3cl4VG8v",
        "colab_type": "code",
        "colab": {
          "base_uri": "https://localhost:8080/",
          "height": 487
        },
        "outputId": "477debcf-14fc-4719-a76c-3ac92e75e060"
      },
      "source": [
        "# LSTM Model with Word2Vec Embedding Layer\n",
        "\n",
        "inputs=Input(name='text_input',shape=[max_len])\n",
        "embed=Embedding(vocab_size+1,300,input_length=max_len,mask_zero=True,\n",
        "                weights=[embedding_matrix],trainable=False)(inputs)\n",
        "lstm_layer=LSTM(150)(embed)\n",
        "dense1=Dense(75,activation='relu')(lstm_layer)\n",
        "drop1=Dropout(0.2)(dense1)\n",
        "dense2=Dense(35,activation='relu')(drop1)\n",
        "drop2=Dropout(0.2)(dense2)\n",
        "dense3=Dense(15,activation='relu')(drop2)\n",
        "drop3=Dropout(0.2)(dense3)\n",
        "final_layer=Dense(1,activation='sigmoid')(drop3)\n",
        "\n",
        "model=Model(inputs=inputs,outputs=final_layer)\n",
        "\n",
        "model.summary()"
      ],
      "execution_count": 29,
      "outputs": [
        {
          "output_type": "stream",
          "text": [
            "Model: \"functional_1\"\n",
            "_________________________________________________________________\n",
            "Layer (type)                 Output Shape              Param #   \n",
            "=================================================================\n",
            "text_input (InputLayer)      [(None, 30)]              0         \n",
            "_________________________________________________________________\n",
            "embedding (Embedding)        (None, 30, 300)           51964500  \n",
            "_________________________________________________________________\n",
            "lstm (LSTM)                  (None, 150)               270600    \n",
            "_________________________________________________________________\n",
            "dense (Dense)                (None, 75)                11325     \n",
            "_________________________________________________________________\n",
            "dropout (Dropout)            (None, 75)                0         \n",
            "_________________________________________________________________\n",
            "dense_1 (Dense)              (None, 35)                2660      \n",
            "_________________________________________________________________\n",
            "dropout_1 (Dropout)          (None, 35)                0         \n",
            "_________________________________________________________________\n",
            "dense_2 (Dense)              (None, 15)                540       \n",
            "_________________________________________________________________\n",
            "dropout_2 (Dropout)          (None, 15)                0         \n",
            "_________________________________________________________________\n",
            "dense_3 (Dense)              (None, 1)                 16        \n",
            "=================================================================\n",
            "Total params: 52,249,641\n",
            "Trainable params: 285,141\n",
            "Non-trainable params: 51,964,500\n",
            "_________________________________________________________________\n"
          ],
          "name": "stdout"
        }
      ]
    },
    {
      "cell_type": "code",
      "metadata": {
        "id": "j0Ph-ht7VZ4u",
        "colab_type": "code",
        "colab": {
          "base_uri": "https://localhost:8080/",
          "height": 84
        },
        "outputId": "87ea359d-f6d1-4623-f8e7-51156aeb1b96"
      },
      "source": [
        "model.compile(optimizer='adam',loss='binary_crossentropy',metrics=['accuracy'])\n",
        "\n",
        "history=model.fit(seq_train_matrix,y_train,validation_data=(seq_test_matrix,y_test),epochs=2,batch_size=150)"
      ],
      "execution_count": 30,
      "outputs": [
        {
          "output_type": "stream",
          "text": [
            "Epoch 1/2\n",
            "5573/5573 [==============================] - 398s 71ms/step - loss: 0.1731 - accuracy: 0.9401 - val_loss: 0.1618 - val_accuracy: 0.9427\n",
            "Epoch 2/2\n",
            "5573/5573 [==============================] - 398s 71ms/step - loss: 0.1563 - accuracy: 0.9430 - val_loss: 0.1507 - val_accuracy: 0.9449\n"
          ],
          "name": "stdout"
        }
      ]
    },
    {
      "cell_type": "code",
      "metadata": {
        "id": "S0qhnAf5HRZG",
        "colab_type": "code",
        "colab": {
          "base_uri": "https://localhost:8080/",
          "height": 50
        },
        "outputId": "b45819a0-1919-430d-854c-596f7c3c1299"
      },
      "source": [
        "model.evaluate(seq_test_matrix, y_test, batch_size=120)"
      ],
      "execution_count": 31,
      "outputs": [
        {
          "output_type": "stream",
          "text": [
            "1742/1742 [==============================] - 14s 8ms/step - loss: 0.1507 - accuracy: 0.9449\n"
          ],
          "name": "stdout"
        },
        {
          "output_type": "execute_result",
          "data": {
            "text/plain": [
              "[0.15068425238132477, 0.9449277520179749]"
            ]
          },
          "metadata": {
            "tags": []
          },
          "execution_count": 31
        }
      ]
    },
    {
      "cell_type": "code",
      "metadata": {
        "id": "dt8A2cA6VhUD",
        "colab_type": "code",
        "colab": {}
      },
      "source": [
        "p=model.predict(seq_test_matrix)"
      ],
      "execution_count": 32,
      "outputs": []
    },
    {
      "cell_type": "code",
      "metadata": {
        "id": "gxgiotcaVltL",
        "colab_type": "code",
        "colab": {
          "base_uri": "https://localhost:8080/",
          "height": 34
        },
        "outputId": "5d4a02bb-2620-4d64-b9de-76c6ada004b7"
      },
      "source": [
        "from sklearn.metrics import roc_auc_score,confusion_matrix\n",
        "roc_auc_score(y_test,p)"
      ],
      "execution_count": 33,
      "outputs": [
        {
          "output_type": "execute_result",
          "data": {
            "text/plain": [
              "0.9043269017310566"
            ]
          },
          "metadata": {
            "tags": []
          },
          "execution_count": 33
        }
      ]
    },
    {
      "cell_type": "code",
      "metadata": {
        "id": "7r5Kk4wr6sb5",
        "colab_type": "code",
        "colab": {}
      },
      "source": [
        "#Merging train and validation data set\n",
        "X_train=pd.concat([x_train,x_test],axis=0)\n",
        "Y_train=pd.concat([y_train,y_test],axis=0)\n",
        "\n",
        "quora_test.reset_index(drop=True,inplace=True)\n",
        "\n",
        "X_test=quora_test['question_text']     \n",
        "Y_test=quora_test['target']"
      ],
      "execution_count": 34,
      "outputs": []
    },
    {
      "cell_type": "code",
      "metadata": {
        "id": "GZ9I7bCJDgAZ",
        "colab_type": "code",
        "colab": {}
      },
      "source": [
        "sent_lens=[len(word_tokenize(x)) for x in X_train]"
      ],
      "execution_count": 35,
      "outputs": []
    },
    {
      "cell_type": "code",
      "metadata": {
        "id": "P88f_ckVDlml",
        "colab_type": "code",
        "colab": {
          "base_uri": "https://localhost:8080/",
          "height": 34
        },
        "outputId": "a73512bf-361e-48b3-cbbe-af9006e8efa7"
      },
      "source": [
        "np.percentile(sent_lens,95)"
      ],
      "execution_count": 36,
      "outputs": [
        {
          "output_type": "execute_result",
          "data": {
            "text/plain": [
              "30.0"
            ]
          },
          "metadata": {
            "tags": []
          },
          "execution_count": 36
        }
      ]
    },
    {
      "cell_type": "code",
      "metadata": {
        "id": "blo6uFTvDmq5",
        "colab_type": "code",
        "colab": {}
      },
      "source": [
        "max_len=30\n",
        "\n",
        "tk=Tokenizer(char_level=False,split=' ')\n",
        "\n",
        "tk.fit_on_texts(X_train)\n",
        "\n",
        "seq_train=tk.texts_to_sequences(X_train)\n",
        "seq_test=tk.texts_to_sequences(X_test)\n",
        "\n",
        "vocab_size=len(tk.word_index)\n",
        "\n",
        "seq_train_matrix=sequence.pad_sequences(seq_train,maxlen=max_len)\n",
        "seq_test_matrix=sequence.pad_sequences(seq_test,maxlen=max_len)"
      ],
      "execution_count": 37,
      "outputs": []
    },
    {
      "cell_type": "code",
      "metadata": {
        "id": "nyYEiJ2iEZRD",
        "colab_type": "code",
        "colab": {
          "base_uri": "https://localhost:8080/",
          "height": 34
        },
        "outputId": "2d1fff1b-73d3-4d32-af6f-08a53c050308"
      },
      "source": [
        "vocab_size"
      ],
      "execution_count": 38,
      "outputs": [
        {
          "output_type": "execute_result",
          "data": {
            "text/plain": [
              "196220"
            ]
          },
          "metadata": {
            "tags": []
          },
          "execution_count": 38
        }
      ]
    },
    {
      "cell_type": "code",
      "metadata": {
        "id": "9bZnNsY3DpPB",
        "colab_type": "code",
        "colab": {}
      },
      "source": [
        "embedding_matrix=np.zeros((vocab_size+1,300))\n",
        "words_not_available=0\n",
        "for word,i in tk.word_index.items():\n",
        "    embed_vector=embeding_index.get(word)\n",
        "    if embed_vector is not None:\n",
        "        embedding_matrix[i]=embed_vector\n",
        "    else:\n",
        "      words_not_available+=1"
      ],
      "execution_count": 39,
      "outputs": []
    },
    {
      "cell_type": "code",
      "metadata": {
        "id": "QJSQdRdEEcFP",
        "colab_type": "code",
        "colab": {
          "base_uri": "https://localhost:8080/",
          "height": 34
        },
        "outputId": "4653b5ba-c0a5-4846-fa90-6e5de473e54b"
      },
      "source": [
        "words_not_available"
      ],
      "execution_count": 40,
      "outputs": [
        {
          "output_type": "execute_result",
          "data": {
            "text/plain": [
              "155883"
            ]
          },
          "metadata": {
            "tags": []
          },
          "execution_count": 40
        }
      ]
    },
    {
      "cell_type": "code",
      "metadata": {
        "id": "fuhnX4HWDtff",
        "colab_type": "code",
        "colab": {
          "base_uri": "https://localhost:8080/",
          "height": 487
        },
        "outputId": "107f6a13-aa0b-4bdd-ec7d-15a0cd7f7421"
      },
      "source": [
        "# LSTM Model with Glove Embedding Layer\n",
        "\n",
        "inputs=Input(name='text_input',shape=[max_len])\n",
        "embed=Embedding(vocab_size+1,300,input_length=max_len,mask_zero=True,\n",
        "                weights=[embedding_matrix],trainable=False)(inputs)\n",
        "lstm_layer=LSTM(150)(embed)\n",
        "dense1=Dense(75,activation='relu')(lstm_layer)\n",
        "drop1=Dropout(0.2)(dense1)\n",
        "dense2=Dense(35,activation='relu')(drop1)\n",
        "drop2=Dropout(0.2)(dense2)\n",
        "dense3=Dense(15,activation='relu')(drop2)\n",
        "drop3=Dropout(0.2)(dense3)\n",
        "final_layer=Dense(1,activation='sigmoid')(drop3)\n",
        "\n",
        "model=Model(inputs=inputs,outputs=final_layer)\n",
        "\n",
        "model.summary()"
      ],
      "execution_count": 41,
      "outputs": [
        {
          "output_type": "stream",
          "text": [
            "Model: \"functional_3\"\n",
            "_________________________________________________________________\n",
            "Layer (type)                 Output Shape              Param #   \n",
            "=================================================================\n",
            "text_input (InputLayer)      [(None, 30)]              0         \n",
            "_________________________________________________________________\n",
            "embedding_1 (Embedding)      (None, 30, 300)           58866300  \n",
            "_________________________________________________________________\n",
            "lstm_1 (LSTM)                (None, 150)               270600    \n",
            "_________________________________________________________________\n",
            "dense_4 (Dense)              (None, 75)                11325     \n",
            "_________________________________________________________________\n",
            "dropout_3 (Dropout)          (None, 75)                0         \n",
            "_________________________________________________________________\n",
            "dense_5 (Dense)              (None, 35)                2660      \n",
            "_________________________________________________________________\n",
            "dropout_4 (Dropout)          (None, 35)                0         \n",
            "_________________________________________________________________\n",
            "dense_6 (Dense)              (None, 15)                540       \n",
            "_________________________________________________________________\n",
            "dropout_5 (Dropout)          (None, 15)                0         \n",
            "_________________________________________________________________\n",
            "dense_7 (Dense)              (None, 1)                 16        \n",
            "=================================================================\n",
            "Total params: 59,151,441\n",
            "Trainable params: 285,141\n",
            "Non-trainable params: 58,866,300\n",
            "_________________________________________________________________\n"
          ],
          "name": "stdout"
        }
      ]
    },
    {
      "cell_type": "code",
      "metadata": {
        "id": "VzHLBtjaDwLd",
        "colab_type": "code",
        "colab": {
          "base_uri": "https://localhost:8080/",
          "height": 84
        },
        "outputId": "4763154d-5a01-4783-a347-be4954f344ac"
      },
      "source": [
        "model.compile(optimizer='adam',loss='binary_crossentropy',metrics=['accuracy'])\n",
        "\n",
        "history=model.fit(seq_train_matrix,Y_train,validation_data=(seq_test_matrix,Y_test),epochs=2,batch_size=150)"
      ],
      "execution_count": 42,
      "outputs": [
        {
          "output_type": "stream",
          "text": [
            "Epoch 1/2\n",
            "6966/6966 [==============================] - 499s 72ms/step - loss: 0.1693 - accuracy: 0.9409 - val_loss: 0.1538 - val_accuracy: 0.9433\n",
            "Epoch 2/2\n",
            "6966/6966 [==============================] - 493s 71ms/step - loss: 0.1536 - accuracy: 0.9434 - val_loss: 0.1464 - val_accuracy: 0.9458\n"
          ],
          "name": "stdout"
        }
      ]
    },
    {
      "cell_type": "code",
      "metadata": {
        "id": "yOc0fEbzDzby",
        "colab_type": "code",
        "colab": {
          "base_uri": "https://localhost:8080/",
          "height": 50
        },
        "outputId": "d93a99f8-7df2-4e4f-9462-46cb7c95ebbf"
      },
      "source": [
        "model.evaluate(seq_test_matrix, Y_test, batch_size=150)"
      ],
      "execution_count": 43,
      "outputs": [
        {
          "output_type": "stream",
          "text": [
            "1742/1742 [==============================] - 14s 8ms/step - loss: 0.1464 - accuracy: 0.9458\n"
          ],
          "name": "stdout"
        },
        {
          "output_type": "execute_result",
          "data": {
            "text/plain": [
              "[0.1463983803987503, 0.9457900524139404]"
            ]
          },
          "metadata": {
            "tags": []
          },
          "execution_count": 43
        }
      ]
    },
    {
      "cell_type": "code",
      "metadata": {
        "id": "826GC2FMD4as",
        "colab_type": "code",
        "colab": {}
      },
      "source": [
        "#Prediction on Test Data Set\n",
        "predict=model.predict(seq_test_matrix)"
      ],
      "execution_count": 44,
      "outputs": []
    },
    {
      "cell_type": "code",
      "metadata": {
        "id": "bshAsJ45D8Pj",
        "colab_type": "code",
        "colab": {
          "base_uri": "https://localhost:8080/",
          "height": 34
        },
        "outputId": "8f63805c-b44b-4847-a862-b22b2baf999e"
      },
      "source": [
        "from sklearn.metrics import roc_auc_score,confusion_matrix\n",
        "roc_auc_score(Y_test,predict)"
      ],
      "execution_count": 45,
      "outputs": [
        {
          "output_type": "execute_result",
          "data": {
            "text/plain": [
              "0.90861846039284"
            ]
          },
          "metadata": {
            "tags": []
          },
          "execution_count": 45
        }
      ]
    },
    {
      "cell_type": "code",
      "metadata": {
        "id": "zv5kQU_JEByv",
        "colab_type": "code",
        "colab": {}
      },
      "source": [
        "Y_Predicted = pd.DataFrame(predict, index=range(predict.shape[0]),columns=range(predict.shape[1]))\n",
        "Y_Predicted = np.where(Y_Predicted > 0.5, 1, 0)\n",
        "Y_test=Y_test.astype(int)\n",
        "Y_Predicted = pd.DataFrame(list(Y_Predicted),columns=['Predicted Target'])\n",
        "Y_Actual = pd.DataFrame(Y_test.values,columns=[\"Actual Target\"])\n",
        "Final_Comparison=pd.concat([quora_test['qid'],quora_test['question_text'],Y_Actual,Y_Predicted],axis=1)"
      ],
      "execution_count": 46,
      "outputs": []
    },
    {
      "cell_type": "code",
      "metadata": {
        "id": "KInm7yPFEMEk",
        "colab_type": "code",
        "colab": {
          "base_uri": "https://localhost:8080/",
          "height": 1000
        },
        "outputId": "65297253-355f-492e-a942-8549a70ae0fe"
      },
      "source": [
        "Final_Comparison.head(50)"
      ],
      "execution_count": 55,
      "outputs": [
        {
          "output_type": "execute_result",
          "data": {
            "text/html": [
              "<div>\n",
              "<style scoped>\n",
              "    .dataframe tbody tr th:only-of-type {\n",
              "        vertical-align: middle;\n",
              "    }\n",
              "\n",
              "    .dataframe tbody tr th {\n",
              "        vertical-align: top;\n",
              "    }\n",
              "\n",
              "    .dataframe thead th {\n",
              "        text-align: right;\n",
              "    }\n",
              "</style>\n",
              "<table border=\"1\" class=\"dataframe\">\n",
              "  <thead>\n",
              "    <tr style=\"text-align: right;\">\n",
              "      <th></th>\n",
              "      <th>qid</th>\n",
              "      <th>question_text</th>\n",
              "      <th>Actual Target</th>\n",
              "      <th>Predicted Target</th>\n",
              "    </tr>\n",
              "  </thead>\n",
              "  <tbody>\n",
              "    <tr>\n",
              "      <th>0</th>\n",
              "      <td>8747d2afef04f494fd71</td>\n",
              "      <td>How does stopping refugee families, women and ...</td>\n",
              "      <td>1</td>\n",
              "      <td>1</td>\n",
              "    </tr>\n",
              "    <tr>\n",
              "      <th>1</th>\n",
              "      <td>5ad7be48609f9b63a5b0</td>\n",
              "      <td>What makes you start your business?</td>\n",
              "      <td>0</td>\n",
              "      <td>0</td>\n",
              "    </tr>\n",
              "    <tr>\n",
              "      <th>2</th>\n",
              "      <td>be9e2e86a915f88212f9</td>\n",
              "      <td>Someone said they wouldn't give me something \"...</td>\n",
              "      <td>0</td>\n",
              "      <td>0</td>\n",
              "    </tr>\n",
              "    <tr>\n",
              "      <th>3</th>\n",
              "      <td>bc721413105adba6d757</td>\n",
              "      <td>What is best option for a disqualified medical...</td>\n",
              "      <td>0</td>\n",
              "      <td>0</td>\n",
              "    </tr>\n",
              "    <tr>\n",
              "      <th>4</th>\n",
              "      <td>79a5f298b4b5dbac4dd7</td>\n",
              "      <td>What are the best sites to create apps on Andr...</td>\n",
              "      <td>0</td>\n",
              "      <td>0</td>\n",
              "    </tr>\n",
              "    <tr>\n",
              "      <th>5</th>\n",
              "      <td>ff1fd33a96c6c72b61b6</td>\n",
              "      <td>Which is the best homeopathic face wash for wo...</td>\n",
              "      <td>0</td>\n",
              "      <td>0</td>\n",
              "    </tr>\n",
              "    <tr>\n",
              "      <th>6</th>\n",
              "      <td>251b29aa445efc14aa04</td>\n",
              "      <td>Is it possible that the laws of physics may ha...</td>\n",
              "      <td>0</td>\n",
              "      <td>0</td>\n",
              "    </tr>\n",
              "    <tr>\n",
              "      <th>7</th>\n",
              "      <td>412350e4aaa272a16f81</td>\n",
              "      <td>What's your take on the dispute between core d...</td>\n",
              "      <td>0</td>\n",
              "      <td>0</td>\n",
              "    </tr>\n",
              "    <tr>\n",
              "      <th>8</th>\n",
              "      <td>bfd87b2feffdeee55656</td>\n",
              "      <td>What is the basic difference between Automatic...</td>\n",
              "      <td>0</td>\n",
              "      <td>0</td>\n",
              "    </tr>\n",
              "    <tr>\n",
              "      <th>9</th>\n",
              "      <td>99a93d95d6d030de6205</td>\n",
              "      <td>How is the taste of SirkkaleipÃ¤?</td>\n",
              "      <td>0</td>\n",
              "      <td>0</td>\n",
              "    </tr>\n",
              "    <tr>\n",
              "      <th>10</th>\n",
              "      <td>409733fc50f3f1d954ff</td>\n",
              "      <td>Which bank has the highest interest rate for f...</td>\n",
              "      <td>0</td>\n",
              "      <td>0</td>\n",
              "    </tr>\n",
              "    <tr>\n",
              "      <th>11</th>\n",
              "      <td>c68c7c19645b39d4c040</td>\n",
              "      <td>How and where may I sell dresses designed and ...</td>\n",
              "      <td>0</td>\n",
              "      <td>0</td>\n",
              "    </tr>\n",
              "    <tr>\n",
              "      <th>12</th>\n",
              "      <td>acb409ba5c397947fe60</td>\n",
              "      <td>What diet should I use after masturbation?</td>\n",
              "      <td>0</td>\n",
              "      <td>0</td>\n",
              "    </tr>\n",
              "    <tr>\n",
              "      <th>13</th>\n",
              "      <td>ec0fe656b50f27010558</td>\n",
              "      <td>Can you explain to me what you're feeling and ...</td>\n",
              "      <td>0</td>\n",
              "      <td>0</td>\n",
              "    </tr>\n",
              "    <tr>\n",
              "      <th>14</th>\n",
              "      <td>7e69b55c08e9e4f307af</td>\n",
              "      <td>Could you recommend a book that guides me on r...</td>\n",
              "      <td>0</td>\n",
              "      <td>0</td>\n",
              "    </tr>\n",
              "    <tr>\n",
              "      <th>15</th>\n",
              "      <td>75636e8ae93bfe9a3e3e</td>\n",
              "      <td>What are the best ways to understand the behav...</td>\n",
              "      <td>0</td>\n",
              "      <td>0</td>\n",
              "    </tr>\n",
              "    <tr>\n",
              "      <th>16</th>\n",
              "      <td>56087bf99ffdf35212b0</td>\n",
              "      <td>How dangerous is a black and yellow Argiope bite?</td>\n",
              "      <td>0</td>\n",
              "      <td>0</td>\n",
              "    </tr>\n",
              "    <tr>\n",
              "      <th>17</th>\n",
              "      <td>7e4d2c4c33d06afc51ad</td>\n",
              "      <td>What does the phrase \"She's like some kind of ...</td>\n",
              "      <td>0</td>\n",
              "      <td>0</td>\n",
              "    </tr>\n",
              "    <tr>\n",
              "      <th>18</th>\n",
              "      <td>a714ed2a2e5c804ac4b4</td>\n",
              "      <td>What is the job profile and salary of a JSO (S...</td>\n",
              "      <td>0</td>\n",
              "      <td>0</td>\n",
              "    </tr>\n",
              "    <tr>\n",
              "      <th>19</th>\n",
              "      <td>52351a956ea23ff92d56</td>\n",
              "      <td>Why do we boys stare at boobs? I myself stare ...</td>\n",
              "      <td>1</td>\n",
              "      <td>0</td>\n",
              "    </tr>\n",
              "    <tr>\n",
              "      <th>20</th>\n",
              "      <td>530b54eb6468cddbf6ee</td>\n",
              "      <td>How should I deal with my boyfriend who is dep...</td>\n",
              "      <td>0</td>\n",
              "      <td>0</td>\n",
              "    </tr>\n",
              "    <tr>\n",
              "      <th>21</th>\n",
              "      <td>09e6babc418811eed693</td>\n",
              "      <td>What do girls think about men that are fussy a...</td>\n",
              "      <td>0</td>\n",
              "      <td>0</td>\n",
              "    </tr>\n",
              "    <tr>\n",
              "      <th>22</th>\n",
              "      <td>0bbe0fdfd745dafba5d6</td>\n",
              "      <td>What are the tools provided in Integarted Deve...</td>\n",
              "      <td>0</td>\n",
              "      <td>0</td>\n",
              "    </tr>\n",
              "    <tr>\n",
              "      <th>23</th>\n",
              "      <td>7609d3b54b5e3ba0dd31</td>\n",
              "      <td>Are there any Vedic logo designers?</td>\n",
              "      <td>0</td>\n",
              "      <td>0</td>\n",
              "    </tr>\n",
              "    <tr>\n",
              "      <th>24</th>\n",
              "      <td>d16deec26091ef96b068</td>\n",
              "      <td>How did the animals that lived during the Devo...</td>\n",
              "      <td>0</td>\n",
              "      <td>0</td>\n",
              "    </tr>\n",
              "    <tr>\n",
              "      <th>25</th>\n",
              "      <td>a4538e85cdc8bb4ce5de</td>\n",
              "      <td>If you are allowed to use just one mobile app,...</td>\n",
              "      <td>0</td>\n",
              "      <td>0</td>\n",
              "    </tr>\n",
              "    <tr>\n",
              "      <th>26</th>\n",
              "      <td>65d0e955155f3295471c</td>\n",
              "      <td>How much is the salary of a makeup artist in M...</td>\n",
              "      <td>0</td>\n",
              "      <td>0</td>\n",
              "    </tr>\n",
              "    <tr>\n",
              "      <th>27</th>\n",
              "      <td>fe306cd1ed2a4a92865d</td>\n",
              "      <td>We all know that we can't see past the event h...</td>\n",
              "      <td>0</td>\n",
              "      <td>0</td>\n",
              "    </tr>\n",
              "    <tr>\n",
              "      <th>28</th>\n",
              "      <td>d6ccb737cb7439aefd8f</td>\n",
              "      <td>Is it bad to accelerate hard if your car hasn'...</td>\n",
              "      <td>0</td>\n",
              "      <td>0</td>\n",
              "    </tr>\n",
              "    <tr>\n",
              "      <th>29</th>\n",
              "      <td>7d1849a6a345cd1a9de5</td>\n",
              "      <td>How do we make the Russian nukes go off?</td>\n",
              "      <td>0</td>\n",
              "      <td>0</td>\n",
              "    </tr>\n",
              "    <tr>\n",
              "      <th>30</th>\n",
              "      <td>29563ae1bce3f1112ea0</td>\n",
              "      <td>Is money my business uses to buy either invest...</td>\n",
              "      <td>0</td>\n",
              "      <td>0</td>\n",
              "    </tr>\n",
              "    <tr>\n",
              "      <th>31</th>\n",
              "      <td>a200f9a3cdb00c913969</td>\n",
              "      <td>How can all the Muslims and Africans of Europe...</td>\n",
              "      <td>1</td>\n",
              "      <td>0</td>\n",
              "    </tr>\n",
              "    <tr>\n",
              "      <th>32</th>\n",
              "      <td>35c93616775dacc1e491</td>\n",
              "      <td>Can I get into ISB if my past is not good?</td>\n",
              "      <td>0</td>\n",
              "      <td>0</td>\n",
              "    </tr>\n",
              "    <tr>\n",
              "      <th>33</th>\n",
              "      <td>1b05995d2c0915c1e1ed</td>\n",
              "      <td>How does China get away with copying?</td>\n",
              "      <td>0</td>\n",
              "      <td>0</td>\n",
              "    </tr>\n",
              "    <tr>\n",
              "      <th>34</th>\n",
              "      <td>740531dfbd6f525c44e6</td>\n",
              "      <td>What is typical total compensation for Faceboo...</td>\n",
              "      <td>0</td>\n",
              "      <td>0</td>\n",
              "    </tr>\n",
              "    <tr>\n",
              "      <th>35</th>\n",
              "      <td>625c8cb65cd659da56e1</td>\n",
              "      <td>What are the key points to consider while nego...</td>\n",
              "      <td>0</td>\n",
              "      <td>0</td>\n",
              "    </tr>\n",
              "    <tr>\n",
              "      <th>36</th>\n",
              "      <td>1603d5e52f9f27c2ddbb</td>\n",
              "      <td>Which are the nicest cities in India to go?</td>\n",
              "      <td>0</td>\n",
              "      <td>0</td>\n",
              "    </tr>\n",
              "    <tr>\n",
              "      <th>37</th>\n",
              "      <td>25e58be2b5f3e47b6b76</td>\n",
              "      <td>How do I increase the personal effectiveness a...</td>\n",
              "      <td>0</td>\n",
              "      <td>0</td>\n",
              "    </tr>\n",
              "    <tr>\n",
              "      <th>38</th>\n",
              "      <td>fc648993758e6403c3c2</td>\n",
              "      <td>If I slow down a video clip, does it lose or g...</td>\n",
              "      <td>0</td>\n",
              "      <td>0</td>\n",
              "    </tr>\n",
              "    <tr>\n",
              "      <th>39</th>\n",
              "      <td>cf2141c849da09980bb6</td>\n",
              "      <td>Is pathology a profession for medical introverts?</td>\n",
              "      <td>0</td>\n",
              "      <td>0</td>\n",
              "    </tr>\n",
              "    <tr>\n",
              "      <th>40</th>\n",
              "      <td>2c0a38109cd2dd993e4e</td>\n",
              "      <td>When did you envy a friend?</td>\n",
              "      <td>0</td>\n",
              "      <td>0</td>\n",
              "    </tr>\n",
              "    <tr>\n",
              "      <th>41</th>\n",
              "      <td>36efe76a1df17e7476a9</td>\n",
              "      <td>What is ergotic theory?</td>\n",
              "      <td>0</td>\n",
              "      <td>0</td>\n",
              "    </tr>\n",
              "    <tr>\n",
              "      <th>42</th>\n",
              "      <td>5db0446defc8b8abd575</td>\n",
              "      <td>Did Donald Trump really kick rogue CIA operati...</td>\n",
              "      <td>0</td>\n",
              "      <td>0</td>\n",
              "    </tr>\n",
              "    <tr>\n",
              "      <th>43</th>\n",
              "      <td>9ee0130db54044aa6582</td>\n",
              "      <td>What are fall and winter nail polish colors?</td>\n",
              "      <td>0</td>\n",
              "      <td>0</td>\n",
              "    </tr>\n",
              "    <tr>\n",
              "      <th>44</th>\n",
              "      <td>a56c9ac16e8a26bf19c1</td>\n",
              "      <td>What was the average medieval army size?</td>\n",
              "      <td>0</td>\n",
              "      <td>0</td>\n",
              "    </tr>\n",
              "    <tr>\n",
              "      <th>45</th>\n",
              "      <td>ebad6bfcf088d234e94a</td>\n",
              "      <td>How do I lower my estrogen levels, which incre...</td>\n",
              "      <td>0</td>\n",
              "      <td>0</td>\n",
              "    </tr>\n",
              "    <tr>\n",
              "      <th>46</th>\n",
              "      <td>0ce90a4803363fe157c3</td>\n",
              "      <td>Which is the best brand/model MTB bicycle for ...</td>\n",
              "      <td>0</td>\n",
              "      <td>0</td>\n",
              "    </tr>\n",
              "    <tr>\n",
              "      <th>47</th>\n",
              "      <td>fe9ff923506eac31785e</td>\n",
              "      <td>Can I appear for improvement exams from ODE fo...</td>\n",
              "      <td>0</td>\n",
              "      <td>0</td>\n",
              "    </tr>\n",
              "    <tr>\n",
              "      <th>48</th>\n",
              "      <td>4469e51f3ce0155d2ac7</td>\n",
              "      <td>Which has the more powerful army, the Nova Cor...</td>\n",
              "      <td>0</td>\n",
              "      <td>0</td>\n",
              "    </tr>\n",
              "    <tr>\n",
              "      <th>49</th>\n",
              "      <td>f800f14d6a83e2a2dbec</td>\n",
              "      <td>What is an interesting fan theory about \"Back ...</td>\n",
              "      <td>0</td>\n",
              "      <td>0</td>\n",
              "    </tr>\n",
              "  </tbody>\n",
              "</table>\n",
              "</div>"
            ],
            "text/plain": [
              "                     qid  ... Predicted Target\n",
              "0   8747d2afef04f494fd71  ...                1\n",
              "1   5ad7be48609f9b63a5b0  ...                0\n",
              "2   be9e2e86a915f88212f9  ...                0\n",
              "3   bc721413105adba6d757  ...                0\n",
              "4   79a5f298b4b5dbac4dd7  ...                0\n",
              "5   ff1fd33a96c6c72b61b6  ...                0\n",
              "6   251b29aa445efc14aa04  ...                0\n",
              "7   412350e4aaa272a16f81  ...                0\n",
              "8   bfd87b2feffdeee55656  ...                0\n",
              "9   99a93d95d6d030de6205  ...                0\n",
              "10  409733fc50f3f1d954ff  ...                0\n",
              "11  c68c7c19645b39d4c040  ...                0\n",
              "12  acb409ba5c397947fe60  ...                0\n",
              "13  ec0fe656b50f27010558  ...                0\n",
              "14  7e69b55c08e9e4f307af  ...                0\n",
              "15  75636e8ae93bfe9a3e3e  ...                0\n",
              "16  56087bf99ffdf35212b0  ...                0\n",
              "17  7e4d2c4c33d06afc51ad  ...                0\n",
              "18  a714ed2a2e5c804ac4b4  ...                0\n",
              "19  52351a956ea23ff92d56  ...                0\n",
              "20  530b54eb6468cddbf6ee  ...                0\n",
              "21  09e6babc418811eed693  ...                0\n",
              "22  0bbe0fdfd745dafba5d6  ...                0\n",
              "23  7609d3b54b5e3ba0dd31  ...                0\n",
              "24  d16deec26091ef96b068  ...                0\n",
              "25  a4538e85cdc8bb4ce5de  ...                0\n",
              "26  65d0e955155f3295471c  ...                0\n",
              "27  fe306cd1ed2a4a92865d  ...                0\n",
              "28  d6ccb737cb7439aefd8f  ...                0\n",
              "29  7d1849a6a345cd1a9de5  ...                0\n",
              "30  29563ae1bce3f1112ea0  ...                0\n",
              "31  a200f9a3cdb00c913969  ...                0\n",
              "32  35c93616775dacc1e491  ...                0\n",
              "33  1b05995d2c0915c1e1ed  ...                0\n",
              "34  740531dfbd6f525c44e6  ...                0\n",
              "35  625c8cb65cd659da56e1  ...                0\n",
              "36  1603d5e52f9f27c2ddbb  ...                0\n",
              "37  25e58be2b5f3e47b6b76  ...                0\n",
              "38  fc648993758e6403c3c2  ...                0\n",
              "39  cf2141c849da09980bb6  ...                0\n",
              "40  2c0a38109cd2dd993e4e  ...                0\n",
              "41  36efe76a1df17e7476a9  ...                0\n",
              "42  5db0446defc8b8abd575  ...                0\n",
              "43  9ee0130db54044aa6582  ...                0\n",
              "44  a56c9ac16e8a26bf19c1  ...                0\n",
              "45  ebad6bfcf088d234e94a  ...                0\n",
              "46  0ce90a4803363fe157c3  ...                0\n",
              "47  fe9ff923506eac31785e  ...                0\n",
              "48  4469e51f3ce0155d2ac7  ...                0\n",
              "49  f800f14d6a83e2a2dbec  ...                0\n",
              "\n",
              "[50 rows x 4 columns]"
            ]
          },
          "metadata": {
            "tags": []
          },
          "execution_count": 55
        }
      ]
    },
    {
      "cell_type": "code",
      "metadata": {
        "id": "5iaLlizEEPXQ",
        "colab_type": "code",
        "colab": {
          "base_uri": "https://localhost:8080/",
          "height": 50
        },
        "outputId": "a9a22e05-e2a4-4e0b-f65b-92cc3f02266b"
      },
      "source": [
        "confusion_matrix(Y_Actual,Y_Predicted)"
      ],
      "execution_count": 48,
      "outputs": [
        {
          "output_type": "execute_result",
          "data": {
            "text/plain": [
              "array([[243612,   1622],\n",
              "       [ 12539,   3452]])"
            ]
          },
          "metadata": {
            "tags": []
          },
          "execution_count": 48
        }
      ]
    },
    {
      "cell_type": "code",
      "metadata": {
        "id": "oveBQqIgEQOo",
        "colab_type": "code",
        "colab": {
          "base_uri": "https://localhost:8080/",
          "height": 545
        },
        "outputId": "fc18cada-d63f-44bc-8354-5137bc7ab07c"
      },
      "source": [
        "# Plot the chart for accuracy and loss on both training and validation\n",
        "%matplotlib inline\n",
        "import matplotlib.pyplot as plt\n",
        "acc = history.history['accuracy']\n",
        "val_acc = history.history['val_accuracy']\n",
        "loss = history.history['loss']\n",
        "val_loss = history.history['val_loss']\n",
        "\n",
        "epochs = range(len(acc))\n",
        "\n",
        "plt.plot(epochs, acc, 'r', label='Training accuracy')\n",
        "plt.plot(epochs, val_acc, 'b', label='Validation accuracy')\n",
        "plt.title('Training and validation accuracy')\n",
        "plt.legend()\n",
        "plt.figure()\n",
        "\n",
        "plt.plot(epochs, loss, 'r', label='Training Loss')\n",
        "plt.plot(epochs, val_loss, 'b', label='Validation Loss')\n",
        "plt.title('Training and validation loss')\n",
        "plt.legend()\n",
        "\n",
        "plt.show()"
      ],
      "execution_count": 49,
      "outputs": [
        {
          "output_type": "display_data",
          "data": {
            "image/png": "[encoded data removed]",
            "text/plain": [
              "<Figure size 432x288 with 1 Axes>"
            ]
          },
          "metadata": {
            "tags": [],
            "needs_background": "light"
          }
        },
        {
          "output_type": "display_data",
          "data": {
            "image/png": "[encoded data removed]",
            "text/plain": [
              "<Figure size 432x288 with 1 Axes>"
            ]
          },
          "metadata": {
            "tags": [],
            "needs_background": "light"
          }
        }
      ]
    },
    {
      "cell_type": "code",
      "metadata": {
        "id": "nbn0ehwAEkno",
        "colab_type": "code",
        "colab": {}
      },
      "source": [
        ""
      ],
      "execution_count": null,
      "outputs": []
    }
  ]
}